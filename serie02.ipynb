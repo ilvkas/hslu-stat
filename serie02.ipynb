{
 "cells": [
  {
   "cell_type": "markdown",
   "metadata": {},
   "source": [
    "# Aufgabe 2.1\n",
    "### In einer Klasse wurden in einer Statistik-Prüfung folgende Noten geschrieben:\n",
    "4.2, 2.3, 5.6, 4.5, 4.8, 3.9, 5.9, 2.4, 5.9, 6, 4, 3.7, 5, 5.2, 4.5, 3.6, 5, 6, 2.8, 3.3, 5.5, 4.2, 4.9, 5.1\n",
    "### a) Ändern Sie drei Noten im Datensatz so ab, dass der Median gleich bleibt, aber der Mittelwert sich stark ändert."
   ]
  },
  {
   "cell_type": "code",
   "execution_count": 1,
   "metadata": {},
   "outputs": [],
   "source": [
    "import matplotlib.pyplot as plt\n",
    "import scipy.stats as st\n",
    "import seaborn as sns\n",
    "import pandas as pd\n",
    "import numpy as np"
   ]
  },
  {
   "cell_type": "code",
   "execution_count": 2,
   "metadata": {},
   "outputs": [],
   "source": [
    "sp = pd.Series([4.2, 2.3, 5.6, 4.5, 4.8, 3.9, 5.9, 2.4, 5.9, 6, 4, 3.7, 5, 5.2, 4.5, 3.6, 5, 6, 2.8, 3.3, 5.5, 4.2, 4.9, 5.1])"
   ]
  },
  {
   "cell_type": "code",
   "execution_count": 3,
   "metadata": {},
   "outputs": [
    {
     "data": {
      "text/plain": [
       "0    4.2\n",
       "1    2.3\n",
       "2    5.6\n",
       "3    4.5\n",
       "4    4.8\n",
       "dtype: float64"
      ]
     },
     "execution_count": 3,
     "metadata": {},
     "output_type": "execute_result"
    }
   ],
   "source": [
    "sp.head()"
   ]
  },
  {
   "cell_type": "code",
   "execution_count": 8,
   "metadata": {},
   "outputs": [
    {
     "data": {
      "text/plain": [
       "4.65"
      ]
     },
     "execution_count": 8,
     "metadata": {},
     "output_type": "execute_result"
    }
   ],
   "source": [
    "sp.median()"
   ]
  },
  {
   "cell_type": "code",
   "execution_count": 9,
   "metadata": {},
   "outputs": [
    {
     "data": {
      "text/plain": [
       "4.5125"
      ]
     },
     "execution_count": 9,
     "metadata": {},
     "output_type": "execute_result"
    }
   ],
   "source": [
    "sp.mean()"
   ]
  },
  {
   "cell_type": "code",
   "execution_count": 21,
   "metadata": {},
   "outputs": [],
   "source": [
    "sp_sort = sp.sort_values()"
   ]
  },
  {
   "cell_type": "code",
   "execution_count": 22,
   "metadata": {},
   "outputs": [
    {
     "data": {
      "text/plain": [
       "1     2.3\n",
       "7     2.4\n",
       "18    2.8\n",
       "19    3.3\n",
       "15    3.6\n",
       "11    3.7\n",
       "5     3.9\n",
       "10    4.0\n",
       "21    4.2\n",
       "0     4.2\n",
       "14    4.5\n",
       "3     4.5\n",
       "4     4.8\n",
       "22    4.9\n",
       "12    5.0\n",
       "16    5.0\n",
       "23    5.1\n",
       "13    5.2\n",
       "20    5.5\n",
       "2     5.6\n",
       "8     5.9\n",
       "6     5.9\n",
       "17    6.0\n",
       "9     6.0\n",
       "dtype: float64"
      ]
     },
     "execution_count": 22,
     "metadata": {},
     "output_type": "execute_result"
    }
   ],
   "source": [
    "sp_sort"
   ]
  },
  {
   "cell_type": "code",
   "execution_count": 17,
   "metadata": {},
   "outputs": [
    {
     "data": {
      "text/plain": [
       "1     2.3\n",
       "7     2.4\n",
       "18    2.8\n",
       "19    3.3\n",
       "15    3.6\n",
       "dtype: float64"
      ]
     },
     "execution_count": 17,
     "metadata": {},
     "output_type": "execute_result"
    }
   ],
   "source": [
    "sp_sort.head()"
   ]
  },
  {
   "cell_type": "markdown",
   "metadata": {},
   "source": [
    "Index ändern"
   ]
  },
  {
   "cell_type": "code",
   "execution_count": 25,
   "metadata": {},
   "outputs": [],
   "source": [
    "sp_sort.index = np.arange(1, sp_sort.size+1)"
   ]
  },
  {
   "cell_type": "code",
   "execution_count": 26,
   "metadata": {},
   "outputs": [
    {
     "data": {
      "text/plain": [
       "1    2.3\n",
       "2    2.4\n",
       "3    2.8\n",
       "4    3.3\n",
       "5    3.6\n",
       "dtype: float64"
      ]
     },
     "execution_count": 26,
     "metadata": {},
     "output_type": "execute_result"
    }
   ],
   "source": [
    "sp_sort.head()"
   ]
  },
  {
   "cell_type": "code",
   "execution_count": 27,
   "metadata": {},
   "outputs": [
    {
     "data": {
      "text/plain": [
       "4.5"
      ]
     },
     "execution_count": 27,
     "metadata": {},
     "output_type": "execute_result"
    }
   ],
   "source": [
    "sp_sort.loc[12]"
   ]
  },
  {
   "cell_type": "code",
   "execution_count": 28,
   "metadata": {},
   "outputs": [
    {
     "data": {
      "text/plain": [
       "4.8"
      ]
     },
     "execution_count": 28,
     "metadata": {},
     "output_type": "execute_result"
    }
   ],
   "source": [
    "sp_sort.loc[13]"
   ]
  },
  {
   "cell_type": "markdown",
   "metadata": {},
   "source": [
    "Median nicht ändern, nur Mittelwert --> nur Werte unter oder ober dem Median ändern; 24 Werte --> Median liegt zwischen 12 & 13 "
   ]
  },
  {
   "cell_type": "code",
   "execution_count": 29,
   "metadata": {},
   "outputs": [],
   "source": [
    "sp_sort[9], sp_sort[10], sp_sort[11] = 1,1,1"
   ]
  },
  {
   "cell_type": "code",
   "execution_count": 31,
   "metadata": {},
   "outputs": [
    {
     "data": {
      "text/plain": [
       "1     2.3\n",
       "2     2.4\n",
       "3     2.8\n",
       "4     3.3\n",
       "5     3.6\n",
       "6     3.7\n",
       "7     3.9\n",
       "8     4.0\n",
       "9     1.0\n",
       "10    1.0\n",
       "11    1.0\n",
       "12    4.5\n",
       "dtype: float64"
      ]
     },
     "execution_count": 31,
     "metadata": {},
     "output_type": "execute_result"
    }
   ],
   "source": [
    "sp_sort.head(n=12)"
   ]
  },
  {
   "cell_type": "code",
   "execution_count": 32,
   "metadata": {},
   "outputs": [
    {
     "data": {
      "text/plain": [
       "4.1000000000000005"
      ]
     },
     "execution_count": 32,
     "metadata": {},
     "output_type": "execute_result"
    }
   ],
   "source": [
    "sp_sort.mean()"
   ]
  },
  {
   "cell_type": "code",
   "execution_count": 34,
   "metadata": {},
   "outputs": [
    {
     "data": {
      "text/plain": [
       "4.65"
      ]
     },
     "execution_count": 34,
     "metadata": {},
     "output_type": "execute_result"
    }
   ],
   "source": [
    "sp_sort.median()"
   ]
  },
  {
   "cell_type": "markdown",
   "metadata": {},
   "source": [
    "### b) Erstellen Sie zu den beiden Datensätzen je ein Histogramm und einen Boxplot.\n",
    "Verwenden Sie plt.subplot(...)."
   ]
  },
  {
   "cell_type": "code",
   "execution_count": 38,
   "metadata": {},
   "outputs": [
    {
     "data": {
      "text/plain": [
       "<matplotlib.axes._subplots.AxesSubplot at 0x13cd3ff3f28>"
      ]
     },
     "execution_count": 38,
     "metadata": {},
     "output_type": "execute_result"
    },
    {
     "data": {
      "image/png": "[encoded data removed]",
      "text/plain": [
       "<Figure size 432x288 with 4 Axes>"
      ]
     },
     "metadata": {
      "needs_background": "light"
     },
     "output_type": "display_data"
    }
   ],
   "source": [
    "plt.subplot(221)\n",
    "sp.plot(kind=\"hist\", edgecolor=\"black\")\n",
    "plt.subplot(223)\n",
    "sp.plot(kind=\"box\")\n",
    "plt.subplot(222)\n",
    "sp_sort.plot(kind=\"hist\", edgecolor=\"black\")\n",
    "plt.subplot(224)\n",
    "sp_sort.plot(kind=\"box\")\n"
   ]
  },
  {
   "cell_type": "markdown",
   "metadata": {},
   "source": [
    "---\n",
    "# Aufgabe 2.2\n",
    "21 Labors bestimmten den Kupfergehalt von 9 verschiedenen Klärschlammproben.\n",
    "Die Daten stehen in der auf Ilias abgelegten Datei klaerschlamm.dat zur Verfügung.\n",
    "Die erste Spalte bezeichnet das Labor, die restlichen 9 Spalten sind die verschiedenen\n",
    "Klärschlammproben. Die Daten (in mg/kg) können mit dem Befehl<br>\n",
    "schlamm = pd.read_csv(\"*klaerschlamm.dat\", sep=\" \", index_col=0)<br>\n",
    "eingelesen werden (für * wieder der Dateipfad). Die erste Spalte Labor wollen wir noch entfernen, da sie uns nicht interessiert.<br>\n",
    "schlamm = schlamm.drop(\"Labor\",1)<br>\n",
    "schlamm.head()"
   ]
  },
  {
   "cell_type": "code",
   "execution_count": 39,
   "metadata": {},
   "outputs": [],
   "source": [
    "schlamm = pd.read_csv(\"files/sw02/klaerschlamm.dat\", sep=\" \", index_col=0)"
   ]
  },
  {
   "cell_type": "code",
   "execution_count": 40,
   "metadata": {},
   "outputs": [
    {
     "data": {
      "text/html": [
       "<div>\n",
       "<style scoped>\n",
       "    .dataframe tbody tr th:only-of-type {\n",
       "        vertical-align: middle;\n",
       "    }\n",
       "\n",
       "    .dataframe tbody tr th {\n",
       "        vertical-align: top;\n",
       "    }\n",
       "\n",
       "    .dataframe thead th {\n",
       "        text-align: right;\n",
       "    }\n",
       "</style>\n",
       "<table border=\"1\" class=\"dataframe\">\n",
       "  <thead>\n",
       "    <tr style=\"text-align: right;\">\n",
       "      <th></th>\n",
       "      <th>Pr1</th>\n",
       "      <th>Pr2</th>\n",
       "      <th>Pr3</th>\n",
       "      <th>Pr4</th>\n",
       "      <th>Pr5</th>\n",
       "      <th>Pr6</th>\n",
       "      <th>Pr7</th>\n",
       "      <th>Pr8</th>\n",
       "      <th>Pr9</th>\n",
       "    </tr>\n",
       "  </thead>\n",
       "  <tbody>\n",
       "    <tr>\n",
       "      <th>1</th>\n",
       "      <td>233</td>\n",
       "      <td>491</td>\n",
       "      <td>428</td>\n",
       "      <td>376</td>\n",
       "      <td>200</td>\n",
       "      <td>364</td>\n",
       "      <td>474</td>\n",
       "      <td>444</td>\n",
       "      <td>351</td>\n",
       "    </tr>\n",
       "    <tr>\n",
       "      <th>2</th>\n",
       "      <td>253</td>\n",
       "      <td>530</td>\n",
       "      <td>453</td>\n",
       "      <td>389</td>\n",
       "      <td>191</td>\n",
       "      <td>402</td>\n",
       "      <td>495</td>\n",
       "      <td>453</td>\n",
       "      <td>371</td>\n",
       "    </tr>\n",
       "    <tr>\n",
       "      <th>3</th>\n",
       "      <td>240</td>\n",
       "      <td>530</td>\n",
       "      <td>460</td>\n",
       "      <td>390</td>\n",
       "      <td>200</td>\n",
       "      <td>390</td>\n",
       "      <td>480</td>\n",
       "      <td>440</td>\n",
       "      <td>350</td>\n",
       "    </tr>\n",
       "    <tr>\n",
       "      <th>4</th>\n",
       "      <td>243</td>\n",
       "      <td>518</td>\n",
       "      <td>456</td>\n",
       "      <td>389</td>\n",
       "      <td>186</td>\n",
       "      <td>385</td>\n",
       "      <td>483</td>\n",
       "      <td>459</td>\n",
       "      <td>369</td>\n",
       "    </tr>\n",
       "    <tr>\n",
       "      <th>5</th>\n",
       "      <td>244</td>\n",
       "      <td>521</td>\n",
       "      <td>446</td>\n",
       "      <td>392</td>\n",
       "      <td>193</td>\n",
       "      <td>385</td>\n",
       "      <td>481</td>\n",
       "      <td>451</td>\n",
       "      <td>357</td>\n",
       "    </tr>\n",
       "  </tbody>\n",
       "</table>\n",
       "</div>"
      ],
      "text/plain": [
       "   Pr1  Pr2  Pr3  Pr4  Pr5  Pr6  Pr7  Pr8  Pr9\n",
       "1  233  491  428  376  200  364  474  444  351\n",
       "2  253  530  453  389  191  402  495  453  371\n",
       "3  240  530  460  390  200  390  480  440  350\n",
       "4  243  518  456  389  186  385  483  459  369\n",
       "5  244  521  446  392  193  385  481  451  357"
      ]
     },
     "execution_count": 40,
     "metadata": {},
     "output_type": "execute_result"
    }
   ],
   "source": [
    "schlamm = schlamm.drop(\"Labor\",1)\n",
    "schlamm.head()"
   ]
  },
  {
   "cell_type": "markdown",
   "metadata": {},
   "source": [
    "### a) Erstellen Sie für jede Probe einen Boxplot, und berechnen Sie jeweils das arithmetische Mittel und den Median.\n",
    "Bei welchen Proben gibt es Ausreisser, und wo unterscheiden sich arithmetisches Mittel und Median wesentlich? Bei welchen\n",
    "der 9 Proben ist es plausibel, dass die wahre Konzentration unter 400 mg/kg liegt?"
   ]
  },
  {
   "cell_type": "code",
   "execution_count": 41,
   "metadata": {},
   "outputs": [
    {
     "data": {
      "text/html": [
       "<div>\n",
       "<style scoped>\n",
       "    .dataframe tbody tr th:only-of-type {\n",
       "        vertical-align: middle;\n",
       "    }\n",
       "\n",
       "    .dataframe tbody tr th {\n",
       "        vertical-align: top;\n",
       "    }\n",
       "\n",
       "    .dataframe thead th {\n",
       "        text-align: right;\n",
       "    }\n",
       "</style>\n",
       "<table border=\"1\" class=\"dataframe\">\n",
       "  <thead>\n",
       "    <tr style=\"text-align: right;\">\n",
       "      <th></th>\n",
       "      <th>Pr1</th>\n",
       "      <th>Pr2</th>\n",
       "      <th>Pr3</th>\n",
       "      <th>Pr4</th>\n",
       "      <th>Pr5</th>\n",
       "      <th>Pr6</th>\n",
       "      <th>Pr7</th>\n",
       "      <th>Pr8</th>\n",
       "      <th>Pr9</th>\n",
       "    </tr>\n",
       "  </thead>\n",
       "  <tbody>\n",
       "    <tr>\n",
       "      <th>count</th>\n",
       "      <td>21.000000</td>\n",
       "      <td>21.000000</td>\n",
       "      <td>21.000000</td>\n",
       "      <td>21.000000</td>\n",
       "      <td>21.000000</td>\n",
       "      <td>21.000000</td>\n",
       "      <td>21.000000</td>\n",
       "      <td>21.000000</td>\n",
       "      <td>21.000000</td>\n",
       "    </tr>\n",
       "    <tr>\n",
       "      <th>mean</th>\n",
       "      <td>246.142857</td>\n",
       "      <td>511.428571</td>\n",
       "      <td>443.428571</td>\n",
       "      <td>389.238095</td>\n",
       "      <td>188.238095</td>\n",
       "      <td>394.857143</td>\n",
       "      <td>465.523810</td>\n",
       "      <td>449.952381</td>\n",
       "      <td>388.904762</td>\n",
       "    </tr>\n",
       "    <tr>\n",
       "      <th>std</th>\n",
       "      <td>18.210672</td>\n",
       "      <td>76.962050</td>\n",
       "      <td>34.156363</td>\n",
       "      <td>56.642656</td>\n",
       "      <td>16.866845</td>\n",
       "      <td>56.642110</td>\n",
       "      <td>91.361162</td>\n",
       "      <td>57.069673</td>\n",
       "      <td>104.159927</td>\n",
       "    </tr>\n",
       "    <tr>\n",
       "      <th>min</th>\n",
       "      <td>216.000000</td>\n",
       "      <td>268.000000</td>\n",
       "      <td>378.000000</td>\n",
       "      <td>223.000000</td>\n",
       "      <td>157.000000</td>\n",
       "      <td>337.000000</td>\n",
       "      <td>110.000000</td>\n",
       "      <td>323.000000</td>\n",
       "      <td>319.000000</td>\n",
       "    </tr>\n",
       "    <tr>\n",
       "      <th>25%</th>\n",
       "      <td>239.000000</td>\n",
       "      <td>491.000000</td>\n",
       "      <td>422.000000</td>\n",
       "      <td>373.000000</td>\n",
       "      <td>178.000000</td>\n",
       "      <td>366.000000</td>\n",
       "      <td>456.000000</td>\n",
       "      <td>423.000000</td>\n",
       "      <td>350.000000</td>\n",
       "    </tr>\n",
       "    <tr>\n",
       "      <th>50%</th>\n",
       "      <td>244.000000</td>\n",
       "      <td>521.000000</td>\n",
       "      <td>446.000000</td>\n",
       "      <td>390.000000</td>\n",
       "      <td>188.000000</td>\n",
       "      <td>385.000000</td>\n",
       "      <td>481.000000</td>\n",
       "      <td>451.000000</td>\n",
       "      <td>369.000000</td>\n",
       "    </tr>\n",
       "    <tr>\n",
       "      <th>75%</th>\n",
       "      <td>257.000000</td>\n",
       "      <td>530.000000</td>\n",
       "      <td>459.000000</td>\n",
       "      <td>405.000000</td>\n",
       "      <td>200.000000</td>\n",
       "      <td>393.000000</td>\n",
       "      <td>493.000000</td>\n",
       "      <td>467.000000</td>\n",
       "      <td>382.000000</td>\n",
       "    </tr>\n",
       "    <tr>\n",
       "      <th>max</th>\n",
       "      <td>296.000000</td>\n",
       "      <td>732.000000</td>\n",
       "      <td>548.000000</td>\n",
       "      <td>562.000000</td>\n",
       "      <td>221.000000</td>\n",
       "      <td>557.000000</td>\n",
       "      <td>642.000000</td>\n",
       "      <td>639.000000</td>\n",
       "      <td>819.000000</td>\n",
       "    </tr>\n",
       "  </tbody>\n",
       "</table>\n",
       "</div>"
      ],
      "text/plain": [
       "              Pr1         Pr2         Pr3         Pr4         Pr5         Pr6  \\\n",
       "count   21.000000   21.000000   21.000000   21.000000   21.000000   21.000000   \n",
       "mean   246.142857  511.428571  443.428571  389.238095  188.238095  394.857143   \n",
       "std     18.210672   76.962050   34.156363   56.642656   16.866845   56.642110   \n",
       "min    216.000000  268.000000  378.000000  223.000000  157.000000  337.000000   \n",
       "25%    239.000000  491.000000  422.000000  373.000000  178.000000  366.000000   \n",
       "50%    244.000000  521.000000  446.000000  390.000000  188.000000  385.000000   \n",
       "75%    257.000000  530.000000  459.000000  405.000000  200.000000  393.000000   \n",
       "max    296.000000  732.000000  548.000000  562.000000  221.000000  557.000000   \n",
       "\n",
       "              Pr7         Pr8         Pr9  \n",
       "count   21.000000   21.000000   21.000000  \n",
       "mean   465.523810  449.952381  388.904762  \n",
       "std     91.361162   57.069673  104.159927  \n",
       "min    110.000000  323.000000  319.000000  \n",
       "25%    456.000000  423.000000  350.000000  \n",
       "50%    481.000000  451.000000  369.000000  \n",
       "75%    493.000000  467.000000  382.000000  \n",
       "max    642.000000  639.000000  819.000000  "
      ]
     },
     "execution_count": 41,
     "metadata": {},
     "output_type": "execute_result"
    }
   ],
   "source": [
    "schlamm.describe()"
   ]
  },
  {
   "cell_type": "markdown",
   "metadata": {},
   "source": [
    "50% unter 400mg/kg: Pr1, Pr4, Pr5, Pr6, Pr9<br>\n",
    "plausibel: Pr1, Pr5<br>\n",
    "Grenzfälle: Pr4, Pr6, Pr9 --> viele Ausreisser"
   ]
  },
  {
   "cell_type": "code",
   "execution_count": 43,
   "metadata": {},
   "outputs": [
    {
     "data": {
      "text/plain": [
       "<matplotlib.axes._subplots.AxesSubplot at 0x13cd4d1b940>"
      ]
     },
     "execution_count": 43,
     "metadata": {},
     "output_type": "execute_result"
    },
    {
     "data": {
      "image/png": "[encoded data removed]",
      "text/plain": [
       "<Figure size 432x288 with 1 Axes>"
      ]
     },
     "metadata": {
      "needs_background": "light"
     },
     "output_type": "display_data"
    }
   ],
   "source": [
    "schlamm.plot(kind=\"box\", title=\"Probe 1-9\")"
   ]
  },
  {
   "cell_type": "markdown",
   "metadata": {},
   "source": [
    "###  b) Erstellen Sie für jedes Labor einen Boxplot der Messfehler. \n",
    "Unter dem Messfehler eines Labors bei einer Probe verstehen wir den gemessenen Wert minus den Median über alle Labors. Welche der 21 Labors haben systematische Fehler in ihrem Analyseverfahren? Welche haben grosse Zufallsfehler, und bei welchen Labors ist die Qualität der Analysen besonders gut?"
   ]
  },
  {
   "cell_type": "markdown",
   "metadata": {},
   "source": [
    "Python-Hinweise: Wir ziehen zunächst von jeder Spalte den Median ab"
   ]
  },
  {
   "cell_type": "code",
   "execution_count": 44,
   "metadata": {},
   "outputs": [],
   "source": [
    "schlamm_centered = schlamm - schlamm.median()"
   ]
  },
  {
   "cell_type": "markdown",
   "metadata": {},
   "source": [
    "und zeichnen den Boxplot mit vertauschten Zeilen und Spalten. Dies geschieht mit dem Attribut .T"
   ]
  },
  {
   "cell_type": "code",
   "execution_count": 48,
   "metadata": {},
   "outputs": [
    {
     "data": {
      "text/plain": [
       "<matplotlib.axes._subplots.AxesSubplot at 0x13cd54875c0>"
      ]
     },
     "execution_count": 48,
     "metadata": {},
     "output_type": "execute_result"
    },
    {
     "data": {
      "image/png": "[encoded data removed]",
      "text/plain": [
       "<Figure size 432x288 with 1 Axes>"
      ]
     },
     "metadata": {
      "needs_background": "light"
     },
     "output_type": "display_data"
    }
   ],
   "source": [
    "schlamm_centered.T.plot(kind=\"box\")"
   ]
  },
  {
   "cell_type": "markdown",
   "metadata": {},
   "source": [
    "systematische Fehler: 15 & 21<br>\n",
    "gross Zufallsfehler: 6 & 12 <br>\n",
    "besonders gut: 2, 3, 4, 5, 19 <br>\n",
    "systematische \"kleine\" Fehler (alle Werte zu gross oder klein): 1, 7, 8, 9, 10, 11, 1,3 14, 16, 17, 18, 20 "
   ]
  },
  {
   "cell_type": "markdown",
   "metadata": {},
   "source": [
    "---\n",
    "# Aufgabe 2.3\n",
    "Für drei Stichproben vom Umfang n = 100 wurden je ein Boxplot und die empirische Verteilungsfunktion gezeichnet. Ordnen Sie die drei Boxplots den entsprechenden empirischen Verteilungsfunktionen zu:"
   ]
  },
  {
   "cell_type": "markdown",
   "metadata": {},
   "source": [
    "1 --> b<br>\n",
    "2 --> c<br>\n",
    "3 --> a"
   ]
  },
  {
   "cell_type": "markdown",
   "metadata": {},
   "source": [
    "---\n",
    "# Aufgabe 2.4\n",
    "EdwinHubble untersuchte seit 1920 amMountWilsonObservatory die Eigenschaften von Galaxien ausserhalb der Milchstrasse."
   ]
  },
  {
   "cell_type": "markdown",
   "metadata": {},
   "source": [
    "### a) Erstellen Sie von den Daten in Tabelle 1 ein Streudiagramm, in dem Sie die Distanz versus Fluchtgeschwindigkeit aufzeichnen."
   ]
  },
  {
   "cell_type": "code",
   "execution_count": 22,
   "metadata": {},
   "outputs": [],
   "source": [
    "hubble = pd.read_csv(\"files/sw02/hubble.txt\", sep=\" \")"
   ]
  },
  {
   "cell_type": "code",
   "execution_count": 52,
   "metadata": {},
   "outputs": [
    {
     "data": {
      "text/plain": [
       "Index(['distance', 'recession.velocity'], dtype='object')"
      ]
     },
     "execution_count": 52,
     "metadata": {},
     "output_type": "execute_result"
    }
   ],
   "source": [
    "hubble.columns"
   ]
  },
  {
   "cell_type": "code",
   "execution_count": 54,
   "metadata": {},
   "outputs": [
    {
     "data": {
      "text/plain": [
       "<matplotlib.axes._subplots.AxesSubplot at 0x13cd5989710>"
      ]
     },
     "execution_count": 54,
     "metadata": {},
     "output_type": "execute_result"
    },
    {
     "data": {
      "image/png": "[encoded data removed]",
      "text/plain": [
       "<Figure size 432x288 with 1 Axes>"
      ]
     },
     "metadata": {
      "needs_background": "light"
     },
     "output_type": "display_data"
    }
   ],
   "source": [
    "hubble.plot(kind=\"scatter\", y=\"distance\", x=\"recession.velocity\")"
   ]
  },
  {
   "cell_type": "markdown",
   "metadata": {},
   "source": [
    "### b) Bestimmen Sie mit dem Befehl np.polyfit(...) (siehe Skript) die Koeffizienten b0 und b1 für die Regressionsgerade y = b0 + b1x wobei y die Distanz und x die Fluchtgeschwindigkeit bezeichnet."
   ]
  },
  {
   "cell_type": "code",
   "execution_count": 77,
   "metadata": {},
   "outputs": [
    {
     "name": "stdout",
     "output_type": "stream",
     "text": [
      "454.1584409226285 -40.78364909586047\n"
     ]
    }
   ],
   "source": [
    "b1, b0 = np.polyfit(hubble[\"distance\"], hubble[\"recession.velocity\"], deg=1)\n",
    "print(b1, b0)"
   ]
  },
  {
   "cell_type": "code",
   "execution_count": 57,
   "metadata": {},
   "outputs": [
    {
     "name": "stdout",
     "output_type": "stream",
     "text": [
      "0.0013729361049417948 0.39909821584359284\n"
     ]
    }
   ],
   "source": [
    "b1, b0 = np.polyfit(y=hubble[\"distance\"], x=hubble[\"recession.velocity\"], deg=1)\n",
    "print(b1, b0)"
   ]
  },
  {
   "cell_type": "markdown",
   "metadata": {},
   "source": [
    "## Wieso so ein Unterschied? (2. = korrekt)"
   ]
  },
  {
   "cell_type": "code",
   "execution_count": 24,
   "metadata": {},
   "outputs": [
    {
     "data": {
      "image/png": "[encoded data removed]",
      "text/plain": [
       "<Figure size 432x288 with 1 Axes>"
      ]
     },
     "metadata": {
      "needs_background": "light"
     },
     "output_type": "display_data"
    }
   ],
   "source": [
    "hubble.plot(kind=\"scatter\", x=\"recession.velocity\", y=\"distance\")\n",
    "beta1, beta0 = np.polyfit(y=hubble[\"distance\"], x=hubble[\"recession.velocity\"], deg=1)\n",
    "x = np.linspace(hubble[\"recession.velocity\"].min(), hubble[\"recession.velocity\"].max())\n",
    "plt.plot(x, beta0 + beta1*x, color=\"orange\")\n",
    "plt.show()"
   ]
  },
  {
   "cell_type": "markdown",
   "metadata": {},
   "source": [
    "### c) Bestimmen Sie noch den Korrelationskoeffizienten und interpretieren Sie diesen."
   ]
  },
  {
   "cell_type": "code",
   "execution_count": 60,
   "metadata": {},
   "outputs": [
    {
     "data": {
      "text/html": [
       "<div>\n",
       "<style scoped>\n",
       "    .dataframe tbody tr th:only-of-type {\n",
       "        vertical-align: middle;\n",
       "    }\n",
       "\n",
       "    .dataframe tbody tr th {\n",
       "        vertical-align: top;\n",
       "    }\n",
       "\n",
       "    .dataframe thead th {\n",
       "        text-align: right;\n",
       "    }\n",
       "</style>\n",
       "<table border=\"1\" class=\"dataframe\">\n",
       "  <thead>\n",
       "    <tr style=\"text-align: right;\">\n",
       "      <th></th>\n",
       "      <th>distance</th>\n",
       "      <th>recession.velocity</th>\n",
       "    </tr>\n",
       "  </thead>\n",
       "  <tbody>\n",
       "    <tr>\n",
       "      <th>distance</th>\n",
       "      <td>1.000000</td>\n",
       "      <td>0.789639</td>\n",
       "    </tr>\n",
       "    <tr>\n",
       "      <th>recession.velocity</th>\n",
       "      <td>0.789639</td>\n",
       "      <td>1.000000</td>\n",
       "    </tr>\n",
       "  </tbody>\n",
       "</table>\n",
       "</div>"
      ],
      "text/plain": [
       "                    distance  recession.velocity\n",
       "distance            1.000000            0.789639\n",
       "recession.velocity  0.789639            1.000000"
      ]
     },
     "execution_count": 60,
     "metadata": {},
     "output_type": "execute_result"
    }
   ],
   "source": [
    "hubble.corr()"
   ]
  },
  {
   "cell_type": "markdown",
   "metadata": {},
   "source": [
    "Der Korrelationskoeffizient ist 0.79 und damit recht hoch (nahe bei 1), was auf einen linearen Zusammenhang von Abstand und Fluchtgeschwindigkeit der Galaxien hindeutet."
   ]
  },
  {
   "cell_type": "markdown",
   "metadata": {},
   "source": [
    "---\n",
    "# Aufgabe 2.5\n",
    "Wir betrachten eine Studie, die 1979 in den Vereinigten Staaten durchgeführt wurde (National Longitudinal Study of Youth, NLSY79):"
   ]
  },
  {
   "cell_type": "markdown",
   "metadata": {},
   "source": [
    "### a) Lesen Sie den Datensatz income.dat ein"
   ]
  },
  {
   "cell_type": "code",
   "execution_count": 25,
   "metadata": {},
   "outputs": [],
   "source": [
    "income = pd.read_csv(\"files/sw02/income.dat\", sep=\" \")"
   ]
  },
  {
   "cell_type": "markdown",
   "metadata": {},
   "source": [
    "### und generieren Sie zwei Streudiagramme, in welchen das Einkommen versus Anzahl Jahre Schulbildung bzw. Einkommen versus AFQT aufgetragen sind."
   ]
  },
  {
   "cell_type": "code",
   "execution_count": 26,
   "metadata": {},
   "outputs": [
    {
     "data": {
      "text/plain": [
       "Index(['AFQT', 'Educ', 'Income2005'], dtype='object')"
      ]
     },
     "execution_count": 26,
     "metadata": {},
     "output_type": "execute_result"
    }
   ],
   "source": [
    "income.columns"
   ]
  },
  {
   "cell_type": "code",
   "execution_count": 27,
   "metadata": {},
   "outputs": [
    {
     "data": {
      "text/plain": [
       "<matplotlib.axes._subplots.AxesSubplot at 0x1ce7a109b38>"
      ]
     },
     "execution_count": 27,
     "metadata": {},
     "output_type": "execute_result"
    },
    {
     "data": {
      "image/png": "[encoded data removed]",
      "text/plain": [
       "<Figure size 432x288 with 1 Axes>"
      ]
     },
     "metadata": {
      "needs_background": "light"
     },
     "output_type": "display_data"
    }
   ],
   "source": [
    "income.plot(kind=\"scatter\", x=\"Educ\", y=\"Income2005\")"
   ]
  },
  {
   "cell_type": "code",
   "execution_count": 28,
   "metadata": {},
   "outputs": [
    {
     "data": {
      "text/plain": [
       "<matplotlib.axes._subplots.AxesSubplot at 0x1ce7a157320>"
      ]
     },
     "execution_count": 28,
     "metadata": {},
     "output_type": "execute_result"
    },
    {
     "data": {
      "image/png": "[encoded data removed]",
      "text/plain": [
       "<Figure size 432x288 with 1 Axes>"
      ]
     },
     "metadata": {
      "needs_background": "light"
     },
     "output_type": "display_data"
    }
   ],
   "source": [
    "income.plot(kind=\"scatter\", x=\"AFQT\", y=\"Income2005\")"
   ]
  },
  {
   "cell_type": "code",
   "execution_count": 32,
   "metadata": {},
   "outputs": [
    {
     "data": {
      "image/png": "[encoded data removed]",
      "text/plain": [
       "<Figure size 432x288 with 1 Axes>"
      ]
     },
     "metadata": {
      "needs_background": "light"
     },
     "output_type": "display_data"
    }
   ],
   "source": [
    "income.plot(kind=\"scatter\", x=\"Educ\", y=\"Income2005\")\n",
    "x = np.linspace(income[\"Educ\"].min(), income[\"Educ\"].max())\n",
    "a, b = np.polyfit(income[\"Educ\"], income[\"Income2005\"], deg=1)\n",
    "plt.plot(x,a*x+b,c=\"orange\")\n",
    "plt.show()"
   ]
  },
  {
   "cell_type": "code",
   "execution_count": 76,
   "metadata": {},
   "outputs": [
    {
     "data": {
      "image/png": "[encoded data removed]",
      "text/plain": [
       "<Figure size 432x288 with 1 Axes>"
      ]
     },
     "metadata": {
      "needs_background": "light"
     },
     "output_type": "display_data"
    }
   ],
   "source": [
    "income.plot(kind=\"scatter\", x=\"AFQT\", y=\"Income2005\")\n",
    "x = np.linspace(income[\"AFQT\"].min(), income[\"AFQT\"].max())\n",
    "a, b = np.polyfit(income[\"AFQT\"], income[\"Income2005\"], deg=1)\n",
    "plt.plot(x,a*x+b,c=\"orange\")\n",
    "plt.show()"
   ]
  },
  {
   "cell_type": "markdown",
   "metadata": {},
   "source": [
    "### b) Bestimmen Sie die Parameter a und b des linearen Modells y = a + bx, wobei y das Einkommen bezeichnet und x die Anzahl Jahre Schulbildung bzw. AFQT. Zeichnen Sie die Regressionsgerade wie im Skript"
   ]
  },
  {
   "cell_type": "code",
   "execution_count": 79,
   "metadata": {},
   "outputs": [
    {
     "name": "stdout",
     "output_type": "stream",
     "text": [
      "21181.65686352779 518.6820790195895\n"
     ]
    }
   ],
   "source": [
    "b, a = np.polyfit(income[\"AFQT\"], income[\"Income2005\"], deg=1)\n",
    "print(a, b)"
   ]
  },
  {
   "cell_type": "code",
   "execution_count": 80,
   "metadata": {},
   "outputs": [
    {
     "name": "stdout",
     "output_type": "stream",
     "text": [
      "-40199.575352599946 6451.47455594579\n"
     ]
    }
   ],
   "source": [
    "b, a = np.polyfit(income[\"Educ\"], income[\"Income2005\"], deg=1)\n",
    "print(a, b)"
   ]
  },
  {
   "cell_type": "markdown",
   "metadata": {},
   "source": [
    "Wir finden also die Werte a = −40′200 und b = 6451 für den Fall von Einkommen gegen Anzahl Jahre Schulbildung (und a = 21′182 und b = 518.68 für den betrachteten Fall Einkommen gegen AFQT). Mit jedem zusätzlichen Jahr Schulbildung geht also eine jährliche Einkommenszunahme von etwa 6500USD einher. Jeder zusätzlichen Punkt im AFQT bewirkt laut Modell eine jährliche\n",
    "Einkommenszunahme von rund 500USD.<br><br>\n",
    "Nun ist allerdings Vorsicht geboten: jemand ohne Schulbildung würde ein Einkommen von −40′200 USD haben. Dies macht natürlich keinen Sinn. Wann immer man in Bereiche extrapoliert, wo keine Datenpunkte vorhanden waren, ist Vorsicht bei der Interpretation geboten."
   ]
  },
  {
   "cell_type": "markdown",
   "metadata": {},
   "source": [
    "### c) Berechnen Sie die Korrelation zwischen Einkommen und Anzahl Jahre Schulbildung bzw. AFQT. Wie angebracht ist jeweils das Regressionsmodell?"
   ]
  },
  {
   "cell_type": "code",
   "execution_count": 82,
   "metadata": {},
   "outputs": [
    {
     "data": {
      "text/html": [
       "<div>\n",
       "<style scoped>\n",
       "    .dataframe tbody tr th:only-of-type {\n",
       "        vertical-align: middle;\n",
       "    }\n",
       "\n",
       "    .dataframe tbody tr th {\n",
       "        vertical-align: top;\n",
       "    }\n",
       "\n",
       "    .dataframe thead th {\n",
       "        text-align: right;\n",
       "    }\n",
       "</style>\n",
       "<table border=\"1\" class=\"dataframe\">\n",
       "  <thead>\n",
       "    <tr style=\"text-align: right;\">\n",
       "      <th></th>\n",
       "      <th>AFQT</th>\n",
       "      <th>Educ</th>\n",
       "      <th>Income2005</th>\n",
       "    </tr>\n",
       "  </thead>\n",
       "  <tbody>\n",
       "    <tr>\n",
       "      <th>AFQT</th>\n",
       "      <td>1.000000</td>\n",
       "      <td>0.595160</td>\n",
       "      <td>0.308153</td>\n",
       "    </tr>\n",
       "    <tr>\n",
       "      <th>Educ</th>\n",
       "      <td>0.595160</td>\n",
       "      <td>1.000000</td>\n",
       "      <td>0.345647</td>\n",
       "    </tr>\n",
       "    <tr>\n",
       "      <th>Income2005</th>\n",
       "      <td>0.308153</td>\n",
       "      <td>0.345647</td>\n",
       "      <td>1.000000</td>\n",
       "    </tr>\n",
       "  </tbody>\n",
       "</table>\n",
       "</div>"
      ],
      "text/plain": [
       "                AFQT      Educ  Income2005\n",
       "AFQT        1.000000  0.595160    0.308153\n",
       "Educ        0.595160  1.000000    0.345647\n",
       "Income2005  0.308153  0.345647    1.000000"
      ]
     },
     "execution_count": 82,
     "metadata": {},
     "output_type": "execute_result"
    }
   ],
   "source": [
    "income.corr()"
   ]
  },
  {
   "cell_type": "markdown",
   "metadata": {},
   "source": [
    "Da beide Korrelationskoeffizienten mit 0.346 bzw. 0.308 relativ klein sind, scheint in beiden Fällen ein Modell beruhend auf einem linearen Zusammenhang nicht angebracht zu sein."
   ]
  },
  {
   "cell_type": "markdown",
   "metadata": {},
   "source": [
    "---\n",
    "# Aufgabe 2.6\n",
    "In dieser Aufgabe betrachten wir 4 Datensätze, die von Anscombe konstruiert wurden."
   ]
  },
  {
   "cell_type": "code",
   "execution_count": 65,
   "metadata": {},
   "outputs": [],
   "source": [
    "import matplotlib.pyplot as plt\n",
    "import numpy as np\n",
    "x1 = np.array([10, 8, 13, 9, 11, 14, 6, 4, 12, 7, 5])\n",
    "y1 = np.array([8.04, 6.95, 7.58, 8.81, 8.33, 9.96, 7.24, 4.26, 10.84, 4.82, 5.68])\n",
    "y2 = np.array([9.14, 8.14, 8.74, 8.77, 9.26, 8.10, 6.13, 3.10, 9.13, 7.26, 4.74])\n",
    "y3 = np.array([7.46, 6.77, 12.74, 7.11, 7.81, 8.84, 6.08, 5.39, 8.15, 6.42, 5.73])\n",
    "x4 = np.array([8, 8, 8, 8, 8, 8, 8, 19, 8, 8, 8])\n",
    "y4 = np.array([6.58, 5.76, 7.71, 8.84, 8.47, 7.04, 5.25, 12.50, 5.56, 7.91, 6.89])"
   ]
  },
  {
   "cell_type": "markdown",
   "metadata": {},
   "source": [
    "In jedem der Datensätze gibt es eine Zielvariable y und eine erklärende Variable x.\n",
    "### a) Stellen Sie jeden der 4 Datensätze als Streudiagramm dar, zeichnen Sie die Regressionsgerade ein und kommentieren Sie die Ergebnisse. Verwenden Sie wieder plt.subplot(...) und plt.scatter(...)."
   ]
  },
  {
   "cell_type": "code",
   "execution_count": 104,
   "metadata": {},
   "outputs": [
    {
     "data": {
      "text/plain": [
       "<matplotlib.collections.PathCollection at 0x1ce7d30e470>"
      ]
     },
     "execution_count": 104,
     "metadata": {},
     "output_type": "execute_result"
    },
    {
     "data": {
      "image/png": "[encoded data removed]",
      "text/plain": [
       "<Figure size 432x288 with 4 Axes>"
      ]
     },
     "metadata": {
      "needs_background": "light"
     },
     "output_type": "display_data"
    }
   ],
   "source": [
    "plt.subplot(221)\n",
    "plt.xlabel(\"x1\") \n",
    "plt.ylabel(\"y1\") \n",
    "\n",
    "b, a = np.polyfit(x1, y1, deg=1)\n",
    "lin = np.linspace(x1.min(), x1.max())\n",
    "plt.plot(lin, a+lin*b,c=\"orange\")\n",
    "\n",
    "plt.scatter(x1,y1)\n",
    "\n",
    "\n",
    "plt.subplot(222)\n",
    "plt.xlabel(\"x1\") \n",
    "plt.ylabel(\"y2\") \n",
    "\n",
    "b, a = np.polyfit(x1, y2, deg=1)\n",
    "lin = np.linspace(x1.min(), x1.max())\n",
    "plt.plot(lin, a+lin*b,c=\"orange\")\n",
    "\n",
    "plt.scatter(x1,y2)\n",
    "\n",
    "\n",
    "plt.subplot(223)\n",
    "plt.xlabel(\"x1\") \n",
    "plt.ylabel(\"y3\") \n",
    "\n",
    "b, a = np.polyfit(x1, y3, deg=1)\n",
    "lin = np.linspace(x1.min(), x1.max())\n",
    "plt.plot(lin, a+lin*b,c=\"orange\")\n",
    "\n",
    "plt.scatter(x1,y3)\n",
    "\n",
    "\n",
    "plt.subplot(224)\n",
    "plt.xlabel(\"x4\") \n",
    "plt.ylabel(\"y4\") \n",
    "\n",
    "b, a = np.polyfit(x4, y4, deg=1)\n",
    "lin = np.linspace(x4.min(), x4.max())\n",
    "plt.plot(lin, a+lin*b,c=\"orange\")\n",
    "\n",
    "plt.scatter(x4,y4)"
   ]
  },
  {
   "cell_type": "markdown",
   "metadata": {},
   "source": [
    "### b) Vergleichen Sie die Schätzungen von b0 und b1, wobei y = b0 + b1x. Die Schätzungen für die Koeffizienten b0 und b1 des linearen Regressionsmodells kann man mit np.polyfit(...) berechnen und numerisch auswerten."
   ]
  },
  {
   "cell_type": "code",
   "execution_count": 70,
   "metadata": {},
   "outputs": [
    {
     "data": {
      "text/plain": [
       "[array([0.50009091, 3.00009091]),\n",
       " array([0.5       , 3.00090909]),\n",
       " array([0.49972727, 3.00245455]),\n",
       " array([0.49990909, 3.00172727])]"
      ]
     },
     "execution_count": 70,
     "metadata": {},
     "output_type": "execute_result"
    }
   ],
   "source": [
    "y1pf = np.polyfit(x1, y1, deg=1)\n",
    "y2pf = np.polyfit(x1, y2, deg=1)\n",
    "y3pf = np.polyfit(x1, y3, deg=1)\n",
    "y4pf = np.polyfit(x4, y4, deg=1)\n",
    "arr = ([y1pf, y2pf, y3pf, y4pf])\n",
    "arr"
   ]
  },
  {
   "cell_type": "markdown",
   "metadata": {},
   "source": [
    "Alle Streudiagramme haben praktisch dieselbe Regressionsgerade, obwohl die Streudiagramme sehr unterschiedlich aussehen.<br><br>\n",
    "Fazit: Es genügt nicht, nur bb0 und bb1 anzuschauen. In allenModellen sind diese Schätzungen fast gleich, aber die Datensätze sehen ganz unterschiedlich aus. Eine (graphische) Überprüfung der Modellannahmen ist also unumgänglich."
   ]
  },
  {
   "cell_type": "markdown",
   "metadata": {},
   "source": [
    "### c) Berechnen Sie die Korrelationskoeffizienten mit np.corrcoef(...)."
   ]
  },
  {
   "cell_type": "code",
   "execution_count": 79,
   "metadata": {},
   "outputs": [
    {
     "data": {
      "text/plain": [
       "array([[1.        , 0.81642052],\n",
       "       [0.81642052, 1.        ]])"
      ]
     },
     "execution_count": 79,
     "metadata": {},
     "output_type": "execute_result"
    }
   ],
   "source": [
    "np.corrcoef(x1, y1)"
   ]
  },
  {
   "cell_type": "code",
   "execution_count": 80,
   "metadata": {},
   "outputs": [
    {
     "data": {
      "text/plain": [
       "array([[1.        , 0.81623651],\n",
       "       [0.81623651, 1.        ]])"
      ]
     },
     "execution_count": 80,
     "metadata": {},
     "output_type": "execute_result"
    }
   ],
   "source": [
    "np.corrcoef(x1, y2)"
   ]
  },
  {
   "cell_type": "code",
   "execution_count": 81,
   "metadata": {},
   "outputs": [
    {
     "data": {
      "text/plain": [
       "array([[1.        , 0.81628674],\n",
       "       [0.81628674, 1.        ]])"
      ]
     },
     "execution_count": 81,
     "metadata": {},
     "output_type": "execute_result"
    }
   ],
   "source": [
    "np.corrcoef(x1, y3)"
   ]
  },
  {
   "cell_type": "code",
   "execution_count": 82,
   "metadata": {},
   "outputs": [
    {
     "data": {
      "text/plain": [
       "array([[1.        , 0.81652144],\n",
       "       [0.81652144, 1.        ]])"
      ]
     },
     "execution_count": 82,
     "metadata": {},
     "output_type": "execute_result"
    }
   ],
   "source": [
    "np.corrcoef(x4, y4)"
   ]
  },
  {
   "cell_type": "markdown",
   "metadata": {},
   "source": [
    "---\n",
    "# Aufgabe 2.7\n",
    "Der Datensatz der OECD enthält Messgrössen, die das Wohlergehen von Kindern in\n",
    "den Mitgliedsstaaten ermitteln sollen."
   ]
  },
  {
   "cell_type": "markdown",
   "metadata": {},
   "source": [
    "### a) Lesen Sie die Datei child.csv mit der folgenden Funktion ein:"
   ]
  },
  {
   "cell_type": "code",
   "execution_count": 71,
   "metadata": {},
   "outputs": [],
   "source": [
    "from pandas import Series,DataFrame\n",
    "import pandas as pd\n",
    "\n",
    "data = pd.read_csv(\"files/sw01/child.csv\", sep=\",\", index_col=0)"
   ]
  },
  {
   "cell_type": "markdown",
   "metadata": {},
   "source": [
    "### Bestimmen Sie den Mittelwert und Median der einzelnen Variablen mit dem Python-Attribut .describe()."
   ]
  },
  {
   "cell_type": "code",
   "execution_count": 72,
   "metadata": {},
   "outputs": [
    {
     "data": {
      "text/plain": [
       "Index(['Average.disposable.income', 'Children.in.poor.homes',\n",
       "       'Educational.Deprivation', 'Overcrowding',\n",
       "       'Poor.environmental.conditions', 'Average.mean.literacy.score',\n",
       "       'Literacy.inequality', 'Youth.NEET.rate', 'Low.birth.weight',\n",
       "       'Infant.mortality', 'Breastfeeding.rates',\n",
       "       'Vaccination.rates..pertussis.', 'Vaccination.rates.measles.',\n",
       "       'Physical.activity', 'Mortality.rates', 'Suicide.rates', 'Smoking',\n",
       "       'Drunkenness', 'Teenage.births', 'Bullying', 'Liking.school'],\n",
       "      dtype='object')"
      ]
     },
     "execution_count": 72,
     "metadata": {},
     "output_type": "execute_result"
    }
   ],
   "source": [
    "data.columns"
   ]
  },
  {
   "cell_type": "code",
   "execution_count": 73,
   "metadata": {},
   "outputs": [
    {
     "data": {
      "text/html": [
       "<div>\n",
       "<style scoped>\n",
       "    .dataframe tbody tr th:only-of-type {\n",
       "        vertical-align: middle;\n",
       "    }\n",
       "\n",
       "    .dataframe tbody tr th {\n",
       "        vertical-align: top;\n",
       "    }\n",
       "\n",
       "    .dataframe thead th {\n",
       "        text-align: right;\n",
       "    }\n",
       "</style>\n",
       "<table border=\"1\" class=\"dataframe\">\n",
       "  <thead>\n",
       "    <tr style=\"text-align: right;\">\n",
       "      <th></th>\n",
       "      <th>Average.disposable.income</th>\n",
       "      <th>Children.in.poor.homes</th>\n",
       "      <th>Educational.Deprivation</th>\n",
       "      <th>Overcrowding</th>\n",
       "      <th>Poor.environmental.conditions</th>\n",
       "      <th>Average.mean.literacy.score</th>\n",
       "      <th>Literacy.inequality</th>\n",
       "      <th>Youth.NEET.rate</th>\n",
       "      <th>Low.birth.weight</th>\n",
       "      <th>Infant.mortality</th>\n",
       "      <th>...</th>\n",
       "      <th>Vaccination.rates..pertussis.</th>\n",
       "      <th>Vaccination.rates.measles.</th>\n",
       "      <th>Physical.activity</th>\n",
       "      <th>Mortality.rates</th>\n",
       "      <th>Suicide.rates</th>\n",
       "      <th>Smoking</th>\n",
       "      <th>Drunkenness</th>\n",
       "      <th>Teenage.births</th>\n",
       "      <th>Bullying</th>\n",
       "      <th>Liking.school</th>\n",
       "    </tr>\n",
       "  </thead>\n",
       "  <tbody>\n",
       "    <tr>\n",
       "      <th>count</th>\n",
       "      <td>30.000000</td>\n",
       "      <td>30.000000</td>\n",
       "      <td>30.000000</td>\n",
       "      <td>26.000000</td>\n",
       "      <td>24.000000</td>\n",
       "      <td>30.000000</td>\n",
       "      <td>30.000000</td>\n",
       "      <td>27.000000</td>\n",
       "      <td>30.000000</td>\n",
       "      <td>30.000000</td>\n",
       "      <td>...</td>\n",
       "      <td>29.000000</td>\n",
       "      <td>29.000000</td>\n",
       "      <td>26.000000</td>\n",
       "      <td>29.000000</td>\n",
       "      <td>29.000000</td>\n",
       "      <td>24.000000</td>\n",
       "      <td>24.000000</td>\n",
       "      <td>30.000000</td>\n",
       "      <td>24.000000</td>\n",
       "      <td>25.00000</td>\n",
       "    </tr>\n",
       "    <tr>\n",
       "      <th>mean</th>\n",
       "      <td>18.847713</td>\n",
       "      <td>12.372193</td>\n",
       "      <td>2.673333</td>\n",
       "      <td>31.950163</td>\n",
       "      <td>25.217498</td>\n",
       "      <td>496.317000</td>\n",
       "      <td>1.665085</td>\n",
       "      <td>7.377778</td>\n",
       "      <td>6.643333</td>\n",
       "      <td>5.446667</td>\n",
       "      <td>...</td>\n",
       "      <td>93.775862</td>\n",
       "      <td>91.517241</td>\n",
       "      <td>20.134615</td>\n",
       "      <td>24.598966</td>\n",
       "      <td>6.856272</td>\n",
       "      <td>16.512500</td>\n",
       "      <td>15.225000</td>\n",
       "      <td>15.500000</td>\n",
       "      <td>10.979167</td>\n",
       "      <td>27.17200</td>\n",
       "    </tr>\n",
       "    <tr>\n",
       "      <th>std</th>\n",
       "      <td>7.597219</td>\n",
       "      <td>5.592696</td>\n",
       "      <td>3.315370</td>\n",
       "      <td>21.132363</td>\n",
       "      <td>7.483096</td>\n",
       "      <td>29.381643</td>\n",
       "      <td>0.067391</td>\n",
       "      <td>6.489656</td>\n",
       "      <td>1.728001</td>\n",
       "      <td>4.506756</td>\n",
       "      <td>...</td>\n",
       "      <td>5.317334</td>\n",
       "      <td>5.909138</td>\n",
       "      <td>6.157983</td>\n",
       "      <td>6.745815</td>\n",
       "      <td>3.204545</td>\n",
       "      <td>4.766852</td>\n",
       "      <td>4.301794</td>\n",
       "      <td>13.967326</td>\n",
       "      <td>5.146462</td>\n",
       "      <td>10.39926</td>\n",
       "    </tr>\n",
       "    <tr>\n",
       "      <th>min</th>\n",
       "      <td>3.839462</td>\n",
       "      <td>2.740000</td>\n",
       "      <td>0.400000</td>\n",
       "      <td>10.326503</td>\n",
       "      <td>10.500000</td>\n",
       "      <td>408.670000</td>\n",
       "      <td>1.475432</td>\n",
       "      <td>1.700000</td>\n",
       "      <td>3.900000</td>\n",
       "      <td>2.300000</td>\n",
       "      <td>...</td>\n",
       "      <td>78.000000</td>\n",
       "      <td>74.000000</td>\n",
       "      <td>13.100000</td>\n",
       "      <td>14.840000</td>\n",
       "      <td>1.263026</td>\n",
       "      <td>8.100000</td>\n",
       "      <td>10.000000</td>\n",
       "      <td>3.700000</td>\n",
       "      <td>4.200000</td>\n",
       "      <td>11.70000</td>\n",
       "    </tr>\n",
       "    <tr>\n",
       "      <th>25%</th>\n",
       "      <td>16.617877</td>\n",
       "      <td>8.901475</td>\n",
       "      <td>1.000000</td>\n",
       "      <td>17.058130</td>\n",
       "      <td>20.153506</td>\n",
       "      <td>482.750000</td>\n",
       "      <td>1.623048</td>\n",
       "      <td>4.550000</td>\n",
       "      <td>5.150000</td>\n",
       "      <td>3.525000</td>\n",
       "      <td>...</td>\n",
       "      <td>91.000000</td>\n",
       "      <td>88.000000</td>\n",
       "      <td>15.800000</td>\n",
       "      <td>21.170000</td>\n",
       "      <td>5.036520</td>\n",
       "      <td>14.625000</td>\n",
       "      <td>11.350000</td>\n",
       "      <td>7.050000</td>\n",
       "      <td>7.975000</td>\n",
       "      <td>21.40000</td>\n",
       "    </tr>\n",
       "    <tr>\n",
       "      <th>50%</th>\n",
       "      <td>21.107187</td>\n",
       "      <td>11.659053</td>\n",
       "      <td>1.500000</td>\n",
       "      <td>21.574977</td>\n",
       "      <td>25.487116</td>\n",
       "      <td>501.335000</td>\n",
       "      <td>1.682739</td>\n",
       "      <td>6.200000</td>\n",
       "      <td>6.750000</td>\n",
       "      <td>4.200000</td>\n",
       "      <td>...</td>\n",
       "      <td>95.800000</td>\n",
       "      <td>94.000000</td>\n",
       "      <td>19.300000</td>\n",
       "      <td>23.150000</td>\n",
       "      <td>6.784772</td>\n",
       "      <td>16.600000</td>\n",
       "      <td>14.550000</td>\n",
       "      <td>10.600000</td>\n",
       "      <td>9.650000</td>\n",
       "      <td>25.60000</td>\n",
       "    </tr>\n",
       "    <tr>\n",
       "      <th>75%</th>\n",
       "      <td>22.642722</td>\n",
       "      <td>16.091953</td>\n",
       "      <td>2.200000</td>\n",
       "      <td>44.392351</td>\n",
       "      <td>30.236732</td>\n",
       "      <td>512.835000</td>\n",
       "      <td>1.719012</td>\n",
       "      <td>8.400000</td>\n",
       "      <td>7.500000</td>\n",
       "      <td>5.250000</td>\n",
       "      <td>...</td>\n",
       "      <td>97.800000</td>\n",
       "      <td>96.300000</td>\n",
       "      <td>21.800000</td>\n",
       "      <td>25.750000</td>\n",
       "      <td>8.863713</td>\n",
       "      <td>19.500000</td>\n",
       "      <td>17.925000</td>\n",
       "      <td>17.800000</td>\n",
       "      <td>13.825000</td>\n",
       "      <td>34.90000</td>\n",
       "    </tr>\n",
       "    <tr>\n",
       "      <th>max</th>\n",
       "      <td>34.241822</td>\n",
       "      <td>24.590000</td>\n",
       "      <td>13.700000</td>\n",
       "      <td>73.957667</td>\n",
       "      <td>38.712874</td>\n",
       "      <td>552.670000</td>\n",
       "      <td>1.755798</td>\n",
       "      <td>37.700000</td>\n",
       "      <td>11.300000</td>\n",
       "      <td>23.600000</td>\n",
       "      <td>...</td>\n",
       "      <td>99.800000</td>\n",
       "      <td>99.800000</td>\n",
       "      <td>42.100000</td>\n",
       "      <td>50.230000</td>\n",
       "      <td>15.949567</td>\n",
       "      <td>27.100000</td>\n",
       "      <td>24.800000</td>\n",
       "      <td>65.800000</td>\n",
       "      <td>25.300000</td>\n",
       "      <td>57.40000</td>\n",
       "    </tr>\n",
       "  </tbody>\n",
       "</table>\n",
       "<p>8 rows × 21 columns</p>\n",
       "</div>"
      ],
      "text/plain": [
       "       Average.disposable.income  Children.in.poor.homes  \\\n",
       "count                  30.000000               30.000000   \n",
       "mean                   18.847713               12.372193   \n",
       "std                     7.597219                5.592696   \n",
       "min                     3.839462                2.740000   \n",
       "25%                    16.617877                8.901475   \n",
       "50%                    21.107187               11.659053   \n",
       "75%                    22.642722               16.091953   \n",
       "max                    34.241822               24.590000   \n",
       "\n",
       "       Educational.Deprivation  Overcrowding  Poor.environmental.conditions  \\\n",
       "count                30.000000     26.000000                      24.000000   \n",
       "mean                  2.673333     31.950163                      25.217498   \n",
       "std                   3.315370     21.132363                       7.483096   \n",
       "min                   0.400000     10.326503                      10.500000   \n",
       "25%                   1.000000     17.058130                      20.153506   \n",
       "50%                   1.500000     21.574977                      25.487116   \n",
       "75%                   2.200000     44.392351                      30.236732   \n",
       "max                  13.700000     73.957667                      38.712874   \n",
       "\n",
       "       Average.mean.literacy.score  Literacy.inequality  Youth.NEET.rate  \\\n",
       "count                    30.000000            30.000000        27.000000   \n",
       "mean                    496.317000             1.665085         7.377778   \n",
       "std                      29.381643             0.067391         6.489656   \n",
       "min                     408.670000             1.475432         1.700000   \n",
       "25%                     482.750000             1.623048         4.550000   \n",
       "50%                     501.335000             1.682739         6.200000   \n",
       "75%                     512.835000             1.719012         8.400000   \n",
       "max                     552.670000             1.755798        37.700000   \n",
       "\n",
       "       Low.birth.weight  Infant.mortality  ...  Vaccination.rates..pertussis.  \\\n",
       "count         30.000000         30.000000  ...                      29.000000   \n",
       "mean           6.643333          5.446667  ...                      93.775862   \n",
       "std            1.728001          4.506756  ...                       5.317334   \n",
       "min            3.900000          2.300000  ...                      78.000000   \n",
       "25%            5.150000          3.525000  ...                      91.000000   \n",
       "50%            6.750000          4.200000  ...                      95.800000   \n",
       "75%            7.500000          5.250000  ...                      97.800000   \n",
       "max           11.300000         23.600000  ...                      99.800000   \n",
       "\n",
       "       Vaccination.rates.measles.  Physical.activity  Mortality.rates  \\\n",
       "count                   29.000000          26.000000        29.000000   \n",
       "mean                    91.517241          20.134615        24.598966   \n",
       "std                      5.909138           6.157983         6.745815   \n",
       "min                     74.000000          13.100000        14.840000   \n",
       "25%                     88.000000          15.800000        21.170000   \n",
       "50%                     94.000000          19.300000        23.150000   \n",
       "75%                     96.300000          21.800000        25.750000   \n",
       "max                     99.800000          42.100000        50.230000   \n",
       "\n",
       "       Suicide.rates    Smoking  Drunkenness  Teenage.births   Bullying  \\\n",
       "count      29.000000  24.000000    24.000000       30.000000  24.000000   \n",
       "mean        6.856272  16.512500    15.225000       15.500000  10.979167   \n",
       "std         3.204545   4.766852     4.301794       13.967326   5.146462   \n",
       "min         1.263026   8.100000    10.000000        3.700000   4.200000   \n",
       "25%         5.036520  14.625000    11.350000        7.050000   7.975000   \n",
       "50%         6.784772  16.600000    14.550000       10.600000   9.650000   \n",
       "75%         8.863713  19.500000    17.925000       17.800000  13.825000   \n",
       "max        15.949567  27.100000    24.800000       65.800000  25.300000   \n",
       "\n",
       "       Liking.school  \n",
       "count       25.00000  \n",
       "mean        27.17200  \n",
       "std         10.39926  \n",
       "min         11.70000  \n",
       "25%         21.40000  \n",
       "50%         25.60000  \n",
       "75%         34.90000  \n",
       "max         57.40000  \n",
       "\n",
       "[8 rows x 21 columns]"
      ]
     },
     "execution_count": 73,
     "metadata": {},
     "output_type": "execute_result"
    }
   ],
   "source": [
    "data.describe()"
   ]
  },
  {
   "cell_type": "markdown",
   "metadata": {},
   "source": [
    "### b) Gibt es NaNs im Datensatz?"
   ]
  },
  {
   "cell_type": "code",
   "execution_count": 84,
   "metadata": {},
   "outputs": [
    {
     "data": {
      "text/plain": [
       "(30, 21)"
      ]
     },
     "execution_count": 84,
     "metadata": {},
     "output_type": "execute_result"
    }
   ],
   "source": [
    "data.shape"
   ]
  },
  {
   "cell_type": "markdown",
   "metadata": {},
   "source": [
    "mit describe werden alle NaN-Datensätze ignoriert. Da wir statt den 30, 21 nur noch 8, 21 haben, haben wir diverse NaN-Datensätze"
   ]
  },
  {
   "cell_type": "markdown",
   "metadata": {},
   "source": [
    "### c) Entfernen Sie alle Länder (Zeilen), die mindestens ein NaN enthalten."
   ]
  },
  {
   "cell_type": "code",
   "execution_count": 102,
   "metadata": {},
   "outputs": [
    {
     "data": {
      "text/html": [
       "<div>\n",
       "<style scoped>\n",
       "    .dataframe tbody tr th:only-of-type {\n",
       "        vertical-align: middle;\n",
       "    }\n",
       "\n",
       "    .dataframe tbody tr th {\n",
       "        vertical-align: top;\n",
       "    }\n",
       "\n",
       "    .dataframe thead th {\n",
       "        text-align: right;\n",
       "    }\n",
       "</style>\n",
       "<table border=\"1\" class=\"dataframe\">\n",
       "  <thead>\n",
       "    <tr style=\"text-align: right;\">\n",
       "      <th></th>\n",
       "      <th>Average.disposable.income</th>\n",
       "      <th>Children.in.poor.homes</th>\n",
       "      <th>Educational.Deprivation</th>\n",
       "      <th>Overcrowding</th>\n",
       "      <th>Poor.environmental.conditions</th>\n",
       "      <th>Average.mean.literacy.score</th>\n",
       "      <th>Literacy.inequality</th>\n",
       "      <th>Youth.NEET.rate</th>\n",
       "      <th>Low.birth.weight</th>\n",
       "      <th>Infant.mortality</th>\n",
       "      <th>...</th>\n",
       "      <th>Vaccination.rates..pertussis.</th>\n",
       "      <th>Vaccination.rates.measles.</th>\n",
       "      <th>Physical.activity</th>\n",
       "      <th>Mortality.rates</th>\n",
       "      <th>Suicide.rates</th>\n",
       "      <th>Smoking</th>\n",
       "      <th>Drunkenness</th>\n",
       "      <th>Teenage.births</th>\n",
       "      <th>Bullying</th>\n",
       "      <th>Liking.school</th>\n",
       "    </tr>\n",
       "  </thead>\n",
       "  <tbody>\n",
       "    <tr>\n",
       "      <th>Australia</th>\n",
       "      <td>20.813221</td>\n",
       "      <td>11.791352</td>\n",
       "      <td>2.2</td>\n",
       "      <td>19.700000</td>\n",
       "      <td>10.500000</td>\n",
       "      <td>520.00</td>\n",
       "      <td>1.610349</td>\n",
       "      <td>7.4</td>\n",
       "      <td>6.4</td>\n",
       "      <td>5.0</td>\n",
       "      <td>...</td>\n",
       "      <td>92.2</td>\n",
       "      <td>94.0</td>\n",
       "      <td>NaN</td>\n",
       "      <td>23.66</td>\n",
       "      <td>8.512646</td>\n",
       "      <td>NaN</td>\n",
       "      <td>NaN</td>\n",
       "      <td>14.3</td>\n",
       "      <td>NaN</td>\n",
       "      <td>NaN</td>\n",
       "    </tr>\n",
       "    <tr>\n",
       "      <th>Austria</th>\n",
       "      <td>22.162446</td>\n",
       "      <td>6.166094</td>\n",
       "      <td>0.6</td>\n",
       "      <td>34.014601</td>\n",
       "      <td>20.154186</td>\n",
       "      <td>502.00</td>\n",
       "      <td>1.716942</td>\n",
       "      <td>6.9</td>\n",
       "      <td>6.8</td>\n",
       "      <td>4.2</td>\n",
       "      <td>...</td>\n",
       "      <td>83.0</td>\n",
       "      <td>74.0</td>\n",
       "      <td>19.6</td>\n",
       "      <td>24.57</td>\n",
       "      <td>9.482761</td>\n",
       "      <td>27.1</td>\n",
       "      <td>18.6</td>\n",
       "      <td>12.3</td>\n",
       "      <td>15.6</td>\n",
       "      <td>38.1</td>\n",
       "    </tr>\n",
       "    <tr>\n",
       "      <th>Belgium</th>\n",
       "      <td>21.401153</td>\n",
       "      <td>9.974720</td>\n",
       "      <td>1.0</td>\n",
       "      <td>12.614505</td>\n",
       "      <td>29.754526</td>\n",
       "      <td>510.33</td>\n",
       "      <td>1.740258</td>\n",
       "      <td>6.2</td>\n",
       "      <td>7.8</td>\n",
       "      <td>3.7</td>\n",
       "      <td>...</td>\n",
       "      <td>97.0</td>\n",
       "      <td>88.0</td>\n",
       "      <td>19.1</td>\n",
       "      <td>28.97</td>\n",
       "      <td>8.977713</td>\n",
       "      <td>16.7</td>\n",
       "      <td>13.9</td>\n",
       "      <td>7.8</td>\n",
       "      <td>12.2</td>\n",
       "      <td>21.6</td>\n",
       "    </tr>\n",
       "    <tr>\n",
       "      <th>Canada</th>\n",
       "      <td>25.606245</td>\n",
       "      <td>15.057585</td>\n",
       "      <td>2.1</td>\n",
       "      <td>NaN</td>\n",
       "      <td>NaN</td>\n",
       "      <td>529.33</td>\n",
       "      <td>1.573912</td>\n",
       "      <td>6.1</td>\n",
       "      <td>5.9</td>\n",
       "      <td>5.3</td>\n",
       "      <td>...</td>\n",
       "      <td>78.0</td>\n",
       "      <td>94.0</td>\n",
       "      <td>23.6</td>\n",
       "      <td>23.43</td>\n",
       "      <td>10.047535</td>\n",
       "      <td>8.6</td>\n",
       "      <td>18.8</td>\n",
       "      <td>13.2</td>\n",
       "      <td>14.0</td>\n",
       "      <td>29.5</td>\n",
       "    </tr>\n",
       "    <tr>\n",
       "      <th>Czech Republic</th>\n",
       "      <td>10.849270</td>\n",
       "      <td>10.270000</td>\n",
       "      <td>1.2</td>\n",
       "      <td>58.899347</td>\n",
       "      <td>29.748594</td>\n",
       "      <td>502.00</td>\n",
       "      <td>1.743012</td>\n",
       "      <td>5.3</td>\n",
       "      <td>6.7</td>\n",
       "      <td>3.4</td>\n",
       "      <td>...</td>\n",
       "      <td>98.7</td>\n",
       "      <td>96.6</td>\n",
       "      <td>22.0</td>\n",
       "      <td>24.92</td>\n",
       "      <td>6.212492</td>\n",
       "      <td>21.5</td>\n",
       "      <td>16.8</td>\n",
       "      <td>11.4</td>\n",
       "      <td>5.5</td>\n",
       "      <td>11.7</td>\n",
       "    </tr>\n",
       "    <tr>\n",
       "      <th>Denmark</th>\n",
       "      <td>23.175894</td>\n",
       "      <td>2.740000</td>\n",
       "      <td>0.7</td>\n",
       "      <td>17.552965</td>\n",
       "      <td>20.151467</td>\n",
       "      <td>501.00</td>\n",
       "      <td>1.594974</td>\n",
       "      <td>4.3</td>\n",
       "      <td>4.9</td>\n",
       "      <td>4.4</td>\n",
       "      <td>...</td>\n",
       "      <td>95.0</td>\n",
       "      <td>96.0</td>\n",
       "      <td>22.7</td>\n",
       "      <td>22.93</td>\n",
       "      <td>5.942231</td>\n",
       "      <td>15.0</td>\n",
       "      <td>24.8</td>\n",
       "      <td>6.6</td>\n",
       "      <td>8.0</td>\n",
       "      <td>25.6</td>\n",
       "    </tr>\n",
       "    <tr>\n",
       "      <th>Finland</th>\n",
       "      <td>22.027651</td>\n",
       "      <td>4.170000</td>\n",
       "      <td>1.0</td>\n",
       "      <td>15.228876</td>\n",
       "      <td>22.802362</td>\n",
       "      <td>552.67</td>\n",
       "      <td>1.475432</td>\n",
       "      <td>5.2</td>\n",
       "      <td>4.1</td>\n",
       "      <td>3.0</td>\n",
       "      <td>...</td>\n",
       "      <td>97.0</td>\n",
       "      <td>97.0</td>\n",
       "      <td>24.8</td>\n",
       "      <td>23.54</td>\n",
       "      <td>12.158687</td>\n",
       "      <td>22.0</td>\n",
       "      <td>22.4</td>\n",
       "      <td>9.7</td>\n",
       "      <td>8.0</td>\n",
       "      <td>16.1</td>\n",
       "    </tr>\n",
       "    <tr>\n",
       "      <th>France</th>\n",
       "      <td>18.960382</td>\n",
       "      <td>7.640000</td>\n",
       "      <td>1.2</td>\n",
       "      <td>20.284619</td>\n",
       "      <td>25.830298</td>\n",
       "      <td>493.00</td>\n",
       "      <td>1.728004</td>\n",
       "      <td>6.2</td>\n",
       "      <td>6.8</td>\n",
       "      <td>3.6</td>\n",
       "      <td>...</td>\n",
       "      <td>98.0</td>\n",
       "      <td>87.1</td>\n",
       "      <td>13.5</td>\n",
       "      <td>21.04</td>\n",
       "      <td>4.906704</td>\n",
       "      <td>19.0</td>\n",
       "      <td>11.2</td>\n",
       "      <td>6.7</td>\n",
       "      <td>13.6</td>\n",
       "      <td>21.4</td>\n",
       "    </tr>\n",
       "    <tr>\n",
       "      <th>Germany</th>\n",
       "      <td>19.894067</td>\n",
       "      <td>16.289270</td>\n",
       "      <td>0.5</td>\n",
       "      <td>19.967763</td>\n",
       "      <td>37.374708</td>\n",
       "      <td>505.00</td>\n",
       "      <td>1.719702</td>\n",
       "      <td>4.4</td>\n",
       "      <td>6.8</td>\n",
       "      <td>3.9</td>\n",
       "      <td>...</td>\n",
       "      <td>97.8</td>\n",
       "      <td>94.0</td>\n",
       "      <td>17.0</td>\n",
       "      <td>21.23</td>\n",
       "      <td>5.507378</td>\n",
       "      <td>19.5</td>\n",
       "      <td>15.1</td>\n",
       "      <td>9.8</td>\n",
       "      <td>13.9</td>\n",
       "      <td>34.9</td>\n",
       "    </tr>\n",
       "    <tr>\n",
       "      <th>Greece</th>\n",
       "      <td>17.183647</td>\n",
       "      <td>13.230296</td>\n",
       "      <td>6.1</td>\n",
       "      <td>54.922056</td>\n",
       "      <td>25.070654</td>\n",
       "      <td>464.00</td>\n",
       "      <td>1.722499</td>\n",
       "      <td>9.8</td>\n",
       "      <td>8.8</td>\n",
       "      <td>3.8</td>\n",
       "      <td>...</td>\n",
       "      <td>88.0</td>\n",
       "      <td>88.0</td>\n",
       "      <td>15.5</td>\n",
       "      <td>23.15</td>\n",
       "      <td>1.263026</td>\n",
       "      <td>16.5</td>\n",
       "      <td>10.3</td>\n",
       "      <td>8.7</td>\n",
       "      <td>22.0</td>\n",
       "      <td>25.6</td>\n",
       "    </tr>\n",
       "    <tr>\n",
       "      <th>Hungary</th>\n",
       "      <td>9.463130</td>\n",
       "      <td>8.724203</td>\n",
       "      <td>2.1</td>\n",
       "      <td>73.306021</td>\n",
       "      <td>22.213785</td>\n",
       "      <td>492.33</td>\n",
       "      <td>1.620710</td>\n",
       "      <td>6.4</td>\n",
       "      <td>8.2</td>\n",
       "      <td>6.2</td>\n",
       "      <td>...</td>\n",
       "      <td>99.8</td>\n",
       "      <td>99.8</td>\n",
       "      <td>19.5</td>\n",
       "      <td>25.75</td>\n",
       "      <td>6.806580</td>\n",
       "      <td>21.5</td>\n",
       "      <td>17.7</td>\n",
       "      <td>20.7</td>\n",
       "      <td>6.6</td>\n",
       "      <td>27.6</td>\n",
       "    </tr>\n",
       "    <tr>\n",
       "      <th>Iceland</th>\n",
       "      <td>22.286852</td>\n",
       "      <td>8.250000</td>\n",
       "      <td>0.4</td>\n",
       "      <td>21.652526</td>\n",
       "      <td>15.534688</td>\n",
       "      <td>493.67</td>\n",
       "      <td>1.654064</td>\n",
       "      <td>NaN</td>\n",
       "      <td>3.9</td>\n",
       "      <td>2.3</td>\n",
       "      <td>...</td>\n",
       "      <td>97.0</td>\n",
       "      <td>94.0</td>\n",
       "      <td>20.6</td>\n",
       "      <td>16.95</td>\n",
       "      <td>7.841312</td>\n",
       "      <td>13.5</td>\n",
       "      <td>10.5</td>\n",
       "      <td>16.9</td>\n",
       "      <td>5.4</td>\n",
       "      <td>36.6</td>\n",
       "    </tr>\n",
       "    <tr>\n",
       "      <th>Ireland</th>\n",
       "      <td>22.364689</td>\n",
       "      <td>16.299416</td>\n",
       "      <td>2.9</td>\n",
       "      <td>16.429028</td>\n",
       "      <td>19.300100</td>\n",
       "      <td>508.67</td>\n",
       "      <td>1.590217</td>\n",
       "      <td>4.4</td>\n",
       "      <td>4.9</td>\n",
       "      <td>4.0</td>\n",
       "      <td>...</td>\n",
       "      <td>90.0</td>\n",
       "      <td>84.0</td>\n",
       "      <td>31.1</td>\n",
       "      <td>21.97</td>\n",
       "      <td>9.517063</td>\n",
       "      <td>19.5</td>\n",
       "      <td>16.3</td>\n",
       "      <td>13.5</td>\n",
       "      <td>8.6</td>\n",
       "      <td>24.0</td>\n",
       "    </tr>\n",
       "    <tr>\n",
       "      <th>Italy</th>\n",
       "      <td>17.180761</td>\n",
       "      <td>15.500000</td>\n",
       "      <td>1.2</td>\n",
       "      <td>47.851602</td>\n",
       "      <td>32.577363</td>\n",
       "      <td>468.67</td>\n",
       "      <td>1.752955</td>\n",
       "      <td>11.2</td>\n",
       "      <td>6.7</td>\n",
       "      <td>4.7</td>\n",
       "      <td>...</td>\n",
       "      <td>94.7</td>\n",
       "      <td>87.3</td>\n",
       "      <td>15.1</td>\n",
       "      <td>21.76</td>\n",
       "      <td>2.437998</td>\n",
       "      <td>20.0</td>\n",
       "      <td>10.0</td>\n",
       "      <td>6.8</td>\n",
       "      <td>7.9</td>\n",
       "      <td>12.8</td>\n",
       "    </tr>\n",
       "    <tr>\n",
       "      <th>Japan</th>\n",
       "      <td>22.479705</td>\n",
       "      <td>13.688033</td>\n",
       "      <td>5.6</td>\n",
       "      <td>22.540000</td>\n",
       "      <td>32.380000</td>\n",
       "      <td>517.33</td>\n",
       "      <td>1.652194</td>\n",
       "      <td>8.4</td>\n",
       "      <td>9.5</td>\n",
       "      <td>2.8</td>\n",
       "      <td>...</td>\n",
       "      <td>93.0</td>\n",
       "      <td>94.0</td>\n",
       "      <td>NaN</td>\n",
       "      <td>18.23</td>\n",
       "      <td>7.728493</td>\n",
       "      <td>NaN</td>\n",
       "      <td>NaN</td>\n",
       "      <td>3.7</td>\n",
       "      <td>NaN</td>\n",
       "      <td>NaN</td>\n",
       "    </tr>\n",
       "    <tr>\n",
       "      <th>Korea</th>\n",
       "      <td>21.651918</td>\n",
       "      <td>10.746834</td>\n",
       "      <td>1.8</td>\n",
       "      <td>NaN</td>\n",
       "      <td>NaN</td>\n",
       "      <td>541.67</td>\n",
       "      <td>1.545777</td>\n",
       "      <td>NaN</td>\n",
       "      <td>4.3</td>\n",
       "      <td>5.3</td>\n",
       "      <td>...</td>\n",
       "      <td>97.0</td>\n",
       "      <td>90.2</td>\n",
       "      <td>NaN</td>\n",
       "      <td>22.36</td>\n",
       "      <td>6.784772</td>\n",
       "      <td>NaN</td>\n",
       "      <td>NaN</td>\n",
       "      <td>3.7</td>\n",
       "      <td>NaN</td>\n",
       "      <td>NaN</td>\n",
       "    </tr>\n",
       "    <tr>\n",
       "      <th>Luxembourg</th>\n",
       "      <td>34.241822</td>\n",
       "      <td>12.390000</td>\n",
       "      <td>1.1</td>\n",
       "      <td>16.893185</td>\n",
       "      <td>25.574231</td>\n",
       "      <td>485.00</td>\n",
       "      <td>1.701361</td>\n",
       "      <td>2.2</td>\n",
       "      <td>4.9</td>\n",
       "      <td>2.6</td>\n",
       "      <td>...</td>\n",
       "      <td>NaN</td>\n",
       "      <td>NaN</td>\n",
       "      <td>15.2</td>\n",
       "      <td>14.84</td>\n",
       "      <td>6.357194</td>\n",
       "      <td>19.0</td>\n",
       "      <td>11.7</td>\n",
       "      <td>8.6</td>\n",
       "      <td>13.8</td>\n",
       "      <td>20.7</td>\n",
       "    </tr>\n",
       "    <tr>\n",
       "      <th>Mexico</th>\n",
       "      <td>5.335074</td>\n",
       "      <td>22.164514</td>\n",
       "      <td>13.7</td>\n",
       "      <td>69.600000</td>\n",
       "      <td>NaN</td>\n",
       "      <td>408.67</td>\n",
       "      <td>1.755798</td>\n",
       "      <td>NaN</td>\n",
       "      <td>8.8</td>\n",
       "      <td>18.8</td>\n",
       "      <td>...</td>\n",
       "      <td>98.1</td>\n",
       "      <td>96.4</td>\n",
       "      <td>18.1</td>\n",
       "      <td>50.23</td>\n",
       "      <td>5.128754</td>\n",
       "      <td>NaN</td>\n",
       "      <td>NaN</td>\n",
       "      <td>65.8</td>\n",
       "      <td>NaN</td>\n",
       "      <td>NaN</td>\n",
       "    </tr>\n",
       "    <tr>\n",
       "      <th>Netherlands</th>\n",
       "      <td>25.041012</td>\n",
       "      <td>11.526755</td>\n",
       "      <td>0.6</td>\n",
       "      <td>10.326503</td>\n",
       "      <td>38.712874</td>\n",
       "      <td>521.00</td>\n",
       "      <td>1.614444</td>\n",
       "      <td>3.9</td>\n",
       "      <td>6.2</td>\n",
       "      <td>4.9</td>\n",
       "      <td>...</td>\n",
       "      <td>95.8</td>\n",
       "      <td>96.3</td>\n",
       "      <td>21.2</td>\n",
       "      <td>20.49</td>\n",
       "      <td>3.496134</td>\n",
       "      <td>18.5</td>\n",
       "      <td>12.1</td>\n",
       "      <td>4.7</td>\n",
       "      <td>8.5</td>\n",
       "      <td>39.7</td>\n",
       "    </tr>\n",
       "    <tr>\n",
       "      <th>New Zealand</th>\n",
       "      <td>17.197108</td>\n",
       "      <td>15.000000</td>\n",
       "      <td>2.2</td>\n",
       "      <td>31.000000</td>\n",
       "      <td>NaN</td>\n",
       "      <td>524.33</td>\n",
       "      <td>1.676001</td>\n",
       "      <td>8.5</td>\n",
       "      <td>6.1</td>\n",
       "      <td>5.1</td>\n",
       "      <td>...</td>\n",
       "      <td>88.6</td>\n",
       "      <td>82.0</td>\n",
       "      <td>NaN</td>\n",
       "      <td>32.05</td>\n",
       "      <td>15.949567</td>\n",
       "      <td>NaN</td>\n",
       "      <td>NaN</td>\n",
       "      <td>23.4</td>\n",
       "      <td>NaN</td>\n",
       "      <td>NaN</td>\n",
       "    </tr>\n",
       "    <tr>\n",
       "      <th>Norway</th>\n",
       "      <td>28.574371</td>\n",
       "      <td>4.600000</td>\n",
       "      <td>1.3</td>\n",
       "      <td>15.113671</td>\n",
       "      <td>11.992789</td>\n",
       "      <td>487.00</td>\n",
       "      <td>1.692809</td>\n",
       "      <td>2.5</td>\n",
       "      <td>4.8</td>\n",
       "      <td>3.1</td>\n",
       "      <td>...</td>\n",
       "      <td>91.0</td>\n",
       "      <td>88.0</td>\n",
       "      <td>15.6</td>\n",
       "      <td>21.49</td>\n",
       "      <td>10.094030</td>\n",
       "      <td>10.4</td>\n",
       "      <td>14.0</td>\n",
       "      <td>9.4</td>\n",
       "      <td>8.3</td>\n",
       "      <td>41.7</td>\n",
       "    </tr>\n",
       "    <tr>\n",
       "      <th>Poland</th>\n",
       "      <td>7.939399</td>\n",
       "      <td>21.500000</td>\n",
       "      <td>2.1</td>\n",
       "      <td>73.957667</td>\n",
       "      <td>22.841904</td>\n",
       "      <td>500.33</td>\n",
       "      <td>1.632217</td>\n",
       "      <td>1.7</td>\n",
       "      <td>6.1</td>\n",
       "      <td>6.4</td>\n",
       "      <td>...</td>\n",
       "      <td>99.0</td>\n",
       "      <td>97.0</td>\n",
       "      <td>17.3</td>\n",
       "      <td>28.13</td>\n",
       "      <td>8.863713</td>\n",
       "      <td>16.4</td>\n",
       "      <td>19.9</td>\n",
       "      <td>14.5</td>\n",
       "      <td>9.6</td>\n",
       "      <td>21.1</td>\n",
       "    </tr>\n",
       "    <tr>\n",
       "      <th>Portugal</th>\n",
       "      <td>3.839462</td>\n",
       "      <td>16.550398</td>\n",
       "      <td>1.4</td>\n",
       "      <td>31.952303</td>\n",
       "      <td>33.457898</td>\n",
       "      <td>470.67</td>\n",
       "      <td>1.689477</td>\n",
       "      <td>8.4</td>\n",
       "      <td>7.5</td>\n",
       "      <td>3.5</td>\n",
       "      <td>...</td>\n",
       "      <td>93.3</td>\n",
       "      <td>92.7</td>\n",
       "      <td>14.6</td>\n",
       "      <td>34.60</td>\n",
       "      <td>2.430484</td>\n",
       "      <td>10.6</td>\n",
       "      <td>10.9</td>\n",
       "      <td>18.1</td>\n",
       "      <td>14.1</td>\n",
       "      <td>22.8</td>\n",
       "    </tr>\n",
       "    <tr>\n",
       "      <th>Slovak Republic</th>\n",
       "      <td>7.797596</td>\n",
       "      <td>10.930000</td>\n",
       "      <td>3.8</td>\n",
       "      <td>68.356284</td>\n",
       "      <td>27.348691</td>\n",
       "      <td>482.00</td>\n",
       "      <td>1.712179</td>\n",
       "      <td>6.3</td>\n",
       "      <td>7.2</td>\n",
       "      <td>7.2</td>\n",
       "      <td>...</td>\n",
       "      <td>99.2</td>\n",
       "      <td>99.5</td>\n",
       "      <td>42.1</td>\n",
       "      <td>30.15</td>\n",
       "      <td>5.036520</td>\n",
       "      <td>16.4</td>\n",
       "      <td>16.8</td>\n",
       "      <td>20.0</td>\n",
       "      <td>NaN</td>\n",
       "      <td>13.0</td>\n",
       "    </tr>\n",
       "    <tr>\n",
       "      <th>Spain</th>\n",
       "      <td>16.430249</td>\n",
       "      <td>17.300000</td>\n",
       "      <td>0.9</td>\n",
       "      <td>10.831831</td>\n",
       "      <td>31.683347</td>\n",
       "      <td>476.33</td>\n",
       "      <td>1.636259</td>\n",
       "      <td>8.5</td>\n",
       "      <td>7.1</td>\n",
       "      <td>4.1</td>\n",
       "      <td>...</td>\n",
       "      <td>96.2</td>\n",
       "      <td>96.8</td>\n",
       "      <td>20.3</td>\n",
       "      <td>23.49</td>\n",
       "      <td>2.599717</td>\n",
       "      <td>17.1</td>\n",
       "      <td>16.1</td>\n",
       "      <td>9.1</td>\n",
       "      <td>4.7</td>\n",
       "      <td>23.9</td>\n",
       "    </tr>\n",
       "    <tr>\n",
       "      <th>Sweden</th>\n",
       "      <td>19.916998</td>\n",
       "      <td>3.969106</td>\n",
       "      <td>1.6</td>\n",
       "      <td>20.011460</td>\n",
       "      <td>15.746422</td>\n",
       "      <td>504.00</td>\n",
       "      <td>1.630063</td>\n",
       "      <td>4.7</td>\n",
       "      <td>4.2</td>\n",
       "      <td>2.4</td>\n",
       "      <td>...</td>\n",
       "      <td>99.0</td>\n",
       "      <td>95.0</td>\n",
       "      <td>16.4</td>\n",
       "      <td>19.27</td>\n",
       "      <td>6.783234</td>\n",
       "      <td>8.5</td>\n",
       "      <td>13.8</td>\n",
       "      <td>6.8</td>\n",
       "      <td>4.2</td>\n",
       "      <td>24.1</td>\n",
       "    </tr>\n",
       "    <tr>\n",
       "      <th>Switzerland</th>\n",
       "      <td>24.651815</td>\n",
       "      <td>9.433293</td>\n",
       "      <td>0.7</td>\n",
       "      <td>NaN</td>\n",
       "      <td>NaN</td>\n",
       "      <td>513.67</td>\n",
       "      <td>1.650385</td>\n",
       "      <td>7.2</td>\n",
       "      <td>7.0</td>\n",
       "      <td>4.2</td>\n",
       "      <td>...</td>\n",
       "      <td>96.0</td>\n",
       "      <td>86.0</td>\n",
       "      <td>13.1</td>\n",
       "      <td>20.33</td>\n",
       "      <td>7.280508</td>\n",
       "      <td>15.0</td>\n",
       "      <td>11.4</td>\n",
       "      <td>4.5</td>\n",
       "      <td>12.1</td>\n",
       "      <td>27.3</td>\n",
       "    </tr>\n",
       "    <tr>\n",
       "      <th>Turkey</th>\n",
       "      <td>5.071860</td>\n",
       "      <td>24.590000</td>\n",
       "      <td>13.6</td>\n",
       "      <td>NaN</td>\n",
       "      <td>NaN</td>\n",
       "      <td>431.67</td>\n",
       "      <td>1.704249</td>\n",
       "      <td>37.7</td>\n",
       "      <td>11.3</td>\n",
       "      <td>23.6</td>\n",
       "      <td>...</td>\n",
       "      <td>90.0</td>\n",
       "      <td>91.0</td>\n",
       "      <td>20.0</td>\n",
       "      <td>NaN</td>\n",
       "      <td>NaN</td>\n",
       "      <td>NaN</td>\n",
       "      <td>NaN</td>\n",
       "      <td>39.7</td>\n",
       "      <td>25.3</td>\n",
       "      <td>57.4</td>\n",
       "    </tr>\n",
       "    <tr>\n",
       "      <th>United Kingdom</th>\n",
       "      <td>22.697062</td>\n",
       "      <td>10.080000</td>\n",
       "      <td>1.8</td>\n",
       "      <td>21.497427</td>\n",
       "      <td>29.069052</td>\n",
       "      <td>501.67</td>\n",
       "      <td>1.690351</td>\n",
       "      <td>9.3</td>\n",
       "      <td>7.5</td>\n",
       "      <td>5.1</td>\n",
       "      <td>...</td>\n",
       "      <td>91.4</td>\n",
       "      <td>83.8</td>\n",
       "      <td>18.7</td>\n",
       "      <td>21.17</td>\n",
       "      <td>2.987869</td>\n",
       "      <td>15.9</td>\n",
       "      <td>22.1</td>\n",
       "      <td>24.8</td>\n",
       "      <td>9.7</td>\n",
       "      <td>35.7</td>\n",
       "    </tr>\n",
       "    <tr>\n",
       "      <th>United States</th>\n",
       "      <td>29.196531</td>\n",
       "      <td>20.593932</td>\n",
       "      <td>4.8</td>\n",
       "      <td>26.200000</td>\n",
       "      <td>25.400000</td>\n",
       "      <td>481.50</td>\n",
       "      <td>1.725965</td>\n",
       "      <td>6.1</td>\n",
       "      <td>8.1</td>\n",
       "      <td>6.8</td>\n",
       "      <td>...</td>\n",
       "      <td>85.7</td>\n",
       "      <td>91.5</td>\n",
       "      <td>26.8</td>\n",
       "      <td>32.67</td>\n",
       "      <td>7.696773</td>\n",
       "      <td>8.1</td>\n",
       "      <td>10.2</td>\n",
       "      <td>49.8</td>\n",
       "      <td>11.9</td>\n",
       "      <td>26.4</td>\n",
       "    </tr>\n",
       "  </tbody>\n",
       "</table>\n",
       "<p>30 rows × 21 columns</p>\n",
       "</div>"
      ],
      "text/plain": [
       "                 Average.disposable.income  Children.in.poor.homes  \\\n",
       "Australia                        20.813221               11.791352   \n",
       "Austria                          22.162446                6.166094   \n",
       "Belgium                          21.401153                9.974720   \n",
       "Canada                           25.606245               15.057585   \n",
       "Czech Republic                   10.849270               10.270000   \n",
       "Denmark                          23.175894                2.740000   \n",
       "Finland                          22.027651                4.170000   \n",
       "France                           18.960382                7.640000   \n",
       "Germany                          19.894067               16.289270   \n",
       "Greece                           17.183647               13.230296   \n",
       "Hungary                           9.463130                8.724203   \n",
       "Iceland                          22.286852                8.250000   \n",
       "Ireland                          22.364689               16.299416   \n",
       "Italy                            17.180761               15.500000   \n",
       "Japan                            22.479705               13.688033   \n",
       "Korea                            21.651918               10.746834   \n",
       "Luxembourg                       34.241822               12.390000   \n",
       "Mexico                            5.335074               22.164514   \n",
       "Netherlands                      25.041012               11.526755   \n",
       "New Zealand                      17.197108               15.000000   \n",
       "Norway                           28.574371                4.600000   \n",
       "Poland                            7.939399               21.500000   \n",
       "Portugal                          3.839462               16.550398   \n",
       "Slovak Republic                   7.797596               10.930000   \n",
       "Spain                            16.430249               17.300000   \n",
       "Sweden                           19.916998                3.969106   \n",
       "Switzerland                      24.651815                9.433293   \n",
       "Turkey                            5.071860               24.590000   \n",
       "United Kingdom                   22.697062               10.080000   \n",
       "United States                    29.196531               20.593932   \n",
       "\n",
       "                 Educational.Deprivation  Overcrowding  \\\n",
       "Australia                            2.2     19.700000   \n",
       "Austria                              0.6     34.014601   \n",
       "Belgium                              1.0     12.614505   \n",
       "Canada                               2.1           NaN   \n",
       "Czech Republic                       1.2     58.899347   \n",
       "Denmark                              0.7     17.552965   \n",
       "Finland                              1.0     15.228876   \n",
       "France                               1.2     20.284619   \n",
       "Germany                              0.5     19.967763   \n",
       "Greece                               6.1     54.922056   \n",
       "Hungary                              2.1     73.306021   \n",
       "Iceland                              0.4     21.652526   \n",
       "Ireland                              2.9     16.429028   \n",
       "Italy                                1.2     47.851602   \n",
       "Japan                                5.6     22.540000   \n",
       "Korea                                1.8           NaN   \n",
       "Luxembourg                           1.1     16.893185   \n",
       "Mexico                              13.7     69.600000   \n",
       "Netherlands                          0.6     10.326503   \n",
       "New Zealand                          2.2     31.000000   \n",
       "Norway                               1.3     15.113671   \n",
       "Poland                               2.1     73.957667   \n",
       "Portugal                             1.4     31.952303   \n",
       "Slovak Republic                      3.8     68.356284   \n",
       "Spain                                0.9     10.831831   \n",
       "Sweden                               1.6     20.011460   \n",
       "Switzerland                          0.7           NaN   \n",
       "Turkey                              13.6           NaN   \n",
       "United Kingdom                       1.8     21.497427   \n",
       "United States                        4.8     26.200000   \n",
       "\n",
       "                 Poor.environmental.conditions  Average.mean.literacy.score  \\\n",
       "Australia                            10.500000                       520.00   \n",
       "Austria                              20.154186                       502.00   \n",
       "Belgium                              29.754526                       510.33   \n",
       "Canada                                     NaN                       529.33   \n",
       "Czech Republic                       29.748594                       502.00   \n",
       "Denmark                              20.151467                       501.00   \n",
       "Finland                              22.802362                       552.67   \n",
       "France                               25.830298                       493.00   \n",
       "Germany                              37.374708                       505.00   \n",
       "Greece                               25.070654                       464.00   \n",
       "Hungary                              22.213785                       492.33   \n",
       "Iceland                              15.534688                       493.67   \n",
       "Ireland                              19.300100                       508.67   \n",
       "Italy                                32.577363                       468.67   \n",
       "Japan                                32.380000                       517.33   \n",
       "Korea                                      NaN                       541.67   \n",
       "Luxembourg                           25.574231                       485.00   \n",
       "Mexico                                     NaN                       408.67   \n",
       "Netherlands                          38.712874                       521.00   \n",
       "New Zealand                                NaN                       524.33   \n",
       "Norway                               11.992789                       487.00   \n",
       "Poland                               22.841904                       500.33   \n",
       "Portugal                             33.457898                       470.67   \n",
       "Slovak Republic                      27.348691                       482.00   \n",
       "Spain                                31.683347                       476.33   \n",
       "Sweden                               15.746422                       504.00   \n",
       "Switzerland                                NaN                       513.67   \n",
       "Turkey                                     NaN                       431.67   \n",
       "United Kingdom                       29.069052                       501.67   \n",
       "United States                        25.400000                       481.50   \n",
       "\n",
       "                 Literacy.inequality  Youth.NEET.rate  Low.birth.weight  \\\n",
       "Australia                   1.610349              7.4               6.4   \n",
       "Austria                     1.716942              6.9               6.8   \n",
       "Belgium                     1.740258              6.2               7.8   \n",
       "Canada                      1.573912              6.1               5.9   \n",
       "Czech Republic              1.743012              5.3               6.7   \n",
       "Denmark                     1.594974              4.3               4.9   \n",
       "Finland                     1.475432              5.2               4.1   \n",
       "France                      1.728004              6.2               6.8   \n",
       "Germany                     1.719702              4.4               6.8   \n",
       "Greece                      1.722499              9.8               8.8   \n",
       "Hungary                     1.620710              6.4               8.2   \n",
       "Iceland                     1.654064              NaN               3.9   \n",
       "Ireland                     1.590217              4.4               4.9   \n",
       "Italy                       1.752955             11.2               6.7   \n",
       "Japan                       1.652194              8.4               9.5   \n",
       "Korea                       1.545777              NaN               4.3   \n",
       "Luxembourg                  1.701361              2.2               4.9   \n",
       "Mexico                      1.755798              NaN               8.8   \n",
       "Netherlands                 1.614444              3.9               6.2   \n",
       "New Zealand                 1.676001              8.5               6.1   \n",
       "Norway                      1.692809              2.5               4.8   \n",
       "Poland                      1.632217              1.7               6.1   \n",
       "Portugal                    1.689477              8.4               7.5   \n",
       "Slovak Republic             1.712179              6.3               7.2   \n",
       "Spain                       1.636259              8.5               7.1   \n",
       "Sweden                      1.630063              4.7               4.2   \n",
       "Switzerland                 1.650385              7.2               7.0   \n",
       "Turkey                      1.704249             37.7              11.3   \n",
       "United Kingdom              1.690351              9.3               7.5   \n",
       "United States               1.725965              6.1               8.1   \n",
       "\n",
       "                 Infant.mortality  ...  Vaccination.rates..pertussis.  \\\n",
       "Australia                     5.0  ...                           92.2   \n",
       "Austria                       4.2  ...                           83.0   \n",
       "Belgium                       3.7  ...                           97.0   \n",
       "Canada                        5.3  ...                           78.0   \n",
       "Czech Republic                3.4  ...                           98.7   \n",
       "Denmark                       4.4  ...                           95.0   \n",
       "Finland                       3.0  ...                           97.0   \n",
       "France                        3.6  ...                           98.0   \n",
       "Germany                       3.9  ...                           97.8   \n",
       "Greece                        3.8  ...                           88.0   \n",
       "Hungary                       6.2  ...                           99.8   \n",
       "Iceland                       2.3  ...                           97.0   \n",
       "Ireland                       4.0  ...                           90.0   \n",
       "Italy                         4.7  ...                           94.7   \n",
       "Japan                         2.8  ...                           93.0   \n",
       "Korea                         5.3  ...                           97.0   \n",
       "Luxembourg                    2.6  ...                            NaN   \n",
       "Mexico                       18.8  ...                           98.1   \n",
       "Netherlands                   4.9  ...                           95.8   \n",
       "New Zealand                   5.1  ...                           88.6   \n",
       "Norway                        3.1  ...                           91.0   \n",
       "Poland                        6.4  ...                           99.0   \n",
       "Portugal                      3.5  ...                           93.3   \n",
       "Slovak Republic               7.2  ...                           99.2   \n",
       "Spain                         4.1  ...                           96.2   \n",
       "Sweden                        2.4  ...                           99.0   \n",
       "Switzerland                   4.2  ...                           96.0   \n",
       "Turkey                       23.6  ...                           90.0   \n",
       "United Kingdom                5.1  ...                           91.4   \n",
       "United States                 6.8  ...                           85.7   \n",
       "\n",
       "                 Vaccination.rates.measles.  Physical.activity  \\\n",
       "Australia                              94.0                NaN   \n",
       "Austria                                74.0               19.6   \n",
       "Belgium                                88.0               19.1   \n",
       "Canada                                 94.0               23.6   \n",
       "Czech Republic                         96.6               22.0   \n",
       "Denmark                                96.0               22.7   \n",
       "Finland                                97.0               24.8   \n",
       "France                                 87.1               13.5   \n",
       "Germany                                94.0               17.0   \n",
       "Greece                                 88.0               15.5   \n",
       "Hungary                                99.8               19.5   \n",
       "Iceland                                94.0               20.6   \n",
       "Ireland                                84.0               31.1   \n",
       "Italy                                  87.3               15.1   \n",
       "Japan                                  94.0                NaN   \n",
       "Korea                                  90.2                NaN   \n",
       "Luxembourg                              NaN               15.2   \n",
       "Mexico                                 96.4               18.1   \n",
       "Netherlands                            96.3               21.2   \n",
       "New Zealand                            82.0                NaN   \n",
       "Norway                                 88.0               15.6   \n",
       "Poland                                 97.0               17.3   \n",
       "Portugal                               92.7               14.6   \n",
       "Slovak Republic                        99.5               42.1   \n",
       "Spain                                  96.8               20.3   \n",
       "Sweden                                 95.0               16.4   \n",
       "Switzerland                            86.0               13.1   \n",
       "Turkey                                 91.0               20.0   \n",
       "United Kingdom                         83.8               18.7   \n",
       "United States                          91.5               26.8   \n",
       "\n",
       "                 Mortality.rates  Suicide.rates  Smoking  Drunkenness  \\\n",
       "Australia                  23.66       8.512646      NaN          NaN   \n",
       "Austria                    24.57       9.482761     27.1         18.6   \n",
       "Belgium                    28.97       8.977713     16.7         13.9   \n",
       "Canada                     23.43      10.047535      8.6         18.8   \n",
       "Czech Republic             24.92       6.212492     21.5         16.8   \n",
       "Denmark                    22.93       5.942231     15.0         24.8   \n",
       "Finland                    23.54      12.158687     22.0         22.4   \n",
       "France                     21.04       4.906704     19.0         11.2   \n",
       "Germany                    21.23       5.507378     19.5         15.1   \n",
       "Greece                     23.15       1.263026     16.5         10.3   \n",
       "Hungary                    25.75       6.806580     21.5         17.7   \n",
       "Iceland                    16.95       7.841312     13.5         10.5   \n",
       "Ireland                    21.97       9.517063     19.5         16.3   \n",
       "Italy                      21.76       2.437998     20.0         10.0   \n",
       "Japan                      18.23       7.728493      NaN          NaN   \n",
       "Korea                      22.36       6.784772      NaN          NaN   \n",
       "Luxembourg                 14.84       6.357194     19.0         11.7   \n",
       "Mexico                     50.23       5.128754      NaN          NaN   \n",
       "Netherlands                20.49       3.496134     18.5         12.1   \n",
       "New Zealand                32.05      15.949567      NaN          NaN   \n",
       "Norway                     21.49      10.094030     10.4         14.0   \n",
       "Poland                     28.13       8.863713     16.4         19.9   \n",
       "Portugal                   34.60       2.430484     10.6         10.9   \n",
       "Slovak Republic            30.15       5.036520     16.4         16.8   \n",
       "Spain                      23.49       2.599717     17.1         16.1   \n",
       "Sweden                     19.27       6.783234      8.5         13.8   \n",
       "Switzerland                20.33       7.280508     15.0         11.4   \n",
       "Turkey                       NaN            NaN      NaN          NaN   \n",
       "United Kingdom             21.17       2.987869     15.9         22.1   \n",
       "United States              32.67       7.696773      8.1         10.2   \n",
       "\n",
       "                 Teenage.births  Bullying  Liking.school  \n",
       "Australia                  14.3       NaN            NaN  \n",
       "Austria                    12.3      15.6           38.1  \n",
       "Belgium                     7.8      12.2           21.6  \n",
       "Canada                     13.2      14.0           29.5  \n",
       "Czech Republic             11.4       5.5           11.7  \n",
       "Denmark                     6.6       8.0           25.6  \n",
       "Finland                     9.7       8.0           16.1  \n",
       "France                      6.7      13.6           21.4  \n",
       "Germany                     9.8      13.9           34.9  \n",
       "Greece                      8.7      22.0           25.6  \n",
       "Hungary                    20.7       6.6           27.6  \n",
       "Iceland                    16.9       5.4           36.6  \n",
       "Ireland                    13.5       8.6           24.0  \n",
       "Italy                       6.8       7.9           12.8  \n",
       "Japan                       3.7       NaN            NaN  \n",
       "Korea                       3.7       NaN            NaN  \n",
       "Luxembourg                  8.6      13.8           20.7  \n",
       "Mexico                     65.8       NaN            NaN  \n",
       "Netherlands                 4.7       8.5           39.7  \n",
       "New Zealand                23.4       NaN            NaN  \n",
       "Norway                      9.4       8.3           41.7  \n",
       "Poland                     14.5       9.6           21.1  \n",
       "Portugal                   18.1      14.1           22.8  \n",
       "Slovak Republic            20.0       NaN           13.0  \n",
       "Spain                       9.1       4.7           23.9  \n",
       "Sweden                      6.8       4.2           24.1  \n",
       "Switzerland                 4.5      12.1           27.3  \n",
       "Turkey                     39.7      25.3           57.4  \n",
       "United Kingdom             24.8       9.7           35.7  \n",
       "United States              49.8      11.9           26.4  \n",
       "\n",
       "[30 rows x 21 columns]"
      ]
     },
     "execution_count": 102,
     "metadata": {},
     "output_type": "execute_result"
    }
   ],
   "source": [
    "data.dropna()\n",
    "data"
   ]
  },
  {
   "cell_type": "markdown",
   "metadata": {},
   "source": [
    "### d) Entfernen Sie alle Messgrössen (Spalten), die mehr als zwei NaNs enthalten.\n",
    "thresh = 28, da wir 30 Zeilen/Länder haben --> 28 Werte müssen unterschiedlich von NaN sein."
   ]
  },
  {
   "cell_type": "code",
   "execution_count": 98,
   "metadata": {},
   "outputs": [
    {
     "data": {
      "text/html": [
       "<div>\n",
       "<style scoped>\n",
       "    .dataframe tbody tr th:only-of-type {\n",
       "        vertical-align: middle;\n",
       "    }\n",
       "\n",
       "    .dataframe tbody tr th {\n",
       "        vertical-align: top;\n",
       "    }\n",
       "\n",
       "    .dataframe thead th {\n",
       "        text-align: right;\n",
       "    }\n",
       "</style>\n",
       "<table border=\"1\" class=\"dataframe\">\n",
       "  <thead>\n",
       "    <tr style=\"text-align: right;\">\n",
       "      <th></th>\n",
       "      <th>Average.disposable.income</th>\n",
       "      <th>Children.in.poor.homes</th>\n",
       "      <th>Educational.Deprivation</th>\n",
       "      <th>Average.mean.literacy.score</th>\n",
       "      <th>Literacy.inequality</th>\n",
       "      <th>Low.birth.weight</th>\n",
       "      <th>Infant.mortality</th>\n",
       "      <th>Breastfeeding.rates</th>\n",
       "      <th>Vaccination.rates..pertussis.</th>\n",
       "      <th>Vaccination.rates.measles.</th>\n",
       "      <th>Mortality.rates</th>\n",
       "      <th>Suicide.rates</th>\n",
       "      <th>Teenage.births</th>\n",
       "    </tr>\n",
       "  </thead>\n",
       "  <tbody>\n",
       "    <tr>\n",
       "      <th>Australia</th>\n",
       "      <td>20.813221</td>\n",
       "      <td>11.791352</td>\n",
       "      <td>2.2</td>\n",
       "      <td>520.00</td>\n",
       "      <td>1.610349</td>\n",
       "      <td>6.4</td>\n",
       "      <td>5.0</td>\n",
       "      <td>92.0</td>\n",
       "      <td>92.2</td>\n",
       "      <td>94.0</td>\n",
       "      <td>23.66</td>\n",
       "      <td>8.512646</td>\n",
       "      <td>14.3</td>\n",
       "    </tr>\n",
       "    <tr>\n",
       "      <th>Austria</th>\n",
       "      <td>22.162446</td>\n",
       "      <td>6.166094</td>\n",
       "      <td>0.6</td>\n",
       "      <td>502.00</td>\n",
       "      <td>1.716942</td>\n",
       "      <td>6.8</td>\n",
       "      <td>4.2</td>\n",
       "      <td>96.0</td>\n",
       "      <td>83.0</td>\n",
       "      <td>74.0</td>\n",
       "      <td>24.57</td>\n",
       "      <td>9.482761</td>\n",
       "      <td>12.3</td>\n",
       "    </tr>\n",
       "    <tr>\n",
       "      <th>Belgium</th>\n",
       "      <td>21.401153</td>\n",
       "      <td>9.974720</td>\n",
       "      <td>1.0</td>\n",
       "      <td>510.33</td>\n",
       "      <td>1.740258</td>\n",
       "      <td>7.8</td>\n",
       "      <td>3.7</td>\n",
       "      <td>71.5</td>\n",
       "      <td>97.0</td>\n",
       "      <td>88.0</td>\n",
       "      <td>28.97</td>\n",
       "      <td>8.977713</td>\n",
       "      <td>7.8</td>\n",
       "    </tr>\n",
       "    <tr>\n",
       "      <th>Canada</th>\n",
       "      <td>25.606245</td>\n",
       "      <td>15.057585</td>\n",
       "      <td>2.1</td>\n",
       "      <td>529.33</td>\n",
       "      <td>1.573912</td>\n",
       "      <td>5.9</td>\n",
       "      <td>5.3</td>\n",
       "      <td>84.5</td>\n",
       "      <td>78.0</td>\n",
       "      <td>94.0</td>\n",
       "      <td>23.43</td>\n",
       "      <td>10.047535</td>\n",
       "      <td>13.2</td>\n",
       "    </tr>\n",
       "    <tr>\n",
       "      <th>Czech Republic</th>\n",
       "      <td>10.849270</td>\n",
       "      <td>10.270000</td>\n",
       "      <td>1.2</td>\n",
       "      <td>502.00</td>\n",
       "      <td>1.743012</td>\n",
       "      <td>6.7</td>\n",
       "      <td>3.4</td>\n",
       "      <td>95.6</td>\n",
       "      <td>98.7</td>\n",
       "      <td>96.6</td>\n",
       "      <td>24.92</td>\n",
       "      <td>6.212492</td>\n",
       "      <td>11.4</td>\n",
       "    </tr>\n",
       "    <tr>\n",
       "      <th>Denmark</th>\n",
       "      <td>23.175894</td>\n",
       "      <td>2.740000</td>\n",
       "      <td>0.7</td>\n",
       "      <td>501.00</td>\n",
       "      <td>1.594974</td>\n",
       "      <td>4.9</td>\n",
       "      <td>4.4</td>\n",
       "      <td>98.0</td>\n",
       "      <td>95.0</td>\n",
       "      <td>96.0</td>\n",
       "      <td>22.93</td>\n",
       "      <td>5.942231</td>\n",
       "      <td>6.6</td>\n",
       "    </tr>\n",
       "    <tr>\n",
       "      <th>Finland</th>\n",
       "      <td>22.027651</td>\n",
       "      <td>4.170000</td>\n",
       "      <td>1.0</td>\n",
       "      <td>552.67</td>\n",
       "      <td>1.475432</td>\n",
       "      <td>4.1</td>\n",
       "      <td>3.0</td>\n",
       "      <td>93.0</td>\n",
       "      <td>97.0</td>\n",
       "      <td>97.0</td>\n",
       "      <td>23.54</td>\n",
       "      <td>12.158687</td>\n",
       "      <td>9.7</td>\n",
       "    </tr>\n",
       "    <tr>\n",
       "      <th>France</th>\n",
       "      <td>18.960382</td>\n",
       "      <td>7.640000</td>\n",
       "      <td>1.2</td>\n",
       "      <td>493.00</td>\n",
       "      <td>1.728004</td>\n",
       "      <td>6.8</td>\n",
       "      <td>3.6</td>\n",
       "      <td>63.0</td>\n",
       "      <td>98.0</td>\n",
       "      <td>87.1</td>\n",
       "      <td>21.04</td>\n",
       "      <td>4.906704</td>\n",
       "      <td>6.7</td>\n",
       "    </tr>\n",
       "    <tr>\n",
       "      <th>Germany</th>\n",
       "      <td>19.894067</td>\n",
       "      <td>16.289270</td>\n",
       "      <td>0.5</td>\n",
       "      <td>505.00</td>\n",
       "      <td>1.719702</td>\n",
       "      <td>6.8</td>\n",
       "      <td>3.9</td>\n",
       "      <td>96.0</td>\n",
       "      <td>97.8</td>\n",
       "      <td>94.0</td>\n",
       "      <td>21.23</td>\n",
       "      <td>5.507378</td>\n",
       "      <td>9.8</td>\n",
       "    </tr>\n",
       "    <tr>\n",
       "      <th>Greece</th>\n",
       "      <td>17.183647</td>\n",
       "      <td>13.230296</td>\n",
       "      <td>6.1</td>\n",
       "      <td>464.00</td>\n",
       "      <td>1.722499</td>\n",
       "      <td>8.8</td>\n",
       "      <td>3.8</td>\n",
       "      <td>79.0</td>\n",
       "      <td>88.0</td>\n",
       "      <td>88.0</td>\n",
       "      <td>23.15</td>\n",
       "      <td>1.263026</td>\n",
       "      <td>8.7</td>\n",
       "    </tr>\n",
       "    <tr>\n",
       "      <th>Hungary</th>\n",
       "      <td>9.463130</td>\n",
       "      <td>8.724203</td>\n",
       "      <td>2.1</td>\n",
       "      <td>492.33</td>\n",
       "      <td>1.620710</td>\n",
       "      <td>8.2</td>\n",
       "      <td>6.2</td>\n",
       "      <td>95.8</td>\n",
       "      <td>99.8</td>\n",
       "      <td>99.8</td>\n",
       "      <td>25.75</td>\n",
       "      <td>6.806580</td>\n",
       "      <td>20.7</td>\n",
       "    </tr>\n",
       "    <tr>\n",
       "      <th>Iceland</th>\n",
       "      <td>22.286852</td>\n",
       "      <td>8.250000</td>\n",
       "      <td>0.4</td>\n",
       "      <td>493.67</td>\n",
       "      <td>1.654064</td>\n",
       "      <td>3.9</td>\n",
       "      <td>2.3</td>\n",
       "      <td>98.0</td>\n",
       "      <td>97.0</td>\n",
       "      <td>94.0</td>\n",
       "      <td>16.95</td>\n",
       "      <td>7.841312</td>\n",
       "      <td>16.9</td>\n",
       "    </tr>\n",
       "    <tr>\n",
       "      <th>Ireland</th>\n",
       "      <td>22.364689</td>\n",
       "      <td>16.299416</td>\n",
       "      <td>2.9</td>\n",
       "      <td>508.67</td>\n",
       "      <td>1.590217</td>\n",
       "      <td>4.9</td>\n",
       "      <td>4.0</td>\n",
       "      <td>41.0</td>\n",
       "      <td>90.0</td>\n",
       "      <td>84.0</td>\n",
       "      <td>21.97</td>\n",
       "      <td>9.517063</td>\n",
       "      <td>13.5</td>\n",
       "    </tr>\n",
       "    <tr>\n",
       "      <th>Italy</th>\n",
       "      <td>17.180761</td>\n",
       "      <td>15.500000</td>\n",
       "      <td>1.2</td>\n",
       "      <td>468.67</td>\n",
       "      <td>1.752955</td>\n",
       "      <td>6.7</td>\n",
       "      <td>4.7</td>\n",
       "      <td>81.1</td>\n",
       "      <td>94.7</td>\n",
       "      <td>87.3</td>\n",
       "      <td>21.76</td>\n",
       "      <td>2.437998</td>\n",
       "      <td>6.8</td>\n",
       "    </tr>\n",
       "    <tr>\n",
       "      <th>Japan</th>\n",
       "      <td>22.479705</td>\n",
       "      <td>13.688033</td>\n",
       "      <td>5.6</td>\n",
       "      <td>517.33</td>\n",
       "      <td>1.652194</td>\n",
       "      <td>9.5</td>\n",
       "      <td>2.8</td>\n",
       "      <td>96.6</td>\n",
       "      <td>93.0</td>\n",
       "      <td>94.0</td>\n",
       "      <td>18.23</td>\n",
       "      <td>7.728493</td>\n",
       "      <td>3.7</td>\n",
       "    </tr>\n",
       "    <tr>\n",
       "      <th>Korea</th>\n",
       "      <td>21.651918</td>\n",
       "      <td>10.746834</td>\n",
       "      <td>1.8</td>\n",
       "      <td>541.67</td>\n",
       "      <td>1.545777</td>\n",
       "      <td>4.3</td>\n",
       "      <td>5.3</td>\n",
       "      <td>81.3</td>\n",
       "      <td>97.0</td>\n",
       "      <td>90.2</td>\n",
       "      <td>22.36</td>\n",
       "      <td>6.784772</td>\n",
       "      <td>3.7</td>\n",
       "    </tr>\n",
       "    <tr>\n",
       "      <th>Luxembourg</th>\n",
       "      <td>34.241822</td>\n",
       "      <td>12.390000</td>\n",
       "      <td>1.1</td>\n",
       "      <td>485.00</td>\n",
       "      <td>1.701361</td>\n",
       "      <td>4.9</td>\n",
       "      <td>2.6</td>\n",
       "      <td>88.0</td>\n",
       "      <td>NaN</td>\n",
       "      <td>NaN</td>\n",
       "      <td>14.84</td>\n",
       "      <td>6.357194</td>\n",
       "      <td>8.6</td>\n",
       "    </tr>\n",
       "    <tr>\n",
       "      <th>Mexico</th>\n",
       "      <td>5.335074</td>\n",
       "      <td>22.164514</td>\n",
       "      <td>13.7</td>\n",
       "      <td>408.67</td>\n",
       "      <td>1.755798</td>\n",
       "      <td>8.8</td>\n",
       "      <td>18.8</td>\n",
       "      <td>92.0</td>\n",
       "      <td>98.1</td>\n",
       "      <td>96.4</td>\n",
       "      <td>50.23</td>\n",
       "      <td>5.128754</td>\n",
       "      <td>65.8</td>\n",
       "    </tr>\n",
       "    <tr>\n",
       "      <th>Netherlands</th>\n",
       "      <td>25.041012</td>\n",
       "      <td>11.526755</td>\n",
       "      <td>0.6</td>\n",
       "      <td>521.00</td>\n",
       "      <td>1.614444</td>\n",
       "      <td>6.2</td>\n",
       "      <td>4.9</td>\n",
       "      <td>79.0</td>\n",
       "      <td>95.8</td>\n",
       "      <td>96.3</td>\n",
       "      <td>20.49</td>\n",
       "      <td>3.496134</td>\n",
       "      <td>4.7</td>\n",
       "    </tr>\n",
       "    <tr>\n",
       "      <th>New Zealand</th>\n",
       "      <td>17.197108</td>\n",
       "      <td>15.000000</td>\n",
       "      <td>2.2</td>\n",
       "      <td>524.33</td>\n",
       "      <td>1.676001</td>\n",
       "      <td>6.1</td>\n",
       "      <td>5.1</td>\n",
       "      <td>87.8</td>\n",
       "      <td>88.6</td>\n",
       "      <td>82.0</td>\n",
       "      <td>32.05</td>\n",
       "      <td>15.949567</td>\n",
       "      <td>23.4</td>\n",
       "    </tr>\n",
       "    <tr>\n",
       "      <th>Norway</th>\n",
       "      <td>28.574371</td>\n",
       "      <td>4.600000</td>\n",
       "      <td>1.3</td>\n",
       "      <td>487.00</td>\n",
       "      <td>1.692809</td>\n",
       "      <td>4.8</td>\n",
       "      <td>3.1</td>\n",
       "      <td>99.0</td>\n",
       "      <td>91.0</td>\n",
       "      <td>88.0</td>\n",
       "      <td>21.49</td>\n",
       "      <td>10.094030</td>\n",
       "      <td>9.4</td>\n",
       "    </tr>\n",
       "    <tr>\n",
       "      <th>Poland</th>\n",
       "      <td>7.939399</td>\n",
       "      <td>21.500000</td>\n",
       "      <td>2.1</td>\n",
       "      <td>500.33</td>\n",
       "      <td>1.632217</td>\n",
       "      <td>6.1</td>\n",
       "      <td>6.4</td>\n",
       "      <td>NaN</td>\n",
       "      <td>99.0</td>\n",
       "      <td>97.0</td>\n",
       "      <td>28.13</td>\n",
       "      <td>8.863713</td>\n",
       "      <td>14.5</td>\n",
       "    </tr>\n",
       "    <tr>\n",
       "      <th>Portugal</th>\n",
       "      <td>3.839462</td>\n",
       "      <td>16.550398</td>\n",
       "      <td>1.4</td>\n",
       "      <td>470.67</td>\n",
       "      <td>1.689477</td>\n",
       "      <td>7.5</td>\n",
       "      <td>3.5</td>\n",
       "      <td>91.0</td>\n",
       "      <td>93.3</td>\n",
       "      <td>92.7</td>\n",
       "      <td>34.60</td>\n",
       "      <td>2.430484</td>\n",
       "      <td>18.1</td>\n",
       "    </tr>\n",
       "    <tr>\n",
       "      <th>Slovak Republic</th>\n",
       "      <td>7.797596</td>\n",
       "      <td>10.930000</td>\n",
       "      <td>3.8</td>\n",
       "      <td>482.00</td>\n",
       "      <td>1.712179</td>\n",
       "      <td>7.2</td>\n",
       "      <td>7.2</td>\n",
       "      <td>87.0</td>\n",
       "      <td>99.2</td>\n",
       "      <td>99.5</td>\n",
       "      <td>30.15</td>\n",
       "      <td>5.036520</td>\n",
       "      <td>20.0</td>\n",
       "    </tr>\n",
       "    <tr>\n",
       "      <th>Spain</th>\n",
       "      <td>16.430249</td>\n",
       "      <td>17.300000</td>\n",
       "      <td>0.9</td>\n",
       "      <td>476.33</td>\n",
       "      <td>1.636259</td>\n",
       "      <td>7.1</td>\n",
       "      <td>4.1</td>\n",
       "      <td>71.0</td>\n",
       "      <td>96.2</td>\n",
       "      <td>96.8</td>\n",
       "      <td>23.49</td>\n",
       "      <td>2.599717</td>\n",
       "      <td>9.1</td>\n",
       "    </tr>\n",
       "    <tr>\n",
       "      <th>Sweden</th>\n",
       "      <td>19.916998</td>\n",
       "      <td>3.969106</td>\n",
       "      <td>1.6</td>\n",
       "      <td>504.00</td>\n",
       "      <td>1.630063</td>\n",
       "      <td>4.2</td>\n",
       "      <td>2.4</td>\n",
       "      <td>97.6</td>\n",
       "      <td>99.0</td>\n",
       "      <td>95.0</td>\n",
       "      <td>19.27</td>\n",
       "      <td>6.783234</td>\n",
       "      <td>6.8</td>\n",
       "    </tr>\n",
       "    <tr>\n",
       "      <th>Switzerland</th>\n",
       "      <td>24.651815</td>\n",
       "      <td>9.433293</td>\n",
       "      <td>0.7</td>\n",
       "      <td>513.67</td>\n",
       "      <td>1.650385</td>\n",
       "      <td>7.0</td>\n",
       "      <td>4.2</td>\n",
       "      <td>92.0</td>\n",
       "      <td>96.0</td>\n",
       "      <td>86.0</td>\n",
       "      <td>20.33</td>\n",
       "      <td>7.280508</td>\n",
       "      <td>4.5</td>\n",
       "    </tr>\n",
       "    <tr>\n",
       "      <th>Turkey</th>\n",
       "      <td>5.071860</td>\n",
       "      <td>24.590000</td>\n",
       "      <td>13.6</td>\n",
       "      <td>431.67</td>\n",
       "      <td>1.704249</td>\n",
       "      <td>11.3</td>\n",
       "      <td>23.6</td>\n",
       "      <td>96.8</td>\n",
       "      <td>90.0</td>\n",
       "      <td>91.0</td>\n",
       "      <td>NaN</td>\n",
       "      <td>NaN</td>\n",
       "      <td>39.7</td>\n",
       "    </tr>\n",
       "    <tr>\n",
       "      <th>United Kingdom</th>\n",
       "      <td>22.697062</td>\n",
       "      <td>10.080000</td>\n",
       "      <td>1.8</td>\n",
       "      <td>501.67</td>\n",
       "      <td>1.690351</td>\n",
       "      <td>7.5</td>\n",
       "      <td>5.1</td>\n",
       "      <td>77.0</td>\n",
       "      <td>91.4</td>\n",
       "      <td>83.8</td>\n",
       "      <td>21.17</td>\n",
       "      <td>2.987869</td>\n",
       "      <td>24.8</td>\n",
       "    </tr>\n",
       "    <tr>\n",
       "      <th>United States</th>\n",
       "      <td>29.196531</td>\n",
       "      <td>20.593932</td>\n",
       "      <td>4.8</td>\n",
       "      <td>481.50</td>\n",
       "      <td>1.725965</td>\n",
       "      <td>8.1</td>\n",
       "      <td>6.8</td>\n",
       "      <td>74.2</td>\n",
       "      <td>85.7</td>\n",
       "      <td>91.5</td>\n",
       "      <td>32.67</td>\n",
       "      <td>7.696773</td>\n",
       "      <td>49.8</td>\n",
       "    </tr>\n",
       "  </tbody>\n",
       "</table>\n",
       "</div>"
      ],
      "text/plain": [
       "                 Average.disposable.income  Children.in.poor.homes  \\\n",
       "Australia                        20.813221               11.791352   \n",
       "Austria                          22.162446                6.166094   \n",
       "Belgium                          21.401153                9.974720   \n",
       "Canada                           25.606245               15.057585   \n",
       "Czech Republic                   10.849270               10.270000   \n",
       "Denmark                          23.175894                2.740000   \n",
       "Finland                          22.027651                4.170000   \n",
       "France                           18.960382                7.640000   \n",
       "Germany                          19.894067               16.289270   \n",
       "Greece                           17.183647               13.230296   \n",
       "Hungary                           9.463130                8.724203   \n",
       "Iceland                          22.286852                8.250000   \n",
       "Ireland                          22.364689               16.299416   \n",
       "Italy                            17.180761               15.500000   \n",
       "Japan                            22.479705               13.688033   \n",
       "Korea                            21.651918               10.746834   \n",
       "Luxembourg                       34.241822               12.390000   \n",
       "Mexico                            5.335074               22.164514   \n",
       "Netherlands                      25.041012               11.526755   \n",
       "New Zealand                      17.197108               15.000000   \n",
       "Norway                           28.574371                4.600000   \n",
       "Poland                            7.939399               21.500000   \n",
       "Portugal                          3.839462               16.550398   \n",
       "Slovak Republic                   7.797596               10.930000   \n",
       "Spain                            16.430249               17.300000   \n",
       "Sweden                           19.916998                3.969106   \n",
       "Switzerland                      24.651815                9.433293   \n",
       "Turkey                            5.071860               24.590000   \n",
       "United Kingdom                   22.697062               10.080000   \n",
       "United States                    29.196531               20.593932   \n",
       "\n",
       "                 Educational.Deprivation  Average.mean.literacy.score  \\\n",
       "Australia                            2.2                       520.00   \n",
       "Austria                              0.6                       502.00   \n",
       "Belgium                              1.0                       510.33   \n",
       "Canada                               2.1                       529.33   \n",
       "Czech Republic                       1.2                       502.00   \n",
       "Denmark                              0.7                       501.00   \n",
       "Finland                              1.0                       552.67   \n",
       "France                               1.2                       493.00   \n",
       "Germany                              0.5                       505.00   \n",
       "Greece                               6.1                       464.00   \n",
       "Hungary                              2.1                       492.33   \n",
       "Iceland                              0.4                       493.67   \n",
       "Ireland                              2.9                       508.67   \n",
       "Italy                                1.2                       468.67   \n",
       "Japan                                5.6                       517.33   \n",
       "Korea                                1.8                       541.67   \n",
       "Luxembourg                           1.1                       485.00   \n",
       "Mexico                              13.7                       408.67   \n",
       "Netherlands                          0.6                       521.00   \n",
       "New Zealand                          2.2                       524.33   \n",
       "Norway                               1.3                       487.00   \n",
       "Poland                               2.1                       500.33   \n",
       "Portugal                             1.4                       470.67   \n",
       "Slovak Republic                      3.8                       482.00   \n",
       "Spain                                0.9                       476.33   \n",
       "Sweden                               1.6                       504.00   \n",
       "Switzerland                          0.7                       513.67   \n",
       "Turkey                              13.6                       431.67   \n",
       "United Kingdom                       1.8                       501.67   \n",
       "United States                        4.8                       481.50   \n",
       "\n",
       "                 Literacy.inequality  Low.birth.weight  Infant.mortality  \\\n",
       "Australia                   1.610349               6.4               5.0   \n",
       "Austria                     1.716942               6.8               4.2   \n",
       "Belgium                     1.740258               7.8               3.7   \n",
       "Canada                      1.573912               5.9               5.3   \n",
       "Czech Republic              1.743012               6.7               3.4   \n",
       "Denmark                     1.594974               4.9               4.4   \n",
       "Finland                     1.475432               4.1               3.0   \n",
       "France                      1.728004               6.8               3.6   \n",
       "Germany                     1.719702               6.8               3.9   \n",
       "Greece                      1.722499               8.8               3.8   \n",
       "Hungary                     1.620710               8.2               6.2   \n",
       "Iceland                     1.654064               3.9               2.3   \n",
       "Ireland                     1.590217               4.9               4.0   \n",
       "Italy                       1.752955               6.7               4.7   \n",
       "Japan                       1.652194               9.5               2.8   \n",
       "Korea                       1.545777               4.3               5.3   \n",
       "Luxembourg                  1.701361               4.9               2.6   \n",
       "Mexico                      1.755798               8.8              18.8   \n",
       "Netherlands                 1.614444               6.2               4.9   \n",
       "New Zealand                 1.676001               6.1               5.1   \n",
       "Norway                      1.692809               4.8               3.1   \n",
       "Poland                      1.632217               6.1               6.4   \n",
       "Portugal                    1.689477               7.5               3.5   \n",
       "Slovak Republic             1.712179               7.2               7.2   \n",
       "Spain                       1.636259               7.1               4.1   \n",
       "Sweden                      1.630063               4.2               2.4   \n",
       "Switzerland                 1.650385               7.0               4.2   \n",
       "Turkey                      1.704249              11.3              23.6   \n",
       "United Kingdom              1.690351               7.5               5.1   \n",
       "United States               1.725965               8.1               6.8   \n",
       "\n",
       "                 Breastfeeding.rates  Vaccination.rates..pertussis.  \\\n",
       "Australia                       92.0                           92.2   \n",
       "Austria                         96.0                           83.0   \n",
       "Belgium                         71.5                           97.0   \n",
       "Canada                          84.5                           78.0   \n",
       "Czech Republic                  95.6                           98.7   \n",
       "Denmark                         98.0                           95.0   \n",
       "Finland                         93.0                           97.0   \n",
       "France                          63.0                           98.0   \n",
       "Germany                         96.0                           97.8   \n",
       "Greece                          79.0                           88.0   \n",
       "Hungary                         95.8                           99.8   \n",
       "Iceland                         98.0                           97.0   \n",
       "Ireland                         41.0                           90.0   \n",
       "Italy                           81.1                           94.7   \n",
       "Japan                           96.6                           93.0   \n",
       "Korea                           81.3                           97.0   \n",
       "Luxembourg                      88.0                            NaN   \n",
       "Mexico                          92.0                           98.1   \n",
       "Netherlands                     79.0                           95.8   \n",
       "New Zealand                     87.8                           88.6   \n",
       "Norway                          99.0                           91.0   \n",
       "Poland                           NaN                           99.0   \n",
       "Portugal                        91.0                           93.3   \n",
       "Slovak Republic                 87.0                           99.2   \n",
       "Spain                           71.0                           96.2   \n",
       "Sweden                          97.6                           99.0   \n",
       "Switzerland                     92.0                           96.0   \n",
       "Turkey                          96.8                           90.0   \n",
       "United Kingdom                  77.0                           91.4   \n",
       "United States                   74.2                           85.7   \n",
       "\n",
       "                 Vaccination.rates.measles.  Mortality.rates  Suicide.rates  \\\n",
       "Australia                              94.0            23.66       8.512646   \n",
       "Austria                                74.0            24.57       9.482761   \n",
       "Belgium                                88.0            28.97       8.977713   \n",
       "Canada                                 94.0            23.43      10.047535   \n",
       "Czech Republic                         96.6            24.92       6.212492   \n",
       "Denmark                                96.0            22.93       5.942231   \n",
       "Finland                                97.0            23.54      12.158687   \n",
       "France                                 87.1            21.04       4.906704   \n",
       "Germany                                94.0            21.23       5.507378   \n",
       "Greece                                 88.0            23.15       1.263026   \n",
       "Hungary                                99.8            25.75       6.806580   \n",
       "Iceland                                94.0            16.95       7.841312   \n",
       "Ireland                                84.0            21.97       9.517063   \n",
       "Italy                                  87.3            21.76       2.437998   \n",
       "Japan                                  94.0            18.23       7.728493   \n",
       "Korea                                  90.2            22.36       6.784772   \n",
       "Luxembourg                              NaN            14.84       6.357194   \n",
       "Mexico                                 96.4            50.23       5.128754   \n",
       "Netherlands                            96.3            20.49       3.496134   \n",
       "New Zealand                            82.0            32.05      15.949567   \n",
       "Norway                                 88.0            21.49      10.094030   \n",
       "Poland                                 97.0            28.13       8.863713   \n",
       "Portugal                               92.7            34.60       2.430484   \n",
       "Slovak Republic                        99.5            30.15       5.036520   \n",
       "Spain                                  96.8            23.49       2.599717   \n",
       "Sweden                                 95.0            19.27       6.783234   \n",
       "Switzerland                            86.0            20.33       7.280508   \n",
       "Turkey                                 91.0              NaN            NaN   \n",
       "United Kingdom                         83.8            21.17       2.987869   \n",
       "United States                          91.5            32.67       7.696773   \n",
       "\n",
       "                 Teenage.births  \n",
       "Australia                  14.3  \n",
       "Austria                    12.3  \n",
       "Belgium                     7.8  \n",
       "Canada                     13.2  \n",
       "Czech Republic             11.4  \n",
       "Denmark                     6.6  \n",
       "Finland                     9.7  \n",
       "France                      6.7  \n",
       "Germany                     9.8  \n",
       "Greece                      8.7  \n",
       "Hungary                    20.7  \n",
       "Iceland                    16.9  \n",
       "Ireland                    13.5  \n",
       "Italy                       6.8  \n",
       "Japan                       3.7  \n",
       "Korea                       3.7  \n",
       "Luxembourg                  8.6  \n",
       "Mexico                     65.8  \n",
       "Netherlands                 4.7  \n",
       "New Zealand                23.4  \n",
       "Norway                      9.4  \n",
       "Poland                     14.5  \n",
       "Portugal                   18.1  \n",
       "Slovak Republic            20.0  \n",
       "Spain                       9.1  \n",
       "Sweden                      6.8  \n",
       "Switzerland                 4.5  \n",
       "Turkey                     39.7  \n",
       "United Kingdom             24.8  \n",
       "United States              49.8  "
      ]
     },
     "execution_count": 98,
     "metadata": {},
     "output_type": "execute_result"
    }
   ],
   "source": [
    "data2 = data.dropna(axis=1, thresh=28)\n",
    "data2"
   ]
  },
  {
   "cell_type": "code",
   "execution_count": 100,
   "metadata": {},
   "outputs": [
    {
     "data": {
      "text/plain": [
       "(30, 13)"
      ]
     },
     "execution_count": 100,
     "metadata": {},
     "output_type": "execute_result"
    }
   ],
   "source": [
    "data2.shape"
   ]
  },
  {
   "cell_type": "markdown",
   "metadata": {},
   "source": [
    "von 30, 21 --> 30, 13"
   ]
  },
  {
   "cell_type": "markdown",
   "metadata": {},
   "source": [
    "### e) Ersetzen Sie nun alle NaNs mit gewissen Werten, und zwar mit Hilfe einer Methode Ihrer Wahl. Erklären Sie die von Ihnen benützte Methode."
   ]
  },
  {
   "cell_type": "markdown",
   "metadata": {},
   "source": [
    "Im Falle von kategorialen Variablen (Variablen für unterschiedliche Gruppen) ersetzt man den Wert durch den häufigsten Wert (Modus). Diese Imputationstechnik funktioniert gut, wenn die Werte völlig zufällig fehlen."
   ]
  },
  {
   "cell_type": "markdown",
   "metadata": {},
   "source": [
    "Mit **KNN(k).fit_transform(data)** werden die fehlenden Werte aufgrund der k nächstliegenden Werte (Nachbarn) ersetzt. Die Anzahl k der zu betrachtenden nächsten Nachbarn muss festgelegt werden. Standardmässig werden alle k Werte gleich (uniform) zur Berechnung des Ersatzwertes gewichtet. Es gibt aber auch andere Gewichtungsmethoden.</p>"
   ]
  },
  {
   "cell_type": "code",
   "execution_count": 108,
   "metadata": {},
   "outputs": [
    {
     "ename": "ModuleNotFoundError",
     "evalue": "No module named 'fancyimpute'",
     "output_type": "error",
     "traceback": [
      "\u001b[1;31m---------------------------------------------------------------------------\u001b[0m",
      "\u001b[1;31mModuleNotFoundError\u001b[0m                       Traceback (most recent call last)",
      "\u001b[1;32m<ipython-input-108-c36f321c3e54>\u001b[0m in \u001b[0;36m<module>\u001b[1;34m\u001b[0m\n\u001b[0;32m      1\u001b[0m \u001b[1;32mfrom\u001b[0m \u001b[0msklearn\u001b[0m\u001b[1;33m.\u001b[0m\u001b[0mpreprocessing\u001b[0m \u001b[1;32mimport\u001b[0m \u001b[0mImputer\u001b[0m\u001b[1;33m\u001b[0m\u001b[1;33m\u001b[0m\u001b[0m\n\u001b[1;32m----> 2\u001b[1;33m \u001b[1;32mfrom\u001b[0m \u001b[0mfancyimpute\u001b[0m \u001b[1;32mimport\u001b[0m \u001b[0mKNN\u001b[0m\u001b[1;33m\u001b[0m\u001b[1;33m\u001b[0m\u001b[0m\n\u001b[0m\u001b[0;32m      3\u001b[0m \u001b[0mvalues\u001b[0m \u001b[1;33m=\u001b[0m \u001b[0mdata\u001b[0m\u001b[1;33m.\u001b[0m\u001b[0mvalues\u001b[0m\u001b[1;33m\u001b[0m\u001b[1;33m\u001b[0m\u001b[0m\n\u001b[0;32m      4\u001b[0m \u001b[0mdata_imputed\u001b[0m \u001b[1;33m=\u001b[0m \u001b[0mDataFrame\u001b[0m\u001b[1;33m(\u001b[0m\u001b[0mKNN\u001b[0m\u001b[1;33m(\u001b[0m\u001b[0mk\u001b[0m\u001b[1;33m=\u001b[0m\u001b[1;36m3\u001b[0m\u001b[1;33m)\u001b[0m\u001b[1;33m.\u001b[0m\u001b[0mfit_transform\u001b[0m\u001b[1;33m(\u001b[0m\u001b[0mvalues\u001b[0m\u001b[1;33m)\u001b[0m\u001b[1;33m)\u001b[0m\u001b[1;33m\u001b[0m\u001b[1;33m\u001b[0m\u001b[0m\n\u001b[0;32m      5\u001b[0m \u001b[0mdata_imputed\u001b[0m\u001b[1;33m\u001b[0m\u001b[1;33m\u001b[0m\u001b[0m\n",
      "\u001b[1;31mModuleNotFoundError\u001b[0m: No module named 'fancyimpute'"
     ]
    }
   ],
   "source": [
    "from sklearn.preprocessing import Imputer\n",
    "from fancyimpute import KNN\n",
    "values = data.values\n",
    "data_imputed = DataFrame(KNN(k=3).fit_transform(values))\n",
    "data_imputeda"
   ]
  },
  {
   "cell_type": "code",
   "execution_count": null,
   "metadata": {},
   "outputs": [],
   "source": []
  },
  {
   "cell_type": "markdown",
   "metadata": {},
   "source": [
    "### f) Warum fehlen Datenwerte? Handelt es sich wohl um MCAR, MAR oder MNAR?"
   ]
  },
  {
   "cell_type": "markdown",
   "metadata": {},
   "source": [
    "Gehen wir davon aus, dass OECD Staaten nichts zu verbergen haben, so dürfen wir MAR annehmen.<br><br>\n",
    "> wie auch immer der Dozent auf dies kommt...."
   ]
  },
  {
   "cell_type": "code",
   "execution_count": null,
   "metadata": {},
   "outputs": [],
   "source": []
  }
 ],
 "metadata": {
  "kernelspec": {
   "display_name": "Python 3",
   "language": "python",
   "name": "python3"
  },
  "language_info": {
   "codemirror_mode": {
    "name": "ipython",
    "version": 3
   },
   "file_extension": ".py",
   "mimetype": "text/x-python",
   "name": "python",
   "nbconvert_exporter": "python",
   "pygments_lexer": "ipython3",
   "version": "3.7.3"
  }
 },
 "nbformat": 4,
 "nbformat_minor": 2
}
