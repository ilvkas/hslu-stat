{
 "cells": [
  {
   "cell_type": "markdown",
   "metadata": {},
   "source": [
    "## Wichtigste Übungsaufgaben:\n",
    "* 4.1 \n",
    "  * a\n",
    "  * b\n",
    "* 4.3\n",
    "* 4.4\n",
    "* 4.5\n",
    "---\n",
    "# Aufgabe 4.1\n",
    "### a) Gegeben sind zwei unabhängige Zufallsvariable X und Y mit den Kennwerten $μ_X = 40$, $\\sigma_X = 15$, $μ_Y = 85$ und $\\sigma_Y = 18$. Berechnen Sie $E(X +2Y)$, $Var(X +2Y)$ und $E(X^2)$."
   ]
  },
  {
   "cell_type": "markdown",
   "metadata": {},
   "source": [
    "Ich schliesse auf:<br>\n",
    "<center>$\\mu_x = E(X) = 40$ & $\\sigma_X = 15$ => $VAR(X) = \\sigma^2_X = 15^2$</center>\n",
    "<center>$\\mu_y = E(Y) = 85$ & $\\sigma_Y = 18$ => $VAR(Y) = \\sigma^2_Y = 18^2$</center>\n",
    "<br>\n",
    "Berechnung $E(X^2)$ \n",
    "$$ VAR(X) = E(X^2) - E(X)^2$$\n",
    "$$ 15^2 = E(X^2) - 40^2$$\n",
    "$$E(X^2) = 1825$$\n",
    "<br>\n",
    "Berechnung $E(X+2Y)$ <br />\n",
    "$$E(X+2Y) = E(X) + E(2Y)$$\n",
    "$$E(X+2Y) = 40 + 2*85$$\n",
    "$$E(X+2Y) = 210$$\n",
    "<br>\n",
    "Berechnung $VAR(X+2Y)$ <br />\n",
    "$$VAR(X+2Y) = VAR(X) + VAR(2Y)$$\n",
    "$$VAR(X+2Y) = 15^2 + 2*(18^2)$$\n",
    "$$VAR(X+2Y) = 873$$\n",
    "<center>oder</center>\n",
    "$$ VAR(X+2Y) = 2^2VAR(Y)$$\n"
   ]
  },
  {
   "cell_type": "markdown",
   "metadata": {},
   "source": [
    "### b) Ein Werk produziert rechteckige Glasscheiben, deren Länge X und Breite Y (in mm gemessen) voneinander unabhängig produktionsbedingten Schwankungen unterliegen. Es gilt $μ_X = 1000$, $s_X = 0.02$, $μ_Y = 500$, $s_Y = 0.01$. Wie gross sind Erwartungswert und Standardabweichung des Umfangs U?"
   ]
  },
  {
   "cell_type": "markdown",
   "metadata": {},
   "source": [
    "$$U = 2*l + 2*b = 2(l+b)$$<br>\n",
    "$E(S_n) = n\\mu$ n in unserem Fall 2 (je einmal für Länge und dann gleiches Bsp. für Breite\n",
    "$$E(S_{nX}) = n\\mu = 2 * 1000 = 2000$$\n",
    "$$E(S_{nY}) = n\\mu = 2 * 500 = 1000$$\n",
    "$$E(S_U) = E(S_{nX}) + E(S_{nY}) = 3000$$<br>\n",
    "Gleiches Beispiel für $\\sigma$\n",
    "$$\\sigma(S_n) = \\sqrt{n}\\sigma_x$$\n",
    "$$\\sigma(S_nX) = \\sqrt{2}0.02 = 0.02828$$\n",
    "$$\\sigma(S_nY) = \\sqrt{2}0.01 = 0.01414$$\n",
    "$$\\sigma(S_U) = \\sigma(S_nX) + \\sigma(S_nY) = 0.4242$$"
   ]
  },
  {
   "cell_type": "markdown",
   "metadata": {},
   "source": [
    "### c) (Zusatzaufgabe) Bestimmen Sie die Wahrscheinlichkeitsdichte fX(x) der Zufallsvariablen X = Z2, wobei Z ∼ N(0, 1)."
   ]
  },
  {
   "cell_type": "markdown",
   "metadata": {},
   "source": [
    "---\n",
    "# Aufgabe 4.2\n",
    "Erzeugen Siemit norm.rvs()m = 500 Stichproben aus einer Standardnormalverteilung mit Umfang n = 5. Speichern Sie die Stichproben als (n × m)− Matrix ab. <br>Python-Hinweis:<br>\n",
    "`import matplotlib.pyplot as plt\n",
    "from scipy.stats import norm\n",
    "import numpy as np\n",
    "n = 5\n",
    "m = 500\n",
    "ran = np.array(norm.rvs(size=n*m))\n",
    "sim = ran.reshape((n,m))`\n",
    "### a) Stellen Sie die Stichproben als Runs graphisch dar, und staunen Sie über die zahlreichen möglichen Verläufe.\n",
    "`plt.plot(sim)\n",
    "plt.show()`"
   ]
  },
  {
   "cell_type": "markdown",
   "metadata": {},
   "source": [
    "### b) Berechnen Sie nun für jede Stichprobe den Mittelwert x, und erzeugen Sie ein Histogramm der Mittelwerte. Aus der Theorie wissen Sie, dass die Mittelwerte normalverteilt mit Parameter μ = 0 und Standardabweichung s = 1 √n sein müssten. Überprüfen Sie dies graphisch mit Hilfe von Histogrammen und der theoretischen Wahrscheinlichkeitsdichtekurve\n",
    "`plt.hist(sim.T, bins=20, density=True, edgecolor=\"black\",\n",
    "facecolor=\"white\")\n",
    "x = np.linspace(-4, 4, num=100)\n",
    "y = norm.pdf(x)\n",
    "plt.plot(x,y)\n",
    "plt.title(\"Histogramm sim\")\n",
    "plt.show()\n",
    "sim_mean = sim.mean(axis=0)\n",
    "plt.hist(sim_mean, density=True, edgecolor=\"black\",\n",
    "facecolor=\"white\")\n",
    "x = np.linspace(-4, 4, num=100)\n",
    "y = norm.pdf(x, loc=0, scale=1/np.sqrt(n))\n",
    "plt.plot(x,y)\n",
    "plt.title(\"Histogramm sim_mean\")\n",
    "plt.show()`"
   ]
  },
  {
   "cell_type": "markdown",
   "metadata": {},
   "source": [
    "### c) Wiederholen Sie die Aufgabe für n = 2, 10, 100."
   ]
  },
  {
   "cell_type": "markdown",
   "metadata": {},
   "source": [
    "# Aufgabe 4.3\n",
    "### a) Eine Elektronik-Firma stellt Widerstände her, die einen mittleren Widerstand von 100W und eine Standardabweichung von 10W haben. Die Widerstände sind normalverteilt. Bestimmen Sie die Wahrscheinlichkeit, dass sich für eine zufällige Stichprobe von n = 25 Widerständen ein mittlerer Widerstand unter 95W ergibt."
   ]
  },
  {
   "cell_type": "markdown",
   "metadata": {},
   "source": [
    "### b) Nehmen Sie an, dass eine Zufallsvariable X einer uniformen Verteilung folgt, und zwar X ∼ Uniform[4,6]. Die Zufallsvariable X40 sei der Mittelwert einer i.i.d. Stichprobe vom Umfang n = 40. Wie lautet die Verteilung von X40 approximativ?"
   ]
  },
  {
   "cell_type": "markdown",
   "metadata": {},
   "source": [
    "---\n",
    "# Aufgabe 4.4\n",
    "Es seien {Xi}1≤i≤50 unabhängige und normalverteilte Zufallsvariablen mit Erwartungswert μ = 1 und Standardabweichung s = 2. Darüber hinaus sind folgende Zufallsvariablen definiert:\n",
    "$$S_n = X_1 + X_2 + ... + X_n$$\n",
    "<center>und</center>\n",
    "<center>arithm. Mittel: $X_n = \\frac{1}{n}(X_1 + X_2 + ... + X_n) = \\frac{S_n}{n}$</center>\n",
    "Dabei ist n = 50."
   ]
  },
  {
   "cell_type": "markdown",
   "metadata": {},
   "source": [
    "### a) Bestimmen Sie die Parameter der Normalverteilung von Sn sowie Xn."
   ]
  },
  {
   "cell_type": "markdown",
   "metadata": {},
   "source": [
    "### b) Berechnen Sie dieWahrscheinlichkeit P (E[X1] − 1 ≤ X1 ≤ E[X1] + 1).\n"
   ]
  },
  {
   "cell_type": "markdown",
   "metadata": {},
   "source": [
    "###  c) Berechnen Sie P (E[Sn] − 1 ≤ Sn ≤ E[Sn] + 1).\n"
   ]
  },
  {
   "cell_type": "markdown",
   "metadata": {},
   "source": [
    "### d) Berechnen Sie P 􀀀E[Xn] − 1 ≤ Xn ≤ E[Xn] + 1."
   ]
  },
  {
   "cell_type": "markdown",
   "metadata": {},
   "source": [
    "---\n",
    "# Aufgabe 4.5\n",
    "Wir betrachten einen Datensatz, bei welchem zwei Methoden zur Bestimmung der latenten Schmelzwärme von Eis verglichen werden. Wiederholte Messungen der freigesetzten Wärme beim Übergang von Eis bei −0.7◦C zu Wasser bei 0◦C ergaben die folgenden Werte (in cal/g):"
   ]
  },
  {
   "cell_type": "markdown",
   "metadata": {},
   "source": [
    "### a) Berechnen Sie die arithmetischen Mittelwerte der beiden Methoden und geben Sie für jede Methode den absoluten Fehler an."
   ]
  },
  {
   "cell_type": "markdown",
   "metadata": {},
   "source": [
    "### b) Wie lauten die relativen Fehler?"
   ]
  },
  {
   "cell_type": "markdown",
   "metadata": {},
   "source": [
    "---\n",
    "# Aufgabe 4.6\n",
    "Aufgabenstellung siehe Skript"
   ]
  },
  {
   "cell_type": "markdown",
   "metadata": {},
   "source": [
    "Berechnen Sie folgendes Integral\n",
    "$$ I(f) = \\frac{1}{\\sqrt{2\\pi}} \\int_0^1e^{-x^2 /2} dx$$\n",
    "Berechnen Sie das Integral, indem Sie 1000 uniform über das Intervall [0,1] verteilte Zahlen X1, . . . , X1000 mit der Python -Funktion uniform.rvs(...) generieren. Berechnen Sie den genauen numerischenWert des Integralsmit der Python -Funktion norm.cdf(...)."
   ]
  },
  {
   "cell_type": "code",
   "execution_count": null,
   "metadata": {},
   "outputs": [],
   "source": []
  }
 ],
 "metadata": {
  "kernelspec": {
   "display_name": "Python 3",
   "language": "python",
   "name": "python3"
  },
  "language_info": {
   "codemirror_mode": {
    "name": "ipython",
    "version": 3
   },
   "file_extension": ".py",
   "mimetype": "text/x-python",
   "name": "python",
   "nbconvert_exporter": "python",
   "pygments_lexer": "ipython3",
   "version": "3.7.3"
  }
 },
 "nbformat": 4,
 "nbformat_minor": 2
}
