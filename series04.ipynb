{
 "cells": [
  {
   "cell_type": "code",
   "execution_count": 2,
   "metadata": {},
   "outputs": [],
   "source": [
    "import matplotlib.pyplot as plt\n",
    "import scipy.stats as st\n",
    "import seaborn as sns\n",
    "import pandas as pd\n",
    "import numpy as np"
   ]
  },
  {
   "cell_type": "markdown",
   "metadata": {},
   "source": [
    "## Wichtigste Übungsaufgaben:\n",
    "* 4.1 \n",
    "  * a\n",
    "  * b\n",
    "* 4.3\n",
    "* 4.4\n",
    "* 4.5\n",
    "---\n",
    "# Aufgabe 4.1\n",
    "### a) Gegeben sind zwei unabhängige Zufallsvariable X und Y mit den Kennwerten $μ_X = 40$, $\\sigma_X = 15$, $μ_Y = 85$ und $\\sigma_Y = 18$. Berechnen Sie $E(X +2Y)$, $Var(X +2Y)$ und $E(X^2)$."
   ]
  },
  {
   "cell_type": "markdown",
   "metadata": {},
   "source": [
    "Ich schliesse auf:<br>\n",
    "<center>$\\mu_x = E(X) = 40$ & $\\sigma_X = 15$ => $VAR(X) = \\sigma^2_X = 15^2$</center>\n",
    "<center>$\\mu_y = E(Y) = 85$ & $\\sigma_Y = 18$ => $VAR(Y) = \\sigma^2_Y = 18^2$</center>\n",
    "<br>\n",
    "Berechnung $E(X^2)$ \n",
    "$$ VAR(X) = E(X^2) - E(X)^2$$\n",
    "$$ 15^2 = E(X^2) - 40^2$$\n",
    "$$E(X^2) = 1825$$\n",
    "<br>\n",
    "Berechnung $E(X+2Y)$ <br />\n",
    "$$E(X+2Y) = E(X) + E(2Y)$$\n",
    "$$E(X+2Y) = 40 + 2*85$$\n",
    "$$E(X+2Y) = 210$$\n",
    "<br>\n",
    "Berechnung $VAR(X+2Y)$ <br />\n",
    "$$VAR(X+2Y) = VAR(a+bX) = b^2*VAR(X)$$\n",
    "<br />\n",
    "$$a = X = VAR(X) = 15^2$$\n",
    "$$b = 2 == b^2 = 2^2 = 4$$\n",
    "$$(X) = (Y) = VAR(Y) = 18^2$$\n",
    "<br />\n",
    "$$VAR(X+2Y) = VAR(X) + 2^2*VAR(Y)$$\n",
    "$$15^2 + 4 * 18^2 = 1521$$\n"
   ]
  },
  {
   "cell_type": "markdown",
   "metadata": {},
   "source": [
    "### b) Ein Werk produziert rechteckige Glasscheiben, deren Länge X und Breite Y (in mm gemessen) voneinander unabhängig produktionsbedingten Schwankungen unterliegen. Es gilt $μ_X = 1000$, $s_X = 0.02$, $μ_Y = 500$, $s_Y = 0.01$. Wie gross sind Erwartungswert und Standardabweichung des Umfangs U?"
   ]
  },
  {
   "cell_type": "markdown",
   "metadata": {},
   "source": [
    "$$U = 2*l + 2*b = 2(l+b)$$<br>\n",
    "$E(S_n) = n\\mu$ n in unserem Fall 2 (je einmal für Länge und dann gleiches Bsp. für Breite\n",
    "$$E(S_{nX}) = n\\mu = 2 * 1000 = 2000$$\n",
    "$$E(S_{nY}) = n\\mu = 2 * 500 = 1000$$\n",
    "$$E(S_U) = E(S_{nX}) + E(S_{nY}) = 3000$$<br>\n",
    "Gleiches Beispiel für $\\sigma$\n",
    "$$\\sigma(S_n) = \\sqrt{n}*\\sigma_x$$\n",
    "$$\\sigma(S_nX) = \\sqrt{2}*0.02 = 0.02828$$\n",
    "$$\\sigma(S_nY) = \\sqrt{2}*0.01 = 0.01414$$\n",
    "$$\\sigma(S_U) = \\sigma(S_nX) + \\sigma(S_nY) = 0.04242$$"
   ]
  },
  {
   "cell_type": "markdown",
   "metadata": {},
   "source": [
    "### c) (Zusatzaufgabe) Bestimmen Sie die Wahrscheinlichkeitsdichte fX(x) der Zufallsvariablen X = Z2, wobei Z ∼ N(0, 1)."
   ]
  },
  {
   "cell_type": "markdown",
   "metadata": {},
   "source": [
    "---\n",
    "# Aufgabe 4.2\n",
    "Erzeugen Siemit norm.rvs()m = 500 Stichproben aus einer Standardnormalverteilung mit Umfang n = 5. Speichern Sie die Stichproben als (n × m)− Matrix ab. <br>Python-Hinweis:<br>\n",
    "`import matplotlib.pyplot as plt\n",
    "from scipy.stats import norm\n",
    "import numpy as np\n",
    "n = 5\n",
    "m = 500\n",
    "ran = np.array(norm.rvs(size=n*m))\n",
    "sim = ran.reshape((n,m))`\n",
    "### a) Stellen Sie die Stichproben als Runs graphisch dar, und staunen Sie über die zahlreichen möglichen Verläufe.\n",
    "`plt.plot(sim)\n",
    "plt.show()`"
   ]
  },
  {
   "cell_type": "markdown",
   "metadata": {},
   "source": [
    "### b) Berechnen Sie nun für jede Stichprobe den Mittelwert x, und erzeugen Sie ein Histogramm der Mittelwerte. Aus der Theorie wissen Sie, dass die Mittelwerte normalverteilt mit Parameter μ = 0 und Standardabweichung s = 1 √n sein müssten. Überprüfen Sie dies graphisch mit Hilfe von Histogrammen und der theoretischen Wahrscheinlichkeitsdichtekurve\n",
    "`plt.hist(sim.T, bins=20, density=True, edgecolor=\"black\",\n",
    "facecolor=\"white\")\n",
    "x = np.linspace(-4, 4, num=100)\n",
    "y = norm.pdf(x)\n",
    "plt.plot(x,y)\n",
    "plt.title(\"Histogramm sim\")\n",
    "plt.show()\n",
    "sim_mean = sim.mean(axis=0)\n",
    "plt.hist(sim_mean, density=True, edgecolor=\"black\",\n",
    "facecolor=\"white\")\n",
    "x = np.linspace(-4, 4, num=100)\n",
    "y = norm.pdf(x, loc=0, scale=1/np.sqrt(n))\n",
    "plt.plot(x,y)\n",
    "plt.title(\"Histogramm sim_mean\")\n",
    "plt.show()`"
   ]
  },
  {
   "cell_type": "markdown",
   "metadata": {},
   "source": [
    "### c) Wiederholen Sie die Aufgabe für n = 2, 10, 100."
   ]
  },
  {
   "cell_type": "markdown",
   "metadata": {},
   "source": [
    "# Aufgabe 4.3\n",
    "### a) Eine Elektronik-Firma stellt Widerstände her, die einen mittleren Widerstand von 100W und eine Standardabweichung von 10W haben. Die Widerstände sind normalverteilt. Bestimmen Sie die Wahrscheinlichkeit, dass sich für eine zufällige Stichprobe von n = 25 Widerständen ein mittlerer Widerstand unter 95W ergibt."
   ]
  },
  {
   "cell_type": "markdown",
   "metadata": {},
   "source": [
    "$$X_n = 100\\Omega = E(X)$$\n",
    "$$\\sigma_x = 10\\Omega$$\n",
    "$$n = 25$$\n",
    "$$N(\\mu, \\frac{\\sigma^2}{\\sqrt{n}}) = N(100,4)$$\n",
    "<br />\n",
    "$$P(X < 95)$$"
   ]
  },
  {
   "cell_type": "code",
   "execution_count": 6,
   "metadata": {},
   "outputs": [
    {
     "data": {
      "text/plain": [
       "0.006209665325776132"
      ]
     },
     "execution_count": 6,
     "metadata": {},
     "output_type": "execute_result"
    }
   ],
   "source": [
    "st.norm.cdf(x=95, loc=100, scale=2)"
   ]
  },
  {
   "cell_type": "markdown",
   "metadata": {},
   "source": [
    "Die W'keit einen mittleren Widerstand unter 95W zu erhalten bei 25 zufälligen Stichproben beträgt 0.6%"
   ]
  },
  {
   "cell_type": "markdown",
   "metadata": {},
   "source": [
    "### b) Nehmen Sie an, dass eine Zufallsvariable X einer uniformen Verteilung folgt, und zwar X ∼ Uniform[4,6]. Die Zufallsvariable X40 sei der Mittelwert einer i.i.d. Stichprobe vom Umfang n = 40. Wie lautet die Verteilung von X40 approximativ?"
   ]
  },
  {
   "cell_type": "markdown",
   "metadata": {},
   "source": [
    "$$n=40$$\n",
    "gem. Formeln der Uniformen Verteilung\n",
    "$$\\mu = 5$$\n",
    "$$VAR(X) = \\frac{1}{3}$$\n",
    "\n",
    "Zentraler Grenzwertsatz-Formel\n",
    "$$X_n = N(\\mu, \\frac{\\sigma^2_x}{n}) = N(5,\\frac{\\frac{1}{3}}{40}) = N(5,\\frac{1}{120})$$"
   ]
  },
  {
   "cell_type": "markdown",
   "metadata": {},
   "source": [
    "---\n",
    "# Aufgabe 4.4\n",
    "Es seien {Xi}1≤i≤50 unabhängige und normalverteilte Zufallsvariablen mit Erwartungswert μ = 1 und Standardabweichung s = 2. Darüber hinaus sind folgende Zufallsvariablen definiert:\n",
    "$$S_n = X_1 + X_2 + ... + X_n$$\n",
    "<center>und</center>\n",
    "<center>arithm. Mittel: $X_n = \\frac{1}{n}(X_1 + X_2 + ... + X_n) = \\frac{S_n}{n}$</center>\n",
    "Dabei ist n = 50."
   ]
  },
  {
   "cell_type": "markdown",
   "metadata": {},
   "source": [
    "### a) Bestimmen Sie die Parameter der Normalverteilung von $S_n$ sowie $X_n$."
   ]
  },
  {
   "cell_type": "markdown",
   "metadata": {},
   "source": [
    "zentraler Grenzwertsatz\n",
    "$$S_n = N(50, 200)$$\n",
    "$$X_n = N(1, 0.08)$$"
   ]
  },
  {
   "cell_type": "markdown",
   "metadata": {},
   "source": [
    "### b) Berechnen Sie dieWahrscheinlichkeit P (E[X1] − 1 ≤ X1 ≤ E[X1] + 1).\n"
   ]
  },
  {
   "cell_type": "code",
   "execution_count": 7,
   "metadata": {},
   "outputs": [
    {
     "data": {
      "text/plain": [
       "0.38292492254802624"
      ]
     },
     "execution_count": 7,
     "metadata": {},
     "output_type": "execute_result"
    }
   ],
   "source": [
    "st.norm.cdf(x=2, loc=1, scale=2) - st.norm.cdf(x=0, loc=1, scale=2)"
   ]
  },
  {
   "cell_type": "markdown",
   "metadata": {},
   "source": [
    "Die W'keit beträgt 38%"
   ]
  },
  {
   "cell_type": "markdown",
   "metadata": {},
   "source": [
    "###  c) Berechnen Sie P (E[Sn] − 1 ≤ Sn ≤ E[Sn] + 1).\n"
   ]
  },
  {
   "cell_type": "code",
   "execution_count": 10,
   "metadata": {},
   "outputs": [
    {
     "data": {
      "text/plain": [
       "0.05637197779701664"
      ]
     },
     "execution_count": 10,
     "metadata": {},
     "output_type": "execute_result"
    }
   ],
   "source": [
    "st.norm.cdf(x=51, loc=50, scale=np.sqrt(200)) - st.norm.cdf(x=49, loc=50, scale=np.sqrt(200))"
   ]
  },
  {
   "cell_type": "markdown",
   "metadata": {},
   "source": [
    "Die W'keit beträgt 56%"
   ]
  },
  {
   "cell_type": "markdown",
   "metadata": {},
   "source": [
    "### d) Berechnen Sie P 􀀀E[Xn] − 1 ≤ Xn ≤ E[Xn] + 1."
   ]
  },
  {
   "cell_type": "code",
   "execution_count": 15,
   "metadata": {},
   "outputs": [
    {
     "data": {
      "text/plain": [
       "0.999593047982555"
      ]
     },
     "execution_count": 15,
     "metadata": {},
     "output_type": "execute_result"
    }
   ],
   "source": [
    "st.norm.cdf(x=2, loc=1, scale=np.sqrt(0.08)) - st.norm.cdf(x=0, loc=1, scale=np.sqrt(0.08))"
   ]
  },
  {
   "cell_type": "code",
   "execution_count": 12,
   "metadata": {},
   "outputs": [
    {
     "data": {
      "text/plain": [
       "0.999593047982555"
      ]
     },
     "execution_count": 12,
     "metadata": {},
     "output_type": "execute_result"
    }
   ],
   "source": [
    "st.norm.cdf(x=2, loc=1, scale=np.sqrt(4/50)) - st.norm.cdf(x=0, loc=1, scale=np.sqrt(4/50))"
   ]
  },
  {
   "cell_type": "markdown",
   "metadata": {},
   "source": [
    "---\n",
    "# Aufgabe 4.5\n",
    "Wir betrachten einen Datensatz, bei welchem zwei Methoden zur Bestimmung der latenten Schmelzwärme von Eis verglichen werden. Wiederholte Messungen der freigesetzten Wärme beim Übergang von Eis bei −0.7◦C zu Wasser bei 0◦C ergaben die folgenden Werte (in cal/g):"
   ]
  },
  {
   "cell_type": "markdown",
   "metadata": {},
   "source": [
    "### a) Berechnen Sie die arithmetischen Mittelwerte der beiden Methoden und geben Sie für jede Methode den absoluten Fehler an."
   ]
  },
  {
   "cell_type": "code",
   "execution_count": 17,
   "metadata": {},
   "outputs": [],
   "source": [
    "mA = np.array([79.98, 80.04, 80.02, 80.04, 80.03, 80.03, 80.04, 79.97, 80.05, 80.03, 80.02, 80.00, 80.02])\n",
    "mB = np.array([80.02, 79.94, 79.98, 79.97, 79.97, 80.03, 79.95, 79.97])"
   ]
  },
  {
   "cell_type": "code",
   "execution_count": 18,
   "metadata": {},
   "outputs": [
    {
     "data": {
      "text/plain": [
       "80.02076923076923"
      ]
     },
     "execution_count": 18,
     "metadata": {},
     "output_type": "execute_result"
    }
   ],
   "source": [
    "mA.mean()"
   ]
  },
  {
   "cell_type": "code",
   "execution_count": 19,
   "metadata": {},
   "outputs": [
    {
     "data": {
      "text/plain": [
       "79.97874999999999"
      ]
     },
     "execution_count": 19,
     "metadata": {},
     "output_type": "execute_result"
    }
   ],
   "source": [
    "mB.mean()"
   ]
  },
  {
   "cell_type": "markdown",
   "metadata": {},
   "source": [
    "absoluter Fehler: arithm.Mittel +- $\\frac{standardabweichung}{\\sqrt{n}}$"
   ]
  },
  {
   "cell_type": "code",
   "execution_count": 21,
   "metadata": {},
   "outputs": [
    {
     "name": "stdout",
     "output_type": "stream",
     "text": [
      "0.006386147958926608\n"
     ]
    }
   ],
   "source": [
    "aFmA = mA.std()/np.sqrt(mA.size)\n",
    "print(aFmA)"
   ]
  },
  {
   "cell_type": "markdown",
   "metadata": {},
   "source": [
    "absoluter Fehler der Methode A: (80.02 +- 0.01) cal/g"
   ]
  },
  {
   "cell_type": "code",
   "execution_count": 23,
   "metadata": {},
   "outputs": [
    {
     "name": "stdout",
     "output_type": "stream",
     "text": [
      "0.010373870420436046\n"
     ]
    }
   ],
   "source": [
    "aFmB = mB.std()/np.sqrt(mB.size)\n",
    "print(aFmB)"
   ]
  },
  {
   "cell_type": "markdown",
   "metadata": {},
   "source": [
    "absoluter Fehler der Methode B: (79.98 +- 0.01) cal/g"
   ]
  },
  {
   "cell_type": "markdown",
   "metadata": {},
   "source": [
    "### b) Wie lauten die relativen Fehler?"
   ]
  },
  {
   "cell_type": "markdown",
   "metadata": {},
   "source": [
    "relativer Fehler: $\\frac{absol. Fehler}{arithm. Mittel}$"
   ]
  },
  {
   "cell_type": "code",
   "execution_count": 31,
   "metadata": {},
   "outputs": [
    {
     "name": "stdout",
     "output_type": "stream",
     "text": [
      "7.980613058729551e-05\n"
     ]
    },
    {
     "data": {
      "text/plain": [
       "'0.000080'"
      ]
     },
     "execution_count": 31,
     "metadata": {},
     "output_type": "execute_result"
    }
   ],
   "source": [
    "rFmA = aFmA / mA.mean()\n",
    "print(rFmA)\n",
    "'{:f}'.format(rFmA)"
   ]
  },
  {
   "cell_type": "markdown",
   "metadata": {},
   "source": [
    "rel. Fehler: 80.02cal/g +- 0.000080%"
   ]
  },
  {
   "cell_type": "code",
   "execution_count": 32,
   "metadata": {},
   "outputs": [
    {
     "name": "stdout",
     "output_type": "stream",
     "text": [
      "0.00012970783389882996\n"
     ]
    },
    {
     "data": {
      "text/plain": [
       "'0.000130'"
      ]
     },
     "execution_count": 32,
     "metadata": {},
     "output_type": "execute_result"
    }
   ],
   "source": [
    "rFmB = aFmB / mB.mean()\n",
    "print(rFmB)\n",
    "'{:f}'.format(rFmB)"
   ]
  },
  {
   "cell_type": "markdown",
   "metadata": {},
   "source": [
    "rel. Fehler: 79.98cal/g +- 0.000130%"
   ]
  },
  {
   "cell_type": "markdown",
   "metadata": {},
   "source": [
    "---\n",
    "# Aufgabe 4.6\n",
    "Aufgabenstellung siehe Skript"
   ]
  },
  {
   "cell_type": "markdown",
   "metadata": {},
   "source": [
    "Berechnen Sie folgendes Integral\n",
    "$$ I(f) = \\frac{1}{\\sqrt{2\\pi}} \\int_0^1e^{-x^2 /2} dx$$\n",
    "Berechnen Sie das Integral, indem Sie 1000 uniform über das Intervall [0,1] verteilte Zahlen X1, . . . , X1000 mit der Python -Funktion uniform.rvs(...) generieren. Berechnen Sie den genauen numerischenWert des Integralsmit der Python -Funktion norm.cdf(...)."
   ]
  },
  {
   "cell_type": "code",
   "execution_count": null,
   "metadata": {},
   "outputs": [],
   "source": []
  }
 ],
 "metadata": {
  "kernelspec": {
   "display_name": "Python 3",
   "language": "python",
   "name": "python3"
  },
  "language_info": {
   "codemirror_mode": {
    "name": "ipython",
    "version": 3
   },
   "file_extension": ".py",
   "mimetype": "text/x-python",
   "name": "python",
   "nbconvert_exporter": "python",
   "pygments_lexer": "ipython3",
   "version": "3.7.3"
  }
 },
 "nbformat": 4,
 "nbformat_minor": 2
}
