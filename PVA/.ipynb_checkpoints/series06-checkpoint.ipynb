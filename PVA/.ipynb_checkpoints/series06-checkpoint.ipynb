{
 "cells": [
  {
   "cell_type": "code",
   "execution_count": 1,
   "metadata": {},
   "outputs": [],
   "source": [
    "import matplotlib.pyplot as plt\n",
    "import scipy.stats as st\n",
    "import seaborn as sns\n",
    "import pandas as pd\n",
    "import numpy as np"
   ]
  },
  {
   "cell_type": "markdown",
   "metadata": {},
   "source": [
    "# 6.1 z-test"
   ]
  },
  {
   "cell_type": "code",
   "execution_count": 2,
   "metadata": {},
   "outputs": [
    {
     "data": {
      "text/plain": [
       "array([67, 68, 68, 69, 69, 71, 71, 71, 72, 72, 72, 73])"
      ]
     },
     "execution_count": 2,
     "metadata": {},
     "output_type": "execute_result"
    }
   ],
   "source": [
    "wein = np.sort(np.array([71, 69, 67, 68, 73, 72, 71, 71, 68, 72, 69, 72]))\n",
    "wein"
   ]
  },
  {
   "cell_type": "markdown",
   "metadata": {},
   "source": [
    "<b>Modell:</b><br>\n",
    "$X_i$ = Inhalt der Weinflasche <br>\n",
    "$\\sigma$ bekannt = 1.5<br>\n",
    "$X_1$,...,$X_{12}$ i.i.d.~N($\\mu$, $\\sigma$)\n"
   ]
  },
  {
   "cell_type": "markdown",
   "metadata": {},
   "source": [
    "<b>Nullhypothese: $H_0$: $\\mu$ = $\\mu$$_0$ = 70"
   ]
  },
  {
   "cell_type": "markdown",
   "metadata": {},
   "source": [
    "<b>Alternativ: $H_A$: $\\mu$ < $\\mu$$_0$"
   ]
  },
  {
   "cell_type": "markdown",
   "metadata": {},
   "source": [
    "Teststastistik N(70,1.5^2/12) & Signifikantsniveau: $\\alpha$=5%"
   ]
  },
  {
   "cell_type": "markdown",
   "metadata": {},
   "source": [
    "Verwerfungsbereich"
   ]
  },
  {
   "cell_type": "code",
   "execution_count": 3,
   "metadata": {},
   "outputs": [
    {
     "data": {
      "text/plain": [
       "69.28775748677653"
      ]
     },
     "execution_count": 3,
     "metadata": {},
     "output_type": "execute_result"
    }
   ],
   "source": [
    "st.norm.ppf(q=0.05, loc=70, scale=np.sqrt((1.5**2)/wein.size))"
   ]
  },
  {
   "cell_type": "markdown",
   "metadata": {},
   "source": [
    "Testentscheid"
   ]
  },
  {
   "cell_type": "code",
   "execution_count": 5,
   "metadata": {},
   "outputs": [
    {
     "data": {
      "text/plain": [
       "70.25"
      ]
     },
     "execution_count": 5,
     "metadata": {},
     "output_type": "execute_result"
    }
   ],
   "source": [
    "wein.mean()"
   ]
  },
  {
   "cell_type": "markdown",
   "metadata": {},
   "source": [
    "T !=e K d.h. liegt nicht im Verwerfungsbereich und die Nullhypothese kann nicht verworfen werden. <br>\n",
    "Es kann aufgrund des Tests nicht bestätigt werden, dass der Händler zu wenig Wein abfüllt."
   ]
  },
  {
   "cell_type": "markdown",
   "metadata": {},
   "source": [
    "# 6.2 t-test"
   ]
  },
  {
   "cell_type": "code",
   "execution_count": 6,
   "metadata": {},
   "outputs": [
    {
     "data": {
      "text/plain": [
       "array([67, 68, 68, 69, 69, 71, 71, 71, 72, 72, 72, 73])"
      ]
     },
     "execution_count": 6,
     "metadata": {},
     "output_type": "execute_result"
    }
   ],
   "source": [
    "wein2 = np.sort(np.array([71, 69, 67, 68, 73, 72, 71, 71, 68, 72, 69, 72]))\n",
    "wein2"
   ]
  },
  {
   "cell_type": "markdown",
   "metadata": {},
   "source": [
    "<b>Modell:</b><br>\n",
    "$X_i$ = Inhalt der Weinflasche <br>\n",
    "$\\sigma$ unbekannt --> geschätzte Varianz: 1.96^2 (wein2.std())<br>\n",
    "$X_1$,...,$X_{12}$ i.i.d.~N($\\mu$, $\\sigma$)\n",
    "\n",
    "<b>Nullhypothese: $H_0$: $\\mu$ = $\\mu$$_0$ = 70<br>\n",
    "<b>Alternativ: $H_A$: $\\mu$ < $\\mu$$_0$"
   ]
  },
  {
   "cell_type": "markdown",
   "metadata": {},
   "source": [
    "Verwerfungsbereich"
   ]
  },
  {
   "cell_type": "code",
   "execution_count": 9,
   "metadata": {},
   "outputs": [
    {
     "data": {
      "text/plain": [
       "68.98388250815812"
      ]
     },
     "execution_count": 9,
     "metadata": {},
     "output_type": "execute_result"
    }
   ],
   "source": [
    "st.t.ppf(q=0.05, df=wein2.size-1, loc=70, scale=np.sqrt((1.96**2)/wein2.size))"
   ]
  },
  {
   "cell_type": "code",
   "execution_count": 8,
   "metadata": {},
   "outputs": [
    {
     "data": {
      "text/plain": [
       "70.25"
      ]
     },
     "execution_count": 8,
     "metadata": {},
     "output_type": "execute_result"
    }
   ],
   "source": [
    "wein2.mean()"
   ]
  },
  {
   "cell_type": "markdown",
   "metadata": {},
   "source": [
    "T !=e K d.h. liegt nicht im Verwerfungsbereich und die Nullhypothese kann nicht verworfen werden. <br>\n",
    "Es kann aufgrund des Tests nicht bestätigt werden, dass der Händler zu wenig Wein abfüllt."
   ]
  },
  {
   "cell_type": "markdown",
   "metadata": {},
   "source": [
    "geändert hat sich der Verwerfungsbereich --> er wird kleiner, da $\\sigma$ grösser/geschätzt wurde."
   ]
  },
  {
   "cell_type": "markdown",
   "metadata": {},
   "source": [
    "# 6.3"
   ]
  },
  {
   "cell_type": "markdown",
   "metadata": {},
   "source": [
    "### a)"
   ]
  },
  {
   "cell_type": "markdown",
   "metadata": {},
   "source": [
    "<b>Modell:</b><br>\n",
    "$X_i$ = Ammoniumkonzetration NH_4-N/l<br>\n",
    "$\\sigma$ bekannt --> 10mu*p<br>\n",
    "$X_1$,...,$X_{16}$ i.i.d.~N($\\mu$, $\\sigma$)\n",
    "\n",
    "<b>Nullhypothese:</b> $H_0$: $\\mu$$_0$ = 200<br>\n",
    "<b>Alternativ:</b> $H_A$: $\\mu$ > $\\mu$$_0$<br>\n",
    "<b>Teststastistik:</b> T: $\\bar{x}$~N(200,10^2/16) <br>\n",
    "<b>Signifikantsniveau:</b> $\\alpha$=5%"
   ]
  },
  {
   "cell_type": "markdown",
   "metadata": {},
   "source": [
    "Verwerfungsbereich"
   ]
  },
  {
   "cell_type": "code",
   "execution_count": 11,
   "metadata": {},
   "outputs": [
    {
     "data": {
      "text/plain": [
       "1.6448536269514722"
      ]
     },
     "execution_count": 11,
     "metadata": {},
     "output_type": "execute_result"
    }
   ],
   "source": [
    "st.norm.ppf(q=0.95)"
   ]
  },
  {
   "cell_type": "markdown",
   "metadata": {},
   "source": [
    "Testentscheid"
   ]
  },
  {
   "cell_type": "code",
   "execution_count": 12,
   "metadata": {},
   "outputs": [
    {
     "data": {
      "text/plain": [
       "1.6799999999999955"
      ]
     },
     "execution_count": 12,
     "metadata": {},
     "output_type": "execute_result"
    }
   ],
   "source": [
    "(np.sqrt(16))*((204.2-200)/10)"
   ]
  },
  {
   "cell_type": "markdown",
   "metadata": {},
   "source": [
    "T e K --> Die Nullhypothese wird verworfen. Es wurde eine systematische Grenzüberschreitung festgestellt."
   ]
  },
  {
   "cell_type": "markdown",
   "metadata": {},
   "source": [
    "### b)"
   ]
  },
  {
   "cell_type": "code",
   "execution_count": 13,
   "metadata": {},
   "outputs": [
    {
     "data": {
      "text/plain": [
       "-0.32000000000000456"
      ]
     },
     "execution_count": 13,
     "metadata": {},
     "output_type": "execute_result"
    }
   ],
   "source": [
    "(np.sqrt(16))*((204.2-205)/10)"
   ]
  },
  {
   "cell_type": "code",
   "execution_count": 15,
   "metadata": {},
   "outputs": [
    {
     "data": {
      "text/plain": [
       "0.6255158347233201"
      ]
     },
     "execution_count": 15,
     "metadata": {},
     "output_type": "execute_result"
    }
   ],
   "source": [
    "st.norm.cdf(x=0.32)"
   ]
  },
  {
   "cell_type": "markdown",
   "metadata": {},
   "source": [
    "Macht des Tests beträgt 62.5%"
   ]
  },
  {
   "cell_type": "markdown",
   "metadata": {},
   "source": [
    "### c)"
   ]
  },
  {
   "cell_type": "markdown",
   "metadata": {},
   "source": [
    "Signifikantsniveau = 5%"
   ]
  },
  {
   "cell_type": "markdown",
   "metadata": {},
   "source": [
    "### d)"
   ]
  },
  {
   "cell_type": "code",
   "execution_count": 18,
   "metadata": {},
   "outputs": [
    {
     "data": {
      "text/plain": [
       "204.38262588923138"
      ]
     },
     "execution_count": 18,
     "metadata": {},
     "output_type": "execute_result"
    }
   ],
   "source": [
    "st.t.ppf(q=0.95, df=15, loc=200, scale=np.sqrt(10**2/16))"
   ]
  },
  {
   "cell_type": "markdown",
   "metadata": {},
   "source": [
    "Nullhypothese kann nicht verworfen werden."
   ]
  },
  {
   "cell_type": "markdown",
   "metadata": {},
   "source": [
    "Der Unterschied zum z-Test ist nicht sehr gross, führt hier aber gerade dazu,\n",
    "dass die Nullhypothese nicht mehr verworfen werden kann."
   ]
  },
  {
   "cell_type": "markdown",
   "metadata": {},
   "source": [
    "### e)\n",
    "Stichprobe könnte zu klein. Aufgrund des zentralen Grenzwertsatzes wird angenommen, dass t $X_i$~$N$ folgt, was aber nicht zwingend bewiesen ist."
   ]
  },
  {
   "cell_type": "code",
   "execution_count": null,
   "metadata": {},
   "outputs": [],
   "source": []
  }
 ],
 "metadata": {
  "kernelspec": {
   "display_name": "Python 3",
   "language": "python",
   "name": "python3"
  },
  "language_info": {
   "codemirror_mode": {
    "name": "ipython",
    "version": 3
   },
   "file_extension": ".py",
   "mimetype": "text/x-python",
   "name": "python",
   "nbconvert_exporter": "python",
   "pygments_lexer": "ipython3",
   "version": "3.7.3"
  }
 },
 "nbformat": 4,
 "nbformat_minor": 2
}
