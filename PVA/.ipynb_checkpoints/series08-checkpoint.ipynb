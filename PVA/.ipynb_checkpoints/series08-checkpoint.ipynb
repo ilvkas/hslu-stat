{
 "cells": [
  {
   "cell_type": "code",
   "execution_count": 1,
   "metadata": {},
   "outputs": [],
   "source": [
    "import matplotlib.pyplot as plt\n",
    "import scipy.stats as st\n",
    "import seaborn as sns\n",
    "import pandas as pd\n",
    "import numpy as np"
   ]
  },
  {
   "cell_type": "markdown",
   "metadata": {},
   "source": [
    "# 8.1\n",
    "### a)"
   ]
  },
  {
   "cell_type": "code",
   "execution_count": 27,
   "metadata": {},
   "outputs": [
    {
     "data": {
      "text/plain": [
       "12"
      ]
     },
     "execution_count": 27,
     "metadata": {},
     "output_type": "execute_result"
    }
   ],
   "source": [
    "wein = np.array([71, 69, 67, 68, 73, 72, 71, 71, 68, 72, 69, 72])\n",
    "wein.size"
   ]
  },
  {
   "cell_type": "code",
   "execution_count": 18,
   "metadata": {},
   "outputs": [
    {
     "name": "stdout",
     "output_type": "stream",
     "text": [
      "[71 73 72 71 71 72 72]\n"
     ]
    },
    {
     "data": {
      "text/plain": [
       "7"
      ]
     },
     "execution_count": 18,
     "metadata": {},
     "output_type": "execute_result"
    }
   ],
   "source": [
    "pos = wein[wein-70>=0]\n",
    "print(pos)\n",
    "pos.size"
   ]
  },
  {
   "cell_type": "markdown",
   "metadata": {},
   "source": [
    "Quantile bestimmen"
   ]
  },
  {
   "cell_type": "code",
   "execution_count": 29,
   "metadata": {},
   "outputs": [
    {
     "data": {
      "text/plain": [
       "array([3., 9.])"
      ]
     },
     "execution_count": 29,
     "metadata": {},
     "output_type": "execute_result"
    }
   ],
   "source": [
    "st.binom.ppf(q=[0.025, 0.975], n=12, p=0.5)"
   ]
  },
  {
   "cell_type": "markdown",
   "metadata": {},
   "source": [
    "Wert der Quantile bestimmen"
   ]
  },
  {
   "cell_type": "code",
   "execution_count": 32,
   "metadata": {},
   "outputs": [
    {
     "name": "stdout",
     "output_type": "stream",
     "text": [
      "0.07299804687500001\n",
      "0.980712890625\n"
     ]
    }
   ],
   "source": [
    "print(st.binom.cdf(k=3, n=12, p=0.5))\n",
    "print(st.binom.cdf(k=9, n=12, p=0.5))"
   ]
  },
  {
   "cell_type": "code",
   "execution_count": 34,
   "metadata": {},
   "outputs": [
    {
     "data": {
      "text/plain": [
       "0.80615234375"
      ]
     },
     "execution_count": 34,
     "metadata": {},
     "output_type": "execute_result"
    }
   ],
   "source": [
    "st.binom_test(x=7, n=12, p=0.5, alternative=\"less\")"
   ]
  },
  {
   "cell_type": "markdown",
   "metadata": {},
   "source": [
    "belasse $H_0$ da P-Wert grösser als $\\alpha$"
   ]
  },
  {
   "cell_type": "markdown",
   "metadata": {},
   "source": [
    "### b)"
   ]
  },
  {
   "cell_type": "code",
   "execution_count": 39,
   "metadata": {},
   "outputs": [
    {
     "data": {
      "text/plain": [
       "WilcoxonResult(statistic=33.5, pvalue=0.6902117434795202)"
      ]
     },
     "execution_count": 39,
     "metadata": {},
     "output_type": "execute_result"
    }
   ],
   "source": [
    "st.wilcoxon(wein-70, zero_method=\"wilcox\", correction=True)"
   ]
  },
  {
   "cell_type": "markdown",
   "metadata": {},
   "source": [
    "P-Wert ist zweiseitig --> 1-[pvalue] / 2 = eins. p-Wert"
   ]
  },
  {
   "cell_type": "code",
   "execution_count": 40,
   "metadata": {},
   "outputs": [
    {
     "data": {
      "text/plain": [
       "0.655"
      ]
     },
     "execution_count": 40,
     "metadata": {},
     "output_type": "execute_result"
    }
   ],
   "source": [
    "1-0.69/2"
   ]
  },
  {
   "cell_type": "markdown",
   "metadata": {},
   "source": [
    "# 8.2\n",
    "### a)\n",
    "1. gepaart, da jeder Messung[VOR] einer Messung[NACH] zugeordnet werden kann.\n",
    "2. einseitig, da man wissen möchte, ob sich Blutplättchen vermehrt durch das Rauchen anhäufen.\n",
    "3. $H_0$: Das Rauchen hat keinen einfluss auf die Ansammlung der Blutplättchen ($\\mu_{vor}$ = $\\mu_{nach}$) \n",
    "4. $H_A$: Durch das Rauchen vermehren sich die Blutplättchen ($\\mu_{0}$ < $\\mu_{nach}$)\n",
    "### b)\n",
    "1. gepaart, da jeder Messung[VOR] einer Messung[NACH] zugeordnet werden kann.\n",
    "2. einseitig, man wollte herausfinden ob fremdbefruchtete Pflanzen mehr Lebenskraft besitzen als die selbstbefruchteten.\n",
    "3. $H_0$: Das Fremdbefruchten hat keinen Einfluss auf die Grösse der Pflanze ($\\mu_{vor}$ = $\\mu_{nach}$) \n",
    "4. $H_A$: Durch das Fremdbefruchten wird die Pflanze am Schluss grösser sein ($\\mu_{0}$ < $\\mu_{nach}$)\n",
    "### c)\n",
    "1. ungepaart, Es gibt eine ungleiche Anzahl Teilnehmer in den Gruppen.\n",
    "2. zweiseitig, Der Kalziumzusatz kann sich positiv oder negativ auf den Blutdruck auswirken.\n",
    "3. $H_0$: Der Klaziumzusatz hat keinen Einfluss auf den Blutdruck ($\\mu_{vor}$ = $\\mu_{nach}$) \n",
    "4. $H_A$: Durch den Kalziumzusatz wird der Blutdruck tiefer/höher ($\\mu_{nach}$ < $\\mu_{0}$ > $\\mu_{nach}$)\n",
    "### d)\n",
    "1. ungepaart, Eine Messung von Fe^2 muss nicht aussagekräftig gegenüber einer Messung von Fe^3 sein.\n",
    "2. zweiseitig. Man versucht herauszufinden wie viel Eisen jeweils aufgenommen wird. Dieser Wert könnte theoretisch von 0 - XY reichen.\n",
    "3. $H_0$: Fe^2 und Fe^3 werden gleich gut aufgenommen ($\\mu_{Fe2}$ = $\\mu_{Fe3}$) \n",
    "4. $H_A$: Die Eisenaufnahme ist abhängig von der Eisenart ($\\mu_{Fe2}$ != $\\mu_{Fe3}$)"
   ]
  },
  {
   "cell_type": "markdown",
   "metadata": {},
   "source": [
    "# 8.3\n",
    "### a)\n",
    "gepaarte Stichproben\n",
    "### b)"
   ]
  },
  {
   "cell_type": "markdown",
   "metadata": {},
   "source": [
    "Verwerfungsbereich"
   ]
  },
  {
   "cell_type": "code",
   "execution_count": 43,
   "metadata": {},
   "outputs": [
    {
     "name": "stdout",
     "output_type": "stream",
     "text": [
      "-3.8430659442138757\n"
     ]
    }
   ],
   "source": [
    "print(st.t.ppf(q=0.05, loc=0, scale=6.2/np.sqrt(9), df=8))"
   ]
  },
  {
   "cell_type": "markdown",
   "metadata": {},
   "source": [
    "$H_0$ wird verworfen, das Gerät muss wieder angepasst werden."
   ]
  },
  {
   "cell_type": "markdown",
   "metadata": {},
   "source": [
    "### c)"
   ]
  },
  {
   "cell_type": "markdown",
   "metadata": {},
   "source": [
    "Z wäre binomialverteilt mit Parametern n = 9 und p = 0.5 unter der Nullhypothese\n",
    "μ = 0. Darauf aufbauend kann man auch einen Vorzeichentest\n",
    "durchführen. Der Vorteil ist, dassman keine Normalverteilung mehr annehmen\n",
    "muss."
   ]
  },
  {
   "cell_type": "markdown",
   "metadata": {},
   "source": [
    "# 8.4\n",
    "### a)\n",
    "ungepaart, da nicht jedem Weibchen ein Männchen zugewiesen werden kann.\n",
    "### c)"
   ]
  },
  {
   "cell_type": "code",
   "execution_count": 45,
   "metadata": {},
   "outputs": [
    {
     "name": "stderr",
     "output_type": "stream",
     "text": [
      "C:\\Users\\LI\\Anaconda3\\lib\\site-packages\\ipykernel_launcher.py:1: FutureWarning: read_table is deprecated, use read_csv instead.\n",
      "  \"\"\"Entry point for launching an IPython kernel.\n"
     ]
    },
    {
     "data": {
      "text/plain": [
       "Ttest_indResult(statistic=3.4843242131699643, pvalue=0.0033599524351925016)"
      ]
     },
     "execution_count": 45,
     "metadata": {},
     "output_type": "execute_result"
    }
   ],
   "source": [
    "jackals = pd.read_table(r\"../../01 Modulunterlagen/SW08/jackals.txt\", sep = \" \")\n",
    "jackals\n",
    "st.ttest_ind(jackals[\"M\"], jackals[\"W\"], equal_var=False)"
   ]
  },
  {
   "cell_type": "markdown",
   "metadata": {},
   "source": [
    "Der P-Wert befindet sich unter dem Signifikantsniveau --> H_0 wird zugunsten H_A verworfen"
   ]
  },
  {
   "cell_type": "markdown",
   "metadata": {},
   "source": [
    "### d)"
   ]
  },
  {
   "cell_type": "code",
   "execution_count": 46,
   "metadata": {},
   "outputs": [
    {
     "data": {
      "text/plain": [
       "MannwhitneyuResult(statistic=87.5, pvalue=0.004845462884722891)"
      ]
     },
     "execution_count": 46,
     "metadata": {},
     "output_type": "execute_result"
    }
   ],
   "source": [
    "st.mannwhitneyu(jackals[\"M\"], jackals[\"W\"], alternative = \"two-sided\")"
   ]
  },
  {
   "cell_type": "markdown",
   "metadata": {},
   "source": [
    "Der P-Wert befindet sich unter dem Signifikantsniveau --> H_0 wird zugunsten H_A verworfen\n",
    "### e)"
   ]
  },
  {
   "cell_type": "markdown",
   "metadata": {},
   "source": [
    "Der Wilcox dem t-test vorziehen, da er im Gegensatz zum t-test nicht annimmt, dass die Daten normalverteilt sind."
   ]
  },
  {
   "cell_type": "markdown",
   "metadata": {},
   "source": [
    "# 8.5\n",
    "### a)"
   ]
  },
  {
   "cell_type": "code",
   "execution_count": 47,
   "metadata": {},
   "outputs": [],
   "source": [
    "z = pd.Series([16.3,12.7,14.0,53.3,117,62.6,27.6])\n",
    "b = pd.Series([10.4,8.91,11.7,29.9,46.3,25.0,29.4])"
   ]
  },
  {
   "cell_type": "code",
   "execution_count": 48,
   "metadata": {},
   "outputs": [],
   "source": [
    "gem = z-b"
   ]
  },
  {
   "cell_type": "code",
   "execution_count": 49,
   "metadata": {},
   "outputs": [
    {
     "name": "stdout",
     "output_type": "stream",
     "text": [
      "20.27\n",
      "26.272304175056032\n"
     ]
    }
   ],
   "source": [
    "print(gem.mean())\n",
    "print(gem.std())"
   ]
  },
  {
   "cell_type": "markdown",
   "metadata": {},
   "source": [
    "### b)\n",
    "gepaarte, da sowohl für Zürich als auch Basel an jedem Tag ein Wert zugeordnet werden kann.\n",
    "\n",
    "gleichzeitig könnte man aber sagen: ungepaart, da Zürich und Basel als verschiedene Versuchseinheiten aufgefasst werden."
   ]
  },
  {
   "cell_type": "markdown",
   "metadata": {},
   "source": [
    "### d)"
   ]
  },
  {
   "cell_type": "code",
   "execution_count": 51,
   "metadata": {},
   "outputs": [
    {
     "data": {
      "text/plain": [
       "Ttest_indResult(statistic=1.3273296255450922, pvalue=0.2232566584677775)"
      ]
     },
     "execution_count": 51,
     "metadata": {},
     "output_type": "execute_result"
    }
   ],
   "source": [
    "st.ttest_ind(z, b, equal_var=False)"
   ]
  },
  {
   "cell_type": "code",
   "execution_count": 53,
   "metadata": {},
   "outputs": [
    {
     "data": {
      "text/plain": [
       "0.38835"
      ]
     },
     "execution_count": 53,
     "metadata": {},
     "output_type": "execute_result"
    }
   ],
   "source": [
    "(1-0.2233)/2"
   ]
  },
  {
   "cell_type": "markdown",
   "metadata": {},
   "source": [
    "$H_0$ wird behalten"
   ]
  },
  {
   "cell_type": "markdown",
   "metadata": {},
   "source": [
    "### e)"
   ]
  },
  {
   "cell_type": "code",
   "execution_count": 55,
   "metadata": {},
   "outputs": [
    {
     "data": {
      "text/plain": [
       "MannwhitneyuResult(statistic=34.0, pvalue=0.12507650397969117)"
      ]
     },
     "execution_count": 55,
     "metadata": {},
     "output_type": "execute_result"
    }
   ],
   "source": [
    "st.mannwhitneyu(z,b, alternative=\"greater\")"
   ]
  },
  {
   "cell_type": "code",
   "execution_count": null,
   "metadata": {},
   "outputs": [],
   "source": []
  }
 ],
 "metadata": {
  "kernelspec": {
   "display_name": "Python 3",
   "language": "python",
   "name": "python3"
  },
  "language_info": {
   "codemirror_mode": {
    "name": "ipython",
    "version": 3
   },
   "file_extension": ".py",
   "mimetype": "text/x-python",
   "name": "python",
   "nbconvert_exporter": "python",
   "pygments_lexer": "ipython3",
   "version": "3.7.3"
  }
 },
 "nbformat": 4,
 "nbformat_minor": 2
}
