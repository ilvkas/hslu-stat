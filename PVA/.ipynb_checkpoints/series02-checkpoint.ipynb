{
 "cells": [
  {
   "cell_type": "code",
   "execution_count": 1,
   "metadata": {},
   "outputs": [],
   "source": [
    "import matplotlib.pyplot as plt\n",
    "import scipy.stats as st\n",
    "import seaborn as sns\n",
    "import pandas as pd\n",
    "import numpy as np"
   ]
  },
  {
   "cell_type": "markdown",
   "metadata": {},
   "source": [
    "# 2.1\n",
    "### a)"
   ]
  },
  {
   "cell_type": "code",
   "execution_count": 2,
   "metadata": {},
   "outputs": [
    {
     "name": "stdout",
     "output_type": "stream",
     "text": [
      "0    4.2\n",
      "1    2.3\n",
      "2    5.6\n",
      "3    4.5\n",
      "4    4.8\n",
      "dtype: float64\n",
      "4.5125\n",
      "4.65\n"
     ]
    }
   ],
   "source": [
    "noten = pd.Series([4.2, 2.3, 5.6, 4.5, 4.8, 3.9, 5.9, 2.4, 5.9, 6, 4, 3.7, 5, 5.2, 4.5, 3.6, 5, 6, 2.8, 3.3, 5.5, 4.2, 4.9, 5.1])\n",
    "print(noten.head())\n",
    "print(noten.mean())\n",
    "print(noten.median())"
   ]
  },
  {
   "cell_type": "code",
   "execution_count": 5,
   "metadata": {},
   "outputs": [
    {
     "name": "stdout",
     "output_type": "stream",
     "text": [
      "1     2.3\n",
      "7     2.4\n",
      "18    2.8\n",
      "19    3.3\n",
      "15    3.6\n",
      "11    3.7\n",
      "5     3.9\n",
      "10    4.0\n",
      "21    4.2\n",
      "0     4.2\n",
      "14    4.5\n",
      "3     4.5\n",
      "4     4.8\n",
      "22    4.9\n",
      "12    5.0\n",
      "16    5.0\n",
      "23    5.1\n",
      "13    5.2\n",
      "20    5.5\n",
      "2     5.6\n",
      "8     5.9\n",
      "6     5.9\n",
      "17    6.0\n",
      "9     6.0\n",
      "dtype: float64\n"
     ]
    }
   ],
   "source": [
    "notensort = noten.sort_values(ascending=True)\n",
    "print(notensort)"
   ]
  },
  {
   "cell_type": "code",
   "execution_count": 18,
   "metadata": {},
   "outputs": [],
   "source": [
    "notensort.index = np.arange(1, notensort.size+1)"
   ]
  },
  {
   "cell_type": "code",
   "execution_count": 19,
   "metadata": {},
   "outputs": [
    {
     "data": {
      "text/plain": [
       "1     2.3\n",
       "2     2.4\n",
       "3     2.8\n",
       "4     3.3\n",
       "5     3.6\n",
       "6     3.7\n",
       "7     3.9\n",
       "8     4.0\n",
       "9     4.2\n",
       "10    4.2\n",
       "11    4.5\n",
       "12    4.5\n",
       "13    4.8\n",
       "14    4.9\n",
       "15    5.0\n",
       "16    5.0\n",
       "17    5.1\n",
       "18    5.2\n",
       "19    5.5\n",
       "20    5.6\n",
       "21    5.9\n",
       "22    5.9\n",
       "23    6.0\n",
       "24    6.0\n",
       "dtype: float64"
      ]
     },
     "execution_count": 19,
     "metadata": {},
     "output_type": "execute_result"
    }
   ],
   "source": [
    "notensort"
   ]
  },
  {
   "cell_type": "code",
   "execution_count": 21,
   "metadata": {},
   "outputs": [
    {
     "data": {
      "text/plain": [
       "12.0"
      ]
     },
     "execution_count": 21,
     "metadata": {},
     "output_type": "execute_result"
    }
   ],
   "source": [
    "notensort.size/2"
   ]
  },
  {
   "cell_type": "code",
   "execution_count": 22,
   "metadata": {},
   "outputs": [],
   "source": [
    "notensort[11]= 1\n",
    "notensort[10] = 1\n",
    "notensort[9] = 1"
   ]
  },
  {
   "cell_type": "code",
   "execution_count": 23,
   "metadata": {},
   "outputs": [
    {
     "name": "stdout",
     "output_type": "stream",
     "text": [
      "4.1000000000000005\n",
      "4.65\n"
     ]
    }
   ],
   "source": [
    "print(notensort.mean())\n",
    "print(notensort.median())"
   ]
  },
  {
   "cell_type": "markdown",
   "metadata": {},
   "source": [
    "### b)"
   ]
  },
  {
   "cell_type": "code",
   "execution_count": 25,
   "metadata": {},
   "outputs": [
    {
     "data": {
      "text/plain": [
       "<function matplotlib.pyplot.show(*args, **kw)>"
      ]
     },
     "execution_count": 25,
     "metadata": {},
     "output_type": "execute_result"
    },
    {
     "data": {
      "image/png": "[encoded data removed]",
      "text/plain": [
       "<Figure size 432x288 with 4 Axes>"
      ]
     },
     "metadata": {
      "needs_background": "light"
     },
     "output_type": "display_data"
    }
   ],
   "source": [
    "plt.subplot(221)\n",
    "noten.plot(kind=\"hist\", edgecolor=\"black\")\n",
    "\n",
    "plt.subplot(223)\n",
    "noten.plot(kind=\"box\", title=\"Noten (ohne Ae)\")\n",
    "\n",
    "plt.subplot(222)\n",
    "notensort.plot(kind=\"hist\", edgecolor=\"black\")\n",
    "\n",
    "plt.subplot(224)\n",
    "notensort.plot(kind=\"box\", title=\"Noten (mit Ae)\")\n",
    "\n",
    "plt.show"
   ]
  },
  {
   "cell_type": "markdown",
   "metadata": {},
   "source": [
    "# 2.2\n",
    "### a)"
   ]
  },
  {
   "cell_type": "code",
   "execution_count": 26,
   "metadata": {},
   "outputs": [],
   "source": [
    "schlamm = pd.read_csv(\"../../01 Modulunterlagen/SW02/klaerschlamm.dat\", sep=\" \", index_col=0)"
   ]
  },
  {
   "cell_type": "code",
   "execution_count": 27,
   "metadata": {},
   "outputs": [
    {
     "data": {
      "text/html": [
       "<div>\n",
       "<style scoped>\n",
       "    .dataframe tbody tr th:only-of-type {\n",
       "        vertical-align: middle;\n",
       "    }\n",
       "\n",
       "    .dataframe tbody tr th {\n",
       "        vertical-align: top;\n",
       "    }\n",
       "\n",
       "    .dataframe thead th {\n",
       "        text-align: right;\n",
       "    }\n",
       "</style>\n",
       "<table border=\"1\" class=\"dataframe\">\n",
       "  <thead>\n",
       "    <tr style=\"text-align: right;\">\n",
       "      <th></th>\n",
       "      <th>Pr1</th>\n",
       "      <th>Pr2</th>\n",
       "      <th>Pr3</th>\n",
       "      <th>Pr4</th>\n",
       "      <th>Pr5</th>\n",
       "      <th>Pr6</th>\n",
       "      <th>Pr7</th>\n",
       "      <th>Pr8</th>\n",
       "      <th>Pr9</th>\n",
       "    </tr>\n",
       "  </thead>\n",
       "  <tbody>\n",
       "    <tr>\n",
       "      <th>1</th>\n",
       "      <td>233</td>\n",
       "      <td>491</td>\n",
       "      <td>428</td>\n",
       "      <td>376</td>\n",
       "      <td>200</td>\n",
       "      <td>364</td>\n",
       "      <td>474</td>\n",
       "      <td>444</td>\n",
       "      <td>351</td>\n",
       "    </tr>\n",
       "    <tr>\n",
       "      <th>2</th>\n",
       "      <td>253</td>\n",
       "      <td>530</td>\n",
       "      <td>453</td>\n",
       "      <td>389</td>\n",
       "      <td>191</td>\n",
       "      <td>402</td>\n",
       "      <td>495</td>\n",
       "      <td>453</td>\n",
       "      <td>371</td>\n",
       "    </tr>\n",
       "    <tr>\n",
       "      <th>3</th>\n",
       "      <td>240</td>\n",
       "      <td>530</td>\n",
       "      <td>460</td>\n",
       "      <td>390</td>\n",
       "      <td>200</td>\n",
       "      <td>390</td>\n",
       "      <td>480</td>\n",
       "      <td>440</td>\n",
       "      <td>350</td>\n",
       "    </tr>\n",
       "    <tr>\n",
       "      <th>4</th>\n",
       "      <td>243</td>\n",
       "      <td>518</td>\n",
       "      <td>456</td>\n",
       "      <td>389</td>\n",
       "      <td>186</td>\n",
       "      <td>385</td>\n",
       "      <td>483</td>\n",
       "      <td>459</td>\n",
       "      <td>369</td>\n",
       "    </tr>\n",
       "    <tr>\n",
       "      <th>5</th>\n",
       "      <td>244</td>\n",
       "      <td>521</td>\n",
       "      <td>446</td>\n",
       "      <td>392</td>\n",
       "      <td>193</td>\n",
       "      <td>385</td>\n",
       "      <td>481</td>\n",
       "      <td>451</td>\n",
       "      <td>357</td>\n",
       "    </tr>\n",
       "  </tbody>\n",
       "</table>\n",
       "</div>"
      ],
      "text/plain": [
       "   Pr1  Pr2  Pr3  Pr4  Pr5  Pr6  Pr7  Pr8  Pr9\n",
       "1  233  491  428  376  200  364  474  444  351\n",
       "2  253  530  453  389  191  402  495  453  371\n",
       "3  240  530  460  390  200  390  480  440  350\n",
       "4  243  518  456  389  186  385  483  459  369\n",
       "5  244  521  446  392  193  385  481  451  357"
      ]
     },
     "execution_count": 27,
     "metadata": {},
     "output_type": "execute_result"
    }
   ],
   "source": [
    "schlamm = schlamm.drop(\"Labor\",1)\n",
    "schlamm.head()"
   ]
  },
  {
   "cell_type": "code",
   "execution_count": 28,
   "metadata": {},
   "outputs": [
    {
     "data": {
      "text/html": [
       "<div>\n",
       "<style scoped>\n",
       "    .dataframe tbody tr th:only-of-type {\n",
       "        vertical-align: middle;\n",
       "    }\n",
       "\n",
       "    .dataframe tbody tr th {\n",
       "        vertical-align: top;\n",
       "    }\n",
       "\n",
       "    .dataframe thead th {\n",
       "        text-align: right;\n",
       "    }\n",
       "</style>\n",
       "<table border=\"1\" class=\"dataframe\">\n",
       "  <thead>\n",
       "    <tr style=\"text-align: right;\">\n",
       "      <th></th>\n",
       "      <th>Pr1</th>\n",
       "      <th>Pr2</th>\n",
       "      <th>Pr3</th>\n",
       "      <th>Pr4</th>\n",
       "      <th>Pr5</th>\n",
       "      <th>Pr6</th>\n",
       "      <th>Pr7</th>\n",
       "      <th>Pr8</th>\n",
       "      <th>Pr9</th>\n",
       "    </tr>\n",
       "  </thead>\n",
       "  <tbody>\n",
       "    <tr>\n",
       "      <th>count</th>\n",
       "      <td>21.000000</td>\n",
       "      <td>21.000000</td>\n",
       "      <td>21.000000</td>\n",
       "      <td>21.000000</td>\n",
       "      <td>21.000000</td>\n",
       "      <td>21.000000</td>\n",
       "      <td>21.000000</td>\n",
       "      <td>21.000000</td>\n",
       "      <td>21.000000</td>\n",
       "    </tr>\n",
       "    <tr>\n",
       "      <th>mean</th>\n",
       "      <td>246.142857</td>\n",
       "      <td>511.428571</td>\n",
       "      <td>443.428571</td>\n",
       "      <td>389.238095</td>\n",
       "      <td>188.238095</td>\n",
       "      <td>394.857143</td>\n",
       "      <td>465.523810</td>\n",
       "      <td>449.952381</td>\n",
       "      <td>388.904762</td>\n",
       "    </tr>\n",
       "    <tr>\n",
       "      <th>std</th>\n",
       "      <td>18.210672</td>\n",
       "      <td>76.962050</td>\n",
       "      <td>34.156363</td>\n",
       "      <td>56.642656</td>\n",
       "      <td>16.866845</td>\n",
       "      <td>56.642110</td>\n",
       "      <td>91.361162</td>\n",
       "      <td>57.069673</td>\n",
       "      <td>104.159927</td>\n",
       "    </tr>\n",
       "    <tr>\n",
       "      <th>min</th>\n",
       "      <td>216.000000</td>\n",
       "      <td>268.000000</td>\n",
       "      <td>378.000000</td>\n",
       "      <td>223.000000</td>\n",
       "      <td>157.000000</td>\n",
       "      <td>337.000000</td>\n",
       "      <td>110.000000</td>\n",
       "      <td>323.000000</td>\n",
       "      <td>319.000000</td>\n",
       "    </tr>\n",
       "    <tr>\n",
       "      <th>25%</th>\n",
       "      <td>239.000000</td>\n",
       "      <td>491.000000</td>\n",
       "      <td>422.000000</td>\n",
       "      <td>373.000000</td>\n",
       "      <td>178.000000</td>\n",
       "      <td>366.000000</td>\n",
       "      <td>456.000000</td>\n",
       "      <td>423.000000</td>\n",
       "      <td>350.000000</td>\n",
       "    </tr>\n",
       "    <tr>\n",
       "      <th>50%</th>\n",
       "      <td>244.000000</td>\n",
       "      <td>521.000000</td>\n",
       "      <td>446.000000</td>\n",
       "      <td>390.000000</td>\n",
       "      <td>188.000000</td>\n",
       "      <td>385.000000</td>\n",
       "      <td>481.000000</td>\n",
       "      <td>451.000000</td>\n",
       "      <td>369.000000</td>\n",
       "    </tr>\n",
       "    <tr>\n",
       "      <th>75%</th>\n",
       "      <td>257.000000</td>\n",
       "      <td>530.000000</td>\n",
       "      <td>459.000000</td>\n",
       "      <td>405.000000</td>\n",
       "      <td>200.000000</td>\n",
       "      <td>393.000000</td>\n",
       "      <td>493.000000</td>\n",
       "      <td>467.000000</td>\n",
       "      <td>382.000000</td>\n",
       "    </tr>\n",
       "    <tr>\n",
       "      <th>max</th>\n",
       "      <td>296.000000</td>\n",
       "      <td>732.000000</td>\n",
       "      <td>548.000000</td>\n",
       "      <td>562.000000</td>\n",
       "      <td>221.000000</td>\n",
       "      <td>557.000000</td>\n",
       "      <td>642.000000</td>\n",
       "      <td>639.000000</td>\n",
       "      <td>819.000000</td>\n",
       "    </tr>\n",
       "  </tbody>\n",
       "</table>\n",
       "</div>"
      ],
      "text/plain": [
       "              Pr1         Pr2         Pr3         Pr4         Pr5         Pr6  \\\n",
       "count   21.000000   21.000000   21.000000   21.000000   21.000000   21.000000   \n",
       "mean   246.142857  511.428571  443.428571  389.238095  188.238095  394.857143   \n",
       "std     18.210672   76.962050   34.156363   56.642656   16.866845   56.642110   \n",
       "min    216.000000  268.000000  378.000000  223.000000  157.000000  337.000000   \n",
       "25%    239.000000  491.000000  422.000000  373.000000  178.000000  366.000000   \n",
       "50%    244.000000  521.000000  446.000000  390.000000  188.000000  385.000000   \n",
       "75%    257.000000  530.000000  459.000000  405.000000  200.000000  393.000000   \n",
       "max    296.000000  732.000000  548.000000  562.000000  221.000000  557.000000   \n",
       "\n",
       "              Pr7         Pr8         Pr9  \n",
       "count   21.000000   21.000000   21.000000  \n",
       "mean   465.523810  449.952381  388.904762  \n",
       "std     91.361162   57.069673  104.159927  \n",
       "min    110.000000  323.000000  319.000000  \n",
       "25%    456.000000  423.000000  350.000000  \n",
       "50%    481.000000  451.000000  369.000000  \n",
       "75%    493.000000  467.000000  382.000000  \n",
       "max    642.000000  639.000000  819.000000  "
      ]
     },
     "execution_count": 28,
     "metadata": {},
     "output_type": "execute_result"
    }
   ],
   "source": [
    "schlamm.describe()"
   ]
  },
  {
   "cell_type": "code",
   "execution_count": 31,
   "metadata": {},
   "outputs": [
    {
     "data": {
      "text/plain": [
       "Pr1    244.0\n",
       "Pr2    521.0\n",
       "Pr3    446.0\n",
       "Pr4    390.0\n",
       "Pr5    188.0\n",
       "Pr6    385.0\n",
       "Pr7    481.0\n",
       "Pr8    451.0\n",
       "Pr9    369.0\n",
       "dtype: float64"
      ]
     },
     "execution_count": 31,
     "metadata": {},
     "output_type": "execute_result"
    }
   ],
   "source": [
    "schlamm.median()"
   ]
  },
  {
   "cell_type": "code",
   "execution_count": 29,
   "metadata": {},
   "outputs": [
    {
     "data": {
      "text/plain": [
       "<matplotlib.axes._subplots.AxesSubplot at 0x22be22bf9e8>"
      ]
     },
     "execution_count": 29,
     "metadata": {},
     "output_type": "execute_result"
    },
    {
     "data": {
      "image/png": "[encoded data removed]",
      "text/plain": [
       "<Figure size 432x288 with 1 Axes>"
      ]
     },
     "metadata": {
      "needs_background": "light"
     },
     "output_type": "display_data"
    }
   ],
   "source": [
    "schlamm.plot(kind=\"box\")"
   ]
  },
  {
   "cell_type": "markdown",
   "metadata": {},
   "source": [
    "- Ausreisser bei : (1), 2, 3, 4, 6, 7, 8, 9\n",
    "- Unter. arith M. & Median: 6 (10), 7 (15), 9 (20)\n",
    "- wahre Konz. unter 400mg/kg: 1, (4), 5, (9)"
   ]
  },
  {
   "cell_type": "markdown",
   "metadata": {},
   "source": [
    "### b)"
   ]
  },
  {
   "cell_type": "code",
   "execution_count": 32,
   "metadata": {},
   "outputs": [],
   "source": [
    "schlamm_centered = schlamm - schlamm.median()"
   ]
  },
  {
   "cell_type": "code",
   "execution_count": 33,
   "metadata": {},
   "outputs": [
    {
     "data": {
      "text/plain": [
       "<matplotlib.axes._subplots.AxesSubplot at 0x22be2f39208>"
      ]
     },
     "execution_count": 33,
     "metadata": {},
     "output_type": "execute_result"
    },
    {
     "data": {
      "image/png": "[encoded data removed]",
      "text/plain": [
       "<Figure size 432x288 with 1 Axes>"
      ]
     },
     "metadata": {
      "needs_background": "light"
     },
     "output_type": "display_data"
    }
   ],
   "source": [
    "schlamm_centered.T.plot(kind=\"box\")"
   ]
  },
  {
   "cell_type": "code",
   "execution_count": 44,
   "metadata": {},
   "outputs": [
    {
     "data": {
      "text/plain": [
       "<matplotlib.axes._subplots.AxesSubplot at 0x22be4b82a20>"
      ]
     },
     "execution_count": 44,
     "metadata": {},
     "output_type": "execute_result"
    },
    {
     "data": {
      "image/png": "[encoded data removed]",
      "text/plain": [
       "<Figure size 1080x1440 with 1 Axes>"
      ]
     },
     "metadata": {
      "needs_background": "light"
     },
     "output_type": "display_data"
    }
   ],
   "source": [
    "schlamm_centered.T.plot(kind=\"box\",showfliers=True, figsize=(15,20))"
   ]
  },
  {
   "cell_type": "markdown",
   "metadata": {},
   "source": [
    "- system. Messfehler: 1, 6, 7, 8, 9, 10, 12, 13, 14, 15, 16, 17, 18, 20\n",
    "- grosse Zufallsfehler: 6, 12, 21\n",
    "- Qualität besonders gut: 2, 3, 4"
   ]
  },
  {
   "cell_type": "markdown",
   "metadata": {},
   "source": [
    "# 2.3\n",
    "1 - b<br/>\n",
    "2 - c<br/>\n",
    "3 - a"
   ]
  },
  {
   "cell_type": "markdown",
   "metadata": {},
   "source": [
    "# 2.4\n",
    "### a)"
   ]
  },
  {
   "cell_type": "code",
   "execution_count": 46,
   "metadata": {},
   "outputs": [
    {
     "data": {
      "text/html": [
       "<div>\n",
       "<style scoped>\n",
       "    .dataframe tbody tr th:only-of-type {\n",
       "        vertical-align: middle;\n",
       "    }\n",
       "\n",
       "    .dataframe tbody tr th {\n",
       "        vertical-align: top;\n",
       "    }\n",
       "\n",
       "    .dataframe thead th {\n",
       "        text-align: right;\n",
       "    }\n",
       "</style>\n",
       "<table border=\"1\" class=\"dataframe\">\n",
       "  <thead>\n",
       "    <tr style=\"text-align: right;\">\n",
       "      <th></th>\n",
       "      <th>distance</th>\n",
       "      <th>recession.velocity</th>\n",
       "    </tr>\n",
       "  </thead>\n",
       "  <tbody>\n",
       "    <tr>\n",
       "      <th>0</th>\n",
       "      <td>0.032</td>\n",
       "      <td>170</td>\n",
       "    </tr>\n",
       "    <tr>\n",
       "      <th>1</th>\n",
       "      <td>0.034</td>\n",
       "      <td>290</td>\n",
       "    </tr>\n",
       "    <tr>\n",
       "      <th>2</th>\n",
       "      <td>0.214</td>\n",
       "      <td>-130</td>\n",
       "    </tr>\n",
       "    <tr>\n",
       "      <th>3</th>\n",
       "      <td>0.263</td>\n",
       "      <td>-70</td>\n",
       "    </tr>\n",
       "    <tr>\n",
       "      <th>4</th>\n",
       "      <td>0.275</td>\n",
       "      <td>-185</td>\n",
       "    </tr>\n",
       "  </tbody>\n",
       "</table>\n",
       "</div>"
      ],
      "text/plain": [
       "   distance  recession.velocity\n",
       "0     0.032                 170\n",
       "1     0.034                 290\n",
       "2     0.214                -130\n",
       "3     0.263                 -70\n",
       "4     0.275                -185"
      ]
     },
     "execution_count": 46,
     "metadata": {},
     "output_type": "execute_result"
    }
   ],
   "source": [
    "hubble = pd.read_csv(\"../../01 Modulunterlagen/SW02/hubble.txt\", sep=\" \")\n",
    "hubble.head()"
   ]
  },
  {
   "cell_type": "code",
   "execution_count": 56,
   "metadata": {},
   "outputs": [
    {
     "data": {
      "text/plain": [
       "<matplotlib.axes._subplots.AxesSubplot at 0x22be59e5f60>"
      ]
     },
     "execution_count": 56,
     "metadata": {},
     "output_type": "execute_result"
    },
    {
     "data": {
      "image/png": "[encoded data removed]",
      "text/plain": [
       "<Figure size 432x288 with 1 Axes>"
      ]
     },
     "metadata": {
      "needs_background": "light"
     },
     "output_type": "display_data"
    }
   ],
   "source": [
    "hubble.plot(kind=\"scatter\", y=\"distance\", x=\"recession.velocity\")"
   ]
  },
  {
   "cell_type": "markdown",
   "metadata": {},
   "source": [
    "### b)"
   ]
  },
  {
   "cell_type": "code",
   "execution_count": 55,
   "metadata": {},
   "outputs": [
    {
     "name": "stdout",
     "output_type": "stream",
     "text": [
      "0.0013729361049417948 0.39909821584359284\n"
     ]
    }
   ],
   "source": [
    "b, a = np.polyfit(y=hubble[\"distance\"], x=hubble[\"recession.velocity\"], deg=1)\n",
    "print(b, a)"
   ]
  },
  {
   "cell_type": "code",
   "execution_count": 58,
   "metadata": {},
   "outputs": [
    {
     "data": {
      "image/png": "[encoded data removed]",
      "text/plain": [
       "<Figure size 432x288 with 1 Axes>"
      ]
     },
     "metadata": {
      "needs_background": "light"
     },
     "output_type": "display_data"
    }
   ],
   "source": [
    "hubble.plot(kind=\"scatter\", y=\"distance\", x=\"recession.velocity\")\n",
    "\n",
    "b, a = np.polyfit(y=hubble[\"distance\"], x=hubble[\"recession.velocity\"], deg=1)\n",
    "\n",
    "x = np.linspace(hubble[\"recession.velocity\"].min(), hubble[\"recession.velocity\"].max())\n",
    "\n",
    "plt.plot(x, a + b * x, color=\"orange\")\n",
    "\n",
    "plt.show()"
   ]
  },
  {
   "cell_type": "markdown",
   "metadata": {},
   "source": [
    "### c)"
   ]
  },
  {
   "cell_type": "code",
   "execution_count": 59,
   "metadata": {},
   "outputs": [
    {
     "data": {
      "text/html": [
       "<div>\n",
       "<style scoped>\n",
       "    .dataframe tbody tr th:only-of-type {\n",
       "        vertical-align: middle;\n",
       "    }\n",
       "\n",
       "    .dataframe tbody tr th {\n",
       "        vertical-align: top;\n",
       "    }\n",
       "\n",
       "    .dataframe thead th {\n",
       "        text-align: right;\n",
       "    }\n",
       "</style>\n",
       "<table border=\"1\" class=\"dataframe\">\n",
       "  <thead>\n",
       "    <tr style=\"text-align: right;\">\n",
       "      <th></th>\n",
       "      <th>distance</th>\n",
       "      <th>recession.velocity</th>\n",
       "    </tr>\n",
       "  </thead>\n",
       "  <tbody>\n",
       "    <tr>\n",
       "      <th>distance</th>\n",
       "      <td>1.000000</td>\n",
       "      <td>0.789639</td>\n",
       "    </tr>\n",
       "    <tr>\n",
       "      <th>recession.velocity</th>\n",
       "      <td>0.789639</td>\n",
       "      <td>1.000000</td>\n",
       "    </tr>\n",
       "  </tbody>\n",
       "</table>\n",
       "</div>"
      ],
      "text/plain": [
       "                    distance  recession.velocity\n",
       "distance            1.000000            0.789639\n",
       "recession.velocity  0.789639            1.000000"
      ]
     },
     "execution_count": 59,
     "metadata": {},
     "output_type": "execute_result"
    }
   ],
   "source": [
    "hubble.corr()"
   ]
  },
  {
   "cell_type": "markdown",
   "metadata": {},
   "source": [
    "1 = sehr guter Zusammenhang\n",
    "0 = kein Zusammenhang\n",
    "0.79 = Zusammenhang besteht --> linearer Zusammenahng von Abstand und Fluchgeschwindigkeit der Galaxien"
   ]
  },
  {
   "cell_type": "markdown",
   "metadata": {},
   "source": [
    "# 2.5\n",
    "### a)"
   ]
  },
  {
   "cell_type": "code",
   "execution_count": 60,
   "metadata": {},
   "outputs": [],
   "source": [
    "income = pd.read_csv(\"../../01 Modulunterlagen/SW02/income.dat\", sep=\" \")"
   ]
  },
  {
   "cell_type": "code",
   "execution_count": 61,
   "metadata": {},
   "outputs": [
    {
     "data": {
      "text/html": [
       "<div>\n",
       "<style scoped>\n",
       "    .dataframe tbody tr th:only-of-type {\n",
       "        vertical-align: middle;\n",
       "    }\n",
       "\n",
       "    .dataframe tbody tr th {\n",
       "        vertical-align: top;\n",
       "    }\n",
       "\n",
       "    .dataframe thead th {\n",
       "        text-align: right;\n",
       "    }\n",
       "</style>\n",
       "<table border=\"1\" class=\"dataframe\">\n",
       "  <thead>\n",
       "    <tr style=\"text-align: right;\">\n",
       "      <th></th>\n",
       "      <th>AFQT</th>\n",
       "      <th>Educ</th>\n",
       "      <th>Income2005</th>\n",
       "    </tr>\n",
       "  </thead>\n",
       "  <tbody>\n",
       "    <tr>\n",
       "      <th>0</th>\n",
       "      <td>6.841</td>\n",
       "      <td>12</td>\n",
       "      <td>5500</td>\n",
       "    </tr>\n",
       "    <tr>\n",
       "      <th>1</th>\n",
       "      <td>99.393</td>\n",
       "      <td>16</td>\n",
       "      <td>65000</td>\n",
       "    </tr>\n",
       "    <tr>\n",
       "      <th>2</th>\n",
       "      <td>47.412</td>\n",
       "      <td>12</td>\n",
       "      <td>19000</td>\n",
       "    </tr>\n",
       "    <tr>\n",
       "      <th>3</th>\n",
       "      <td>44.022</td>\n",
       "      <td>14</td>\n",
       "      <td>36000</td>\n",
       "    </tr>\n",
       "    <tr>\n",
       "      <th>4</th>\n",
       "      <td>59.683</td>\n",
       "      <td>14</td>\n",
       "      <td>65000</td>\n",
       "    </tr>\n",
       "  </tbody>\n",
       "</table>\n",
       "</div>"
      ],
      "text/plain": [
       "     AFQT  Educ  Income2005\n",
       "0   6.841    12        5500\n",
       "1  99.393    16       65000\n",
       "2  47.412    12       19000\n",
       "3  44.022    14       36000\n",
       "4  59.683    14       65000"
      ]
     },
     "execution_count": 61,
     "metadata": {},
     "output_type": "execute_result"
    }
   ],
   "source": [
    "income.head()"
   ]
  },
  {
   "cell_type": "code",
   "execution_count": 76,
   "metadata": {},
   "outputs": [
    {
     "data": {
      "image/png": "[encoded data removed]",
      "text/plain": [
       "<Figure size 432x288 with 1 Axes>"
      ]
     },
     "metadata": {
      "needs_background": "light"
     },
     "output_type": "display_data"
    },
    {
     "data": {
      "image/png": "[encoded data removed]",
      "text/plain": [
       "<Figure size 432x288 with 1 Axes>"
      ]
     },
     "metadata": {
      "needs_background": "light"
     },
     "output_type": "display_data"
    },
    {
     "data": {
      "image/png": "[encoded data removed]",
      "text/plain": [
       "<Figure size 432x288 with 1 Axes>"
      ]
     },
     "metadata": {
      "needs_background": "light"
     },
     "output_type": "display_data"
    }
   ],
   "source": [
    "plt.subplot(121)\n",
    "income.plot(kind=\"scatter\", x=\"Educ\", y=\"Income2005\")\n",
    "\n",
    "plt.subplot(122)\n",
    "income.plot(kind=\"scatter\", x=\"AFQT\", y=\"Income2005\")\n",
    "\n",
    "plt.show()"
   ]
  },
  {
   "cell_type": "code",
   "execution_count": 72,
   "metadata": {},
   "outputs": [
    {
     "data": {
      "image/png": "[encoded data removed]",
      "text/plain": [
       "<Figure size 432x288 with 1 Axes>"
      ]
     },
     "metadata": {
      "needs_background": "light"
     },
     "output_type": "display_data"
    }
   ],
   "source": [
    "income.plot(kind=\"scatter\", x=\"AFQT\", y=\"Income2005\")\n",
    "plt.show()"
   ]
  },
  {
   "cell_type": "code",
   "execution_count": null,
   "metadata": {},
   "outputs": [],
   "source": []
  }
 ],
 "metadata": {
  "kernelspec": {
   "display_name": "Python 3",
   "language": "python",
   "name": "python3"
  },
  "language_info": {
   "codemirror_mode": {
    "name": "ipython",
    "version": 3
   },
   "file_extension": ".py",
   "mimetype": "text/x-python",
   "name": "python",
   "nbconvert_exporter": "python",
   "pygments_lexer": "ipython3",
   "version": "3.7.3"
  }
 },
 "nbformat": 4,
 "nbformat_minor": 2
}
