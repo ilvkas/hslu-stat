{
 "cells": [
  {
   "cell_type": "code",
   "execution_count": 1,
   "metadata": {},
   "outputs": [],
   "source": [
    "import matplotlib.pyplot as plt\n",
    "import scipy.stats as st\n",
    "import seaborn as sns\n",
    "import pandas as pd\n",
    "import numpy as np"
   ]
  },
  {
   "cell_type": "markdown",
   "metadata": {},
   "source": [
    "# 7.1\n",
    "### a)"
   ]
  },
  {
   "cell_type": "code",
   "execution_count": 18,
   "metadata": {},
   "outputs": [
    {
     "name": "stdout",
     "output_type": "stream",
     "text": [
      "Mittelwert:  209.2683823529412\n"
     ]
    }
   ],
   "source": [
    "x = np.loadtxt(r\"../../01 Modulunterlagen/SW07/oldfaithful.txt\")\n",
    "xm =np.mean(x)\n",
    "print('Mittelwert: ', xm)"
   ]
  },
  {
   "cell_type": "code",
   "execution_count": 15,
   "metadata": {},
   "outputs": [
    {
     "name": "stdout",
     "output_type": "stream",
     "text": [
      "Vertrauensintervall:  [201.36351103 217.35735294]\n"
     ]
    }
   ],
   "source": [
    "n = np.size(x)\n",
    "nboot = 1000\n",
    "tmpdata = np.random.choice(x, n*nboot, replace=True)\n",
    "bootstrapsample = np.reshape(tmpdata, (n, nboot))\n",
    "xbarstar = np.mean(bootstrapsample, axis=0)\n",
    "d = np.percentile(xbarstar, q=[2.5, 97.5])\n",
    "print('Vertrauensintervall: ',d)"
   ]
  },
  {
   "cell_type": "markdown",
   "metadata": {},
   "source": [
    "Bootstrap = Zufall ---> Vertrauensinterval zw. [200.5/202 - 217/218]"
   ]
  },
  {
   "cell_type": "markdown",
   "metadata": {},
   "source": [
    "### b)"
   ]
  },
  {
   "cell_type": "code",
   "execution_count": 17,
   "metadata": {},
   "outputs": [
    {
     "name": "stdout",
     "output_type": "stream",
     "text": [
      "Median:  240.0\n"
     ]
    }
   ],
   "source": [
    "xmed = np.median(x)\n",
    "print('Median: ', xmed)"
   ]
  },
  {
   "cell_type": "code",
   "execution_count": 21,
   "metadata": {},
   "outputs": [
    {
     "name": "stdout",
     "output_type": "stream",
     "text": [
      "Vertrauensintervall:  [230. 246.]\n"
     ]
    }
   ],
   "source": [
    "n = np.size(x)\n",
    "nboot = 1000\n",
    "tmpdata = np.random.choice(x, n*nboot, replace=True)\n",
    "bootstrapsample = np.reshape(tmpdata, (n, nboot))\n",
    "xbarstar = np.median(bootstrapsample, axis=0)\n",
    "d = np.percentile(xbarstar, q=[2.5, 97.5])\n",
    "print('Vertrauensintervall: ',d)"
   ]
  },
  {
   "cell_type": "markdown",
   "metadata": {},
   "source": [
    "### c)"
   ]
  },
  {
   "cell_type": "code",
   "execution_count": 24,
   "metadata": {},
   "outputs": [
    {
     "name": "stdout",
     "output_type": "stream",
     "text": [
      "0.228\n"
     ]
    }
   ],
   "source": [
    "n = np.size(x)\n",
    "nboot = 1000\n",
    "tmpdata = np.random.choice(x, n*nboot, replace=True)\n",
    "bootstrapsample = np.reshape(tmpdata, (n, nboot))\n",
    "xbarstar = np.mean(bootstrapsample, axis=0)-np.mean(x)\n",
    "l = np.sum(xbarstar < -5)\n",
    "u = np.sum(xbarstar > 5)\n",
    "ratio = (l+u)/nboot\n",
    "print(ratio)"
   ]
  },
  {
   "cell_type": "markdown",
   "metadata": {},
   "source": [
    "Die Wahrscheinlichkeit ist also etwa 0.23, dass der Durchschnitt der Messungen\n",
    "mehr als 5 Einheiten vom wahren Mittelwert abweicht."
   ]
  },
  {
   "cell_type": "markdown",
   "metadata": {},
   "source": [
    "# 7.2\n",
    "nie behandelt"
   ]
  },
  {
   "cell_type": "markdown",
   "metadata": {},
   "source": [
    "# 7.3"
   ]
  },
  {
   "cell_type": "markdown",
   "metadata": {},
   "source": [
    "### a)"
   ]
  },
  {
   "cell_type": "code",
   "execution_count": 30,
   "metadata": {},
   "outputs": [
    {
     "data": {
      "text/plain": [
       "(26.112707522188142, 35.887292477811854)"
      ]
     },
     "execution_count": 30,
     "metadata": {},
     "output_type": "execute_result"
    }
   ],
   "source": [
    "st.norm.interval(alpha=0.99, loc=31, scale=6/np.sqrt(10))"
   ]
  },
  {
   "cell_type": "markdown",
   "metadata": {},
   "source": [
    "standardisiert:"
   ]
  },
  {
   "cell_type": "markdown",
   "metadata": {},
   "source": [
    "wert bei 99.5% --> zweiseitig 1% aufteilen --> 0.05 & 99.5<br>\n",
    "Standardisiert: nur eine Seite berechnen."
   ]
  },
  {
   "cell_type": "code",
   "execution_count": 35,
   "metadata": {},
   "outputs": [
    {
     "data": {
      "text/plain": [
       "2.5758293035489004"
      ]
     },
     "execution_count": 35,
     "metadata": {},
     "output_type": "execute_result"
    }
   ],
   "source": [
    "st.norm.ppf(q=0.995)"
   ]
  },
  {
   "cell_type": "code",
   "execution_count": 36,
   "metadata": {},
   "outputs": [
    {
     "data": {
      "text/plain": [
       "-2.575829303548901"
      ]
     },
     "execution_count": 36,
     "metadata": {},
     "output_type": "execute_result"
    }
   ],
   "source": [
    "st.norm.ppf(q=0.005)"
   ]
  },
  {
   "cell_type": "markdown",
   "metadata": {},
   "source": [
    "Interval [-2.576,2.576]"
   ]
  },
  {
   "cell_type": "markdown",
   "metadata": {},
   "source": [
    "($\\bar{x}$-$\\mu$) / ($\\sigma$) = (31 - $\\mu$) / (6 / $\\sqrt{10}$) --> muss im 99% Intervall liegen"
   ]
  },
  {
   "cell_type": "markdown",
   "metadata": {},
   "source": [
    "zweiseitige Formel: [$\\bar{x}$ - Z1 (Intervall-Grenze negativ) * $\\sigma$,  $\\bar{x}$ - Z1 (Intervall-Grenze positiv) * $\\sigma$]"
   ]
  },
  {
   "cell_type": "code",
   "execution_count": 37,
   "metadata": {},
   "outputs": [
    {
     "data": {
      "text/plain": [
       "35.887292477811854"
      ]
     },
     "execution_count": 37,
     "metadata": {},
     "output_type": "execute_result"
    }
   ],
   "source": [
    "(31-st.norm.ppf(q=0.005)*(6/np.sqrt(10)))"
   ]
  },
  {
   "cell_type": "code",
   "execution_count": 38,
   "metadata": {},
   "outputs": [
    {
     "data": {
      "text/plain": [
       "26.112707522188142"
      ]
     },
     "execution_count": 38,
     "metadata": {},
     "output_type": "execute_result"
    }
   ],
   "source": [
    "(31-st.norm.ppf(q=0.995)*(6/np.sqrt(10)))"
   ]
  },
  {
   "cell_type": "markdown",
   "metadata": {},
   "source": [
    "### b)"
   ]
  },
  {
   "cell_type": "markdown",
   "metadata": {},
   "source": [
    "$\\sqrt{n}$-Gesetz: 4x so viele Beobachtungen sind nötig damit der Fehler halbiert wird."
   ]
  },
  {
   "cell_type": "markdown",
   "metadata": {},
   "source": [
    "99% Vertrauensintervall = 2*2.575 * $\\sigma$/$\\sqrt{n}$"
   ]
  },
  {
   "cell_type": "markdown",
   "metadata": {},
   "source": [
    "2*2.576 * $\\sigma$/$\\sqrt{n}$ <= 1 für 1ppb"
   ]
  },
  {
   "cell_type": "markdown",
   "metadata": {},
   "source": [
    "n ist gesucht --> nach n auflösen"
   ]
  },
  {
   "cell_type": "markdown",
   "metadata": {},
   "source": [
    "2 * 2.576 * 6 = $\\sqrt{n}$"
   ]
  },
  {
   "cell_type": "markdown",
   "metadata": {},
   "source": [
    "30.912 = $\\sqrt{n}$"
   ]
  },
  {
   "cell_type": "markdown",
   "metadata": {},
   "source": [
    "n = 955.55 --> 956 Beobachtungen"
   ]
  },
  {
   "cell_type": "markdown",
   "metadata": {},
   "source": [
    "### c)"
   ]
  },
  {
   "cell_type": "markdown",
   "metadata": {},
   "source": [
    "wir rechnen nun mit t.ppf (Freiheitsgraden)"
   ]
  },
  {
   "cell_type": "code",
   "execution_count": 42,
   "metadata": {},
   "outputs": [
    {
     "data": {
      "text/plain": [
       "37.166129404036575"
      ]
     },
     "execution_count": 42,
     "metadata": {},
     "output_type": "execute_result"
    }
   ],
   "source": [
    "st.t.ppf(q=0.995, df=9, loc=31, scale=6/np.sqrt(10))"
   ]
  },
  {
   "cell_type": "code",
   "execution_count": 43,
   "metadata": {},
   "outputs": [
    {
     "data": {
      "text/plain": [
       "24.833870595963425"
      ]
     },
     "execution_count": 43,
     "metadata": {},
     "output_type": "execute_result"
    }
   ],
   "source": [
    "st.t.ppf(q=0.005, df=9, loc=31, scale=6/np.sqrt(10))"
   ]
  },
  {
   "cell_type": "markdown",
   "metadata": {},
   "source": [
    "# 7.4\n",
    "### a)"
   ]
  },
  {
   "cell_type": "code",
   "execution_count": 45,
   "metadata": {},
   "outputs": [
    {
     "data": {
      "text/plain": [
       "(-405.2369210449137, -400.7630789550863)"
      ]
     },
     "execution_count": 45,
     "metadata": {},
     "output_type": "execute_result"
    }
   ],
   "source": [
    "st.t.interval(alpha=0.95, df=9, loc=-403, scale=3.127/np.sqrt(10))"
   ]
  },
  {
   "cell_type": "markdown",
   "metadata": {},
   "source": [
    "### b)\n",
    "Da −400.0 nicht im 95%-Vertrauensintervall liegt, würde die Nullhypothese\n",
    "H0 : μ = −400.0 zu Gunsten der Alternative HA : μ 6= −400.0 auf dem 5%-\n",
    "Signifikanzniveau verworfen werden.<br>\n",
    "Die Beobachtungen und die Hypothese H0 : μ = −400.0 passen also nicht gut\n",
    "zusammen und daher ist die wahre Differenz wohl nicht −400.0."
   ]
  },
  {
   "cell_type": "markdown",
   "metadata": {},
   "source": [
    "# 7.5\n",
    "### a)"
   ]
  },
  {
   "cell_type": "markdown",
   "metadata": {},
   "source": [
    "Null : = 500<br>\n",
    "Altern: > 500<br>\n",
    "Begründung: Die alten Schrauben (500) sollen durch Neue (+500) ersetzt werden. Mit > 500 können wir ebenfalls neue Schrauben mit (<= 500) ausschliessen. Diese gehören nicht zur gewünschten Kategorie. Werden neue Schrauben mit <= 500 verwendet könnte es im schlimmsten Fall zum Brückeneinsturz kommen --> Fehler 1. Art"
   ]
  },
  {
   "cell_type": "markdown",
   "metadata": {},
   "source": [
    "### b)"
   ]
  },
  {
   "cell_type": "code",
   "execution_count": 50,
   "metadata": {},
   "outputs": [],
   "source": [
    "x = pd.Series([520,512,499,524,505])"
   ]
  },
  {
   "cell_type": "code",
   "execution_count": 56,
   "metadata": {},
   "outputs": [
    {
     "data": {
      "text/plain": [
       "509.8388828578604"
      ]
     },
     "execution_count": 56,
     "metadata": {},
     "output_type": "execute_result"
    }
   ],
   "source": [
    "st.t.ppf(q=0.95, df=x.size-1, loc=500, scale=x.std()/np.sqrt(x.size))"
   ]
  },
  {
   "cell_type": "code",
   "execution_count": 57,
   "metadata": {},
   "outputs": [
    {
     "data": {
      "text/plain": [
       "512.0"
      ]
     },
     "execution_count": 57,
     "metadata": {},
     "output_type": "execute_result"
    }
   ],
   "source": [
    "x.mean()"
   ]
  },
  {
   "cell_type": "markdown",
   "metadata": {},
   "source": [
    "### c)"
   ]
  },
  {
   "cell_type": "code",
   "execution_count": 59,
   "metadata": {},
   "outputs": [
    {
     "data": {
      "text/plain": [
       "(499.1861719188852, 524.8138280811148)"
      ]
     },
     "execution_count": 59,
     "metadata": {},
     "output_type": "execute_result"
    }
   ],
   "source": [
    "st.t.interval(alpha=0.95, df=x.size-1, loc=512, scale=x.std()/np.sqrt(x.size))"
   ]
  },
  {
   "cell_type": "markdown",
   "metadata": {},
   "source": [
    "### d)"
   ]
  },
  {
   "cell_type": "code",
   "execution_count": 60,
   "metadata": {},
   "outputs": [
    {
     "data": {
      "text/plain": [
       "(502.95438930304954, 521.0456106969505)"
      ]
     },
     "execution_count": 60,
     "metadata": {},
     "output_type": "execute_result"
    }
   ],
   "source": [
    "st.norm.interval(alpha=0.95, loc=512, scale=x.std()/np.sqrt(x.size))"
   ]
  },
  {
   "cell_type": "markdown",
   "metadata": {},
   "source": [
    "### e)"
   ]
  },
  {
   "cell_type": "markdown",
   "metadata": {},
   "source": [
    "a) R ($\\alpha$ wurde auf 5% = 0.05 gesetzt)<br>\n",
    "b) R ($\\alpha$ = 0.9999 würde nahezu alle Werte ausschliessen)<br>\n",
    "c) R (da wir einen einseitigen Test machen)<br>\n",
    "d) R (aus 0.95 wird 0.975)<br>\n",
    "e) R (für n * k --> Standardverteilung wird immer schmaller --> Verwerfungsbereich kommt immer näher an $H_0$ und irgendwann wird diese dann verworfen)"
   ]
  },
  {
   "cell_type": "code",
   "execution_count": null,
   "metadata": {},
   "outputs": [],
   "source": []
  }
 ],
 "metadata": {
  "kernelspec": {
   "display_name": "Python 3",
   "language": "python",
   "name": "python3"
  },
  "language_info": {
   "codemirror_mode": {
    "name": "ipython",
    "version": 3
   },
   "file_extension": ".py",
   "mimetype": "text/x-python",
   "name": "python",
   "nbconvert_exporter": "python",
   "pygments_lexer": "ipython3",
   "version": "3.7.3"
  }
 },
 "nbformat": 4,
 "nbformat_minor": 2
}
