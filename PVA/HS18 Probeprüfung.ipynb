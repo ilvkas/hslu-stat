{
 "cells": [
  {
   "cell_type": "code",
   "execution_count": 1,
   "metadata": {},
   "outputs": [],
   "source": [
    "import matplotlib.pyplot as plt\n",
    "import scipy.stats as st\n",
    "import seaborn as sns\n",
    "import pandas as pd\n",
    "import numpy as np"
   ]
  },
  {
   "cell_type": "markdown",
   "metadata": {},
   "source": [
    "# 1"
   ]
  },
  {
   "cell_type": "code",
   "execution_count": 8,
   "metadata": {},
   "outputs": [
    {
     "data": {
      "text/html": [
       "<div>\n",
       "<style scoped>\n",
       "    .dataframe tbody tr th:only-of-type {\n",
       "        vertical-align: middle;\n",
       "    }\n",
       "\n",
       "    .dataframe tbody tr th {\n",
       "        vertical-align: top;\n",
       "    }\n",
       "\n",
       "    .dataframe thead th {\n",
       "        text-align: right;\n",
       "    }\n",
       "</style>\n",
       "<table border=\"1\" class=\"dataframe\">\n",
       "  <thead>\n",
       "    <tr style=\"text-align: right;\">\n",
       "      <th></th>\n",
       "      <th>Methode A</th>\n",
       "      <th>Methode B</th>\n",
       "    </tr>\n",
       "  </thead>\n",
       "  <tbody>\n",
       "    <tr>\n",
       "      <th>count</th>\n",
       "      <td>30.000000</td>\n",
       "      <td>30.000000</td>\n",
       "    </tr>\n",
       "    <tr>\n",
       "      <th>mean</th>\n",
       "      <td>99.793499</td>\n",
       "      <td>100.743755</td>\n",
       "    </tr>\n",
       "    <tr>\n",
       "      <th>std</th>\n",
       "      <td>0.809831</td>\n",
       "      <td>1.102389</td>\n",
       "    </tr>\n",
       "    <tr>\n",
       "      <th>min</th>\n",
       "      <td>98.017907</td>\n",
       "      <td>98.381312</td>\n",
       "    </tr>\n",
       "    <tr>\n",
       "      <th>25%</th>\n",
       "      <td>99.394692</td>\n",
       "      <td>100.015813</td>\n",
       "    </tr>\n",
       "    <tr>\n",
       "      <th>50%</th>\n",
       "      <td>99.759509</td>\n",
       "      <td>100.577337</td>\n",
       "    </tr>\n",
       "    <tr>\n",
       "      <th>75%</th>\n",
       "      <td>100.259356</td>\n",
       "      <td>101.440588</td>\n",
       "    </tr>\n",
       "    <tr>\n",
       "      <th>max</th>\n",
       "      <td>101.356942</td>\n",
       "      <td>102.760695</td>\n",
       "    </tr>\n",
       "  </tbody>\n",
       "</table>\n",
       "</div>"
      ],
      "text/plain": [
       "        Methode A   Methode B\n",
       "count   30.000000   30.000000\n",
       "mean    99.793499  100.743755\n",
       "std      0.809831    1.102389\n",
       "min     98.017907   98.381312\n",
       "25%     99.394692  100.015813\n",
       "50%     99.759509  100.577337\n",
       "75%    100.259356  101.440588\n",
       "max    101.356942  102.760695"
      ]
     },
     "execution_count": 8,
     "metadata": {},
     "output_type": "execute_result"
    }
   ],
   "source": [
    "ws = pd.read_csv(r\"../../01 Modulunterlagen/Alte MEP/widerstaende.txt\", sep=\" \")\n",
    "ws.describe()"
   ]
  },
  {
   "cell_type": "markdown",
   "metadata": {},
   "source": [
    "### a)\n",
    "gepaarter Test, da für jeden Wert bei mA ein Wert aus mB zugeordnet werden kann."
   ]
  },
  {
   "cell_type": "markdown",
   "metadata": {},
   "source": [
    "### b)"
   ]
  },
  {
   "cell_type": "markdown",
   "metadata": {},
   "source": [
    "Definition: $\\mu_{D}$ = $\\mu_{mA}$ - $\\mu_{mB}$<br>\n",
    "Null: $\\mu_{D}$ = 0<br>\n",
    "Altern.: $\\mu_{A}$ > $\\mu_{D}$ <b>links = FALSCH</b> $\\mu_{A}$ != $\\mu_{D}$\n"
   ]
  },
  {
   "cell_type": "markdown",
   "metadata": {},
   "source": [
    "### c)"
   ]
  },
  {
   "cell_type": "code",
   "execution_count": 10,
   "metadata": {},
   "outputs": [],
   "source": [
    "dif = ws[\"Methode A\"]-ws[\"Methode B\"]"
   ]
  },
  {
   "cell_type": "code",
   "execution_count": 12,
   "metadata": {},
   "outputs": [
    {
     "name": "stdout",
     "output_type": "stream",
     "text": [
      "Mittelwert:  -0.9502568696222127\n",
      "Varianz:  1.8898564410608354\n",
      "Standardabw.:  1.3747204956138668\n"
     ]
    }
   ],
   "source": [
    "print('Mittelwert: ', dif.mean())\n",
    "print('Varianz: ', dif.var())\n",
    "print('Standardabw.: ', dif.std())"
   ]
  },
  {
   "cell_type": "markdown",
   "metadata": {},
   "source": [
    "### d)"
   ]
  },
  {
   "cell_type": "markdown",
   "metadata": {},
   "source": [
    "Teststatistik: $\\bar{x}$~$N$(-0.95, 1.37^2/$\\sqrt{30}$) <-- Zentraler Grenzwertsatz"
   ]
  },
  {
   "cell_type": "code",
   "execution_count": 24,
   "metadata": {},
   "outputs": [
    {
     "data": {
      "text/plain": [
       "-3.7860577810321945"
      ]
     },
     "execution_count": 24,
     "metadata": {},
     "output_type": "execute_result"
    }
   ],
   "source": [
    "(dif.mean()-0) / (dif.std() / np.sqrt(dif.size))"
   ]
  },
  {
   "cell_type": "markdown",
   "metadata": {},
   "source": [
    "Verwerfungsbereich"
   ]
  },
  {
   "cell_type": "code",
   "execution_count": 26,
   "metadata": {},
   "outputs": [
    {
     "name": "stdout",
     "output_type": "stream",
     "text": [
      "2.045229642132703\n",
      "-2.0452296421327034\n"
     ]
    }
   ],
   "source": [
    "print(st.t.ppf(0.975, df=dif.size-1))\n",
    "print(st.t.ppf(0.025, df=dif.size-1))"
   ]
  },
  {
   "cell_type": "code",
   "execution_count": 21,
   "metadata": {},
   "outputs": [
    {
     "data": {
      "text/plain": [
       "Ttest_relResult(statistic=-3.7860577810321954, pvalue=0.0007128629380377862)"
      ]
     },
     "execution_count": 21,
     "metadata": {},
     "output_type": "execute_result"
    }
   ],
   "source": [
    "st.ttest_rel(ws[\"Methode A\"], ws[\"Methode B\"])"
   ]
  },
  {
   "cell_type": "markdown",
   "metadata": {},
   "source": [
    "Der t-test geht davon aus, dass die Daten normalverteilt sind, was aber nicht zwingend der Fall sein muss. Ein Wilcoxon-Test würde sich empfehlen / anbieten."
   ]
  },
  {
   "cell_type": "markdown",
   "metadata": {},
   "source": [
    "### e)"
   ]
  },
  {
   "cell_type": "code",
   "execution_count": 23,
   "metadata": {},
   "outputs": [
    {
     "data": {
      "text/plain": [
       "(-1.463585939011567, -0.43692780023285827)"
      ]
     },
     "execution_count": 23,
     "metadata": {},
     "output_type": "execute_result"
    }
   ],
   "source": [
    "st.t.interval(alpha=0.95, df=dif.size-1, loc=dif.mean(), scale=dif.std()/np.sqrt(dif.size))"
   ]
  },
  {
   "cell_type": "markdown",
   "metadata": {},
   "source": [
    "Beinhaltet den wahren Wert mit einer W'keit von 95%<br>\n",
    "Da 0 nicht im Vertrauensintervall liegt, können wir schliessen, dass es einen signifikanten\n",
    "Unterschied zwischen den beiden Messmethoden gibt."
   ]
  },
  {
   "cell_type": "markdown",
   "metadata": {},
   "source": [
    "### f) bei bekannter Std"
   ]
  },
  {
   "cell_type": "code",
   "execution_count": 28,
   "metadata": {},
   "outputs": [
    {
     "name": "stdout",
     "output_type": "stream",
     "text": [
      "1.959963984540054\n"
     ]
    }
   ],
   "source": [
    "print(st.norm.ppf(0.975))"
   ]
  },
  {
   "cell_type": "markdown",
   "metadata": {},
   "source": [
    "Das Vertrauensintervallwird kleiner, da dieUnsicherheit aus der Schätzung von s wegfällt.\n",
    "(1 Punkt)"
   ]
  },
  {
   "cell_type": "markdown",
   "metadata": {},
   "source": [
    "### g) Bootstrapping\n",
    "Mit Hilfe von Bootstrapping können Vertrauensintervalle angegeben werden, ohne dass\n",
    "Annahmen zur Verteilung der Datenwerte getroffen werden müssen. Dazu werden aus\n",
    "dem Datensatz, hier bestehend aus jeweils 30 Werten, zufällig mit Zurücklegen gleich\n",
    "viele Werte gezogen, wie im Datensatz erhalten sind, also 11 Werte. Nun wird für ein\n",
    "solches Bootstrap-Sample der Mittelwert bestimmt. Das Verfahren wird nun 1000 Mal\n",
    "wiederholt, wobei für jedes Bootstrap Sample der Mittelwert bestimmt wird. Die Grenzen\n",
    "des 99% Vertrauensintervalls erhält man nun, wenn man von den 1000 Mittelwerten\n",
    "das 0.5%-Quantil als untere Grenze und das 97.5%-Quantil als obere Grenze nimmt. Falls\n",
    "die beiden Vertrauensintervalle der beiden Altersgruppen überlappen, gibt es keinen signifikanten\n",
    "Unterschied und die Nullhypothese wird beibehalten."
   ]
  },
  {
   "cell_type": "markdown",
   "metadata": {},
   "source": [
    "# 2\n",
    "## Check TR uf RAD!"
   ]
  },
  {
   "cell_type": "markdown",
   "metadata": {},
   "source": [
    "### a)"
   ]
  },
  {
   "cell_type": "markdown",
   "metadata": {},
   "source": [
    "X(t) = 0.1<br>\n",
    "A = E[A] = 1/$\\lambda$<br>\n",
    "cos($\\pi$ * 1/3)<br><br>\n",
    "einsetzen und auflösen<br>\n",
    "$\\lambda$ = 5\n"
   ]
  },
  {
   "cell_type": "markdown",
   "metadata": {},
   "source": [
    "### b)"
   ]
  },
  {
   "cell_type": "markdown",
   "metadata": {},
   "source": [
    "P[X(t=$t_0$) > 0.5]<br>\n",
    "P[A * cos($\\pi$ * $t_0$) > 0.5]<br>\n",
    "P[A * 0.5 > 0.5]<br>\n",
    "P[A > 1]<br>\n",
    "1 - P [A <= 1]"
   ]
  },
  {
   "cell_type": "code",
   "execution_count": 31,
   "metadata": {},
   "outputs": [
    {
     "data": {
      "text/plain": [
       "0.006737946999085476"
      ]
     },
     "execution_count": 31,
     "metadata": {},
     "output_type": "execute_result"
    }
   ],
   "source": [
    "1-st.expon.cdf(x=1, scale=1/5)"
   ]
  },
  {
   "cell_type": "markdown",
   "metadata": {},
   "source": [
    "### c)"
   ]
  },
  {
   "cell_type": "markdown",
   "metadata": {},
   "source": [
    "$$E[X(t)]$$<br>\n",
    "$$E[A * cos(\\pi * t)]$$<br>\n",
    "$$E[A] * cos(\\pi * t)$$<br>\n",
    "$$\\frac{1}{\\lambda} * cos(\\pi * t)$$<br>\n",
    "$$\\frac{cos(\\pi * t)}{\\lambda}$$"
   ]
  },
  {
   "cell_type": "markdown",
   "metadata": {},
   "source": [
    "### d)\n",
    "$$VAR[X(t)]$$<br>\n",
    "$$VAR[A * cos(\\pi * t)]$$<br>\n",
    "<center>lineare Transformation: $VAR(Y)$ $=$ $b^2$*$VAR(X)$</center><br>\n",
    "$$cos^2(\\pi * t) * VAR[A]$$<br>\n",
    "$$cos^2(\\pi * t) * \\frac{1}{\\lambda^2}$$<br>\n",
    "$$\\frac{cos^2(\\pi * t)}{\\lambda^2}$$"
   ]
  },
  {
   "cell_type": "markdown",
   "metadata": {},
   "source": [
    "### e)\n",
    "Nein, nicht-stationär, denn es hängt alles vom Faktor Zeit ab --> es verändert sich mit dem Faktor Zeit."
   ]
  },
  {
   "cell_type": "code",
   "execution_count": null,
   "metadata": {},
   "outputs": [],
   "source": []
  }
 ],
 "metadata": {
  "kernelspec": {
   "display_name": "Python 3",
   "language": "python",
   "name": "python3"
  },
  "language_info": {
   "codemirror_mode": {
    "name": "ipython",
    "version": 3
   },
   "file_extension": ".py",
   "mimetype": "text/x-python",
   "name": "python",
   "nbconvert_exporter": "python",
   "pygments_lexer": "ipython3",
   "version": "3.7.3"
  }
 },
 "nbformat": 4,
 "nbformat_minor": 2
}
