{
 "cells": [
  {
   "cell_type": "code",
   "execution_count": 1,
   "metadata": {},
   "outputs": [],
   "source": [
    "import matplotlib.pyplot as plt\n",
    "import scipy.stats as st\n",
    "import seaborn as sns\n",
    "import pandas as pd\n",
    "import numpy as np"
   ]
  },
  {
   "cell_type": "markdown",
   "metadata": {},
   "source": [
    "## Wichtigste Übungsaufgaben:\n",
    "* 5.3 \n",
    "* 5.4\n",
    "* 5.6\n",
    "---\n",
    "# Aufgabe 5.3\n",
    "In einer Studie wurde untersucht, wie bei Mäusen die Aufnahme von Eisen (Fe3+) von der Dosis abhängt. Dazu wurden 54 Mäuse zufällig in 3 Gruppen zu je 18 Mäusen eingeteilt und jeweils mit Dosis hoch, mittel und tief gefüttert (hoch = 10.2 millimolar,\n",
    "mittel=1.2 millimolar, tief=0.3 millimolar). Mittels radioaktiver Markierung wurde der Anteil des zurückgehaltenen Eisens in Prozent nach einer gewissen Zeit bestimmt.<br />\n",
    "Die Daten sind auf Ilias in der Datei ironF3.dat abgelegt; Sie können sie einlesen mit dem Befehl<br />\n",
    "`iron = pd.read_csv(\"*/ironF3.dat\",sep=\" \",index_col=False)`\n",
    "<br />Für * muss der gesamte Pfad stehen, wo Sie ihre Datei abgespeichert haben.\n",
    "### a) Erstellen Sie für jede der 3 Versuchsbedingungen einen Boxplot, am besten gerade nebeneinander. Wie unterscheiden sich die Daten der verschiedenen Versuchsbedingungen?"
   ]
  },
  {
   "cell_type": "code",
   "execution_count": 2,
   "metadata": {},
   "outputs": [],
   "source": [
    "iron = pd.read_csv(\"files/sw05/ironF3.dat\",sep=\" \",index_col=False)"
   ]
  },
  {
   "cell_type": "code",
   "execution_count": 3,
   "metadata": {},
   "outputs": [
    {
     "data": {
      "text/html": [
       "<div>\n",
       "<style scoped>\n",
       "    .dataframe tbody tr th:only-of-type {\n",
       "        vertical-align: middle;\n",
       "    }\n",
       "\n",
       "    .dataframe tbody tr th {\n",
       "        vertical-align: top;\n",
       "    }\n",
       "\n",
       "    .dataframe thead th {\n",
       "        text-align: right;\n",
       "    }\n",
       "</style>\n",
       "<table border=\"1\" class=\"dataframe\">\n",
       "  <thead>\n",
       "    <tr style=\"text-align: right;\">\n",
       "      <th></th>\n",
       "      <th>high</th>\n",
       "      <th>medium</th>\n",
       "      <th>low</th>\n",
       "    </tr>\n",
       "  </thead>\n",
       "  <tbody>\n",
       "    <tr>\n",
       "      <th>0</th>\n",
       "      <td>0.71</td>\n",
       "      <td>2.20</td>\n",
       "      <td>2.25</td>\n",
       "    </tr>\n",
       "    <tr>\n",
       "      <th>1</th>\n",
       "      <td>1.66</td>\n",
       "      <td>2.93</td>\n",
       "      <td>3.93</td>\n",
       "    </tr>\n",
       "    <tr>\n",
       "      <th>2</th>\n",
       "      <td>2.01</td>\n",
       "      <td>3.08</td>\n",
       "      <td>5.08</td>\n",
       "    </tr>\n",
       "    <tr>\n",
       "      <th>3</th>\n",
       "      <td>2.16</td>\n",
       "      <td>3.49</td>\n",
       "      <td>5.82</td>\n",
       "    </tr>\n",
       "    <tr>\n",
       "      <th>4</th>\n",
       "      <td>2.42</td>\n",
       "      <td>4.11</td>\n",
       "      <td>5.84</td>\n",
       "    </tr>\n",
       "  </tbody>\n",
       "</table>\n",
       "</div>"
      ],
      "text/plain": [
       "   high  medium   low\n",
       "0  0.71    2.20  2.25\n",
       "1  1.66    2.93  3.93\n",
       "2  2.01    3.08  5.08\n",
       "3  2.16    3.49  5.82\n",
       "4  2.42    4.11  5.84"
      ]
     },
     "execution_count": 3,
     "metadata": {},
     "output_type": "execute_result"
    }
   ],
   "source": [
    "iron.head()"
   ]
  },
  {
   "cell_type": "code",
   "execution_count": 5,
   "metadata": {},
   "outputs": [
    {
     "data": {
      "text/plain": [
       "<matplotlib.axes._subplots.AxesSubplot at 0x11cc7639080>"
      ]
     },
     "execution_count": 5,
     "metadata": {},
     "output_type": "execute_result"
    },
    {
     "data": {
      "image/png": "[encoded data removed]",
      "text/plain": [
       "<Figure size 432x288 with 1 Axes>"
      ]
     },
     "metadata": {
      "needs_background": "light"
     },
     "output_type": "display_data"
    }
   ],
   "source": [
    "iron.plot(kind='box', title=\"3 Versuche nebeneinander\")"
   ]
  },
  {
   "cell_type": "markdown",
   "metadata": {},
   "source": [
    "### b) Transformieren Sie alle Werte mit dem Logarithmus und erstellen Sie wieder die 3 Boxplots wie bei Aufgabe a). Was hat sich durch die Transformation geändert?"
   ]
  },
  {
   "cell_type": "markdown",
   "metadata": {},
   "source": [
    "Woher wir diesen Python-Code kennen sollen weiss ich nicht..."
   ]
  },
  {
   "cell_type": "code",
   "execution_count": 6,
   "metadata": {},
   "outputs": [
    {
     "data": {
      "image/png": "[encoded data removed]",
      "text/plain": [
       "<Figure size 432x288 with 2 Axes>"
      ]
     },
     "metadata": {
      "needs_background": "light"
     },
     "output_type": "display_data"
    }
   ],
   "source": [
    "plt.subplot(1,2,1)\n",
    "iron.plot(kind=\"box\",ax=plt.gca())\n",
    "plt.ylabel(\"iron\")\n",
    "plt.subplot(1,2,2)\n",
    "np.log(iron).plot(kind=\"box\",ax=plt.gca())\n",
    "plt.ylabel(\"log(iron)\")\n",
    "plt.tight_layout()\n",
    "plt.show()"
   ]
  },
  {
   "cell_type": "markdown",
   "metadata": {},
   "source": [
    "### c) Erstellen Sie einen Normalplot der Daten bei mittlerer Dosis vor und nach dem Logarithmieren. Wann passt die Normalverteilung besser? Verwenden Sie die Python-Funktion\n",
    "`st.probplot(...)`"
   ]
  },
  {
   "cell_type": "code",
   "execution_count": 21,
   "metadata": {},
   "outputs": [
    {
     "data": {
      "text/plain": [
       "((array([-1.77709673, -1.33087857, -1.05345661, -0.83977496, -0.6589352 ,\n",
       "         -0.49749478, -0.34812942, -0.20618578, -0.06829777,  0.06829777,\n",
       "          0.20618578,  0.34812942,  0.49749478,  0.6589352 ,  0.83977496,\n",
       "          1.05345661,  1.33087857,  1.77709673]),\n",
       "  array([0.78845736, 1.07500242, 1.1249296 , 1.24990174, 1.41342303,\n",
       "         1.59938758, 1.64093658, 1.7119945 , 1.73695123, 1.83258146,\n",
       "         1.98100147, 2.06686276, 2.18041746, 2.48156775, 2.74341734,\n",
       "         2.76568998, 2.90690106, 2.9226238 ])),\n",
       " (0.6858048553747129, 1.901224840075921, 0.9844044280605407))"
      ]
     },
     "execution_count": 21,
     "metadata": {},
     "output_type": "execute_result"
    },
    {
     "data": {
      "image/png": "[encoded data removed]",
      "text/plain": [
       "<Figure size 432x288 with 2 Axes>"
      ]
     },
     "metadata": {
      "needs_background": "light"
     },
     "output_type": "display_data"
    }
   ],
   "source": [
    "# Normale Werte\n",
    "plt.subplot(1,2,1)\n",
    "st.probplot(iron[\"medium\"], plot=plt)\n",
    "\n",
    "#log-Werte\n",
    "plt.subplot(1,2,2)\n",
    "st.probplot(np.log(iron[\"medium\"]), plot=plt)"
   ]
  },
  {
   "cell_type": "markdown",
   "metadata": {},
   "source": [
    "Die Normalverteiung passt bei den logarithmierten Werten besser."
   ]
  },
  {
   "cell_type": "markdown",
   "metadata": {},
   "source": [
    "### d) Unter der Annahme, dass die Daten bei mittlerer Dosis normalverteilt sind, schätzen Sie die Parameter $\\mu$ und $\\sigma^2$. Wie gross ist die Wahrscheinlichkeit, dass eine Maus mehr als 10% Eisen zurückhält."
   ]
  },
  {
   "cell_type": "code",
   "execution_count": 27,
   "metadata": {},
   "outputs": [
    {
     "name": "stdout",
     "output_type": "stream",
     "text": [
      "8.203888888888889\n"
     ]
    }
   ],
   "source": [
    "EX = iron[\"medium\"].mean()\n",
    "print(EX)"
   ]
  },
  {
   "cell_type": "markdown",
   "metadata": {},
   "source": [
    "Erwartungswert geschätzt = $\\mu$ = 8.2039"
   ]
  },
  {
   "cell_type": "code",
   "execution_count": 33,
   "metadata": {},
   "outputs": [
    {
     "name": "stdout",
     "output_type": "stream",
     "text": [
      "29.67401339869281\n"
     ]
    }
   ],
   "source": [
    "VAR = iron[\"medium\"].var()\n",
    "print(VAR)"
   ]
  },
  {
   "cell_type": "markdown",
   "metadata": {},
   "source": [
    "Varianz geschätzt = VAR = 29.674"
   ]
  },
  {
   "cell_type": "code",
   "execution_count": 35,
   "metadata": {},
   "outputs": [
    {
     "name": "stdout",
     "output_type": "stream",
     "text": [
      "5.447385923421693\n"
     ]
    }
   ],
   "source": [
    "STD = iron[\"medium\"].std()\n",
    "print(STD)"
   ]
  },
  {
   "cell_type": "code",
   "execution_count": 36,
   "metadata": {},
   "outputs": [
    {
     "data": {
      "text/plain": [
       "0.37080583780045573"
      ]
     },
     "execution_count": 36,
     "metadata": {},
     "output_type": "execute_result"
    }
   ],
   "source": [
    "1 - st.norm.cdf(x=10, loc=EX, scale=STD)"
   ]
  },
  {
   "cell_type": "code",
   "execution_count": 37,
   "metadata": {},
   "outputs": [
    {
     "data": {
      "text/plain": [
       "1.2227829306022002"
      ]
     },
     "execution_count": 37,
     "metadata": {},
     "output_type": "execute_result"
    }
   ],
   "source": [
    "st.norm.ppf(q=0.10, loc=EX, scale=STD)"
   ]
  },
  {
   "cell_type": "markdown",
   "metadata": {},
   "source": [
    "### e) (Zusatzaufgabe) Unter der Annahme, dass die Daten bei mittlerer Dosis log-normalverteilt sind, schätzen Sie die Parameter $\\mu$ und $\\sigma^2$. Wie gross ist die Wahrscheinlichkeit, dass eine Maus mehr als 10% Eisen zurückhält.<br /><br /> Hinweis: Ist Y = log(X) normalverteilt ist, so heisst X log-normalverteilt."
   ]
  },
  {
   "cell_type": "markdown",
   "metadata": {},
   "source": [
    "gleich wie oben nur alles mit \n",
    "`np.log(iron[\"medium\"])`"
   ]
  },
  {
   "cell_type": "markdown",
   "metadata": {},
   "source": [
    "---\n",
    "# Aufgabe 5.4\n",
    "Ein Statistiker beobachtet, dass ein Angler innerhalb von 2 Stunden 15 Fische fängt. Er nimmt an, dass es sich um einen Poissonprozess handelt und überlegt sich:\n",
    "### a) Mit welcher Wahrscheinlichkeit dauert es länger als 12 Minuten, bis der nächste Fisch anbeisst? Hinweis: Benützen Sie die Momentenmethode, um Parameter zu schätzen."
   ]
  },
  {
   "cell_type": "markdown",
   "metadata": {},
   "source": [
    "$$E(X) = \\lambda$$\n",
    "Wir ersetzen E(X) durch das empirische Gegenstück, den empirischen Mittelwert x_bar\n",
    "$$ x_b = \\lambda$$"
   ]
  },
  {
   "cell_type": "code",
   "execution_count": 38,
   "metadata": {},
   "outputs": [
    {
     "data": {
      "text/plain": [
       "8.0"
      ]
     },
     "execution_count": 38,
     "metadata": {},
     "output_type": "execute_result"
    }
   ],
   "source": [
    "120/15"
   ]
  },
  {
   "cell_type": "markdown",
   "metadata": {},
   "source": [
    "### b) Mit welcher Wahrscheinlichkeit beissen innerhalb der nächsten 12 Minuten genau 2 Fische an?"
   ]
  },
  {
   "cell_type": "markdown",
   "metadata": {},
   "source": [
    "### c) Ein Fischer hat die Wartezeiten zwischen zwei Fischfängen aufgeschrieben. Erstellen Sie einen QQ-Plot für die angegebenen Zeitdifferenzen. Tragen Sie dazu die empirischen Quantile der Messungen gegen die theoretischen Quantile der Exp(1)-Verteilung auf. Passt die Exponentialverteilung zu den Messdaten? Bestimmen Sie die Steigung der Regressionsgeraden im QQ-Plot. Was ist die Bedeutung von der Steigung der Regressionsgeraden in diesem QQ-Plot? Schätzen Sie aufgrund der Steigung den Parameter l der Exp(l)-Verteilung."
   ]
  },
  {
   "cell_type": "markdown",
   "metadata": {},
   "source": [
    "---\n",
    "# Aufgabe 5.6\n",
    "In dieser Aufgabe geht es um Parameterschätzung. Wir betrachten eine stetige Verteilung mit folgender Dichte:<br />\n",
    "wobei a > 0 ein unbekannter Parameter ist. Wir wollen den Parameter a aus einer Stichprobe schätzen.\n",
    "### a) Bestimmen Sie die Likelihood- und die Log-Likelihood-Funktion basierend auf n unabhängigen identisch verteilten Beobachtungen x1, . . . , xn einer Zufallsvariablen mit obiger Dichte."
   ]
  },
  {
   "cell_type": "markdown",
   "metadata": {},
   "source": [
    "### b) Bestimmen Sie den zugehörigen Maximum-Likelihood-Schätzer für a. Schreiben Sie zuerst die allgemeine Formel für n Beobachtungen hin und berechnen Sie den Schätzer dann für die folgende konkrete Stichprobe"
   ]
  },
  {
   "cell_type": "markdown",
   "metadata": {},
   "source": [
    "### c) Bestimmen Sie denMomentenschätzer für a, wieder zuerst allgemein basierend auf n unabhängigen Beobachtungen x1, . . . , xn und dann für obige Stichprobe.\n",
    "\n",
    "Für a \"kleiner gleich\" 1 ist der Erwartungswert gleich unendlich und der Momentenschätzer ist nicht definiert. Sie müssen für diese Teilaufgabe also annehmen, dass a > 1."
   ]
  },
  {
   "cell_type": "markdown",
   "metadata": {},
   "source": [
    "### d) Vergleichen Sie den Maximum-Likelihood und den Momentenschätzer für obige Stichprobe. Ist der Momentenschätzer hier sinnvoll?"
   ]
  },
  {
   "cell_type": "code",
   "execution_count": null,
   "metadata": {},
   "outputs": [],
   "source": []
  }
 ],
 "metadata": {
  "kernelspec": {
   "display_name": "Python 3",
   "language": "python",
   "name": "python3"
  },
  "language_info": {
   "codemirror_mode": {
    "name": "ipython",
    "version": 3
   },
   "file_extension": ".py",
   "mimetype": "text/x-python",
   "name": "python",
   "nbconvert_exporter": "python",
   "pygments_lexer": "ipython3",
   "version": "3.7.3"
  }
 },
 "nbformat": 4,
 "nbformat_minor": 2
}
