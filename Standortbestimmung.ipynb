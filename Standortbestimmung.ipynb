{
 "cells": [
  {
   "cell_type": "code",
   "execution_count": 16,
   "metadata": {},
   "outputs": [],
   "source": [
    "import matplotlib.pyplot as plt\n",
    "import scipy.stats as st\n",
    "import seaborn as sns\n",
    "import pandas as pd\n",
    "import numpy as np"
   ]
  },
  {
   "cell_type": "markdown",
   "metadata": {},
   "source": [
    "---\n",
    "# Aufgabe3a"
   ]
  },
  {
   "cell_type": "markdown",
   "metadata": {},
   "source": [
    "Die Grundlagen der Allgemeinen Relativitätstheorie (ART) hatte Albert Einstein am 25. November 1915 der Preussischen Akademie der Wissenschaften vorgetragen.\n",
    "\n",
    "Eine Vorhersage der ART besagt, dass Lichtstrahlen von Sternen, die sich hinter der Sonne befinden und gerade am Sonnenrand vorbei auf die Erde treffen, eine Winkelablenkung aufgrund der Raumkrümmung erfahren. Aus dieser Winkelablenkung lässt sich dann der Raumkrümmungsparameter γ bestimmen. In der Newton’schen Physik, wo der Raum nicht gekrümmt ist, hat γ den Wert 0. In der ART hat γ den Wert 1. Im Jahre 1975 wurde an 9 Tagen im National Radio Astronomy Observatory (NRAO) in Green Bank aus der Lichtablenkung der Wert von γ ermittelt. Die Werte dieser Messungen finden Sie in der Datei gamma.txt auf Ilias.\n",
    "\n",
    "Geben Sie den relativen Fehler für den Wert von γ der 1975 erhobenen Messreihe an. Beachten Sie die Anzahl signifikanter Stellen und lassen Sie bei der Eingabe das Prozentzeichen weg.\n",
    "\n"
   ]
  },
  {
   "cell_type": "code",
   "execution_count": 38,
   "metadata": {},
   "outputs": [
    {
     "name": "stdout",
     "output_type": "stream",
     "text": [
      "        Day  gamma\n",
      "0   April 5  1.000\n",
      "1   April 6  0.960\n",
      "2   April 7  1.020\n",
      "3   April 8  1.000\n",
      "4   April 9  1.002\n",
      "5  April 13  1.022\n",
      "6  April 14  0.990\n",
      "7  April 15  0.980\n",
      "8  April 16  0.930\n"
     ]
    }
   ],
   "source": [
    "table = pd.read_csv(r\"../01 Modulunterlagen/SW09/gamma.txt\", delim_whitespace=True)\n",
    "print(table)"
   ]
  },
  {
   "cell_type": "code",
   "execution_count": 26,
   "metadata": {},
   "outputs": [
    {
     "name": "stdout",
     "output_type": "stream",
     "text": [
      "0.9893333333333333\n"
     ]
    }
   ],
   "source": [
    "gamma_schnitt = table[\"gamma\"].mean()\n",
    "print(gamma_schnitt)"
   ]
  },
  {
   "cell_type": "code",
   "execution_count": 27,
   "metadata": {},
   "outputs": [
    {
     "name": "stdout",
     "output_type": "stream",
     "text": [
      "0.029291637031753616\n"
     ]
    }
   ],
   "source": [
    "gamma_std = table[\"gamma\"].std()\n",
    "print(gamma_std)"
   ]
  },
  {
   "cell_type": "code",
   "execution_count": 28,
   "metadata": {},
   "outputs": [
    {
     "name": "stdout",
     "output_type": "stream",
     "text": [
      "0.009763879010584538\n"
     ]
    }
   ],
   "source": [
    "stdfehler = gamma_std/np.sqrt(table[\"gamma\"].size)\n",
    "print(stdfehler)"
   ]
  },
  {
   "cell_type": "code",
   "execution_count": 29,
   "metadata": {},
   "outputs": [
    {
     "name": "stdout",
     "output_type": "stream",
     "text": [
      "0.009869149943313213\n"
     ]
    }
   ],
   "source": [
    "rel_F = stdfehler / gamma_schnitt\n",
    "print(rel_F)"
   ]
  },
  {
   "cell_type": "code",
   "execution_count": 32,
   "metadata": {},
   "outputs": [
    {
     "data": {
      "text/plain": [
       "0.9869149943313213"
      ]
     },
     "execution_count": 32,
     "metadata": {},
     "output_type": "execute_result"
    }
   ],
   "source": [
    "rel_F * 100"
   ]
  },
  {
   "cell_type": "markdown",
   "metadata": {},
   "source": [
    "dass man % erhält"
   ]
  },
  {
   "cell_type": "markdown",
   "metadata": {},
   "source": [
    "---\n",
    "# Aufgabe3b\n",
    "Nach einer Schamanen-Zeremonie mit Ayahuasca sind Sie in einem Anflug von Wahnsinn der festen Ueberzeugung, dass Sie die Wiedergeburt von Isaac Newton sind. Als erstes wollen Sie die ART widerlegen, und zwar zugunsten Ihrer Theorie mit γ=0. Wie lautet die Nullhypothese, wie die Alternativhypothese in Bezug auf den Wert des Raumkrümmungsparameters γ?\n",
    "\n",
    "Führen Sie einen statistischen t-Test mit Hilfe des 1975 erhobenen Datensatzes durch. Geben Sie den p-Wert des Tests an, und zwar mit 4 Nachkommastellen."
   ]
  },
  {
   "cell_type": "markdown",
   "metadata": {},
   "source": [
    "$\\mu_0$ = y=1 <-- dies will ich verwerfen.... <br />\n",
    "$\\mu_A$ = y < 1 <-- wieso?"
   ]
  },
  {
   "cell_type": "markdown",
   "metadata": {},
   "source": [
    "benötigt es überhaupt einen Test wenn wir oben die Resultate haben?"
   ]
  },
  {
   "cell_type": "code",
   "execution_count": 36,
   "metadata": {},
   "outputs": [
    {
     "data": {
      "text/plain": [
       "0.15321670790410435"
      ]
     },
     "execution_count": 36,
     "metadata": {},
     "output_type": "execute_result"
    }
   ],
   "source": [
    "st.t.cdf(x=table[\"gamma\"].mean(), df=table[\"gamma\"].size-1, loc=1, scale=table[\"gamma\"].std()/np.sqrt(table[\"gamma\"].size))"
   ]
  },
  {
   "cell_type": "markdown",
   "metadata": {},
   "source": [
    "---\n",
    "# Aufgabe3c\n",
    "Geben Sie aufgrund der in der Datei gamma.txt enthaltenen Messwerte die obere Intervallgrenze des einseitigen 96%-Vertrauensintervalls für den wahren Wert des Parameters γ an. (Mit 5 Nachkommastellen)"
   ]
  },
  {
   "cell_type": "code",
   "execution_count": 41,
   "metadata": {},
   "outputs": [
    {
     "data": {
      "text/plain": [
       "1.008901626503232"
      ]
     },
     "execution_count": 41,
     "metadata": {},
     "output_type": "execute_result"
    }
   ],
   "source": [
    "table[\"gamma\"].mean() + st.t.ppf(0.96, df=table[\"gamma\"].size-1)*table[\"gamma\"].std()/(np.sqrt(table[\"gamma\"].size))"
   ]
  },
  {
   "cell_type": "markdown",
   "metadata": {},
   "source": [
    "92%, da 96% = einseitig und wir auf der anderen Seite noch 4% abziehen müssen!"
   ]
  },
  {
   "cell_type": "code",
   "execution_count": 43,
   "metadata": {},
   "outputs": [
    {
     "data": {
      "text/plain": [
       "(0.9306284538236372, 1.0480382128430292)"
      ]
     },
     "execution_count": 43,
     "metadata": {},
     "output_type": "execute_result"
    }
   ],
   "source": [
    "st.t.interval(alpha=0.92, df=table[\"gamma\"].size-1, loc=table[\"gamma\"].mean(), scale=table[\"gamma\"].std())"
   ]
  },
  {
   "cell_type": "markdown",
   "metadata": {},
   "source": [
    "---\n",
    "# Quizfrage 06\n",
    "In dem auf Ilias abgelegten zip File ist die Datei Schokolade_Nobelpreis abgelegt. Diese enthält für 22 Länder die Anzahl Nobelpreise pro 10 Millionen Einwohnern und der Schokoladenkonsum (in Kilogramm) pro Kopf enthalten. Der Korrelationskoeffizient beträgt\n"
   ]
  },
  {
   "cell_type": "code",
   "execution_count": 19,
   "metadata": {},
   "outputs": [
    {
     "name": "stdout",
     "output_type": "stream",
     "text": [
      "           Country  Nobel Laureates per 10 Million  \\\n",
      "0           Sweden                          30.677   \n",
      "1      Switzerland                          30.125   \n",
      "2           Norway                          24.947   \n",
      "3          Denmark                          24.695   \n",
      "4          Austria                          24.577   \n",
      "5   United Kingdom                          19.315   \n",
      "6          Ireland                          17.060   \n",
      "7          Germany                          13.013   \n",
      "8      Netherlands                          11.226   \n",
      "9    United States                          10.970   \n",
      "10          France                           9.473   \n",
      "11         Belgium                           8.850   \n",
      "12         Finland                           7.268   \n",
      "13          Canada                           6.400   \n",
      "14       Australia                           5.006   \n",
      "15           Italy                           3.345   \n",
      "16        Portugal                           1.932   \n",
      "17           Japan                           1.896   \n",
      "18          Greece                           1.826   \n",
      "19           Spain                           1.735   \n",
      "20           China                           0.065   \n",
      "21          Brazil                           0.048   \n",
      "\n",
      "    Chocolate consumption (kg) per capita  \n",
      "0                                     4.4  \n",
      "1                                    10.2  \n",
      "2                                     9.2  \n",
      "3                                     7.9  \n",
      "4                                     8.5  \n",
      "5                                     8.8  \n",
      "6                                     8.8  \n",
      "7                                     9.1  \n",
      "8                                     4.5  \n",
      "9                                     5.3  \n",
      "10                                    4.9  \n",
      "11                                    9.1  \n",
      "12                                    6.2  \n",
      "13                                    3.9  \n",
      "14                                    4.8  \n",
      "15                                    3.5  \n",
      "16                                    2.0  \n",
      "17                                    1.8  \n",
      "18                                    2.5  \n",
      "19                                    1.6  \n",
      "20                                    0.7  \n",
      "21                                    1.0  \n"
     ]
    }
   ],
   "source": [
    "table_2 = pd.read_csv(r\"../01 Modulunterlagen/SW09/Schokolade_Nobelpreis.txt\", delim_whitespace=True)\n",
    "print(table_2)"
   ]
  },
  {
   "cell_type": "code",
   "execution_count": 21,
   "metadata": {},
   "outputs": [
    {
     "name": "stdout",
     "output_type": "stream",
     "text": [
      "11.565863636363634\n"
     ]
    }
   ],
   "source": [
    "nobel = table_2[\"Nobel Laureates per 10 Million\"].mean()\n",
    "print(nobel)"
   ]
  },
  {
   "cell_type": "code",
   "execution_count": 22,
   "metadata": {},
   "outputs": [
    {
     "data": {
      "text/html": [
       "<div>\n",
       "<style scoped>\n",
       "    .dataframe tbody tr th:only-of-type {\n",
       "        vertical-align: middle;\n",
       "    }\n",
       "\n",
       "    .dataframe tbody tr th {\n",
       "        vertical-align: top;\n",
       "    }\n",
       "\n",
       "    .dataframe thead th {\n",
       "        text-align: right;\n",
       "    }\n",
       "</style>\n",
       "<table border=\"1\" class=\"dataframe\">\n",
       "  <thead>\n",
       "    <tr style=\"text-align: right;\">\n",
       "      <th></th>\n",
       "      <th>Nobel Laureates per 10 Million</th>\n",
       "      <th>Chocolate consumption (kg) per capita</th>\n",
       "    </tr>\n",
       "  </thead>\n",
       "  <tbody>\n",
       "    <tr>\n",
       "      <th>Nobel Laureates per 10 Million</th>\n",
       "      <td>1.00000</td>\n",
       "      <td>0.75859</td>\n",
       "    </tr>\n",
       "    <tr>\n",
       "      <th>Chocolate consumption (kg) per capita</th>\n",
       "      <td>0.75859</td>\n",
       "      <td>1.00000</td>\n",
       "    </tr>\n",
       "  </tbody>\n",
       "</table>\n",
       "</div>"
      ],
      "text/plain": [
       "                                       Nobel Laureates per 10 Million  \\\n",
       "Nobel Laureates per 10 Million                                1.00000   \n",
       "Chocolate consumption (kg) per capita                         0.75859   \n",
       "\n",
       "                                       Chocolate consumption (kg) per capita  \n",
       "Nobel Laureates per 10 Million                                       0.75859  \n",
       "Chocolate consumption (kg) per capita                                1.00000  "
      ]
     },
     "execution_count": 22,
     "metadata": {},
     "output_type": "execute_result"
    }
   ],
   "source": [
    "table_2.corr()"
   ]
  },
  {
   "cell_type": "markdown",
   "metadata": {},
   "source": []
  },
  {
   "cell_type": "code",
   "execution_count": 2,
   "metadata": {},
   "outputs": [],
   "source": [
    "werte = np.array([0,10,11])"
   ]
  },
  {
   "cell_type": "code",
   "execution_count": 4,
   "metadata": {},
   "outputs": [
    {
     "data": {
      "text/plain": [
       "3"
      ]
     },
     "execution_count": 4,
     "metadata": {},
     "output_type": "execute_result"
    }
   ],
   "source": [
    "werte.size"
   ]
  },
  {
   "cell_type": "code",
   "execution_count": 5,
   "metadata": {},
   "outputs": [],
   "source": [
    "ew = np.sum(werte*(1/werte.size))"
   ]
  },
  {
   "cell_type": "code",
   "execution_count": 6,
   "metadata": {},
   "outputs": [
    {
     "name": "stdout",
     "output_type": "stream",
     "text": [
      "7.0\n"
     ]
    }
   ],
   "source": [
    "print(ew)"
   ]
  },
  {
   "cell_type": "code",
   "execution_count": 8,
   "metadata": {},
   "outputs": [
    {
     "data": {
      "text/plain": [
       "0.8595500514601189"
      ]
     },
     "execution_count": 8,
     "metadata": {},
     "output_type": "execute_result"
    }
   ],
   "source": [
    "st.norm.cdf(1.0783)"
   ]
  },
  {
   "cell_type": "code",
   "execution_count": 9,
   "metadata": {},
   "outputs": [
    {
     "data": {
      "text/plain": [
       "1.0"
      ]
     },
     "execution_count": 9,
     "metadata": {},
     "output_type": "execute_result"
    }
   ],
   "source": [
    "st.norm.cdf(24.5)"
   ]
  },
  {
   "cell_type": "code",
   "execution_count": 10,
   "metadata": {},
   "outputs": [
    {
     "data": {
      "text/plain": [
       "24.566149464158777"
      ]
     },
     "execution_count": 10,
     "metadata": {},
     "output_type": "execute_result"
    }
   ],
   "source": [
    "st.norm.ppf(q=0.025, loc=32.7, scale=4.15)"
   ]
  },
  {
   "cell_type": "code",
   "execution_count": 11,
   "metadata": {},
   "outputs": [],
   "source": [
    "import matplotlib.pyplot as plt\n",
    "import numpy as np\n",
    "from pandas import Series\n",
    "from scipy.stats import norm, probplot\n",
    "x = Series([24.4, 27.6, 27.8, 27.9, 28.5,\n",
    "30.1, 30.3, 31.7, 32.2, 32.8,\n",
    "33.3, 33.5, 34.1, 34.6, 35.8,\n",
    "35.9, 36.8, 37.1, 39.2, 39.7])"
   ]
  },
  {
   "cell_type": "code",
   "execution_count": 12,
   "metadata": {},
   "outputs": [
    {
     "name": "stdout",
     "output_type": "stream",
     "text": [
      "[0.025 0.075 0.125 0.175 0.225 0.275 0.325 0.375 0.425 0.475 0.525 0.575\n",
      " 0.625 0.675 0.725 0.775 0.825 0.875 0.925 0.975]\n"
     ]
    }
   ],
   "source": [
    "alphak = (np.arange(1, x.size + 1) - 0.5) / x.size\n",
    "print(alphak)"
   ]
  },
  {
   "cell_type": "code",
   "execution_count": 13,
   "metadata": {},
   "outputs": [
    {
     "name": "stdout",
     "output_type": "stream",
     "text": [
      "[24.53167148 26.6913278  27.89135645 28.78670336 29.53022884 30.18445468\n",
      " 30.78200776 31.34273151 31.8802089  32.40478357 32.92521643 33.4497911\n",
      " 33.98726849 34.54799224 35.14554532 35.79977116 36.54329664 37.43864355\n",
      " 38.6386722  40.79832852]\n"
     ]
    }
   ],
   "source": [
    "quantile_theor = norm.ppf(q=alphak, loc=x.mean(), scale=x.std())\n",
    "print(quantile_theor)"
   ]
  },
  {
   "cell_type": "code",
   "execution_count": 14,
   "metadata": {},
   "outputs": [
    {
     "name": "stdout",
     "output_type": "stream",
     "text": [
      "[24.4 27.6 27.8 27.9 28.5 30.1 30.3 31.7 32.2 32.8 33.3 33.5 34.1 34.6\n",
      " 35.8 35.9 36.8 37.1 39.2 39.7]\n"
     ]
    }
   ],
   "source": [
    "quantile_empir = np.sort(x)\n",
    "print(quantile_empir)"
   ]
  },
  {
   "cell_type": "code",
   "execution_count": 15,
   "metadata": {},
   "outputs": [
    {
     "data": {
      "text/plain": [
       "((array([-1.8241636 , -1.38768012, -1.11829229, -0.91222575, -0.73908135,\n",
       "         -0.5857176 , -0.44506467, -0.31273668, -0.18568928, -0.06158146,\n",
       "          0.06158146,  0.18568928,  0.31273668,  0.44506467,  0.5857176 ,\n",
       "          0.73908135,  0.91222575,  1.11829229,  1.38768012,  1.8241636 ]),\n",
       "  array([24.4, 27.6, 27.8, 27.9, 28.5, 30.1, 30.3, 31.7, 32.2, 32.8, 33.3,\n",
       "         33.5, 34.1, 34.6, 35.8, 35.9, 36.8, 37.1, 39.2, 39.7])),\n",
       " (4.338493299839927, 32.665000000000006, 0.9923829304670189))"
      ]
     },
     "execution_count": 15,
     "metadata": {},
     "output_type": "execute_result"
    },
    {
     "data": {
      "image/png": "[encoded data removed]",
      "text/plain": [
       "<Figure size 432x288 with 1 Axes>"
      ]
     },
     "metadata": {
      "needs_background": "light"
     },
     "output_type": "display_data"
    }
   ],
   "source": [
    "probplot(x, plot=plt)"
   ]
  },
  {
   "cell_type": "code",
   "execution_count": 17,
   "metadata": {},
   "outputs": [
    {
     "data": {
      "text/plain": [
       "0.509972518195238"
      ]
     },
     "execution_count": 17,
     "metadata": {},
     "output_type": "execute_result"
    }
   ],
   "source": [
    "st.norm.cdf(x=0.025)"
   ]
  },
  {
   "cell_type": "code",
   "execution_count": 18,
   "metadata": {},
   "outputs": [
    {
     "data": {
      "text/plain": [
       "-1.9599639845400545"
      ]
     },
     "execution_count": 18,
     "metadata": {},
     "output_type": "execute_result"
    }
   ],
   "source": [
    "st.norm.ppf(q=0.025)"
   ]
  },
  {
   "cell_type": "code",
   "execution_count": null,
   "metadata": {},
   "outputs": [],
   "source": []
  }
 ],
 "metadata": {
  "kernelspec": {
   "display_name": "Python 3",
   "language": "python",
   "name": "python3"
  },
  "language_info": {
   "codemirror_mode": {
    "name": "ipython",
    "version": 3
   },
   "file_extension": ".py",
   "mimetype": "text/x-python",
   "name": "python",
   "nbconvert_exporter": "python",
   "pygments_lexer": "ipython3",
   "version": "3.7.3"
  }
 },
 "nbformat": 4,
 "nbformat_minor": 2
}
