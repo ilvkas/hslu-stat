{
 "cells": [
  {
   "cell_type": "code",
   "execution_count": 11,
   "metadata": {},
   "outputs": [],
   "source": [
    "import matplotlib.pyplot as plt\n",
    "import scipy.stats as st\n",
    "import seaborn as sns\n",
    "import pandas as pd\n",
    "import numpy as np"
   ]
  },
  {
   "cell_type": "markdown",
   "metadata": {},
   "source": [
    "### definiere Methoden"
   ]
  },
  {
   "cell_type": "code",
   "execution_count": 12,
   "metadata": {},
   "outputs": [],
   "source": [
    "methodeA = pd.Series([79.98, 80.04, 80.02, 80.04, 80.03, 80.03, 80.04, 79.97, 80.05, 80.03, 80.02, 80.00, 80.02])"
   ]
  },
  {
   "cell_type": "markdown",
   "metadata": {},
   "source": [
    "### Mittelwert"
   ]
  },
  {
   "cell_type": "code",
   "execution_count": 13,
   "metadata": {},
   "outputs": [
    {
     "data": {
      "text/plain": [
       "80.02076923076923"
      ]
     },
     "execution_count": 13,
     "metadata": {},
     "output_type": "execute_result"
    }
   ],
   "source": [
    "methodeA.mean()"
   ]
  },
  {
   "cell_type": "markdown",
   "metadata": {},
   "source": [
    "### Empirische Varianz"
   ]
  },
  {
   "cell_type": "code",
   "execution_count": 14,
   "metadata": {},
   "outputs": [
    {
     "data": {
      "text/plain": [
       "0.0005743589743590099"
      ]
     },
     "execution_count": 14,
     "metadata": {},
     "output_type": "execute_result"
    }
   ],
   "source": [
    "methodeA.var()"
   ]
  },
  {
   "cell_type": "markdown",
   "metadata": {},
   "source": [
    "### Standardabweichung (standard deviation)"
   ]
  },
  {
   "cell_type": "code",
   "execution_count": 15,
   "metadata": {},
   "outputs": [
    {
     "data": {
      "text/plain": [
       "0.023965787580611863"
      ]
     },
     "execution_count": 15,
     "metadata": {},
     "output_type": "execute_result"
    }
   ],
   "source": [
    "methodeA.std()"
   ]
  },
  {
   "cell_type": "markdown",
   "metadata": {},
   "source": [
    "### Messreihe nach Grösse ordnen"
   ]
  },
  {
   "cell_type": "code",
   "execution_count": 24,
   "metadata": {},
   "outputs": [],
   "source": [
    "mA = methodeA.sort_values()"
   ]
  },
  {
   "cell_type": "code",
   "execution_count": 25,
   "metadata": {},
   "outputs": [
    {
     "data": {
      "text/plain": [
       "7     79.97\n",
       "0     79.98\n",
       "11    80.00\n",
       "2     80.02\n",
       "10    80.02\n",
       "12    80.02\n",
       "4     80.03\n",
       "5     80.03\n",
       "9     80.03\n",
       "1     80.04\n",
       "3     80.04\n",
       "6     80.04\n",
       "8     80.05\n",
       "dtype: float64"
      ]
     },
     "execution_count": 25,
     "metadata": {},
     "output_type": "execute_result"
    }
   ],
   "source": [
    "mA"
   ]
  },
  {
   "cell_type": "markdown",
   "metadata": {},
   "source": [
    "### Index neu machen"
   ]
  },
  {
   "cell_type": "code",
   "execution_count": 26,
   "metadata": {},
   "outputs": [
    {
     "data": {
      "text/plain": [
       "0    79.97\n",
       "1    79.98\n",
       "2    80.00\n",
       "3    80.02\n",
       "4    80.02\n",
       "dtype: float64"
      ]
     },
     "execution_count": 26,
     "metadata": {},
     "output_type": "execute_result"
    }
   ],
   "source": [
    "mA.index = np.arange(0, methodeA.size)\n",
    "mA.head()"
   ]
  },
  {
   "cell_type": "markdown",
   "metadata": {},
   "source": [
    "### Median"
   ]
  },
  {
   "cell_type": "code",
   "execution_count": 27,
   "metadata": {},
   "outputs": [
    {
     "data": {
      "text/plain": [
       "80.03"
      ]
     },
     "execution_count": 27,
     "metadata": {},
     "output_type": "execute_result"
    }
   ],
   "source": [
    "methodeA.median()"
   ]
  },
  {
   "cell_type": "markdown",
   "metadata": {},
   "source": [
    "### Quartile (untere & obere)"
   ]
  },
  {
   "cell_type": "code",
   "execution_count": 28,
   "metadata": {},
   "outputs": [
    {
     "data": {
      "text/plain": [
       "80.02"
      ]
     },
     "execution_count": 28,
     "metadata": {},
     "output_type": "execute_result"
    }
   ],
   "source": [
    "methodeA.quantile(q=.25)"
   ]
  },
  {
   "cell_type": "code",
   "execution_count": 29,
   "metadata": {},
   "outputs": [
    {
     "data": {
      "text/plain": [
       "80.04"
      ]
     },
     "execution_count": 29,
     "metadata": {},
     "output_type": "execute_result"
    }
   ],
   "source": [
    "methodeA.quantile(q=0.75)"
   ]
  },
  {
   "cell_type": "markdown",
   "metadata": {},
   "source": [
    "### Quartilsdifferenz"
   ]
  },
  {
   "cell_type": "code",
   "execution_count": 30,
   "metadata": {},
   "outputs": [
    {
     "data": {
      "text/plain": [
       "0.020000000000010232"
      ]
     },
     "execution_count": 30,
     "metadata": {},
     "output_type": "execute_result"
    }
   ],
   "source": [
    "q75, q25 = methodeA.quantile(q = [.75, .25])\n",
    "iqr = q75 - q25\n",
    "iqr"
   ]
  },
  {
   "cell_type": "markdown",
   "metadata": {},
   "source": [
    "### Quantilenberechnung"
   ]
  },
  {
   "cell_type": "code",
   "execution_count": 31,
   "metadata": {},
   "outputs": [
    {
     "data": {
      "text/plain": [
       "0.2    3.66\n",
       "0.4    4.26\n",
       "0.6    4.98\n",
       "0.8    5.54\n",
       "1.0    6.00\n",
       "dtype: float64"
      ]
     },
     "execution_count": 31,
     "metadata": {},
     "output_type": "execute_result"
    }
   ],
   "source": [
    "noten = Series([4.2, 2.3, 5.6, 4.5, 4.8, 3.9, 5.9, 2.4, 5.9, 6, 4, 3.7, 5, 5.2, 4.5, 3.6, 5, 6, 2.8, 3.3, 5.5, 4.2, 4.9, 5.1])\n",
    "noten.quantile(q = np.linspace(start=.2, stop=1, num=5))"
   ]
  },
  {
   "cell_type": "markdown",
   "metadata": {},
   "source": [
    "### Histogramm"
   ]
  },
  {
   "cell_type": "code",
   "execution_count": 32,
   "metadata": {},
   "outputs": [
    {
     "data": {
      "image/png": "[encoded data removed]",
      "text/plain": [
       "<Figure size 432x288 with 1 Axes>"
      ]
     },
     "metadata": {
      "needs_background": "light"
     },
     "output_type": "display_data"
    }
   ],
   "source": [
    "methodeA = Series([79.98, 80.04, 80.02, 80.04, 80.03, 80.03,\n",
    "80.04, 79.97, 80.05, 80.03, 80.02, 80.00, 80.02])\n",
    "methodeB = Series([80.02, 79.94, 79.98, 79.97, 79.97, 80.03,\n",
    "79.95, 79.97])\n",
    "methodeA.plot(kind=\"hist\", edgecolor=\"black\")\n",
    "plt.title(\"Histogramm von Methode A\")\n",
    "plt.xlabel(\"methodeA\")\n",
    "plt.ylabel(\"Haeufigkeit\")\n",
    "plt.show()"
   ]
  },
  {
   "cell_type": "markdown",
   "metadata": {},
   "source": [
    "### Boxplot"
   ]
  },
  {
   "cell_type": "code",
   "execution_count": 33,
   "metadata": {},
   "outputs": [
    {
     "data": {
      "text/plain": [
       "<matplotlib.axes._subplots.AxesSubplot at 0x168119085c0>"
      ]
     },
     "execution_count": 33,
     "metadata": {},
     "output_type": "execute_result"
    },
    {
     "data": {
      "image/png": "[encoded data removed]",
      "text/plain": [
       "<Figure size 432x288 with 1 Axes>"
      ]
     },
     "metadata": {
      "needs_background": "light"
     },
     "output_type": "display_data"
    }
   ],
   "source": [
    "methodeA.plot(kind=\"box\", title=\"Boxplot Methode A\")"
   ]
  },
  {
   "cell_type": "markdown",
   "metadata": {},
   "source": [
    "### Boxplot Vergleich"
   ]
  },
  {
   "cell_type": "code",
   "execution_count": 34,
   "metadata": {},
   "outputs": [
    {
     "data": {
      "text/plain": [
       "<matplotlib.axes._subplots.AxesSubplot at 0x16812c4b4a8>"
      ]
     },
     "execution_count": 34,
     "metadata": {},
     "output_type": "execute_result"
    },
    {
     "data": {
      "image/png": "[encoded data removed]",
      "text/plain": [
       "<Figure size 432x288 with 1 Axes>"
      ]
     },
     "metadata": {
      "needs_background": "light"
     },
     "output_type": "display_data"
    }
   ],
   "source": [
    "methode = DataFrame({\n",
    "\"methodeA\": methodeA,\n",
    "\"methodeB\": methodeB\n",
    "})\n",
    "methode.plot(kind=\"box\", title=\"Boxplot von Methode A und B\")"
   ]
  },
  {
   "cell_type": "markdown",
   "metadata": {},
   "source": [
    "### Empirische kumulative Verteilungsfunktion"
   ]
  },
  {
   "cell_type": "code",
   "execution_count": 36,
   "metadata": {},
   "outputs": [
    {
     "data": {
      "text/plain": [
       "<matplotlib.axes._subplots.AxesSubplot at 0x16812e00f60>"
      ]
     },
     "execution_count": 36,
     "metadata": {},
     "output_type": "execute_result"
    },
    {
     "data": {
      "image/png": "[encoded data removed]",
      "text/plain": [
       "<Figure size 432x288 with 1 Axes>"
      ]
     },
     "metadata": {
      "needs_background": "light"
     },
     "output_type": "display_data"
    }
   ],
   "source": [
    "methodeA.plot(kind=\"hist\", cumulative=True, histtype=\"step\", density=True, bins=8, edgecolor=\"black\")"
   ]
  },
  {
   "cell_type": "markdown",
   "metadata": {},
   "source": [
    "### Streudiagramm (Scatterplot)"
   ]
  },
  {
   "cell_type": "code",
   "execution_count": 37,
   "metadata": {},
   "outputs": [
    {
     "data": {
      "image/png": "[encoded data removed]",
      "text/plain": [
       "<Figure size 432x288 with 1 Axes>"
      ]
     },
     "metadata": {
      "needs_background": "light"
     },
     "output_type": "display_data"
    }
   ],
   "source": [
    "mort = DataFrame({\n",
    "\"wine\": ([2.8, 3.2, 3.2, 3.4, 4.3, 4.9, 5.1, 5.2, 5.9, 5.9,\n",
    "6.6, 8.3, 12.6, 15.1, 25.1, 33.1, 75.9, 75.9]),\n",
    "\"mor\": ([6.2, 9.0, 7.1, 6.8, 10.2, 7.8, 9.3, 5.9, 8.9, 5.5,\n",
    "7.1, 9.1, 5.1, 4.7, 4.7, 3.1, 3.2, 2.1])\n",
    "})\n",
    "mort.plot(kind=\"scatter\", x=\"wine\", y=\"mor\")\n",
    "plt.xlabel(\"Weinkonsum (Liter pro Jahr und Person)\")\n",
    "plt.ylabel(\"Mortalitaet\")\n",
    "plt.show()"
   ]
  },
  {
   "cell_type": "markdown",
   "metadata": {},
   "source": [
    "### Geradengleichung (Regressionsgerade)\n",
    "<p span style=\"color:green\">Der Befehl <span style=\"color:blue\">x = np.linspace(book[\"pages\"].min(), book[\"pages\"].max())</span> erzeugt einen Vektor x der Länge 50, der als 1. Wert den Minimalwert von pages im Dataframe book hat und als letzten Wert dessen Maximalwert.</p>"
   ]
  },
  {
   "cell_type": "code",
   "execution_count": 40,
   "metadata": {},
   "outputs": [
    {
     "data": {
      "image/png": "[encoded data removed]",
      "text/plain": [
       "<Figure size 432x288 with 1 Axes>"
      ]
     },
     "metadata": {
      "needs_background": "light"
     },
     "output_type": "display_data"
    }
   ],
   "source": [
    "book = DataFrame({\n",
    "\"pages\" : np.linspace(50,500,10),\n",
    "\"price\" : [6.4, 9.5, 15.6, 15.1, 17.8, 23.4,\n",
    "23.4, 22.5, 26.1, 29.1]\n",
    "})\n",
    "\n",
    "book.plot(kind=\"scatter\", x=\"pages\", y=\"price\")\n",
    "b, a = np.polyfit(book[\"pages\"], book[\"price\"], deg=1)\n",
    "x = np.linspace(book[\"pages\"].min() ,book[\"pages\"].max())\n",
    "\n",
    "plt.plot(x, a+b*x, c=\"orange\")\n",
    "plt.xlabel(\"Seitenzahl\")\n",
    "plt.ylabel(\"Buchpreis\")\n",
    "plt.show()"
   ]
  },
  {
   "cell_type": "markdown",
   "metadata": {},
   "source": [
    "### Empirische Korrelation"
   ]
  },
  {
   "cell_type": "code",
   "execution_count": 41,
   "metadata": {},
   "outputs": [
    {
     "data": {
      "text/plain": [
       "0.9681121878410434"
      ]
     },
     "execution_count": 41,
     "metadata": {},
     "output_type": "execute_result"
    }
   ],
   "source": [
    "book.corr().iloc[0,1]"
   ]
  },
  {
   "cell_type": "markdown",
   "metadata": {},
   "source": [
    "<p span style=\"color:green\">Der Wert liegt sehr nahe bei 1 und somit besteht ein enger linearer Zusammenhang. Dazu ist der Wert positiv, was einem \"je mehr, desto mehr\" (einem positiven, linearen Zusammenhang) entspricht.</p>"
   ]
  },
  {
   "cell_type": "markdown",
   "metadata": {},
   "source": [
    "### Korrelationsmatrix"
   ]
  },
  {
   "cell_type": "code",
   "execution_count": 42,
   "metadata": {},
   "outputs": [
    {
     "data": {
      "text/html": [
       "<div>\n",
       "<style scoped>\n",
       "    .dataframe tbody tr th:only-of-type {\n",
       "        vertical-align: middle;\n",
       "    }\n",
       "\n",
       "    .dataframe tbody tr th {\n",
       "        vertical-align: top;\n",
       "    }\n",
       "\n",
       "    .dataframe thead th {\n",
       "        text-align: right;\n",
       "    }\n",
       "</style>\n",
       "<table border=\"1\" class=\"dataframe\">\n",
       "  <thead>\n",
       "    <tr style=\"text-align: right;\">\n",
       "      <th></th>\n",
       "      <th>pages</th>\n",
       "      <th>price</th>\n",
       "    </tr>\n",
       "  </thead>\n",
       "  <tbody>\n",
       "    <tr>\n",
       "      <th>pages</th>\n",
       "      <td>1.000000</td>\n",
       "      <td>0.968112</td>\n",
       "    </tr>\n",
       "    <tr>\n",
       "      <th>price</th>\n",
       "      <td>0.968112</td>\n",
       "      <td>1.000000</td>\n",
       "    </tr>\n",
       "  </tbody>\n",
       "</table>\n",
       "</div>"
      ],
      "text/plain": [
       "          pages     price\n",
       "pages  1.000000  0.968112\n",
       "price  0.968112  1.000000"
      ]
     },
     "execution_count": 42,
     "metadata": {},
     "output_type": "execute_result"
    }
   ],
   "source": [
    "book.corr()"
   ]
  },
  {
   "cell_type": "markdown",
   "metadata": {},
   "source": [
    "### Datensatz erstellen"
   ]
  },
  {
   "cell_type": "code",
   "execution_count": 45,
   "metadata": {},
   "outputs": [
    {
     "name": "stdout",
     "output_type": "stream",
     "text": [
      "    Name   Age  Sex  Goals  Assists  Value\n",
      "0   John  21.0    M    5.0      7.0   55.0\n",
      "1   Paul  23.0  NaN   10.0      4.0   84.0\n",
      "2    NaN   NaN  NaN    NaN      NaN    NaN\n",
      "3   Wale  19.0    M   19.0      9.0   90.0\n",
      "4   Mary  25.0    F    5.0      7.0   63.0\n",
      "5  Carli   NaN    F    0.0      6.0   15.0\n",
      "6  Steve  15.0    M    7.0      4.0   46.0\n"
     ]
    }
   ],
   "source": [
    "data = {\n",
    "'Name': ['John','Paul', np.NaN, 'Wale', 'Mary', 'Carli', 'Steve'],\n",
    "'Age': [21,23,np.nan,19,25,np.nan,15],\n",
    "'Sex': ['M',np.nan,np.nan,'M','F','F','M'],\n",
    "'Goals': [5,10,np.nan,19,5,0,7],\n",
    "'Assists' : [7,4,np.nan,9,7,6,4],\n",
    "'Value': [55,84,np.nan,90,63,15,46]\n",
    "}\n",
    "\n",
    "df=pd.DataFrame(data, columns =['Name','Age','Sex','Goals', 'Assists', 'Value'])\n",
    "print(df)"
   ]
  },
  {
   "cell_type": "markdown",
   "metadata": {},
   "source": [
    "### Zeilen mit NaN entfernen"
   ]
  },
  {
   "cell_type": "code",
   "execution_count": 46,
   "metadata": {},
   "outputs": [
    {
     "name": "stdout",
     "output_type": "stream",
     "text": [
      "    Name   Age Sex  Goals  Assists  Value\n",
      "0   John  21.0   M    5.0      7.0   55.0\n",
      "3   Wale  19.0   M   19.0      9.0   90.0\n",
      "4   Mary  25.0   F    5.0      7.0   63.0\n",
      "6  Steve  15.0   M    7.0      4.0   46.0\n"
     ]
    }
   ],
   "source": [
    "print(df.dropna())"
   ]
  },
  {
   "cell_type": "markdown",
   "metadata": {},
   "source": [
    "### Zeilen die komplett NaN sind entfernen"
   ]
  },
  {
   "cell_type": "code",
   "execution_count": 47,
   "metadata": {},
   "outputs": [
    {
     "name": "stdout",
     "output_type": "stream",
     "text": [
      "    Name   Age  Sex  Goals  Assists  Value\n",
      "0   John  21.0    M    5.0      7.0   55.0\n",
      "1   Paul  23.0  NaN   10.0      4.0   84.0\n",
      "3   Wale  19.0    M   19.0      9.0   90.0\n",
      "4   Mary  25.0    F    5.0      7.0   63.0\n",
      "5  Carli   NaN    F    0.0      6.0   15.0\n",
      "6  Steve  15.0    M    7.0      4.0   46.0\n"
     ]
    }
   ],
   "source": [
    "print(df.dropna(how = 'all'))"
   ]
  },
  {
   "cell_type": "markdown",
   "metadata": {},
   "source": [
    "### Neue Spalte generieren (NaN)"
   ]
  },
  {
   "cell_type": "code",
   "execution_count": 48,
   "metadata": {},
   "outputs": [
    {
     "name": "stdout",
     "output_type": "stream",
     "text": [
      "    Name   Age  Sex  Goals  Assists  Value  New\n",
      "0   John  21.0    M    5.0      7.0   55.0  NaN\n",
      "1   Paul  23.0  NaN   10.0      4.0   84.0  NaN\n",
      "2    NaN   NaN  NaN    NaN      NaN    NaN  NaN\n",
      "3   Wale  19.0    M   19.0      9.0   90.0  NaN\n",
      "4   Mary  25.0    F    5.0      7.0   63.0  NaN\n",
      "5  Carli   NaN    F    0.0      6.0   15.0  NaN\n",
      "6  Steve  15.0    M    7.0      4.0   46.0  NaN\n"
     ]
    }
   ],
   "source": [
    "df['New'] = np.nan\n",
    "print(df)"
   ]
  },
  {
   "cell_type": "markdown",
   "metadata": {},
   "source": [
    "### Eine Spalte mit nur NaN entfernen"
   ]
  },
  {
   "cell_type": "code",
   "execution_count": 49,
   "metadata": {},
   "outputs": [
    {
     "name": "stdout",
     "output_type": "stream",
     "text": [
      "    Name   Age  Sex  Goals  Assists  Value\n",
      "0   John  21.0    M    5.0      7.0   55.0\n",
      "1   Paul  23.0  NaN   10.0      4.0   84.0\n",
      "2    NaN   NaN  NaN    NaN      NaN    NaN\n",
      "3   Wale  19.0    M   19.0      9.0   90.0\n",
      "4   Mary  25.0    F    5.0      7.0   63.0\n",
      "5  Carli   NaN    F    0.0      6.0   15.0\n",
      "6  Steve  15.0    M    7.0      4.0   46.0\n"
     ]
    }
   ],
   "source": [
    "print(df.dropna(axis = 1, how ='all'))"
   ]
  },
  {
   "cell_type": "markdown",
   "metadata": {},
   "source": [
    "### Threshold setzen (mind. X Werte müssen unterschiedlich von NaN sein)"
   ]
  },
  {
   "cell_type": "markdown",
   "metadata": {},
   "source": [
    "Zeile 1 + 5 haben je 5 unterschiedliche Werte + 2 NaN"
   ]
  },
  {
   "cell_type": "code",
   "execution_count": 63,
   "metadata": {},
   "outputs": [
    {
     "name": "stdout",
     "output_type": "stream",
     "text": [
      "    Name   Age  Sex  Goals  Assists  Value  New\n",
      "0   John  21.0    M    5.0      7.0   55.0  NaN\n",
      "1   Paul  23.0  NaN   10.0      4.0   84.0  NaN\n",
      "3   Wale  19.0    M   19.0      9.0   90.0  NaN\n",
      "4   Mary  25.0    F    5.0      7.0   63.0  NaN\n",
      "5  Carli   NaN    F    0.0      6.0   15.0  NaN\n",
      "6  Steve  15.0    M    7.0      4.0   46.0  NaN\n"
     ]
    }
   ],
   "source": [
    "print(df.dropna(thresh=5))"
   ]
  },
  {
   "cell_type": "markdown",
   "metadata": {},
   "source": [
    "Zeile 1 + 5 sind weg, da Sie nur 5 unterschiedliche Werte besitzen"
   ]
  },
  {
   "cell_type": "code",
   "execution_count": 64,
   "metadata": {},
   "outputs": [
    {
     "name": "stdout",
     "output_type": "stream",
     "text": [
      "    Name   Age Sex  Goals  Assists  Value  New\n",
      "0   John  21.0   M    5.0      7.0   55.0  NaN\n",
      "3   Wale  19.0   M   19.0      9.0   90.0  NaN\n",
      "4   Mary  25.0   F    5.0      7.0   63.0  NaN\n",
      "6  Steve  15.0   M    7.0      4.0   46.0  NaN\n"
     ]
    }
   ],
   "source": [
    "print(df.dropna(thresh=6))"
   ]
  },
  {
   "cell_type": "markdown",
   "metadata": {},
   "source": [
    "#### Axis = 0 --> Row = Zeilen\n",
    "### Axis = 1 --> Columns = Spalten"
   ]
  },
  {
   "cell_type": "code",
   "execution_count": null,
   "metadata": {},
   "outputs": [],
   "source": []
  }
 ],
 "metadata": {
  "kernelspec": {
   "display_name": "Python 3",
   "language": "python",
   "name": "python3"
  },
  "language_info": {
   "codemirror_mode": {
    "name": "ipython",
    "version": 3
   },
   "file_extension": ".py",
   "mimetype": "text/x-python",
   "name": "python",
   "nbconvert_exporter": "python",
   "pygments_lexer": "ipython3",
   "version": "3.7.3"
  }
 },
 "nbformat": 4,
 "nbformat_minor": 2
}
