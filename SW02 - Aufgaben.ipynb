{
 "cells": [
  {
   "cell_type": "markdown",
   "metadata": {},
   "source": [
    "# Aufgabe 2.1\n",
    "### In einer Klasse wurden in einer Statistik-Prüfung folgende Noten geschrieben:\n",
    "4.2, 2.3, 5.6, 4.5, 4.8, 3.9, 5.9, 2.4, 5.9, 6, 4, 3.7, 5, 5.2, 4.5, 3.6, 5, 6, 2.8, 3.3, 5.5, 4.2, 4.9, 5.1\n",
    "### a) Ändern Sie drei Noten im Datensatz so ab, dass der Median gleich bleibt, aber der Mittelwert sich stark ändert."
   ]
  },
  {
   "cell_type": "code",
   "execution_count": 1,
   "metadata": {},
   "outputs": [],
   "source": [
    "import matplotlib.pyplot as plt\n",
    "import scipy.stats as st\n",
    "import seaborn as sns\n",
    "import pandas as pd\n",
    "import numpy as np"
   ]
  },
  {
   "cell_type": "code",
   "execution_count": 5,
   "metadata": {},
   "outputs": [],
   "source": [
    "sp = pd.Series([4.2, 2.3, 5.6, 4.5, 4.8, 3.9, 5.9, 2.4, 5.9, 6, 4, 3.7, 5, 5.2, 4.5, 3.6, 5, 6, 2.8, 3.3, 5.5, 4.2, 4.9, 5.1])"
   ]
  },
  {
   "cell_type": "code",
   "execution_count": 6,
   "metadata": {},
   "outputs": [
    {
     "data": {
      "text/plain": [
       "0    4.2\n",
       "1    2.3\n",
       "2    5.6\n",
       "3    4.5\n",
       "4    4.8\n",
       "dtype: float64"
      ]
     },
     "execution_count": 6,
     "metadata": {},
     "output_type": "execute_result"
    }
   ],
   "source": [
    "sp.head()"
   ]
  },
  {
   "cell_type": "code",
   "execution_count": 8,
   "metadata": {},
   "outputs": [
    {
     "data": {
      "text/plain": [
       "4.65"
      ]
     },
     "execution_count": 8,
     "metadata": {},
     "output_type": "execute_result"
    }
   ],
   "source": [
    "sp.median()"
   ]
  },
  {
   "cell_type": "code",
   "execution_count": 9,
   "metadata": {},
   "outputs": [
    {
     "data": {
      "text/plain": [
       "4.5125"
      ]
     },
     "execution_count": 9,
     "metadata": {},
     "output_type": "execute_result"
    }
   ],
   "source": [
    "sp.mean()"
   ]
  },
  {
   "cell_type": "code",
   "execution_count": 21,
   "metadata": {},
   "outputs": [],
   "source": [
    "sp_sort = sp.sort_values()"
   ]
  },
  {
   "cell_type": "code",
   "execution_count": 22,
   "metadata": {},
   "outputs": [
    {
     "data": {
      "text/plain": [
       "1     2.3\n",
       "7     2.4\n",
       "18    2.8\n",
       "19    3.3\n",
       "15    3.6\n",
       "11    3.7\n",
       "5     3.9\n",
       "10    4.0\n",
       "21    4.2\n",
       "0     4.2\n",
       "14    4.5\n",
       "3     4.5\n",
       "4     4.8\n",
       "22    4.9\n",
       "12    5.0\n",
       "16    5.0\n",
       "23    5.1\n",
       "13    5.2\n",
       "20    5.5\n",
       "2     5.6\n",
       "8     5.9\n",
       "6     5.9\n",
       "17    6.0\n",
       "9     6.0\n",
       "dtype: float64"
      ]
     },
     "execution_count": 22,
     "metadata": {},
     "output_type": "execute_result"
    }
   ],
   "source": [
    "sp_sort"
   ]
  },
  {
   "cell_type": "code",
   "execution_count": 17,
   "metadata": {},
   "outputs": [
    {
     "data": {
      "text/plain": [
       "1     2.3\n",
       "7     2.4\n",
       "18    2.8\n",
       "19    3.3\n",
       "15    3.6\n",
       "dtype: float64"
      ]
     },
     "execution_count": 17,
     "metadata": {},
     "output_type": "execute_result"
    }
   ],
   "source": [
    "sp_sort.head()"
   ]
  },
  {
   "cell_type": "markdown",
   "metadata": {},
   "source": [
    "Index ändern"
   ]
  },
  {
   "cell_type": "code",
   "execution_count": 25,
   "metadata": {},
   "outputs": [],
   "source": [
    "sp_sort.index = np.arange(1, sp_sort.size+1)"
   ]
  },
  {
   "cell_type": "code",
   "execution_count": 26,
   "metadata": {},
   "outputs": [
    {
     "data": {
      "text/plain": [
       "1    2.3\n",
       "2    2.4\n",
       "3    2.8\n",
       "4    3.3\n",
       "5    3.6\n",
       "dtype: float64"
      ]
     },
     "execution_count": 26,
     "metadata": {},
     "output_type": "execute_result"
    }
   ],
   "source": [
    "sp_sort.head()"
   ]
  },
  {
   "cell_type": "code",
   "execution_count": 27,
   "metadata": {},
   "outputs": [
    {
     "data": {
      "text/plain": [
       "4.5"
      ]
     },
     "execution_count": 27,
     "metadata": {},
     "output_type": "execute_result"
    }
   ],
   "source": [
    "sp_sort.loc[12]"
   ]
  },
  {
   "cell_type": "code",
   "execution_count": 28,
   "metadata": {},
   "outputs": [
    {
     "data": {
      "text/plain": [
       "4.8"
      ]
     },
     "execution_count": 28,
     "metadata": {},
     "output_type": "execute_result"
    }
   ],
   "source": [
    "sp_sort.loc[13]"
   ]
  },
  {
   "cell_type": "markdown",
   "metadata": {},
   "source": [
    "Median nicht ändern, nur Mittelwert --> nur Werte unter oder ober dem Median ändern; 24 Werte --> Median liegt zwischen 12 & 13 "
   ]
  },
  {
   "cell_type": "code",
   "execution_count": 29,
   "metadata": {},
   "outputs": [],
   "source": [
    "sp_sort[9], sp_sort[10], sp_sort[11] = 1,1,1"
   ]
  },
  {
   "cell_type": "code",
   "execution_count": 31,
   "metadata": {},
   "outputs": [
    {
     "data": {
      "text/plain": [
       "1     2.3\n",
       "2     2.4\n",
       "3     2.8\n",
       "4     3.3\n",
       "5     3.6\n",
       "6     3.7\n",
       "7     3.9\n",
       "8     4.0\n",
       "9     1.0\n",
       "10    1.0\n",
       "11    1.0\n",
       "12    4.5\n",
       "dtype: float64"
      ]
     },
     "execution_count": 31,
     "metadata": {},
     "output_type": "execute_result"
    }
   ],
   "source": [
    "sp_sort.head(n=12)"
   ]
  },
  {
   "cell_type": "code",
   "execution_count": 32,
   "metadata": {},
   "outputs": [
    {
     "data": {
      "text/plain": [
       "4.1000000000000005"
      ]
     },
     "execution_count": 32,
     "metadata": {},
     "output_type": "execute_result"
    }
   ],
   "source": [
    "sp_sort.mean()"
   ]
  },
  {
   "cell_type": "code",
   "execution_count": 34,
   "metadata": {},
   "outputs": [
    {
     "data": {
      "text/plain": [
       "4.65"
      ]
     },
     "execution_count": 34,
     "metadata": {},
     "output_type": "execute_result"
    }
   ],
   "source": [
    "sp_sort.median()"
   ]
  },
  {
   "cell_type": "markdown",
   "metadata": {},
   "source": [
    "### b) Erstellen Sie zu den beiden Datensätzen je ein Histogramm und einen Boxplot.\n",
    "Verwenden Sie plt.subplot(...)."
   ]
  },
  {
   "cell_type": "code",
   "execution_count": 38,
   "metadata": {},
   "outputs": [
    {
     "data": {
      "text/plain": [
       "<matplotlib.axes._subplots.AxesSubplot at 0x13cd3ff3f28>"
      ]
     },
     "execution_count": 38,
     "metadata": {},
     "output_type": "execute_result"
    },
    {
     "data": {
      "image/png": "[encoded data removed]",
      "text/plain": [
       "<Figure size 432x288 with 4 Axes>"
      ]
     },
     "metadata": {
      "needs_background": "light"
     },
     "output_type": "display_data"
    }
   ],
   "source": [
    "plt.subplot(221)\n",
    "sp.plot(kind=\"hist\", edgecolor=\"black\")\n",
    "plt.subplot(223)\n",
    "sp.plot(kind=\"box\")\n",
    "plt.subplot(222)\n",
    "sp_sort.plot(kind=\"hist\", edgecolor=\"black\")\n",
    "plt.subplot(224)\n",
    "sp_sort.plot(kind=\"box\")\n"
   ]
  },
  {
   "cell_type": "markdown",
   "metadata": {},
   "source": [
    "---\n",
    "# Aufgabe 2.2\n",
    "21 Labors bestimmten den Kupfergehalt von 9 verschiedenen Klärschlammproben.\n",
    "Die Daten stehen in der auf Ilias abgelegten Datei klaerschlamm.dat zur Verfügung.\n",
    "Die erste Spalte bezeichnet das Labor, die restlichen 9 Spalten sind die verschiedenen\n",
    "Klärschlammproben. Die Daten (in mg/kg) können mit dem Befehl<br>\n",
    "schlamm = pd.read_csv(\"*klaerschlamm.dat\", sep=\" \", index_col=0)<br>\n",
    "eingelesen werden (für * wieder der Dateipfad). Die erste Spalte Labor wollen wir noch entfernen, da sie uns nicht interessiert.<br>\n",
    "schlamm = schlamm.drop(\"Labor\",1)<br>\n",
    "schlamm.head()"
   ]
  },
  {
   "cell_type": "code",
   "execution_count": 39,
   "metadata": {},
   "outputs": [],
   "source": [
    "schlamm = pd.read_csv(\"files/sw02/klaerschlamm.dat\", sep=\" \", index_col=0)"
   ]
  },
  {
   "cell_type": "code",
   "execution_count": 40,
   "metadata": {},
   "outputs": [
    {
     "data": {
      "text/html": [
       "<div>\n",
       "<style scoped>\n",
       "    .dataframe tbody tr th:only-of-type {\n",
       "        vertical-align: middle;\n",
       "    }\n",
       "\n",
       "    .dataframe tbody tr th {\n",
       "        vertical-align: top;\n",
       "    }\n",
       "\n",
       "    .dataframe thead th {\n",
       "        text-align: right;\n",
       "    }\n",
       "</style>\n",
       "<table border=\"1\" class=\"dataframe\">\n",
       "  <thead>\n",
       "    <tr style=\"text-align: right;\">\n",
       "      <th></th>\n",
       "      <th>Pr1</th>\n",
       "      <th>Pr2</th>\n",
       "      <th>Pr3</th>\n",
       "      <th>Pr4</th>\n",
       "      <th>Pr5</th>\n",
       "      <th>Pr6</th>\n",
       "      <th>Pr7</th>\n",
       "      <th>Pr8</th>\n",
       "      <th>Pr9</th>\n",
       "    </tr>\n",
       "  </thead>\n",
       "  <tbody>\n",
       "    <tr>\n",
       "      <th>1</th>\n",
       "      <td>233</td>\n",
       "      <td>491</td>\n",
       "      <td>428</td>\n",
       "      <td>376</td>\n",
       "      <td>200</td>\n",
       "      <td>364</td>\n",
       "      <td>474</td>\n",
       "      <td>444</td>\n",
       "      <td>351</td>\n",
       "    </tr>\n",
       "    <tr>\n",
       "      <th>2</th>\n",
       "      <td>253</td>\n",
       "      <td>530</td>\n",
       "      <td>453</td>\n",
       "      <td>389</td>\n",
       "      <td>191</td>\n",
       "      <td>402</td>\n",
       "      <td>495</td>\n",
       "      <td>453</td>\n",
       "      <td>371</td>\n",
       "    </tr>\n",
       "    <tr>\n",
       "      <th>3</th>\n",
       "      <td>240</td>\n",
       "      <td>530</td>\n",
       "      <td>460</td>\n",
       "      <td>390</td>\n",
       "      <td>200</td>\n",
       "      <td>390</td>\n",
       "      <td>480</td>\n",
       "      <td>440</td>\n",
       "      <td>350</td>\n",
       "    </tr>\n",
       "    <tr>\n",
       "      <th>4</th>\n",
       "      <td>243</td>\n",
       "      <td>518</td>\n",
       "      <td>456</td>\n",
       "      <td>389</td>\n",
       "      <td>186</td>\n",
       "      <td>385</td>\n",
       "      <td>483</td>\n",
       "      <td>459</td>\n",
       "      <td>369</td>\n",
       "    </tr>\n",
       "    <tr>\n",
       "      <th>5</th>\n",
       "      <td>244</td>\n",
       "      <td>521</td>\n",
       "      <td>446</td>\n",
       "      <td>392</td>\n",
       "      <td>193</td>\n",
       "      <td>385</td>\n",
       "      <td>481</td>\n",
       "      <td>451</td>\n",
       "      <td>357</td>\n",
       "    </tr>\n",
       "  </tbody>\n",
       "</table>\n",
       "</div>"
      ],
      "text/plain": [
       "   Pr1  Pr2  Pr3  Pr4  Pr5  Pr6  Pr7  Pr8  Pr9\n",
       "1  233  491  428  376  200  364  474  444  351\n",
       "2  253  530  453  389  191  402  495  453  371\n",
       "3  240  530  460  390  200  390  480  440  350\n",
       "4  243  518  456  389  186  385  483  459  369\n",
       "5  244  521  446  392  193  385  481  451  357"
      ]
     },
     "execution_count": 40,
     "metadata": {},
     "output_type": "execute_result"
    }
   ],
   "source": [
    "schlamm = schlamm.drop(\"Labor\",1)\n",
    "schlamm.head()"
   ]
  },
  {
   "cell_type": "markdown",
   "metadata": {},
   "source": [
    "### a) Erstellen Sie für jede Probe einen Boxplot, und berechnen Sie jeweils das arithmetische Mittel und den Median.\n",
    "Bei welchen Proben gibt es Ausreisser, und wo unterscheiden sich arithmetisches Mittel und Median wesentlich? Bei welchen\n",
    "der 9 Proben ist es plausibel, dass die wahre Konzentration unter 400 mg/kg liegt?"
   ]
  },
  {
   "cell_type": "code",
   "execution_count": 41,
   "metadata": {},
   "outputs": [
    {
     "data": {
      "text/html": [
       "<div>\n",
       "<style scoped>\n",
       "    .dataframe tbody tr th:only-of-type {\n",
       "        vertical-align: middle;\n",
       "    }\n",
       "\n",
       "    .dataframe tbody tr th {\n",
       "        vertical-align: top;\n",
       "    }\n",
       "\n",
       "    .dataframe thead th {\n",
       "        text-align: right;\n",
       "    }\n",
       "</style>\n",
       "<table border=\"1\" class=\"dataframe\">\n",
       "  <thead>\n",
       "    <tr style=\"text-align: right;\">\n",
       "      <th></th>\n",
       "      <th>Pr1</th>\n",
       "      <th>Pr2</th>\n",
       "      <th>Pr3</th>\n",
       "      <th>Pr4</th>\n",
       "      <th>Pr5</th>\n",
       "      <th>Pr6</th>\n",
       "      <th>Pr7</th>\n",
       "      <th>Pr8</th>\n",
       "      <th>Pr9</th>\n",
       "    </tr>\n",
       "  </thead>\n",
       "  <tbody>\n",
       "    <tr>\n",
       "      <th>count</th>\n",
       "      <td>21.000000</td>\n",
       "      <td>21.000000</td>\n",
       "      <td>21.000000</td>\n",
       "      <td>21.000000</td>\n",
       "      <td>21.000000</td>\n",
       "      <td>21.000000</td>\n",
       "      <td>21.000000</td>\n",
       "      <td>21.000000</td>\n",
       "      <td>21.000000</td>\n",
       "    </tr>\n",
       "    <tr>\n",
       "      <th>mean</th>\n",
       "      <td>246.142857</td>\n",
       "      <td>511.428571</td>\n",
       "      <td>443.428571</td>\n",
       "      <td>389.238095</td>\n",
       "      <td>188.238095</td>\n",
       "      <td>394.857143</td>\n",
       "      <td>465.523810</td>\n",
       "      <td>449.952381</td>\n",
       "      <td>388.904762</td>\n",
       "    </tr>\n",
       "    <tr>\n",
       "      <th>std</th>\n",
       "      <td>18.210672</td>\n",
       "      <td>76.962050</td>\n",
       "      <td>34.156363</td>\n",
       "      <td>56.642656</td>\n",
       "      <td>16.866845</td>\n",
       "      <td>56.642110</td>\n",
       "      <td>91.361162</td>\n",
       "      <td>57.069673</td>\n",
       "      <td>104.159927</td>\n",
       "    </tr>\n",
       "    <tr>\n",
       "      <th>min</th>\n",
       "      <td>216.000000</td>\n",
       "      <td>268.000000</td>\n",
       "      <td>378.000000</td>\n",
       "      <td>223.000000</td>\n",
       "      <td>157.000000</td>\n",
       "      <td>337.000000</td>\n",
       "      <td>110.000000</td>\n",
       "      <td>323.000000</td>\n",
       "      <td>319.000000</td>\n",
       "    </tr>\n",
       "    <tr>\n",
       "      <th>25%</th>\n",
       "      <td>239.000000</td>\n",
       "      <td>491.000000</td>\n",
       "      <td>422.000000</td>\n",
       "      <td>373.000000</td>\n",
       "      <td>178.000000</td>\n",
       "      <td>366.000000</td>\n",
       "      <td>456.000000</td>\n",
       "      <td>423.000000</td>\n",
       "      <td>350.000000</td>\n",
       "    </tr>\n",
       "    <tr>\n",
       "      <th>50%</th>\n",
       "      <td>244.000000</td>\n",
       "      <td>521.000000</td>\n",
       "      <td>446.000000</td>\n",
       "      <td>390.000000</td>\n",
       "      <td>188.000000</td>\n",
       "      <td>385.000000</td>\n",
       "      <td>481.000000</td>\n",
       "      <td>451.000000</td>\n",
       "      <td>369.000000</td>\n",
       "    </tr>\n",
       "    <tr>\n",
       "      <th>75%</th>\n",
       "      <td>257.000000</td>\n",
       "      <td>530.000000</td>\n",
       "      <td>459.000000</td>\n",
       "      <td>405.000000</td>\n",
       "      <td>200.000000</td>\n",
       "      <td>393.000000</td>\n",
       "      <td>493.000000</td>\n",
       "      <td>467.000000</td>\n",
       "      <td>382.000000</td>\n",
       "    </tr>\n",
       "    <tr>\n",
       "      <th>max</th>\n",
       "      <td>296.000000</td>\n",
       "      <td>732.000000</td>\n",
       "      <td>548.000000</td>\n",
       "      <td>562.000000</td>\n",
       "      <td>221.000000</td>\n",
       "      <td>557.000000</td>\n",
       "      <td>642.000000</td>\n",
       "      <td>639.000000</td>\n",
       "      <td>819.000000</td>\n",
       "    </tr>\n",
       "  </tbody>\n",
       "</table>\n",
       "</div>"
      ],
      "text/plain": [
       "              Pr1         Pr2         Pr3         Pr4         Pr5         Pr6  \\\n",
       "count   21.000000   21.000000   21.000000   21.000000   21.000000   21.000000   \n",
       "mean   246.142857  511.428571  443.428571  389.238095  188.238095  394.857143   \n",
       "std     18.210672   76.962050   34.156363   56.642656   16.866845   56.642110   \n",
       "min    216.000000  268.000000  378.000000  223.000000  157.000000  337.000000   \n",
       "25%    239.000000  491.000000  422.000000  373.000000  178.000000  366.000000   \n",
       "50%    244.000000  521.000000  446.000000  390.000000  188.000000  385.000000   \n",
       "75%    257.000000  530.000000  459.000000  405.000000  200.000000  393.000000   \n",
       "max    296.000000  732.000000  548.000000  562.000000  221.000000  557.000000   \n",
       "\n",
       "              Pr7         Pr8         Pr9  \n",
       "count   21.000000   21.000000   21.000000  \n",
       "mean   465.523810  449.952381  388.904762  \n",
       "std     91.361162   57.069673  104.159927  \n",
       "min    110.000000  323.000000  319.000000  \n",
       "25%    456.000000  423.000000  350.000000  \n",
       "50%    481.000000  451.000000  369.000000  \n",
       "75%    493.000000  467.000000  382.000000  \n",
       "max    642.000000  639.000000  819.000000  "
      ]
     },
     "execution_count": 41,
     "metadata": {},
     "output_type": "execute_result"
    }
   ],
   "source": [
    "schlamm.describe()"
   ]
  },
  {
   "cell_type": "markdown",
   "metadata": {},
   "source": [
    "50% unter 400mg/kg: Pr1, Pr4, Pr5, Pr6, Pr9<br>\n",
    "plausibel: Pr1, Pr5<br>\n",
    "Grenzfälle: Pr4, Pr5, Pr9 --> viele Ausreisser"
   ]
  },
  {
   "cell_type": "code",
   "execution_count": 43,
   "metadata": {},
   "outputs": [
    {
     "data": {
      "text/plain": [
       "<matplotlib.axes._subplots.AxesSubplot at 0x13cd4d1b940>"
      ]
     },
     "execution_count": 43,
     "metadata": {},
     "output_type": "execute_result"
    },
    {
     "data": {
      "image/png": "[encoded data removed]",
      "text/plain": [
       "<Figure size 432x288 with 1 Axes>"
      ]
     },
     "metadata": {
      "needs_background": "light"
     },
     "output_type": "display_data"
    }
   ],
   "source": [
    "schlamm.plot(kind=\"box\", title=\"Probe 1-9\")"
   ]
  },
  {
   "cell_type": "markdown",
   "metadata": {},
   "source": [
    "###  b) Erstellen Sie für jedes Labor einen Boxplot der Messfehler. \n",
    "Unter dem Messfehler eines Labors bei einer Probe verstehen wir den gemessenen Wert minus den Median über alle Labors. Welche der 21 Labors haben systematische Fehler in ihrem Analyseverfahren? Welche haben grosse Zufallsfehler, und bei welchen Labors ist die Qualität der Analysen besonders gut?"
   ]
  },
  {
   "cell_type": "markdown",
   "metadata": {},
   "source": [
    "Python-Hinweise: Wir ziehen zunächst von jeder Spalte den Median ab"
   ]
  },
  {
   "cell_type": "code",
   "execution_count": 44,
   "metadata": {},
   "outputs": [],
   "source": [
    "schlamm_centered = schlamm - schlamm.median()"
   ]
  },
  {
   "cell_type": "markdown",
   "metadata": {},
   "source": [
    "und zeichnen den Boxplot mit vertauschten Zeilen und Spalten. Dies geschieht mit dem Attribut .T"
   ]
  },
  {
   "cell_type": "code",
   "execution_count": 48,
   "metadata": {},
   "outputs": [
    {
     "data": {
      "text/plain": [
       "<matplotlib.axes._subplots.AxesSubplot at 0x13cd54875c0>"
      ]
     },
     "execution_count": 48,
     "metadata": {},
     "output_type": "execute_result"
    },
    {
     "data": {
      "image/png": "[encoded data removed]",
      "text/plain": [
       "<Figure size 432x288 with 1 Axes>"
      ]
     },
     "metadata": {
      "needs_background": "light"
     },
     "output_type": "display_data"
    }
   ],
   "source": [
    "schlamm_centered.T.plot(kind=\"box\")"
   ]
  },
  {
   "cell_type": "markdown",
   "metadata": {},
   "source": [
    "systematische Fehler: 15 & 21<br>\n",
    "gross Zufallsfehler: 6 & 12 <br>\n",
    "besonders gut: 2, 3, 4, 5, 19 <br>\n",
    "systematische \"kleine\" Fehler (alle Werte zu gross oder klein): 1, 7, 8, 9, 10, 11, 1,3 14, 16, 17, 18, 20 "
   ]
  },
  {
   "cell_type": "markdown",
   "metadata": {},
   "source": [
    "---\n",
    "# Aufgabe 2.3\n",
    "Für drei Stichproben vom Umfang n = 100 wurden je ein Boxplot und die empirische Verteilungsfunktion gezeichnet. Ordnen Sie die drei Boxplots den entsprechenden empirischen Verteilungsfunktionen zu:"
   ]
  },
  {
   "cell_type": "markdown",
   "metadata": {},
   "source": [
    "1 --> c<br>\n",
    "2 --> b<br>\n",
    "3 --> a"
   ]
  },
  {
   "cell_type": "markdown",
   "metadata": {},
   "source": [
    "---\n",
    "# Aufgabe 2.4\n",
    "EdwinHubble untersuchte seit 1920 amMountWilsonObservatory die Eigenschaften von Galaxien ausserhalb der Milchstrasse."
   ]
  },
  {
   "cell_type": "markdown",
   "metadata": {},
   "source": [
    "### a) Erstellen Sie von den Daten in Tabelle 1 ein Streudiagramm, in dem Sie die Distanz versus Fluchtgeschwindigkeit aufzeichnen."
   ]
  },
  {
   "cell_type": "code",
   "execution_count": 50,
   "metadata": {},
   "outputs": [],
   "source": [
    "hubble = pd.read_csv(\"files/sw02/hubble.txt\", sep=\" \")"
   ]
  },
  {
   "cell_type": "code",
   "execution_count": 52,
   "metadata": {},
   "outputs": [
    {
     "data": {
      "text/plain": [
       "Index(['distance', 'recession.velocity'], dtype='object')"
      ]
     },
     "execution_count": 52,
     "metadata": {},
     "output_type": "execute_result"
    }
   ],
   "source": [
    "hubble.columns"
   ]
  },
  {
   "cell_type": "code",
   "execution_count": 54,
   "metadata": {},
   "outputs": [
    {
     "data": {
      "text/plain": [
       "<matplotlib.axes._subplots.AxesSubplot at 0x13cd5989710>"
      ]
     },
     "execution_count": 54,
     "metadata": {},
     "output_type": "execute_result"
    },
    {
     "data": {
      "image/png": "[encoded data removed]",
      "text/plain": [
       "<Figure size 432x288 with 1 Axes>"
      ]
     },
     "metadata": {
      "needs_background": "light"
     },
     "output_type": "display_data"
    }
   ],
   "source": [
    "hubble.plot(kind=\"scatter\", y=\"distance\", x=\"recession.velocity\")"
   ]
  },
  {
   "cell_type": "markdown",
   "metadata": {},
   "source": [
    "### b) Bestimmen Sie mit dem Befehl np.polyfit(...) (siehe Skript) die Koeffizienten b0 und b1 für die Regressionsgerade y = b0 + b1x wobei y die Distanz und x die Fluchtgeschwindigkeit bezeichnet."
   ]
  },
  {
   "cell_type": "code",
   "execution_count": null,
   "metadata": {},
   "outputs": [],
   "source": []
  }
 ],
 "metadata": {
  "kernelspec": {
   "display_name": "Python 3",
   "language": "python",
   "name": "python3"
  },
  "language_info": {
   "codemirror_mode": {
    "name": "ipython",
    "version": 3
   },
   "file_extension": ".py",
   "mimetype": "text/x-python",
   "name": "python",
   "nbconvert_exporter": "python",
   "pygments_lexer": "ipython3",
   "version": "3.7.3"
  }
 },
 "nbformat": 4,
 "nbformat_minor": 2
}
