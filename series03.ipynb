{
 "cells": [
  {
   "cell_type": "code",
   "execution_count": 1,
   "metadata": {},
   "outputs": [],
   "source": [
    "import matplotlib.pyplot as plt\n",
    "import scipy.stats as st\n",
    "import seaborn as sns\n",
    "import pandas as pd\n",
    "import numpy as np"
   ]
  },
  {
   "cell_type": "markdown",
   "metadata": {},
   "source": [
    "# Aufgabe 3.1\n",
    "Die monatlichen Aufwendungen X [CHF] für denWasserverbrauch eines 2-Personenhaushalts seien durch eine Zufallsvariable mit der folgenden Wahrscheinlichkeitsdichtefunktion gegeben:\n",
    "$$\\int_{0}^{60} cx(15-\\frac{x}4 ) dx$$ \n",
    "### a) Welchen Wert muss c annehmen?"
   ]
  },
  {
   "cell_type": "markdown",
   "metadata": {},
   "source": [
    "mit Wahrscheinlichkeitsdichtefunktion das Integral bestimmen $$c\\int_{0}^{60} (15x-\\frac{x^2}4 ) dx$$\n",
    "und ausrechnen\n"
   ]
  },
  {
   "cell_type": "code",
   "execution_count": 8,
   "metadata": {},
   "outputs": [],
   "source": [
    "from scipy.integrate import quad\n",
    "f = lambda x: x*(15-x/4)\n",
    "ans, _ = quad(f, 0, 60)"
   ]
  },
  {
   "cell_type": "code",
   "execution_count": 9,
   "metadata": {},
   "outputs": [
    {
     "name": "stdout",
     "output_type": "stream",
     "text": [
      "9000.0\n"
     ]
    }
   ],
   "source": [
    "print(ans)"
   ]
  },
  {
   "cell_type": "markdown",
   "metadata": {},
   "source": [
    "Dies entspricht dem Integral ohne Konstante c<br>\n",
    "=> $c * 9000 = 1$, da die Wahrscheinlichkeitsdichtefunktion immer 1 ergibt<br>"
   ]
  },
  {
   "cell_type": "markdown",
   "metadata": {},
   "source": [
    "$c = \\frac{1}{9000}$"
   ]
  },
  {
   "cell_type": "markdown",
   "metadata": {},
   "source": [
    "### b) Geben Sie die Verteilungsfunktion F der Zufallsvariablen X an.\n",
    "Das heisst integrieren (aufleiten)"
   ]
  },
  {
   "cell_type": "markdown",
   "metadata": {},
   "source": [
    "Aus $$F(t) = \\frac{1}{9000}\\int_{0}^{60} (15x-\\frac{x^2}4 ) dx$$ wird \n",
    "$$F(t) = \\frac{1}{9000} * (\\frac{15}{2}x^2 -\\frac{1}{12}x^3)$$\n",
    "$F(x)$ zu $F(t)$ umbennant, damit keine Verwirrung auftritt"
   ]
  },
  {
   "cell_type": "markdown",
   "metadata": {},
   "source": [
    "### c) Welcher Wert der Aufwendungen wird nur mit 10% Wahrscheinlichkeit überschritten?"
   ]
  },
  {
   "cell_type": "markdown",
   "metadata": {},
   "source": [
    "eine 10% Überschreitung = 90% tritt ein<br>\n",
    "P(X > a) = 10% oder P(X <= a) = 90%"
   ]
  },
  {
   "cell_type": "markdown",
   "metadata": {},
   "source": [
    " $$0.9 = \\frac{1}{9000} * (\\frac{15}{2}x^2 -\\frac{1}{12}x^3)$$\n",
    "#### Solve muss = 0 gesetzt werden, da Python nicht im Stande ist die Gleichung sonst zu lösen (--> TI-nspire brauchen)\n",
    " $$0 = \\frac{1}{9000} * (\\frac{15}{2}x^2 -\\frac{1}{12}x^3) - 0.9$$"
   ]
  },
  {
   "cell_type": "code",
   "execution_count": 28,
   "metadata": {},
   "outputs": [
    {
     "data": {
      "text/plain": [
       "[-28.6249720273366 - 0.e-22*I,\n",
       " 48.2519936604545 + 0.e-19*I,\n",
       " 70.3729783668821 + 0.e-19*I]"
      ]
     },
     "execution_count": 28,
     "metadata": {},
     "output_type": "execute_result"
    }
   ],
   "source": [
    "from sympy.solvers import solve\n",
    "from sympy import Symbol\n",
    "x = Symbol('x')\n",
    "solve((1/9000)*((15/2)*x**2-(1/12)*x**3)-0.9, x)"
   ]
  },
  {
   "cell_type": "markdown",
   "metadata": {},
   "source": [
    "Die Lösung ist 48.25, da weder -28 noch 70 im Bereich 0-60 sind."
   ]
  },
  {
   "cell_type": "markdown",
   "metadata": {},
   "source": [
    "### d) Wie hoch sind die erwarteten monatlichen Aufwendungen für den Wasserverbrauch eines 2-Personenhaushalts?"
   ]
  },
  {
   "cell_type": "markdown",
   "metadata": {},
   "source": [
    "erwartet --> Erwartungswert"
   ]
  },
  {
   "cell_type": "markdown",
   "metadata": {},
   "source": [
    "Erwartungswert: $E(X) = \\int_{0}^{60} x f(x)dx$ und $f(x) = \\frac{1}{9000}\\int_{0}^{60} (15x-\\frac{x^2}4 ) dx$ <br><br>--><br>\n",
    "$E(X) = \\int_{0}^{60} x * \\frac{1}{9000} (15x-\\frac{x^2}4 ) dx$ <br>--> <br>\n",
    "$E(X) = \\frac{1}{9000} \\int_{0}^{60} x * (15x-\\frac{x^2}4 ) dx$ <br>--><br>\n",
    "$$E(X) = \\frac{1}{9000} \\int_{0}^{60} x^2 (15-\\frac{x}4 ) dx$$\n"
   ]
  },
  {
   "cell_type": "code",
   "execution_count": 30,
   "metadata": {},
   "outputs": [],
   "source": [
    "f = lambda x: (1/9000) * x**2 *(15-x/4)\n",
    "ans, _ = quad(f, 0, 60)"
   ]
  },
  {
   "cell_type": "code",
   "execution_count": 31,
   "metadata": {},
   "outputs": [
    {
     "name": "stdout",
     "output_type": "stream",
     "text": [
      "30.000000000000007\n"
     ]
    }
   ],
   "source": [
    "print(ans)"
   ]
  },
  {
   "cell_type": "markdown",
   "metadata": {},
   "source": [
    "Der Wert beträgt 30"
   ]
  },
  {
   "cell_type": "markdown",
   "metadata": {},
   "source": [
    "---\n",
    "# Aufgabe 3.2\n",
    "In der Stadt Luzern gibt es bekanntlich viele Baustellen. Die Dauer X der Arbeiten bei einer Baustelle liege zwischen 0 und 20 Wochen. Die Dichte f (x) habe die folgende Form.\n",
    "### a) Begründen Sie, warum c = 0.1 ist und schreiben Sie die Dichte f (x) explizit auf."
   ]
  },
  {
   "cell_type": "markdown",
   "metadata": {},
   "source": [
    "$0.1 * 20 = 2$ <br>\n",
    "Die Grafik ist aber ein Dreieck --> <br>\n",
    "$$ \\frac{0.1*20}2 = 1$$"
   ]
  },
  {
   "cell_type": "markdown",
   "metadata": {},
   "source": [
    "Dichte f(x) explizit:<br>\n",
    "$$\\frac{c * 20}2 = 1$$\n",
    "--> $$c = \\frac{1}{10}$$"
   ]
  },
  {
   "cell_type": "markdown",
   "metadata": {},
   "source": [
    "$f(x)$ für [0 <= x <= 20] -->$\\frac{1}{10}*(1-\\frac{x}{20})$<br>\n",
    "$f(x)$ für [x < 0 & x > 20] -->$0$"
   ]
  },
  {
   "cell_type": "markdown",
   "metadata": {},
   "source": [
    "### b) Berechnen Sie die Wahrscheinlichkeit, dass die Bauzeit X weniger als a) 5, b) 10 Wochen beträgt."
   ]
  },
  {
   "cell_type": "markdown",
   "metadata": {},
   "source": [
    "Integriere f(x) um F(x) zu erhalten"
   ]
  },
  {
   "cell_type": "markdown",
   "metadata": {},
   "source": [
    "$$\\frac{1}{10}*(1-\\frac{x}{20})$$\n",
    "-->\n",
    "$$f(x) = \\int_0^n(\\frac{1}{10}-\\frac{x}{200})dx $$\n",
    "-->\n",
    "$$F(x) = \\frac{x}{10}-\\frac{x^2}{400}$$"
   ]
  },
  {
   "cell_type": "markdown",
   "metadata": {},
   "source": [
    "**Wissenswert**: x <= 0 --> F(x) = 0 & x >= 20 --> F(x) = 1"
   ]
  },
  {
   "cell_type": "markdown",
   "metadata": {},
   "source": [
    "5 Wochen"
   ]
  },
  {
   "cell_type": "code",
   "execution_count": 48,
   "metadata": {},
   "outputs": [
    {
     "data": {
      "text/plain": [
       "0.4375"
      ]
     },
     "execution_count": 48,
     "metadata": {},
     "output_type": "execute_result"
    }
   ],
   "source": [
    "(5/10)-(5**2/400)"
   ]
  },
  {
   "cell_type": "markdown",
   "metadata": {},
   "source": [
    "10 Wochen"
   ]
  },
  {
   "cell_type": "code",
   "execution_count": 49,
   "metadata": {},
   "outputs": [
    {
     "data": {
      "text/plain": [
       "0.75"
      ]
     },
     "execution_count": 49,
     "metadata": {},
     "output_type": "execute_result"
    }
   ],
   "source": [
    "(10/10)-(10**2/400)"
   ]
  },
  {
   "cell_type": "markdown",
   "metadata": {},
   "source": [
    "### c) Skizzieren Sie die kumulative Verteilungsfunktion."
   ]
  },
  {
   "cell_type": "markdown",
   "metadata": {},
   "source": [
    "siehe Skizze im Buch"
   ]
  },
  {
   "cell_type": "markdown",
   "metadata": {},
   "source": [
    "### d) Berechnen Sie den Erwartungswert, den Median und die Standardabweichung der Dauer X."
   ]
  },
  {
   "cell_type": "markdown",
   "metadata": {},
   "source": [
    "#### Erwartungswert"
   ]
  },
  {
   "cell_type": "markdown",
   "metadata": {},
   "source": [
    "$$E(X) = \\int_{-\\infty}^{\\infty}xf(x)dx$$"
   ]
  },
  {
   "cell_type": "markdown",
   "metadata": {},
   "source": [
    "$$E(X) = \\int_{0}^{20} x (\\frac{1}{10}-\\frac{x}{200})dx$$"
   ]
  },
  {
   "cell_type": "code",
   "execution_count": 55,
   "metadata": {},
   "outputs": [
    {
     "name": "stdout",
     "output_type": "stream",
     "text": [
      "6.666666666666668\n"
     ]
    }
   ],
   "source": [
    "from scipy.integrate import quad\n",
    "f = lambda x: x*((1/10)-(x/200))\n",
    "ans3, _ = quad(f, 0, 20)\n",
    "print(ans3)"
   ]
  },
  {
   "cell_type": "markdown",
   "metadata": {},
   "source": [
    "#### Standardabweichung durch Varianz\n",
    "$$VAR(X) = E(X^2) - E(X)^2$$"
   ]
  },
  {
   "cell_type": "markdown",
   "metadata": {},
   "source": [
    "$$E(X^2) = \\int_{-\\infty}^{\\infty}x^2f(x)dx$$\n",
    "$$E(X^2) = \\int_{0}^{20} x^2 (\\frac{1}{10}-\\frac{x}{200})dx$$"
   ]
  },
  {
   "cell_type": "markdown",
   "metadata": {},
   "source": [
    "$E(X^2)$"
   ]
  },
  {
   "cell_type": "code",
   "execution_count": 64,
   "metadata": {},
   "outputs": [
    {
     "name": "stdout",
     "output_type": "stream",
     "text": [
      "66.66666666666669\n"
     ]
    }
   ],
   "source": [
    "from fractions import Fraction\n",
    "f = lambda x: (x**2)*((1/10)-(x/200))\n",
    "ans4, _ = quad(f, 0, 20)\n",
    "print(ans4)"
   ]
  },
  {
   "cell_type": "code",
   "execution_count": 66,
   "metadata": {},
   "outputs": [
    {
     "data": {
      "text/plain": [
       "Fraction(200, 3)"
      ]
     },
     "execution_count": 66,
     "metadata": {},
     "output_type": "execute_result"
    }
   ],
   "source": [
    "Fraction(ans4).limit_denominator()"
   ]
  },
  {
   "cell_type": "markdown",
   "metadata": {},
   "source": [
    "$E(X)^2$"
   ]
  },
  {
   "cell_type": "code",
   "execution_count": 59,
   "metadata": {},
   "outputs": [],
   "source": [
    "ans32=ans3**2"
   ]
  },
  {
   "cell_type": "code",
   "execution_count": 67,
   "metadata": {},
   "outputs": [
    {
     "data": {
      "text/plain": [
       "Fraction(400, 9)"
      ]
     },
     "execution_count": 67,
     "metadata": {},
     "output_type": "execute_result"
    }
   ],
   "source": [
    "Fraction(ans32).limit_denominator()"
   ]
  },
  {
   "cell_type": "markdown",
   "metadata": {},
   "source": [
    "$VAR$"
   ]
  },
  {
   "cell_type": "code",
   "execution_count": 68,
   "metadata": {},
   "outputs": [],
   "source": [
    "ans5 = ans4-ans32"
   ]
  },
  {
   "cell_type": "code",
   "execution_count": 69,
   "metadata": {},
   "outputs": [
    {
     "data": {
      "text/plain": [
       "Fraction(200, 9)"
      ]
     },
     "execution_count": 69,
     "metadata": {},
     "output_type": "execute_result"
    }
   ],
   "source": [
    "Fraction(ans5).limit_denominator()"
   ]
  },
  {
   "cell_type": "markdown",
   "metadata": {},
   "source": [
    "Standardabweichung $\\varphi^2$ = Varianz<br>\n",
    "$\\varphi$ = $\\sqrt{(Varianz)}$"
   ]
  },
  {
   "cell_type": "code",
   "execution_count": 74,
   "metadata": {},
   "outputs": [
    {
     "data": {
      "text/plain": [
       "4.714045207910318"
      ]
     },
     "execution_count": 74,
     "metadata": {},
     "output_type": "execute_result"
    }
   ],
   "source": [
    "np.sqrt(ans5)"
   ]
  },
  {
   "cell_type": "markdown",
   "metadata": {},
   "source": [
    "#### Median"
   ]
  },
  {
   "cell_type": "markdown",
   "metadata": {},
   "source": [
    "F(Median) = 0,5 --> Median liegt also zwingend zwischen 0 - 20"
   ]
  },
  {
   "cell_type": "markdown",
   "metadata": {},
   "source": [
    "$$0.5 = \\frac{x}{10}-\\frac{x^2}{400}$$"
   ]
  },
  {
   "cell_type": "code",
   "execution_count": 76,
   "metadata": {},
   "outputs": [
    {
     "data": {
      "text/plain": [
       "[5.85786437626905, 34.1421356237310]"
      ]
     },
     "execution_count": 76,
     "metadata": {},
     "output_type": "execute_result"
    }
   ],
   "source": [
    "solve((x/10)-(x**2/400)-0.5)"
   ]
  },
  {
   "cell_type": "markdown",
   "metadata": {},
   "source": [
    "da 34 nicht zwischen 0-20 liegt ist 5.85 der Median."
   ]
  },
  {
   "cell_type": "markdown",
   "metadata": {},
   "source": [
    "### e) $ K = 40000 · \\sqrt{X}$ entspreche dem Betrag in Franken, den die Arbeiten bei einer Baustelle kosten. Wie gross ist die Wahrscheinlichkeit, dass die Arbeiten bei einer Baustelle höchstens 120’000.- Fr. kosten?"
   ]
  },
  {
   "cell_type": "markdown",
   "metadata": {},
   "source": [
    "$$P(K\\leq120'000) = P(40000 * \\sqrt{X} \\leq 120'000)$$\n",
    "<center>auflösen</center>\n",
    "$$P(X \\leq 9)$$\n",
    "$$F(9)$$"
   ]
  },
  {
   "cell_type": "markdown",
   "metadata": {},
   "source": [
    "einsetzen in Formel F(x) von oben"
   ]
  },
  {
   "cell_type": "markdown",
   "metadata": {},
   "source": [
    "$$\\frac{9}{10}-\\frac{9^2}{400}$$"
   ]
  },
  {
   "cell_type": "code",
   "execution_count": 79,
   "metadata": {},
   "outputs": [
    {
     "data": {
      "text/plain": [
       "0.6975"
      ]
     },
     "execution_count": 79,
     "metadata": {},
     "output_type": "execute_result"
    }
   ],
   "source": [
    "(9/10)-(9**2/400)"
   ]
  },
  {
   "cell_type": "markdown",
   "metadata": {},
   "source": [
    "Die W'keit beträgt 69.75%"
   ]
  },
  {
   "cell_type": "markdown",
   "metadata": {},
   "source": [
    "Die vorgeschlagene Verteilung ist nur ein Modell. Man könnte die Dauer der Bauarbeiten zum Beispiel auch als exponentialverteilt annehmen.\n",
    "### f) Für welchen Parameter λ hat die Exponentialverteilung denselben Erwartungswert wie die bisherige angenommene Verteilung?"
   ]
  },
  {
   "cell_type": "markdown",
   "metadata": {},
   "source": [
    "$$E(X) = \\frac{1}{\\lambda}$$"
   ]
  },
  {
   "cell_type": "markdown",
   "metadata": {},
   "source": [
    "$$\\int_{0}^{20} x (\\frac{1}{10}-\\frac{x}{200})dx = \\frac{1}{\\lambda}$$"
   ]
  },
  {
   "cell_type": "code",
   "execution_count": 84,
   "metadata": {},
   "outputs": [
    {
     "data": {
      "text/plain": [
       "Fraction(20, 3)"
      ]
     },
     "execution_count": 84,
     "metadata": {},
     "output_type": "execute_result"
    }
   ],
   "source": [
    "f = lambda x: x*((1/10)-(x/200))\n",
    "erW, _ = quad(f, 0, 20)\n",
    "Fraction(erW).limit_denominator()"
   ]
  },
  {
   "cell_type": "markdown",
   "metadata": {},
   "source": [
    "$$\\frac{20}3 = \\frac{1}{\\lambda}$$"
   ]
  },
  {
   "cell_type": "code",
   "execution_count": 90,
   "metadata": {},
   "outputs": [
    {
     "data": {
      "text/plain": [
       "[0.150000000000000]"
      ]
     },
     "execution_count": 90,
     "metadata": {},
     "output_type": "execute_result"
    }
   ],
   "source": [
    "solve((20/3)-(1/x),x)"
   ]
  },
  {
   "cell_type": "code",
   "execution_count": 91,
   "metadata": {},
   "outputs": [
    {
     "data": {
      "text/plain": [
       "Fraction(3, 20)"
      ]
     },
     "execution_count": 91,
     "metadata": {},
     "output_type": "execute_result"
    }
   ],
   "source": [
    "Fraction(0.15).limit_denominator()"
   ]
  },
  {
   "cell_type": "markdown",
   "metadata": {},
   "source": [
    "Der Erwartungswert ist 0.15 oder $\\frac{3}{20}$"
   ]
  },
  {
   "cell_type": "markdown",
   "metadata": {},
   "source": [
    "### g) Berechnen Sie mit der gefundenen Exponentialverteilung nochmals Teilaufgabe e)."
   ]
  },
  {
   "cell_type": "markdown",
   "metadata": {},
   "source": [
    "Änderung: statt F(9) gibt es jetzt z.B.: G(9) welches wir in die exponentionelle kumulative Verteilungsfunktion einsetzen\n",
    "$$1 - \\exp({-\\frac{3}{20}*9})$$"
   ]
  },
  {
   "cell_type": "code",
   "execution_count": 96,
   "metadata": {},
   "outputs": [
    {
     "data": {
      "text/latex": [
       "$\\displaystyle 0.740759739354108$"
      ],
      "text/plain": [
       "0.740759739354108"
      ]
     },
     "execution_count": 96,
     "metadata": {},
     "output_type": "execute_result"
    }
   ],
   "source": [
    "from sympy.functions import exp\n",
    "1-exp(-(3/20)*9)"
   ]
  },
  {
   "cell_type": "markdown",
   "metadata": {},
   "source": [
    "mit einer Exponentialverteilung sind die Chancen höher dass die Arbeiten unter 120'000 bleiben."
   ]
  },
  {
   "cell_type": "markdown",
   "metadata": {},
   "source": [
    "--- \n",
    "# Aufgabe 3.3\n",
    "Eine Maschine hat eine exponentialverteilte Lebensdauer T1 (in Stunden) mit Parameter λ = 0.04.\n",
    "### a) Berechnen Sie den Median und den Erwartungswert. Mit welcher Wahrscheinlichkeit überlebt das System seine Lebenserwartung?"
   ]
  },
  {
   "cell_type": "markdown",
   "metadata": {},
   "source": [
    "$$E(X) = \\frac{1}{\\lambda} = \\frac{1}{0.04} = 25$$"
   ]
  },
  {
   "cell_type": "markdown",
   "metadata": {},
   "source": [
    "$$Median = \\frac{\\ln{(2)}}{\\lambda}$$"
   ]
  },
  {
   "cell_type": "code",
   "execution_count": 98,
   "metadata": {},
   "outputs": [
    {
     "data": {
      "text/plain": [
       "17.328679513998633"
      ]
     },
     "execution_count": 98,
     "metadata": {},
     "output_type": "execute_result"
    }
   ],
   "source": [
    "np.log(2)/0.04"
   ]
  },
  {
   "cell_type": "markdown",
   "metadata": {},
   "source": [
    "$$Lebenserwartung = P(X \\gt E(X)) = P(X \\gt 25)$$\n",
    "$$= P(X\\gt25)$$\n",
    "$$= 1 - P(X\\gt25)$$\n",
    "<center>da die W'keit grösser als der E'Wert sein soll, setzen wir gleich diesen ein (Siehe Skizze im Buch)</center>\n",
    "$$= 1 - F(25) --> 1 - F(\\frac{1}{\\lambda})$$"
   ]
  },
  {
   "cell_type": "markdown",
   "metadata": {},
   "source": [
    "$$\\frac{1}{\\lambda} = 1 - \\exp({-\\lambda*\\frac{1}{\\lambda}})$$\n",
    "$$ = 1 - \\exp({\\frac{-\\lambda}{1}*\\frac{1}{\\lambda}})$$\n",
    "$$ = 1 - \\exp({\\frac{-\\lambda}{\\lambda}})$$\n",
    "$$ = 1 - \\exp({-1})$$\n",
    "<br>\n",
    "Das einsetzen in die obere Gleichung\n",
    "<br>\n",
    "$$1 - (1 - \\exp({-1})$$\n",
    "$$= 1 - 1 + \\exp({-1})$$\n",
    "$$=\\exp({-1})$$\n"
   ]
  },
  {
   "cell_type": "code",
   "execution_count": 106,
   "metadata": {},
   "outputs": [
    {
     "data": {
      "text/plain": [
       "0.36787944117144233"
      ]
     },
     "execution_count": 106,
     "metadata": {},
     "output_type": "execute_result"
    }
   ],
   "source": [
    "np.exp(-1)"
   ]
  },
  {
   "cell_type": "markdown",
   "metadata": {},
   "source": [
    "Mit ca. 36% überlebt das System seine Erwartung"
   ]
  },
  {
   "cell_type": "markdown",
   "metadata": {},
   "source": [
    "Variante 2: mit f(x) statt F(x)"
   ]
  },
  {
   "cell_type": "code",
   "execution_count": 107,
   "metadata": {},
   "outputs": [
    {
     "name": "stdout",
     "output_type": "stream",
     "text": [
      "0.3678794411714422\n"
     ]
    }
   ],
   "source": [
    "f = lambda x: 0.04*exp(-0.04*x)\n",
    "ld, _ = quad(f,0,25)\n",
    "ld = 1 - ld\n",
    "print(ld)"
   ]
  },
  {
   "cell_type": "markdown",
   "metadata": {},
   "source": [
    "### b) Mit welcher Wahrscheinlichkeit liegt die Lebensdauer des Systems im Bereich E[T1] ± σT1?"
   ]
  },
  {
   "cell_type": "markdown",
   "metadata": {},
   "source": [
    "<center>$$\\mu = \\sigma = \\frac{1}{\\lambda}$$, bei Exponentialverteilung</center>"
   ]
  },
  {
   "cell_type": "markdown",
   "metadata": {},
   "source": [
    "Die Dauer die wir berechnen wollen liegt nun zwischen $E(X)-\\sigma$ bis $E(X)+\\sigma$ = $$\\mu-\\sigma \\leq X \\leq \\mu+\\sigma$$"
   ]
  },
  {
   "cell_type": "markdown",
   "metadata": {},
   "source": [
    "$$P(0 \\leq X \\leq \\frac{2}{\\lambda})$$\n",
    "$$= F(\\frac{2}{\\lambda}) - F(0)$$\n",
    "$$= [1-\\exp({-2})] - 0$$"
   ]
  },
  {
   "cell_type": "code",
   "execution_count": 109,
   "metadata": {},
   "outputs": [
    {
     "data": {
      "text/plain": [
       "0.8646647167633873"
      ]
     },
     "execution_count": 109,
     "metadata": {},
     "output_type": "execute_result"
    }
   ],
   "source": [
    "(1-np.exp(-2))-0"
   ]
  },
  {
   "cell_type": "markdown",
   "metadata": {},
   "source": [
    "W'keit: 86%"
   ]
  },
  {
   "cell_type": "markdown",
   "metadata": {},
   "source": [
    "### c) Nun betrachten wir eine zweite Maschine mit der Lebensdauer T2 (in Stunden) mit der folgenden Dichte (siehe Aufgabenstellung). Wie gross muss c2 sein? Berechnen Sie den Erwartungswert und die Standardabweichung der Zufallsvariablen T2."
   ]
  },
  {
   "cell_type": "markdown",
   "metadata": {},
   "source": [
    "Siehe Notizbuch\n",
    "$$c2 = \\frac{1}{1000}$$"
   ]
  },
  {
   "cell_type": "markdown",
   "metadata": {},
   "source": [
    "$$E(X) = \\frac{1}{\\frac{1}{1000}}$$"
   ]
  },
  {
   "cell_type": "code",
   "execution_count": 111,
   "metadata": {},
   "outputs": [
    {
     "data": {
      "text/plain": [
       "1000.0"
      ]
     },
     "execution_count": 111,
     "metadata": {},
     "output_type": "execute_result"
    }
   ],
   "source": [
    "1/(1/1000)"
   ]
  },
  {
   "cell_type": "markdown",
   "metadata": {},
   "source": [
    "$$\\mu = \\sigma = 1000$$"
   ]
  },
  {
   "cell_type": "markdown",
   "metadata": {},
   "source": [
    "### d) Wir betrachten nun das System bestehend aus den beiden Maschinen mit Lebensdauern T1 und T2, welche unabhängig voneinander funktionieren. Berechnen Sie die Wahrscheinlichkeit, dass nach 200 Stunden beide Maschinen noch funktionieren."
   ]
  },
  {
   "cell_type": "markdown",
   "metadata": {},
   "source": [
    "#### T1 & T2\n",
    "$$[1 - FT1(200)] * [1 - FT2(200)]$$\n",
    "kum. Verteilung: $1 - \\exp(- \\lambda x)$ = F(x)"
   ]
  },
  {
   "cell_type": "markdown",
   "metadata": {},
   "source": [
    "$\\lambda$ = c --> E(X) = $\\frac{1}{\\lambda}$ gem. Wahrscheinlichkeitsdichte"
   ]
  },
  {
   "cell_type": "markdown",
   "metadata": {},
   "source": [
    "$$FT1(200) = 1 - \\exp({-0.04*200})$$\n",
    "$$T1 = 1 - [1 - \\exp({-0.04*200})]$$\n",
    "$$T1 = \\exp({-0.04*200})$$"
   ]
  },
  {
   "cell_type": "markdown",
   "metadata": {},
   "source": [
    "$$FT2(200) = 1 - \\exp({-(1/1000)*200})$$\n",
    "$$T2 = 1 - [1 - \\exp({-(1/1000)*200})]$$\n",
    "$$T2 = \\exp({-(1/1000)*200})$$"
   ]
  },
  {
   "cell_type": "code",
   "execution_count": 121,
   "metadata": {},
   "outputs": [],
   "source": [
    "T1 = exp(-0.04*200)"
   ]
  },
  {
   "cell_type": "code",
   "execution_count": 122,
   "metadata": {},
   "outputs": [],
   "source": [
    "T2 = exp(-(1/1000)*200)"
   ]
  },
  {
   "cell_type": "code",
   "execution_count": 123,
   "metadata": {},
   "outputs": [
    {
     "data": {
      "text/latex": [
       "$\\displaystyle 0.000274653569972142$"
      ],
      "text/plain": [
       "0.000274653569972142"
      ]
     },
     "execution_count": 123,
     "metadata": {},
     "output_type": "execute_result"
    }
   ],
   "source": [
    "T1 * T2"
   ]
  },
  {
   "cell_type": "markdown",
   "metadata": {},
   "source": [
    "0.027 %"
   ]
  },
  {
   "cell_type": "markdown",
   "metadata": {},
   "source": [
    "---\n",
    "# Aufgabe 3.4\n",
    "Aufgrund langjähriger Untersuchungen ist bekannt, dass der Bleigehalt X in einer Bodenprobe annähernd normalverteilt ist.  Ausserdem weiss man, dass der Erwartungswert 32 ppb beträgt und dass die Standardabweichung 6 ppb beträgt. \n",
    "### a) Machen Sie eine Skizze der Dichte von X, und zeichnen Sie die Wahrscheinlichkeit, dass eine Bodenprobe zwischen 26 und 38 ppb Blei enthält, in die Skizze ein."
   ]
  },
  {
   "cell_type": "markdown",
   "metadata": {},
   "source": [
    "Siehe Skizze im Notizbuch"
   ]
  },
  {
   "cell_type": "markdown",
   "metadata": {},
   "source": [
    "### b) Wie gross ist die Wahrscheinlichkeit, dass eine Bodenprobe höchstens 40 ppb Schwermetall enthält? \n",
    "Hinweis: Benützen Sie die Python-Funktion norm.cdf()<br> <br>\n",
    "Überprüfen Sie das Resultat, indem Sie die standardisierte Zufallsvariable Z einführen und mit der Standardnormalverteilung die Wahrscheinlichkeit berechnen."
   ]
  },
  {
   "cell_type": "markdown",
   "metadata": {},
   "source": [
    "$$ P(X\\leq40)$$"
   ]
  },
  {
   "cell_type": "code",
   "execution_count": 126,
   "metadata": {},
   "outputs": [
    {
     "data": {
      "text/plain": [
       "0.9087887802741321"
      ]
     },
     "execution_count": 126,
     "metadata": {},
     "output_type": "execute_result"
    }
   ],
   "source": [
    "from scipy.stats import uniform, expon, norm\n",
    "norm.cdf(x=40, loc=32, scale=6)"
   ]
  },
  {
   "cell_type": "markdown",
   "metadata": {},
   "source": [
    "Überprüfen des Resultats mit umwandeln in standardisierte Zufallsvariable kommt erst in Kapitel 3.4 vor.<br>\n",
    "**Formel zum Umrechnen:**<br>\n",
    "<center>$Z = \\frac{X-\\mu}{\\sigma}$ ~ $N(0,1)$</center>\n"
   ]
  },
  {
   "cell_type": "markdown",
   "metadata": {},
   "source": [
    "<center>$Z = \\frac{X - 32}{6}$ ~ $N(0,1)$</center><br>\n",
    "<center>$Z = \\frac{40 - 32}{6}$ ~ $N(0,1)$</center><br>\n",
    "<center>$Z = \\frac{8}{6}$ ~ $N(0,1)$</center><br>\n",
    "<center>$Z = \\frac{4}{3}$ ~ $N(0,1)$</center>"
   ]
  },
  {
   "cell_type": "code",
   "execution_count": 127,
   "metadata": {},
   "outputs": [
    {
     "data": {
      "text/plain": [
       "0.9087887802741321"
      ]
     },
     "execution_count": 127,
     "metadata": {},
     "output_type": "execute_result"
    }
   ],
   "source": [
    "norm.cdf(x=(4/3))"
   ]
  },
  {
   "cell_type": "markdown",
   "metadata": {},
   "source": [
    "### c) Wie gross ist die Wahrscheinlichkeit, dass eine Bodenprobe höchstens 27 ppb Schwermetall enthält?"
   ]
  },
  {
   "cell_type": "code",
   "execution_count": 128,
   "metadata": {},
   "outputs": [
    {
     "data": {
      "text/plain": [
       "0.20232838096364308"
      ]
     },
     "execution_count": 128,
     "metadata": {},
     "output_type": "execute_result"
    }
   ],
   "source": [
    "norm.cdf(x=27, loc=32, scale=6)"
   ]
  },
  {
   "cell_type": "markdown",
   "metadata": {},
   "source": [
    "### d) Welcher Bleigehalt wird mit einer Wahrscheinlichkeit von 97.5% unterschritten?\n",
    "Das heisst, bestimmen Sie dasjenige c, so dass die Wahrscheinlichkeit, dass der Bleigehalt kleiner oder gleich c ist, genau 97.5% beträgt. Hinweis: Benützen Sie die Python -Funktion norm.ppf()"
   ]
  },
  {
   "cell_type": "code",
   "execution_count": 130,
   "metadata": {},
   "outputs": [
    {
     "data": {
      "text/plain": [
       "43.759783907240326"
      ]
     },
     "execution_count": 130,
     "metadata": {},
     "output_type": "execute_result"
    }
   ],
   "source": [
    "norm.ppf(q=0.975, loc=32, scale=6)"
   ]
  },
  {
   "cell_type": "markdown",
   "metadata": {},
   "source": [
    "### e) Welcher Bleigehalt wird mit einer Wahrscheinlichkeit von 10% unterschritten?"
   ]
  },
  {
   "cell_type": "code",
   "execution_count": 131,
   "metadata": {},
   "outputs": [
    {
     "data": {
      "text/plain": [
       "24.310690606732397"
      ]
     },
     "execution_count": 131,
     "metadata": {},
     "output_type": "execute_result"
    }
   ],
   "source": [
    "norm.ppf(q=0.1, loc=32, scale=6)"
   ]
  },
  {
   "cell_type": "markdown",
   "metadata": {},
   "source": [
    "### f) Wie gross ist die Wahrscheinlichkeit, die in Aufgabe a) eingezeichnet wurde?"
   ]
  },
  {
   "cell_type": "code",
   "execution_count": 132,
   "metadata": {},
   "outputs": [
    {
     "data": {
      "text/plain": [
       "0.6826894921370859"
      ]
     },
     "execution_count": 132,
     "metadata": {},
     "output_type": "execute_result"
    }
   ],
   "source": [
    "norm.cdf(x=38, loc=32, scale=6) - norm.cdf(x=26, loc=32, scale=6)"
   ]
  },
  {
   "cell_type": "markdown",
   "metadata": {},
   "source": [
    "---\n",
    "# Aufgabe 3.5\n",
    "Wir gehen davon aus, dass bei der Detektion eines digitalen Signals das Hintergrundrauschen einer Normalverteilung folgt, und zwar mit einem Mittelwert von 0 Volt und einer Standardabweichung von 0.45 Volt. Das System geht davon aus, dass eine digitale 1 übertragen worden ist, wenn die Spannung 0.9 Volt überstiegen worden ist.\n",
    "### a) Wie gross ist die Wahrscheinlichkeit, dass eine 1 detektiert worden ist, wenn in Wahrheit keine gesendet wurde? Wie interpretieren Sie diese Wahrscheinlichkeit?"
   ]
  },
  {
   "cell_type": "markdown",
   "metadata": {},
   "source": [
    "<center>2x $\\sigma$ = 0.9 --> Signal übertragen</center><br>\n",
    "$$P(\\mu - 2\\sigma \\leq X \\leq \\mu + 2\\sigma) \\approx 0.95$$<br>\n",
    "<center>Die Wahrscheinlichkeit sollte 0.275% betragen, d.h. die Wahrscheinlichkeit ist nichtig."
   ]
  },
  {
   "cell_type": "markdown",
   "metadata": {},
   "source": [
    "### b) Bestimmen Sie die symmetrischen Grenzen um 0 Volt, die 99% des Hintergrundrauschens einschliessen."
   ]
  },
  {
   "cell_type": "markdown",
   "metadata": {},
   "source": [
    "99% um den Mittelwert --> 99:2 = 49.5% auf beide Seiten<br>\n",
    "Quantil_1 = 0.5<br>\n",
    "Quantil_2 = 99.5<br>"
   ]
  },
  {
   "cell_type": "code",
   "execution_count": 135,
   "metadata": {},
   "outputs": [
    {
     "data": {
      "text/plain": [
       "array([-1.15912319,  1.15912319])"
      ]
     },
     "execution_count": 135,
     "metadata": {},
     "output_type": "execute_result"
    }
   ],
   "source": [
    "norm.ppf(q=[0.005,0.995], loc=0, scale=0.45)"
   ]
  },
  {
   "cell_type": "markdown",
   "metadata": {},
   "source": [
    "### c) Nehmen Sie an, eine digitale 1 wird als eine Verschiebung des Mittelwertes um 1.8 Volt im Vergleich zum Rauschsignal dargestellt. Die Standardabweichung des Signals ist ebenfalls 0.45 Volt. Wie gross ist die Wahrscheinlichkeit, dass eine digitale 1 nicht detektiert wird?"
   ]
  },
  {
   "cell_type": "markdown",
   "metadata": {},
   "source": [
    "Eine digitale 1 wird bei 0.9 Volt detektiert (siehe oben) --> $P(X \\lt 0.9)$"
   ]
  },
  {
   "cell_type": "code",
   "execution_count": 137,
   "metadata": {},
   "outputs": [
    {
     "data": {
      "text/plain": [
       "0.022750131948179195"
      ]
     },
     "execution_count": 137,
     "metadata": {},
     "output_type": "execute_result"
    }
   ],
   "source": [
    "norm.cdf(x=0.9, loc=1.8, scale=0.45)"
   ]
  },
  {
   "cell_type": "markdown",
   "metadata": {},
   "source": [
    "---\n",
    "# Aufgabe 3.6\n",
    "Der Schaftdurchmesser von optischen Speicherplatten ist normalverteilt mit einem Mittelwert von 0.2508 Millimeter und Standardabweichung 0.0005 Millimeter. Die technischen Angaben des Schafts sind 0.2500± 0.0015 Millimeter.\n",
    "### a) Welcher Anteil der Schaftdurchmesser entspricht den technischen Angaben?"
   ]
  },
  {
   "cell_type": "markdown",
   "metadata": {},
   "source": [
    "technische Angaben unten = 0.2500 - 0.0015 mm<br>\n",
    "technische Angaben oben = 0.2500 + 0.015mm<br>\n",
    "0.2485 - 0.2515 Range"
   ]
  },
  {
   "cell_type": "code",
   "execution_count": 138,
   "metadata": {},
   "outputs": [
    {
     "data": {
      "text/plain": [
       "0.91924122831152"
      ]
     },
     "execution_count": 138,
     "metadata": {},
     "output_type": "execute_result"
    }
   ],
   "source": [
    "norm.cdf(x=0.2515, loc=0.2508, scale=0.0005) - norm.cdf(x=0.2485, loc=0.2508, scale=0.0005)"
   ]
  },
  {
   "cell_type": "markdown",
   "metadata": {},
   "source": [
    "### b) Die meisten Schaftdurchmesser sind zu gross, da der Mittelwert der Herstellung sehr nahe an der oberen Grenze der technischen Angabe liegt. Wenn der Herstellungsprozess derart geändert wird, dass der Mittelwert der Schaftdurchmesser nun beim Zielwert von 0.2500 liegt,welcher Anteil entspricht dann den technischen Angaben?"
   ]
  },
  {
   "cell_type": "code",
   "execution_count": 139,
   "metadata": {},
   "outputs": [
    {
     "data": {
      "text/plain": [
       "0.9973002039367398"
      ]
     },
     "execution_count": 139,
     "metadata": {},
     "output_type": "execute_result"
    }
   ],
   "source": [
    "norm.cdf(x=0.2515, loc=0.2500, scale=0.0005) - norm.cdf(x=0.2485, loc=0.2500, scale=0.0005)"
   ]
  },
  {
   "cell_type": "markdown",
   "metadata": {},
   "source": [
    "---\n",
    "# Aufgabe 3.7\n",
    "Monte Carlo Algorithmen sind randomisierte Algorithmen und stellen ein gutes Werkzeug für Simulationen von stochastischen Prozessen dar. Auch die Zahl π lässt sich mit Hilfe von Monte Carlo Simulationen bestimmen. Im Folgenden möchten wir ein Computerprogramm erstellen, mit welchem man die Zahl π aufgrund von Monte Carlo Methoden simulieren kann. Man generiert hierzu zufällige Punkte<br><br>\n",
    "$$P ∈ {(x, y)|x ∈ [−1, 1] und y ∈ [−1, 1]}$$<br>\n",
    "und überprüft, ob diese innerhalb des Einheitskreises mit Kreismittelpunkt MK = (0, 0) und Radius r = 1 liegen. Die sich ergebende Wahrscheinlichkeitsverteilung $P[(x, y) ∈ Kreis]$ stellt die Fläche eines Viertels des Einheitskreises dar. π kann nun mit folgender Formel berechnet werden<br><br>\n",
    "$$\\frac{Anzahl  Treffer  in  Kreisfläche}{Anzahl  generierter  Punkte  Quadrat} = \\frac{Kreisfläche}{Quadratfläche} = \\frac{r^2*\\pi}{(2*r)^2} = \\frac{\\pi}{4} = P[(x,y) \\epsilon Kreis].$$<br>\n",
    "Bestimmen Sie mit Hilfe dieser Überlegung die Zahl $\\pi$.\n"
   ]
  },
  {
   "cell_type": "markdown",
   "metadata": {},
   "source": [
    "#### Was ich verstanden habe:\n",
    "x ist Element von -1 - 1<br>\n",
    "y ist Element von -1 - 1<br>\n",
    "Einheitskreismittelpunkt-Koordinaten: (0,0)<br>\n",
    "Radius Einheitskreis: r=1<br>"
   ]
  },
  {
   "cell_type": "code",
   "execution_count": 140,
   "metadata": {},
   "outputs": [
    {
     "data": {
      "text/plain": [
       "100"
      ]
     },
     "execution_count": 140,
     "metadata": {},
     "output_type": "execute_result"
    }
   ],
   "source": [
    "# Generieren von 100 gleichmaessig verteilten\n",
    "# Zufallszahlen im Intervall [-1,1]\n",
    "from scipy.stats import uniform\n",
    "import numpy as np\n",
    "x = uniform.rvs(size=100, loc=-1, scale=2)\n",
    "# Bestimmen der Anzahl Zahlen kleiner als eins; Beispiel:\n",
    "# Anzahl von 100 zufaellig im Intervall [0,10] generierten\n",
    "# Zahlen, die kleiner als 1 sind:\n",
    "np.sum(x<1)"
   ]
  },
  {
   "cell_type": "markdown",
   "metadata": {},
   "source": [
    "# Wieso Erwartungswert (loc) von -1? \n",
    "# Woher weiss uniform was x und y Achse ist?"
   ]
  },
  {
   "cell_type": "markdown",
   "metadata": {},
   "source": [
    "# Wieso X*X + Y*Y <-- Sinn?"
   ]
  },
  {
   "cell_type": "code",
   "execution_count": null,
   "metadata": {},
   "outputs": [],
   "source": []
  }
 ],
 "metadata": {
  "kernelspec": {
   "display_name": "Python 3",
   "language": "python",
   "name": "python3"
  },
  "language_info": {
   "codemirror_mode": {
    "name": "ipython",
    "version": 3
   },
   "file_extension": ".py",
   "mimetype": "text/x-python",
   "name": "python",
   "nbconvert_exporter": "python",
   "pygments_lexer": "ipython3",
   "version": "3.7.3"
  }
 },
 "nbformat": 4,
 "nbformat_minor": 2
}
