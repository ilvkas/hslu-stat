{
 "cells": [
  {
   "cell_type": "code",
   "execution_count": 1,
   "metadata": {},
   "outputs": [],
   "source": [
    "import matplotlib.pyplot as plt\n",
    "import scipy.stats as st\n",
    "import seaborn as sns\n",
    "import pandas as pd\n",
    "import numpy as np"
   ]
  },
  {
   "cell_type": "markdown",
   "metadata": {},
   "source": [
    "## Wichtigste Übungsaufgaben:\n",
    "* 6.1 \n",
    "* 6.2\n",
    "* 6.3(a) - (d)\n",
    "---\n",
    "# Aufgabe 6.1\n",
    "Ein Weinhändler behauptet, dass die von ihm gefüllten Weinflaschen 70 Zentiliter enthalten. Ein skeptischer Konsument vermutet aber, dass der Weinhändler zuwenig Wein abfüllt und will diese Behauptung überprüfen. Deshalb kauft er 12 Weinflaschen\n",
    "und misst ihren Inhalt. Er findet:<br />\n",
    "71, 69, 67, 68, 73, 72, 71, 71, 68, 72, 69, 72 (in Zentiliter)<br />\n",
    "Nehmen Sie zunächst an, dass die Standardabweichung der Abfüllung im Voraus bekannt ist. Sie beträgt σ = 1.5 Zentiliter. Da die Standardabweichung der Messungen bekannt ist, können wir einen z-Test durchführen. Führen Sie den (einseitigen; in welche Richtung?) Test auf dem 5%- Signifikanzniveau durch. Geben Sie die Modellannahmen, H0, HA, den Verwerfungsbereich, den Wert der Teststatistik und das Testergebnis explizit an.<br />\n",
    "Formulieren Sie in einem Satz die Schlussfolgerung für den kritischen Konsumenten."
   ]
  },
  {
   "cell_type": "code",
   "execution_count": 2,
   "metadata": {},
   "outputs": [],
   "source": [
    "wf = pd.Series([71, 69, 67, 68, 73, 72, 71, 71, 68, 72, 69, 72])"
   ]
  },
  {
   "cell_type": "markdown",
   "metadata": {},
   "source": [
    "$$H_0 = 70zl$$\n",
    "$$H_A < 70zl$$"
   ]
  },
  {
   "cell_type": "markdown",
   "metadata": {},
   "source": [
    "Verwerfungsbereich festlegen (einseitig, da der Konsument sagt: zu wenig)"
   ]
  },
  {
   "cell_type": "code",
   "execution_count": 5,
   "metadata": {},
   "outputs": [
    {
     "data": {
      "text/plain": [
       "array([69.28775749])"
      ]
     },
     "execution_count": 5,
     "metadata": {},
     "output_type": "execute_result"
    }
   ],
   "source": [
    "st.norm.ppf(q=[0.05], loc=70, scale=1.5/np.sqrt(wf.size))"
   ]
  },
  {
   "cell_type": "markdown",
   "metadata": {},
   "source": [
    "Der Verwerfungsbereich K = ($-\\infty$, 69.29]"
   ]
  },
  {
   "cell_type": "markdown",
   "metadata": {},
   "source": [
    "X_n berechnen"
   ]
  },
  {
   "cell_type": "code",
   "execution_count": 4,
   "metadata": {},
   "outputs": [
    {
     "data": {
      "text/plain": [
       "70.25"
      ]
     },
     "execution_count": 4,
     "metadata": {},
     "output_type": "execute_result"
    }
   ],
   "source": [
    "wf.mean()"
   ]
  },
  {
   "cell_type": "markdown",
   "metadata": {},
   "source": [
    "Der beobachtete Wert liegt ausserhalb des Verwerfungsbereich --> die Nullhypothese wird nicht verworfen."
   ]
  },
  {
   "cell_type": "markdown",
   "metadata": {},
   "source": [
    "Schlussfolgerung: Es kann nicht bewiesen werden, dass der Weinhändler zu wenig abfüllt."
   ]
  },
  {
   "cell_type": "markdown",
   "metadata": {},
   "source": [
    "---\n",
    "# Aufgabe 6.2\n",
    "Ein Weinhändler behauptet, dass die von ihm gefüllten Weinflaschen 70 Zentiliter enthalten. Ein skeptischer Konsument vermutet aber, dass der Weinhändler zuwenig Wein abfüllt und will diese Behauptung überprüfen. Deshalb kauft er 12 Weinflaschen\n",
    "und misst ihren Inhalt. Er findet:<br />\n",
    "71, 69, 67, 68, 73, 72, 71, 71, 68, 72, 69, 72 (in Zentiliter)<br />\n",
    "Die Standardabweichung der Abfüllungen ist nicht bekannt. Man muss sie also aus den gemachten Stichproben schätzen: --> siehe Aufgabenstellung.<br />\n",
    "Da die Standardabweichung geschätzt wurde und nicht mehr exakt bekannt ist, kann der z-Test nicht durchgeführt werden. Verwenden Sie nun den t-Test auf dem 5 %-Signifikanzniveau. <br />\n",
    "Geben Sie die Modellannahmen, H0, HA, den Verwerfungsbereich, den Wert der Teststatistik und das Testergebnis explizit an.<br />\n",
    "Was ändert sich an obigem Test?"
   ]
  },
  {
   "cell_type": "code",
   "execution_count": 6,
   "metadata": {},
   "outputs": [],
   "source": [
    "wf = pd.Series([71, 69, 67, 68, 73, 72, 71, 71, 68, 72, 69, 72])"
   ]
  },
  {
   "cell_type": "markdown",
   "metadata": {},
   "source": [
    "$$Varianzschätzung = 1.96^2$$\n",
    "$$Std = 1.96$$"
   ]
  },
  {
   "cell_type": "code",
   "execution_count": 7,
   "metadata": {},
   "outputs": [
    {
     "data": {
      "text/plain": [
       "1.9598237397554634"
      ]
     },
     "execution_count": 7,
     "metadata": {},
     "output_type": "execute_result"
    }
   ],
   "source": [
    "wf.std()"
   ]
  },
  {
   "cell_type": "code",
   "execution_count": null,
   "metadata": {},
   "outputs": [],
   "source": []
  },
  {
   "cell_type": "markdown",
   "metadata": {},
   "source": [
    "Festlegen Hypothesen\n",
    "$$H_0 = 70zl$$\n",
    "$$H_A < 70zl$$"
   ]
  },
  {
   "cell_type": "markdown",
   "metadata": {},
   "source": [
    "Teststatistik: t-Verteilung mit Freiheitsgrad 11 (12-1 Flasche)"
   ]
  },
  {
   "cell_type": "markdown",
   "metadata": {},
   "source": [
    "Signifikantsniveau: $\\alpha$ = 5%"
   ]
  },
  {
   "cell_type": "markdown",
   "metadata": {},
   "source": [
    "Verwerfungsbereich beim T-Test festlegen"
   ]
  },
  {
   "cell_type": "code",
   "execution_count": 16,
   "metadata": {},
   "outputs": [
    {
     "data": {
      "text/plain": [
       "68.98397388627933"
      ]
     },
     "execution_count": 16,
     "metadata": {},
     "output_type": "execute_result"
    }
   ],
   "source": [
    "st.t.ppf(q=0.05, df=wf.size-1, loc=70, scale=wf.std()/np.sqrt(wf.size))"
   ]
  },
  {
   "cell_type": "markdown",
   "metadata": {},
   "source": [
    "Verwerfungsbereich K = $(-\\infty$, 68.98]"
   ]
  },
  {
   "cell_type": "markdown",
   "metadata": {},
   "source": [
    "Testentscheid"
   ]
  },
  {
   "cell_type": "code",
   "execution_count": 17,
   "metadata": {},
   "outputs": [
    {
     "data": {
      "text/plain": [
       "70.25"
      ]
     },
     "execution_count": 17,
     "metadata": {},
     "output_type": "execute_result"
    }
   ],
   "source": [
    "wf.mean()"
   ]
  },
  {
   "cell_type": "markdown",
   "metadata": {},
   "source": [
    "liegt ausserhalb des Verwerfungsbereichs --> $H_0$ bleibt."
   ]
  },
  {
   "cell_type": "markdown",
   "metadata": {},
   "source": [
    "#### Standardisierung"
   ]
  },
  {
   "cell_type": "code",
   "execution_count": 18,
   "metadata": {},
   "outputs": [
    {
     "data": {
      "text/plain": [
       "-1.7958848187036696"
      ]
     },
     "execution_count": 18,
     "metadata": {},
     "output_type": "execute_result"
    }
   ],
   "source": [
    "st.t.ppf(q=0.05, df=wf.size-1)"
   ]
  },
  {
   "cell_type": "markdown",
   "metadata": {},
   "source": [
    "Verwerfungsbereich K = $(-\\infty$, -1.796]"
   ]
  },
  {
   "cell_type": "markdown",
   "metadata": {},
   "source": [
    "T-Test gem. Skript"
   ]
  },
  {
   "cell_type": "code",
   "execution_count": 21,
   "metadata": {},
   "outputs": [
    {
     "data": {
      "text/plain": [
       "0.4418894343490791"
      ]
     },
     "execution_count": 21,
     "metadata": {},
     "output_type": "execute_result"
    }
   ],
   "source": [
    "(np.sqrt(wf.size)*(wf.mean()-70))/wf.std()"
   ]
  },
  {
   "cell_type": "markdown",
   "metadata": {},
   "source": [
    "gleiches Resultat, das Ergebnis liegt nicht im Verwerfungsbereich"
   ]
  },
  {
   "cell_type": "markdown",
   "metadata": {},
   "source": [
    "---\n",
    "# Aufgabe 6.3\n",
    "Unterhalb einer Kläranlage wurden 16 unabhängige Wasserproben aus einem Fluss entnommen und jeweils deren Ammoniumkonzentration Xi (in μg NH_4-N/l) mit einem Messgerät bestimmt. Der Mittelwert der Proben ergab $x_{16}$ = 204.2. Wir wollen nun wissen, ob mit diesem Experiment eine Überschreitung des Grenzwerts von 200 μg NH_4-N/l nachgewiesen werden kann (auf dem 5% Niveau).\n",
    "### a) Nehmen Sie an, die Standardabweichung der Messungen sei im Voraus aufgrund früherer Studien bekannt. Sie betrage 10 μg NH_4-N/l. Führen Sie unter dieser Annahme einen z-Test durch, um zu prüfen, ob eine Grenzwertüberschreitung nachgewiesen werden kann.\n",
    "Geben Sie die Modellannahmen, H0, HA, den Verwerfungsbereich, den Wert der Teststatistik und das Testergebnis explizit an."
   ]
  },
  {
   "cell_type": "markdown",
   "metadata": {},
   "source": [
    "Modell: $X_i$ ist eine kontinuierliche Mengengrösse; $\\sigma_x$ bekannt = 10<br />\n",
    "Nullhypothese: $H_0 = 200$<br />\n",
    "Alternativ: $H_A > 200$<br />\n",
    "Teststatistik: $N(\\mu, \\frac{\\sigma^2_x}{n})$<br />\n",
    "Signifikantsniveau: $\\alpha$ = 5%"
   ]
  },
  {
   "cell_type": "code",
   "execution_count": 25,
   "metadata": {},
   "outputs": [
    {
     "data": {
      "text/plain": [
       "array([204.11213407])"
      ]
     },
     "execution_count": 25,
     "metadata": {},
     "output_type": "execute_result"
    }
   ],
   "source": [
    "st.norm.ppf(q=[0.95], loc=200, scale=10/np.sqrt(16))"
   ]
  },
  {
   "cell_type": "markdown",
   "metadata": {},
   "source": [
    "Verwerfungsbereich K = [204.11, $\\infty$)"
   ]
  },
  {
   "cell_type": "markdown",
   "metadata": {},
   "source": [
    "Testentscheid: $x_16$ = 204.2 > 204.11 --> liegt im Verwerfungsbereich also wird die Nullhypothese verworfen."
   ]
  },
  {
   "cell_type": "markdown",
   "metadata": {},
   "source": [
    "#### Standardisierung"
   ]
  },
  {
   "cell_type": "code",
   "execution_count": 28,
   "metadata": {},
   "outputs": [
    {
     "data": {
      "text/plain": [
       "1.6448536269514722"
      ]
     },
     "execution_count": 28,
     "metadata": {},
     "output_type": "execute_result"
    }
   ],
   "source": [
    "st.norm.ppf(q=0.95)"
   ]
  },
  {
   "cell_type": "markdown",
   "metadata": {},
   "source": [
    "$$z = \\frac{204.2 - 200}{10 / \\sqrt(16)}$$"
   ]
  },
  {
   "cell_type": "code",
   "execution_count": 29,
   "metadata": {},
   "outputs": [
    {
     "data": {
      "text/plain": [
       "1.6799999999999955"
      ]
     },
     "execution_count": 29,
     "metadata": {},
     "output_type": "execute_result"
    }
   ],
   "source": [
    "(204.2-200)/(10/np.sqrt(16))"
   ]
  },
  {
   "cell_type": "markdown",
   "metadata": {},
   "source": [
    "### b) Wie wahrscheinlich ist es, dass man mit 16 unabhängigen Wasserproben eine Grenzwertüberschreitung nachweisen kann, wenn die wahre Ammoniumkonzentration tatsächlich über dem Grenzwert, und zwar bei 205 μg NH_4-N/l liegt?"
   ]
  },
  {
   "cell_type": "markdown",
   "metadata": {},
   "source": [
    "Aufgabe a) <-- Alles über 204.11 kann verworfen werden.<br />\n",
    "Nun müssen wir die W'Keit von $P(X_n > 204.11)$ berechnen.<br />\n",
    "Und zwar mit dem Erwartungswert 205.<br />\n",
    "Also rechnen wir: $1 - P(X_n <= 204.11)$ da es demselben Resultat entspricht"
   ]
  },
  {
   "cell_type": "code",
   "execution_count": 32,
   "metadata": {},
   "outputs": [
    {
     "data": {
      "text/plain": [
       "0.6390797174095532"
      ]
     },
     "execution_count": 32,
     "metadata": {},
     "output_type": "execute_result"
    }
   ],
   "source": [
    "1 - st.norm.cdf(x=204.11, loc=205, scale=10/np.sqrt(16))"
   ]
  },
  {
   "cell_type": "markdown",
   "metadata": {},
   "source": [
    "Die W'keit beträgt also ca. 64%"
   ]
  },
  {
   "cell_type": "markdown",
   "metadata": {},
   "source": [
    "### c) Wie wahrscheinlich ist es, dass man mit 16 unabhängigenWasserproben fälschlicherweise eine Grenzwertüberschreitung nachweist, obwohl die wahre Ammoniumkonzentration bei 200 μg NH-4-N/l liegt und den Grenzwert somit genau einhält?\n"
   ]
  },
  {
   "cell_type": "markdown",
   "metadata": {},
   "source": [
    "--> $H_0$ korrekt, aber verworfen. --> Fehler 1. Art"
   ]
  },
  {
   "cell_type": "markdown",
   "metadata": {},
   "source": [
    "Fehler 1. Art entsprechen dem Signifikantsniveau --> 5%"
   ]
  },
  {
   "cell_type": "markdown",
   "metadata": {},
   "source": [
    "### d) Nehmen Sie an, dass die Standardabweichung von 10 μg/l aus den 16 Proben geschätzt worden ist. Deshalb ist nun ein t-Test (Nullhypothese μ0 = 200 μg/l) und nicht ein z-Test angebracht. Führen Sie den t-Test durch."
   ]
  },
  {
   "cell_type": "markdown",
   "metadata": {},
   "source": [
    "Modell: $X_i$: i.te Ammoniumbestimmung; $\\sigma_x$ unbekannt<br />\n",
    "Nullhypothese: $H_0 = 200$<br />\n",
    "Alternativ: $H_A != 200$<br />\n",
    "Teststatistik: t-Verteilung mit 15 Freiheitsgraden; $T = \\frac{\\sqrt{n}*(X_n-\\mu_0)}{\\sigma_x}$ = $ T=\\frac{\\sqrt{16}*(X_n - 200)}{10}$<br/>\n",
    "Signifikantsniveau: $\\alpha$ = 5%<br />\n",
    "$x_{16} = 204.2$"
   ]
  },
  {
   "cell_type": "code",
   "execution_count": 36,
   "metadata": {},
   "outputs": [
    {
     "data": {
      "text/plain": [
       "204.38262588923138"
      ]
     },
     "execution_count": 36,
     "metadata": {},
     "output_type": "execute_result"
    }
   ],
   "source": [
    "st.t.ppf(q=0.95, df=15, loc=200, scale=10/np.sqrt(16))"
   ]
  },
  {
   "cell_type": "markdown",
   "metadata": {},
   "source": [
    "Verwerfungsbereich K = [204.38, $\\infty$)"
   ]
  },
  {
   "cell_type": "markdown",
   "metadata": {},
   "source": [
    "Testentscheid: $x_{16}$ liegt nicht im Verwerfungsbereich --> $H_0$ wird beibehalten"
   ]
  },
  {
   "cell_type": "markdown",
   "metadata": {},
   "source": [
    "#### Standardisierung"
   ]
  },
  {
   "cell_type": "code",
   "execution_count": 37,
   "metadata": {},
   "outputs": [
    {
     "data": {
      "text/plain": [
       "1.7530503556925547"
      ]
     },
     "execution_count": 37,
     "metadata": {},
     "output_type": "execute_result"
    }
   ],
   "source": [
    "st.t.ppf(q=0.95, df=15)"
   ]
  },
  {
   "cell_type": "markdown",
   "metadata": {},
   "source": [
    "K = $(1.75, \\infty)$"
   ]
  },
  {
   "cell_type": "markdown",
   "metadata": {},
   "source": [
    "$$T = \\frac{x_n - \\mu_0}{\\sigma / \\sqrt{n}} == T = \\frac{204.2 - 200}{10 / \\sqrt{16}}$$"
   ]
  },
  {
   "cell_type": "code",
   "execution_count": 38,
   "metadata": {},
   "outputs": [
    {
     "data": {
      "text/plain": [
       "1.6799999999999955"
      ]
     },
     "execution_count": 38,
     "metadata": {},
     "output_type": "execute_result"
    }
   ],
   "source": [
    "(204.2-200)/(10/np.sqrt(16))"
   ]
  },
  {
   "cell_type": "code",
   "execution_count": null,
   "metadata": {},
   "outputs": [],
   "source": []
  }
 ],
 "metadata": {
  "kernelspec": {
   "display_name": "Python 3",
   "language": "python",
   "name": "python3"
  },
  "language_info": {
   "codemirror_mode": {
    "name": "ipython",
    "version": 3
   },
   "file_extension": ".py",
   "mimetype": "text/x-python",
   "name": "python",
   "nbconvert_exporter": "python",
   "pygments_lexer": "ipython3",
   "version": "3.7.3"
  }
 },
 "nbformat": 4,
 "nbformat_minor": 2
}
