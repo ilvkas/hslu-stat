{
 "cells": [
  {
   "cell_type": "markdown",
   "metadata": {},
   "source": [
    "# Aufgabe 1.1"
   ]
  },
  {
   "cell_type": "markdown",
   "metadata": {},
   "source": [
    "### a) Lesen Sie den Datensatz child.csv mit der folgenden Funktion ein:"
   ]
  },
  {
   "cell_type": "code",
   "execution_count": 2,
   "metadata": {},
   "outputs": [],
   "source": [
    "from pandas import Series,DataFrame\n",
    "import pandas as pd\n",
    "\n",
    "data = pd.read_csv(\"files/sw01/child.csv\", sep=\",\", index_col=0)"
   ]
  },
  {
   "cell_type": "code",
   "execution_count": 3,
   "metadata": {},
   "outputs": [
    {
     "name": "stdout",
     "output_type": "stream",
     "text": [
      "                Average.disposable.income  Children.in.poor.homes  \\\n",
      "Australia                       20.813221               11.791352   \n",
      "Austria                         22.162446                6.166094   \n",
      "Belgium                         21.401153                9.974720   \n",
      "Canada                          25.606245               15.057585   \n",
      "Czech Republic                  10.849270               10.270000   \n",
      "\n",
      "                Educational.Deprivation  Overcrowding  \\\n",
      "Australia                           2.2     19.700000   \n",
      "Austria                             0.6     34.014601   \n",
      "Belgium                             1.0     12.614505   \n",
      "Canada                              2.1           NaN   \n",
      "Czech Republic                      1.2     58.899347   \n",
      "\n",
      "                Poor.environmental.conditions  Average.mean.literacy.score  \\\n",
      "Australia                           10.500000                       520.00   \n",
      "Austria                             20.154186                       502.00   \n",
      "Belgium                             29.754526                       510.33   \n",
      "Canada                                    NaN                       529.33   \n",
      "Czech Republic                      29.748594                       502.00   \n",
      "\n",
      "                Literacy.inequality  Youth.NEET.rate  Low.birth.weight  \\\n",
      "Australia                  1.610349              7.4               6.4   \n",
      "Austria                    1.716942              6.9               6.8   \n",
      "Belgium                    1.740258              6.2               7.8   \n",
      "Canada                     1.573912              6.1               5.9   \n",
      "Czech Republic             1.743012              5.3               6.7   \n",
      "\n",
      "                Infant.mortality  ...  Vaccination.rates..pertussis.  \\\n",
      "Australia                    5.0  ...                           92.2   \n",
      "Austria                      4.2  ...                           83.0   \n",
      "Belgium                      3.7  ...                           97.0   \n",
      "Canada                       5.3  ...                           78.0   \n",
      "Czech Republic               3.4  ...                           98.7   \n",
      "\n",
      "                Vaccination.rates.measles.  Physical.activity  \\\n",
      "Australia                             94.0                NaN   \n",
      "Austria                               74.0               19.6   \n",
      "Belgium                               88.0               19.1   \n",
      "Canada                                94.0               23.6   \n",
      "Czech Republic                        96.6               22.0   \n",
      "\n",
      "                Mortality.rates  Suicide.rates  Smoking  Drunkenness  \\\n",
      "Australia                 23.66       8.512646      NaN          NaN   \n",
      "Austria                   24.57       9.482761     27.1         18.6   \n",
      "Belgium                   28.97       8.977713     16.7         13.9   \n",
      "Canada                    23.43      10.047535      8.6         18.8   \n",
      "Czech Republic            24.92       6.212492     21.5         16.8   \n",
      "\n",
      "                Teenage.births  Bullying  Liking.school  \n",
      "Australia                 14.3       NaN            NaN  \n",
      "Austria                   12.3      15.6           38.1  \n",
      "Belgium                    7.8      12.2           21.6  \n",
      "Canada                    13.2      14.0           29.5  \n",
      "Czech Republic            11.4       5.5           11.7  \n",
      "\n",
      "[5 rows x 21 columns]\n"
     ]
    }
   ],
   "source": [
    "print(data.head())"
   ]
  },
  {
   "cell_type": "markdown",
   "metadata": {},
   "source": [
    "---\n",
    "### b) Überprüfen Sie mit dem Attribut .shape die Dimension der Daten."
   ]
  },
  {
   "cell_type": "code",
   "execution_count": 2,
   "metadata": {},
   "outputs": [
    {
     "data": {
      "text/plain": [
       "(30, 21)"
      ]
     },
     "execution_count": 2,
     "metadata": {},
     "output_type": "execute_result"
    }
   ],
   "source": [
    "data.shape"
   ]
  },
  {
   "cell_type": "markdown",
   "metadata": {},
   "source": [
    "30 Zeilen & 21 Spalten"
   ]
  },
  {
   "cell_type": "markdown",
   "metadata": {},
   "source": [
    "---\n",
    "### c) Bestimmen Sie den Mittelwert und Median der einzelnen Variablen mit dem Python-Attribut .describe()."
   ]
  },
  {
   "cell_type": "code",
   "execution_count": 5,
   "metadata": {},
   "outputs": [
    {
     "data": {
      "text/html": [
       "<div>\n",
       "<style scoped>\n",
       "    .dataframe tbody tr th:only-of-type {\n",
       "        vertical-align: middle;\n",
       "    }\n",
       "\n",
       "    .dataframe tbody tr th {\n",
       "        vertical-align: top;\n",
       "    }\n",
       "\n",
       "    .dataframe thead th {\n",
       "        text-align: right;\n",
       "    }\n",
       "</style>\n",
       "<table border=\"1\" class=\"dataframe\">\n",
       "  <thead>\n",
       "    <tr style=\"text-align: right;\">\n",
       "      <th></th>\n",
       "      <th>Average.disposable.income</th>\n",
       "      <th>Children.in.poor.homes</th>\n",
       "      <th>Educational.Deprivation</th>\n",
       "      <th>Overcrowding</th>\n",
       "      <th>Poor.environmental.conditions</th>\n",
       "      <th>Average.mean.literacy.score</th>\n",
       "      <th>Literacy.inequality</th>\n",
       "      <th>Youth.NEET.rate</th>\n",
       "      <th>Low.birth.weight</th>\n",
       "      <th>Infant.mortality</th>\n",
       "      <th>...</th>\n",
       "      <th>Vaccination.rates..pertussis.</th>\n",
       "      <th>Vaccination.rates.measles.</th>\n",
       "      <th>Physical.activity</th>\n",
       "      <th>Mortality.rates</th>\n",
       "      <th>Suicide.rates</th>\n",
       "      <th>Smoking</th>\n",
       "      <th>Drunkenness</th>\n",
       "      <th>Teenage.births</th>\n",
       "      <th>Bullying</th>\n",
       "      <th>Liking.school</th>\n",
       "    </tr>\n",
       "  </thead>\n",
       "  <tbody>\n",
       "    <tr>\n",
       "      <th>count</th>\n",
       "      <td>30.000000</td>\n",
       "      <td>30.000000</td>\n",
       "      <td>30.000000</td>\n",
       "      <td>26.000000</td>\n",
       "      <td>24.000000</td>\n",
       "      <td>30.000000</td>\n",
       "      <td>30.000000</td>\n",
       "      <td>27.000000</td>\n",
       "      <td>30.000000</td>\n",
       "      <td>30.000000</td>\n",
       "      <td>...</td>\n",
       "      <td>29.000000</td>\n",
       "      <td>29.000000</td>\n",
       "      <td>26.000000</td>\n",
       "      <td>29.000000</td>\n",
       "      <td>29.000000</td>\n",
       "      <td>24.000000</td>\n",
       "      <td>24.000000</td>\n",
       "      <td>30.000000</td>\n",
       "      <td>24.000000</td>\n",
       "      <td>25.00000</td>\n",
       "    </tr>\n",
       "    <tr>\n",
       "      <th>mean</th>\n",
       "      <td>18.847713</td>\n",
       "      <td>12.372193</td>\n",
       "      <td>2.673333</td>\n",
       "      <td>31.950163</td>\n",
       "      <td>25.217498</td>\n",
       "      <td>496.317000</td>\n",
       "      <td>1.665085</td>\n",
       "      <td>7.377778</td>\n",
       "      <td>6.643333</td>\n",
       "      <td>5.446667</td>\n",
       "      <td>...</td>\n",
       "      <td>93.775862</td>\n",
       "      <td>91.517241</td>\n",
       "      <td>20.134615</td>\n",
       "      <td>24.598966</td>\n",
       "      <td>6.856272</td>\n",
       "      <td>16.512500</td>\n",
       "      <td>15.225000</td>\n",
       "      <td>15.500000</td>\n",
       "      <td>10.979167</td>\n",
       "      <td>27.17200</td>\n",
       "    </tr>\n",
       "    <tr>\n",
       "      <th>std</th>\n",
       "      <td>7.597219</td>\n",
       "      <td>5.592696</td>\n",
       "      <td>3.315370</td>\n",
       "      <td>21.132363</td>\n",
       "      <td>7.483096</td>\n",
       "      <td>29.381643</td>\n",
       "      <td>0.067391</td>\n",
       "      <td>6.489656</td>\n",
       "      <td>1.728001</td>\n",
       "      <td>4.506756</td>\n",
       "      <td>...</td>\n",
       "      <td>5.317334</td>\n",
       "      <td>5.909138</td>\n",
       "      <td>6.157983</td>\n",
       "      <td>6.745815</td>\n",
       "      <td>3.204545</td>\n",
       "      <td>4.766852</td>\n",
       "      <td>4.301794</td>\n",
       "      <td>13.967326</td>\n",
       "      <td>5.146462</td>\n",
       "      <td>10.39926</td>\n",
       "    </tr>\n",
       "    <tr>\n",
       "      <th>min</th>\n",
       "      <td>3.839462</td>\n",
       "      <td>2.740000</td>\n",
       "      <td>0.400000</td>\n",
       "      <td>10.326503</td>\n",
       "      <td>10.500000</td>\n",
       "      <td>408.670000</td>\n",
       "      <td>1.475432</td>\n",
       "      <td>1.700000</td>\n",
       "      <td>3.900000</td>\n",
       "      <td>2.300000</td>\n",
       "      <td>...</td>\n",
       "      <td>78.000000</td>\n",
       "      <td>74.000000</td>\n",
       "      <td>13.100000</td>\n",
       "      <td>14.840000</td>\n",
       "      <td>1.263026</td>\n",
       "      <td>8.100000</td>\n",
       "      <td>10.000000</td>\n",
       "      <td>3.700000</td>\n",
       "      <td>4.200000</td>\n",
       "      <td>11.70000</td>\n",
       "    </tr>\n",
       "    <tr>\n",
       "      <th>25%</th>\n",
       "      <td>16.617877</td>\n",
       "      <td>8.901475</td>\n",
       "      <td>1.000000</td>\n",
       "      <td>17.058130</td>\n",
       "      <td>20.153506</td>\n",
       "      <td>482.750000</td>\n",
       "      <td>1.623048</td>\n",
       "      <td>4.550000</td>\n",
       "      <td>5.150000</td>\n",
       "      <td>3.525000</td>\n",
       "      <td>...</td>\n",
       "      <td>91.000000</td>\n",
       "      <td>88.000000</td>\n",
       "      <td>15.800000</td>\n",
       "      <td>21.170000</td>\n",
       "      <td>5.036520</td>\n",
       "      <td>14.625000</td>\n",
       "      <td>11.350000</td>\n",
       "      <td>7.050000</td>\n",
       "      <td>7.975000</td>\n",
       "      <td>21.40000</td>\n",
       "    </tr>\n",
       "    <tr>\n",
       "      <th>50%</th>\n",
       "      <td>21.107187</td>\n",
       "      <td>11.659053</td>\n",
       "      <td>1.500000</td>\n",
       "      <td>21.574977</td>\n",
       "      <td>25.487116</td>\n",
       "      <td>501.335000</td>\n",
       "      <td>1.682739</td>\n",
       "      <td>6.200000</td>\n",
       "      <td>6.750000</td>\n",
       "      <td>4.200000</td>\n",
       "      <td>...</td>\n",
       "      <td>95.800000</td>\n",
       "      <td>94.000000</td>\n",
       "      <td>19.300000</td>\n",
       "      <td>23.150000</td>\n",
       "      <td>6.784772</td>\n",
       "      <td>16.600000</td>\n",
       "      <td>14.550000</td>\n",
       "      <td>10.600000</td>\n",
       "      <td>9.650000</td>\n",
       "      <td>25.60000</td>\n",
       "    </tr>\n",
       "    <tr>\n",
       "      <th>75%</th>\n",
       "      <td>22.642722</td>\n",
       "      <td>16.091953</td>\n",
       "      <td>2.200000</td>\n",
       "      <td>44.392351</td>\n",
       "      <td>30.236732</td>\n",
       "      <td>512.835000</td>\n",
       "      <td>1.719012</td>\n",
       "      <td>8.400000</td>\n",
       "      <td>7.500000</td>\n",
       "      <td>5.250000</td>\n",
       "      <td>...</td>\n",
       "      <td>97.800000</td>\n",
       "      <td>96.300000</td>\n",
       "      <td>21.800000</td>\n",
       "      <td>25.750000</td>\n",
       "      <td>8.863713</td>\n",
       "      <td>19.500000</td>\n",
       "      <td>17.925000</td>\n",
       "      <td>17.800000</td>\n",
       "      <td>13.825000</td>\n",
       "      <td>34.90000</td>\n",
       "    </tr>\n",
       "    <tr>\n",
       "      <th>max</th>\n",
       "      <td>34.241822</td>\n",
       "      <td>24.590000</td>\n",
       "      <td>13.700000</td>\n",
       "      <td>73.957667</td>\n",
       "      <td>38.712874</td>\n",
       "      <td>552.670000</td>\n",
       "      <td>1.755798</td>\n",
       "      <td>37.700000</td>\n",
       "      <td>11.300000</td>\n",
       "      <td>23.600000</td>\n",
       "      <td>...</td>\n",
       "      <td>99.800000</td>\n",
       "      <td>99.800000</td>\n",
       "      <td>42.100000</td>\n",
       "      <td>50.230000</td>\n",
       "      <td>15.949567</td>\n",
       "      <td>27.100000</td>\n",
       "      <td>24.800000</td>\n",
       "      <td>65.800000</td>\n",
       "      <td>25.300000</td>\n",
       "      <td>57.40000</td>\n",
       "    </tr>\n",
       "  </tbody>\n",
       "</table>\n",
       "<p>8 rows × 21 columns</p>\n",
       "</div>"
      ],
      "text/plain": [
       "       Average.disposable.income  Children.in.poor.homes  \\\n",
       "count                  30.000000               30.000000   \n",
       "mean                   18.847713               12.372193   \n",
       "std                     7.597219                5.592696   \n",
       "min                     3.839462                2.740000   \n",
       "25%                    16.617877                8.901475   \n",
       "50%                    21.107187               11.659053   \n",
       "75%                    22.642722               16.091953   \n",
       "max                    34.241822               24.590000   \n",
       "\n",
       "       Educational.Deprivation  Overcrowding  Poor.environmental.conditions  \\\n",
       "count                30.000000     26.000000                      24.000000   \n",
       "mean                  2.673333     31.950163                      25.217498   \n",
       "std                   3.315370     21.132363                       7.483096   \n",
       "min                   0.400000     10.326503                      10.500000   \n",
       "25%                   1.000000     17.058130                      20.153506   \n",
       "50%                   1.500000     21.574977                      25.487116   \n",
       "75%                   2.200000     44.392351                      30.236732   \n",
       "max                  13.700000     73.957667                      38.712874   \n",
       "\n",
       "       Average.mean.literacy.score  Literacy.inequality  Youth.NEET.rate  \\\n",
       "count                    30.000000            30.000000        27.000000   \n",
       "mean                    496.317000             1.665085         7.377778   \n",
       "std                      29.381643             0.067391         6.489656   \n",
       "min                     408.670000             1.475432         1.700000   \n",
       "25%                     482.750000             1.623048         4.550000   \n",
       "50%                     501.335000             1.682739         6.200000   \n",
       "75%                     512.835000             1.719012         8.400000   \n",
       "max                     552.670000             1.755798        37.700000   \n",
       "\n",
       "       Low.birth.weight  Infant.mortality  ...  Vaccination.rates..pertussis.  \\\n",
       "count         30.000000         30.000000  ...                      29.000000   \n",
       "mean           6.643333          5.446667  ...                      93.775862   \n",
       "std            1.728001          4.506756  ...                       5.317334   \n",
       "min            3.900000          2.300000  ...                      78.000000   \n",
       "25%            5.150000          3.525000  ...                      91.000000   \n",
       "50%            6.750000          4.200000  ...                      95.800000   \n",
       "75%            7.500000          5.250000  ...                      97.800000   \n",
       "max           11.300000         23.600000  ...                      99.800000   \n",
       "\n",
       "       Vaccination.rates.measles.  Physical.activity  Mortality.rates  \\\n",
       "count                   29.000000          26.000000        29.000000   \n",
       "mean                    91.517241          20.134615        24.598966   \n",
       "std                      5.909138           6.157983         6.745815   \n",
       "min                     74.000000          13.100000        14.840000   \n",
       "25%                     88.000000          15.800000        21.170000   \n",
       "50%                     94.000000          19.300000        23.150000   \n",
       "75%                     96.300000          21.800000        25.750000   \n",
       "max                     99.800000          42.100000        50.230000   \n",
       "\n",
       "       Suicide.rates    Smoking  Drunkenness  Teenage.births   Bullying  \\\n",
       "count      29.000000  24.000000    24.000000       30.000000  24.000000   \n",
       "mean        6.856272  16.512500    15.225000       15.500000  10.979167   \n",
       "std         3.204545   4.766852     4.301794       13.967326   5.146462   \n",
       "min         1.263026   8.100000    10.000000        3.700000   4.200000   \n",
       "25%         5.036520  14.625000    11.350000        7.050000   7.975000   \n",
       "50%         6.784772  16.600000    14.550000       10.600000   9.650000   \n",
       "75%         8.863713  19.500000    17.925000       17.800000  13.825000   \n",
       "max        15.949567  27.100000    24.800000       65.800000  25.300000   \n",
       "\n",
       "       Liking.school  \n",
       "count       25.00000  \n",
       "mean        27.17200  \n",
       "std         10.39926  \n",
       "min         11.70000  \n",
       "25%         21.40000  \n",
       "50%         25.60000  \n",
       "75%         34.90000  \n",
       "max         57.40000  \n",
       "\n",
       "[8 rows x 21 columns]"
      ]
     },
     "execution_count": 5,
     "metadata": {},
     "output_type": "execute_result"
    }
   ],
   "source": [
    "data.describe()"
   ]
  },
  {
   "cell_type": "markdown",
   "metadata": {},
   "source": [
    "---\n",
    "### d) Überprüfen Sie, ob die Niederlande in der Länderliste des Datensatzes auftaucht. Gibt es auch einen Eintrag für China? Die Zeilenamen ermitteln Sie mit dem Attribut .index. Wie erhalten Sie die Spaltennamen?"
   ]
  },
  {
   "cell_type": "code",
   "execution_count": 7,
   "metadata": {},
   "outputs": [
    {
     "data": {
      "text/plain": [
       "Index(['Australia', 'Austria', 'Belgium', 'Canada', 'Czech Republic',\n",
       "       'Denmark', 'Finland', 'France', 'Germany', 'Greece', 'Hungary',\n",
       "       'Iceland', 'Ireland', 'Italy', 'Japan', 'Korea', 'Luxembourg', 'Mexico',\n",
       "       'Netherlands', 'New Zealand', 'Norway', 'Poland', 'Portugal',\n",
       "       'Slovak Republic', 'Spain', 'Sweden', 'Switzerland', 'Turkey',\n",
       "       'United Kingdom', 'United States'],\n",
       "      dtype='object')"
      ]
     },
     "execution_count": 7,
     "metadata": {},
     "output_type": "execute_result"
    }
   ],
   "source": [
    "data.index"
   ]
  },
  {
   "cell_type": "code",
   "execution_count": 12,
   "metadata": {},
   "outputs": [
    {
     "data": {
      "text/plain": [
       "'Netherlands'"
      ]
     },
     "execution_count": 12,
     "metadata": {},
     "output_type": "execute_result"
    }
   ],
   "source": [
    "data.index[18]"
   ]
  },
  {
   "cell_type": "code",
   "execution_count": 13,
   "metadata": {},
   "outputs": [
    {
     "data": {
      "text/plain": [
       "Index(['Average.disposable.income', 'Children.in.poor.homes',\n",
       "       'Educational.Deprivation', 'Overcrowding',\n",
       "       'Poor.environmental.conditions', 'Average.mean.literacy.score',\n",
       "       'Literacy.inequality', 'Youth.NEET.rate', 'Low.birth.weight',\n",
       "       'Infant.mortality', 'Breastfeeding.rates',\n",
       "       'Vaccination.rates..pertussis.', 'Vaccination.rates.measles.',\n",
       "       'Physical.activity', 'Mortality.rates', 'Suicide.rates', 'Smoking',\n",
       "       'Drunkenness', 'Teenage.births', 'Bullying', 'Liking.school'],\n",
       "      dtype='object')"
      ]
     },
     "execution_count": 13,
     "metadata": {},
     "output_type": "execute_result"
    }
   ],
   "source": [
    "data.columns"
   ]
  },
  {
   "cell_type": "code",
   "execution_count": 5,
   "metadata": {},
   "outputs": [
    {
     "data": {
      "text/plain": [
       "False"
      ]
     },
     "execution_count": 5,
     "metadata": {},
     "output_type": "execute_result"
    }
   ],
   "source": [
    "\"China\" in data.index"
   ]
  },
  {
   "cell_type": "code",
   "execution_count": 4,
   "metadata": {},
   "outputs": [
    {
     "data": {
      "text/plain": [
       "True"
      ]
     },
     "execution_count": 4,
     "metadata": {},
     "output_type": "execute_result"
    }
   ],
   "source": [
    "\"Netherlands\" in data.index"
   ]
  },
  {
   "cell_type": "markdown",
   "metadata": {},
   "source": [
    "---\n",
    "### e) In welchen fünf Ländern waren die meisten Jugendlichen mindestens zweimal betrunken? Wie hoch ist der maximale Prozentsatz Benützen Sie die Methode: .sort_values(by=..., ascending=...)."
   ]
  },
  {
   "cell_type": "code",
   "execution_count": 22,
   "metadata": {
    "scrolled": true
   },
   "outputs": [
    {
     "data": {
      "text/html": [
       "<div>\n",
       "<style scoped>\n",
       "    .dataframe tbody tr th:only-of-type {\n",
       "        vertical-align: middle;\n",
       "    }\n",
       "\n",
       "    .dataframe tbody tr th {\n",
       "        vertical-align: top;\n",
       "    }\n",
       "\n",
       "    .dataframe thead th {\n",
       "        text-align: right;\n",
       "    }\n",
       "</style>\n",
       "<table border=\"1\" class=\"dataframe\">\n",
       "  <thead>\n",
       "    <tr style=\"text-align: right;\">\n",
       "      <th></th>\n",
       "      <th>Average.disposable.income</th>\n",
       "      <th>Children.in.poor.homes</th>\n",
       "      <th>Educational.Deprivation</th>\n",
       "      <th>Overcrowding</th>\n",
       "      <th>Poor.environmental.conditions</th>\n",
       "      <th>Average.mean.literacy.score</th>\n",
       "      <th>Literacy.inequality</th>\n",
       "      <th>Youth.NEET.rate</th>\n",
       "      <th>Low.birth.weight</th>\n",
       "      <th>Infant.mortality</th>\n",
       "      <th>...</th>\n",
       "      <th>Vaccination.rates..pertussis.</th>\n",
       "      <th>Vaccination.rates.measles.</th>\n",
       "      <th>Physical.activity</th>\n",
       "      <th>Mortality.rates</th>\n",
       "      <th>Suicide.rates</th>\n",
       "      <th>Smoking</th>\n",
       "      <th>Drunkenness</th>\n",
       "      <th>Teenage.births</th>\n",
       "      <th>Bullying</th>\n",
       "      <th>Liking.school</th>\n",
       "    </tr>\n",
       "  </thead>\n",
       "  <tbody>\n",
       "    <tr>\n",
       "      <th>Denmark</th>\n",
       "      <td>23.175894</td>\n",
       "      <td>2.740000</td>\n",
       "      <td>0.7</td>\n",
       "      <td>17.552965</td>\n",
       "      <td>20.151467</td>\n",
       "      <td>501.00</td>\n",
       "      <td>1.594974</td>\n",
       "      <td>4.3</td>\n",
       "      <td>4.9</td>\n",
       "      <td>4.4</td>\n",
       "      <td>...</td>\n",
       "      <td>95.0</td>\n",
       "      <td>96.0</td>\n",
       "      <td>22.7</td>\n",
       "      <td>22.93</td>\n",
       "      <td>5.942231</td>\n",
       "      <td>15.0</td>\n",
       "      <td>24.8</td>\n",
       "      <td>6.6</td>\n",
       "      <td>8.0</td>\n",
       "      <td>25.6</td>\n",
       "    </tr>\n",
       "    <tr>\n",
       "      <th>Finland</th>\n",
       "      <td>22.027651</td>\n",
       "      <td>4.170000</td>\n",
       "      <td>1.0</td>\n",
       "      <td>15.228876</td>\n",
       "      <td>22.802362</td>\n",
       "      <td>552.67</td>\n",
       "      <td>1.475432</td>\n",
       "      <td>5.2</td>\n",
       "      <td>4.1</td>\n",
       "      <td>3.0</td>\n",
       "      <td>...</td>\n",
       "      <td>97.0</td>\n",
       "      <td>97.0</td>\n",
       "      <td>24.8</td>\n",
       "      <td>23.54</td>\n",
       "      <td>12.158687</td>\n",
       "      <td>22.0</td>\n",
       "      <td>22.4</td>\n",
       "      <td>9.7</td>\n",
       "      <td>8.0</td>\n",
       "      <td>16.1</td>\n",
       "    </tr>\n",
       "    <tr>\n",
       "      <th>United Kingdom</th>\n",
       "      <td>22.697062</td>\n",
       "      <td>10.080000</td>\n",
       "      <td>1.8</td>\n",
       "      <td>21.497427</td>\n",
       "      <td>29.069052</td>\n",
       "      <td>501.67</td>\n",
       "      <td>1.690351</td>\n",
       "      <td>9.3</td>\n",
       "      <td>7.5</td>\n",
       "      <td>5.1</td>\n",
       "      <td>...</td>\n",
       "      <td>91.4</td>\n",
       "      <td>83.8</td>\n",
       "      <td>18.7</td>\n",
       "      <td>21.17</td>\n",
       "      <td>2.987869</td>\n",
       "      <td>15.9</td>\n",
       "      <td>22.1</td>\n",
       "      <td>24.8</td>\n",
       "      <td>9.7</td>\n",
       "      <td>35.7</td>\n",
       "    </tr>\n",
       "    <tr>\n",
       "      <th>Poland</th>\n",
       "      <td>7.939399</td>\n",
       "      <td>21.500000</td>\n",
       "      <td>2.1</td>\n",
       "      <td>73.957667</td>\n",
       "      <td>22.841904</td>\n",
       "      <td>500.33</td>\n",
       "      <td>1.632217</td>\n",
       "      <td>1.7</td>\n",
       "      <td>6.1</td>\n",
       "      <td>6.4</td>\n",
       "      <td>...</td>\n",
       "      <td>99.0</td>\n",
       "      <td>97.0</td>\n",
       "      <td>17.3</td>\n",
       "      <td>28.13</td>\n",
       "      <td>8.863713</td>\n",
       "      <td>16.4</td>\n",
       "      <td>19.9</td>\n",
       "      <td>14.5</td>\n",
       "      <td>9.6</td>\n",
       "      <td>21.1</td>\n",
       "    </tr>\n",
       "    <tr>\n",
       "      <th>Canada</th>\n",
       "      <td>25.606245</td>\n",
       "      <td>15.057585</td>\n",
       "      <td>2.1</td>\n",
       "      <td>NaN</td>\n",
       "      <td>NaN</td>\n",
       "      <td>529.33</td>\n",
       "      <td>1.573912</td>\n",
       "      <td>6.1</td>\n",
       "      <td>5.9</td>\n",
       "      <td>5.3</td>\n",
       "      <td>...</td>\n",
       "      <td>78.0</td>\n",
       "      <td>94.0</td>\n",
       "      <td>23.6</td>\n",
       "      <td>23.43</td>\n",
       "      <td>10.047535</td>\n",
       "      <td>8.6</td>\n",
       "      <td>18.8</td>\n",
       "      <td>13.2</td>\n",
       "      <td>14.0</td>\n",
       "      <td>29.5</td>\n",
       "    </tr>\n",
       "    <tr>\n",
       "      <th>Austria</th>\n",
       "      <td>22.162446</td>\n",
       "      <td>6.166094</td>\n",
       "      <td>0.6</td>\n",
       "      <td>34.014601</td>\n",
       "      <td>20.154186</td>\n",
       "      <td>502.00</td>\n",
       "      <td>1.716942</td>\n",
       "      <td>6.9</td>\n",
       "      <td>6.8</td>\n",
       "      <td>4.2</td>\n",
       "      <td>...</td>\n",
       "      <td>83.0</td>\n",
       "      <td>74.0</td>\n",
       "      <td>19.6</td>\n",
       "      <td>24.57</td>\n",
       "      <td>9.482761</td>\n",
       "      <td>27.1</td>\n",
       "      <td>18.6</td>\n",
       "      <td>12.3</td>\n",
       "      <td>15.6</td>\n",
       "      <td>38.1</td>\n",
       "    </tr>\n",
       "    <tr>\n",
       "      <th>Hungary</th>\n",
       "      <td>9.463130</td>\n",
       "      <td>8.724203</td>\n",
       "      <td>2.1</td>\n",
       "      <td>73.306021</td>\n",
       "      <td>22.213785</td>\n",
       "      <td>492.33</td>\n",
       "      <td>1.620710</td>\n",
       "      <td>6.4</td>\n",
       "      <td>8.2</td>\n",
       "      <td>6.2</td>\n",
       "      <td>...</td>\n",
       "      <td>99.8</td>\n",
       "      <td>99.8</td>\n",
       "      <td>19.5</td>\n",
       "      <td>25.75</td>\n",
       "      <td>6.806580</td>\n",
       "      <td>21.5</td>\n",
       "      <td>17.7</td>\n",
       "      <td>20.7</td>\n",
       "      <td>6.6</td>\n",
       "      <td>27.6</td>\n",
       "    </tr>\n",
       "    <tr>\n",
       "      <th>Czech Republic</th>\n",
       "      <td>10.849270</td>\n",
       "      <td>10.270000</td>\n",
       "      <td>1.2</td>\n",
       "      <td>58.899347</td>\n",
       "      <td>29.748594</td>\n",
       "      <td>502.00</td>\n",
       "      <td>1.743012</td>\n",
       "      <td>5.3</td>\n",
       "      <td>6.7</td>\n",
       "      <td>3.4</td>\n",
       "      <td>...</td>\n",
       "      <td>98.7</td>\n",
       "      <td>96.6</td>\n",
       "      <td>22.0</td>\n",
       "      <td>24.92</td>\n",
       "      <td>6.212492</td>\n",
       "      <td>21.5</td>\n",
       "      <td>16.8</td>\n",
       "      <td>11.4</td>\n",
       "      <td>5.5</td>\n",
       "      <td>11.7</td>\n",
       "    </tr>\n",
       "    <tr>\n",
       "      <th>Slovak Republic</th>\n",
       "      <td>7.797596</td>\n",
       "      <td>10.930000</td>\n",
       "      <td>3.8</td>\n",
       "      <td>68.356284</td>\n",
       "      <td>27.348691</td>\n",
       "      <td>482.00</td>\n",
       "      <td>1.712179</td>\n",
       "      <td>6.3</td>\n",
       "      <td>7.2</td>\n",
       "      <td>7.2</td>\n",
       "      <td>...</td>\n",
       "      <td>99.2</td>\n",
       "      <td>99.5</td>\n",
       "      <td>42.1</td>\n",
       "      <td>30.15</td>\n",
       "      <td>5.036520</td>\n",
       "      <td>16.4</td>\n",
       "      <td>16.8</td>\n",
       "      <td>20.0</td>\n",
       "      <td>NaN</td>\n",
       "      <td>13.0</td>\n",
       "    </tr>\n",
       "    <tr>\n",
       "      <th>Ireland</th>\n",
       "      <td>22.364689</td>\n",
       "      <td>16.299416</td>\n",
       "      <td>2.9</td>\n",
       "      <td>16.429028</td>\n",
       "      <td>19.300100</td>\n",
       "      <td>508.67</td>\n",
       "      <td>1.590217</td>\n",
       "      <td>4.4</td>\n",
       "      <td>4.9</td>\n",
       "      <td>4.0</td>\n",
       "      <td>...</td>\n",
       "      <td>90.0</td>\n",
       "      <td>84.0</td>\n",
       "      <td>31.1</td>\n",
       "      <td>21.97</td>\n",
       "      <td>9.517063</td>\n",
       "      <td>19.5</td>\n",
       "      <td>16.3</td>\n",
       "      <td>13.5</td>\n",
       "      <td>8.6</td>\n",
       "      <td>24.0</td>\n",
       "    </tr>\n",
       "    <tr>\n",
       "      <th>Spain</th>\n",
       "      <td>16.430249</td>\n",
       "      <td>17.300000</td>\n",
       "      <td>0.9</td>\n",
       "      <td>10.831831</td>\n",
       "      <td>31.683347</td>\n",
       "      <td>476.33</td>\n",
       "      <td>1.636259</td>\n",
       "      <td>8.5</td>\n",
       "      <td>7.1</td>\n",
       "      <td>4.1</td>\n",
       "      <td>...</td>\n",
       "      <td>96.2</td>\n",
       "      <td>96.8</td>\n",
       "      <td>20.3</td>\n",
       "      <td>23.49</td>\n",
       "      <td>2.599717</td>\n",
       "      <td>17.1</td>\n",
       "      <td>16.1</td>\n",
       "      <td>9.1</td>\n",
       "      <td>4.7</td>\n",
       "      <td>23.9</td>\n",
       "    </tr>\n",
       "    <tr>\n",
       "      <th>Germany</th>\n",
       "      <td>19.894067</td>\n",
       "      <td>16.289270</td>\n",
       "      <td>0.5</td>\n",
       "      <td>19.967763</td>\n",
       "      <td>37.374708</td>\n",
       "      <td>505.00</td>\n",
       "      <td>1.719702</td>\n",
       "      <td>4.4</td>\n",
       "      <td>6.8</td>\n",
       "      <td>3.9</td>\n",
       "      <td>...</td>\n",
       "      <td>97.8</td>\n",
       "      <td>94.0</td>\n",
       "      <td>17.0</td>\n",
       "      <td>21.23</td>\n",
       "      <td>5.507378</td>\n",
       "      <td>19.5</td>\n",
       "      <td>15.1</td>\n",
       "      <td>9.8</td>\n",
       "      <td>13.9</td>\n",
       "      <td>34.9</td>\n",
       "    </tr>\n",
       "    <tr>\n",
       "      <th>Norway</th>\n",
       "      <td>28.574371</td>\n",
       "      <td>4.600000</td>\n",
       "      <td>1.3</td>\n",
       "      <td>15.113671</td>\n",
       "      <td>11.992789</td>\n",
       "      <td>487.00</td>\n",
       "      <td>1.692809</td>\n",
       "      <td>2.5</td>\n",
       "      <td>4.8</td>\n",
       "      <td>3.1</td>\n",
       "      <td>...</td>\n",
       "      <td>91.0</td>\n",
       "      <td>88.0</td>\n",
       "      <td>15.6</td>\n",
       "      <td>21.49</td>\n",
       "      <td>10.094030</td>\n",
       "      <td>10.4</td>\n",
       "      <td>14.0</td>\n",
       "      <td>9.4</td>\n",
       "      <td>8.3</td>\n",
       "      <td>41.7</td>\n",
       "    </tr>\n",
       "    <tr>\n",
       "      <th>Belgium</th>\n",
       "      <td>21.401153</td>\n",
       "      <td>9.974720</td>\n",
       "      <td>1.0</td>\n",
       "      <td>12.614505</td>\n",
       "      <td>29.754526</td>\n",
       "      <td>510.33</td>\n",
       "      <td>1.740258</td>\n",
       "      <td>6.2</td>\n",
       "      <td>7.8</td>\n",
       "      <td>3.7</td>\n",
       "      <td>...</td>\n",
       "      <td>97.0</td>\n",
       "      <td>88.0</td>\n",
       "      <td>19.1</td>\n",
       "      <td>28.97</td>\n",
       "      <td>8.977713</td>\n",
       "      <td>16.7</td>\n",
       "      <td>13.9</td>\n",
       "      <td>7.8</td>\n",
       "      <td>12.2</td>\n",
       "      <td>21.6</td>\n",
       "    </tr>\n",
       "    <tr>\n",
       "      <th>Sweden</th>\n",
       "      <td>19.916998</td>\n",
       "      <td>3.969106</td>\n",
       "      <td>1.6</td>\n",
       "      <td>20.011460</td>\n",
       "      <td>15.746422</td>\n",
       "      <td>504.00</td>\n",
       "      <td>1.630063</td>\n",
       "      <td>4.7</td>\n",
       "      <td>4.2</td>\n",
       "      <td>2.4</td>\n",
       "      <td>...</td>\n",
       "      <td>99.0</td>\n",
       "      <td>95.0</td>\n",
       "      <td>16.4</td>\n",
       "      <td>19.27</td>\n",
       "      <td>6.783234</td>\n",
       "      <td>8.5</td>\n",
       "      <td>13.8</td>\n",
       "      <td>6.8</td>\n",
       "      <td>4.2</td>\n",
       "      <td>24.1</td>\n",
       "    </tr>\n",
       "    <tr>\n",
       "      <th>Netherlands</th>\n",
       "      <td>25.041012</td>\n",
       "      <td>11.526755</td>\n",
       "      <td>0.6</td>\n",
       "      <td>10.326503</td>\n",
       "      <td>38.712874</td>\n",
       "      <td>521.00</td>\n",
       "      <td>1.614444</td>\n",
       "      <td>3.9</td>\n",
       "      <td>6.2</td>\n",
       "      <td>4.9</td>\n",
       "      <td>...</td>\n",
       "      <td>95.8</td>\n",
       "      <td>96.3</td>\n",
       "      <td>21.2</td>\n",
       "      <td>20.49</td>\n",
       "      <td>3.496134</td>\n",
       "      <td>18.5</td>\n",
       "      <td>12.1</td>\n",
       "      <td>4.7</td>\n",
       "      <td>8.5</td>\n",
       "      <td>39.7</td>\n",
       "    </tr>\n",
       "    <tr>\n",
       "      <th>Luxembourg</th>\n",
       "      <td>34.241822</td>\n",
       "      <td>12.390000</td>\n",
       "      <td>1.1</td>\n",
       "      <td>16.893185</td>\n",
       "      <td>25.574231</td>\n",
       "      <td>485.00</td>\n",
       "      <td>1.701361</td>\n",
       "      <td>2.2</td>\n",
       "      <td>4.9</td>\n",
       "      <td>2.6</td>\n",
       "      <td>...</td>\n",
       "      <td>NaN</td>\n",
       "      <td>NaN</td>\n",
       "      <td>15.2</td>\n",
       "      <td>14.84</td>\n",
       "      <td>6.357194</td>\n",
       "      <td>19.0</td>\n",
       "      <td>11.7</td>\n",
       "      <td>8.6</td>\n",
       "      <td>13.8</td>\n",
       "      <td>20.7</td>\n",
       "    </tr>\n",
       "    <tr>\n",
       "      <th>Switzerland</th>\n",
       "      <td>24.651815</td>\n",
       "      <td>9.433293</td>\n",
       "      <td>0.7</td>\n",
       "      <td>NaN</td>\n",
       "      <td>NaN</td>\n",
       "      <td>513.67</td>\n",
       "      <td>1.650385</td>\n",
       "      <td>7.2</td>\n",
       "      <td>7.0</td>\n",
       "      <td>4.2</td>\n",
       "      <td>...</td>\n",
       "      <td>96.0</td>\n",
       "      <td>86.0</td>\n",
       "      <td>13.1</td>\n",
       "      <td>20.33</td>\n",
       "      <td>7.280508</td>\n",
       "      <td>15.0</td>\n",
       "      <td>11.4</td>\n",
       "      <td>4.5</td>\n",
       "      <td>12.1</td>\n",
       "      <td>27.3</td>\n",
       "    </tr>\n",
       "    <tr>\n",
       "      <th>France</th>\n",
       "      <td>18.960382</td>\n",
       "      <td>7.640000</td>\n",
       "      <td>1.2</td>\n",
       "      <td>20.284619</td>\n",
       "      <td>25.830298</td>\n",
       "      <td>493.00</td>\n",
       "      <td>1.728004</td>\n",
       "      <td>6.2</td>\n",
       "      <td>6.8</td>\n",
       "      <td>3.6</td>\n",
       "      <td>...</td>\n",
       "      <td>98.0</td>\n",
       "      <td>87.1</td>\n",
       "      <td>13.5</td>\n",
       "      <td>21.04</td>\n",
       "      <td>4.906704</td>\n",
       "      <td>19.0</td>\n",
       "      <td>11.2</td>\n",
       "      <td>6.7</td>\n",
       "      <td>13.6</td>\n",
       "      <td>21.4</td>\n",
       "    </tr>\n",
       "    <tr>\n",
       "      <th>Portugal</th>\n",
       "      <td>3.839462</td>\n",
       "      <td>16.550398</td>\n",
       "      <td>1.4</td>\n",
       "      <td>31.952303</td>\n",
       "      <td>33.457898</td>\n",
       "      <td>470.67</td>\n",
       "      <td>1.689477</td>\n",
       "      <td>8.4</td>\n",
       "      <td>7.5</td>\n",
       "      <td>3.5</td>\n",
       "      <td>...</td>\n",
       "      <td>93.3</td>\n",
       "      <td>92.7</td>\n",
       "      <td>14.6</td>\n",
       "      <td>34.60</td>\n",
       "      <td>2.430484</td>\n",
       "      <td>10.6</td>\n",
       "      <td>10.9</td>\n",
       "      <td>18.1</td>\n",
       "      <td>14.1</td>\n",
       "      <td>22.8</td>\n",
       "    </tr>\n",
       "    <tr>\n",
       "      <th>Iceland</th>\n",
       "      <td>22.286852</td>\n",
       "      <td>8.250000</td>\n",
       "      <td>0.4</td>\n",
       "      <td>21.652526</td>\n",
       "      <td>15.534688</td>\n",
       "      <td>493.67</td>\n",
       "      <td>1.654064</td>\n",
       "      <td>NaN</td>\n",
       "      <td>3.9</td>\n",
       "      <td>2.3</td>\n",
       "      <td>...</td>\n",
       "      <td>97.0</td>\n",
       "      <td>94.0</td>\n",
       "      <td>20.6</td>\n",
       "      <td>16.95</td>\n",
       "      <td>7.841312</td>\n",
       "      <td>13.5</td>\n",
       "      <td>10.5</td>\n",
       "      <td>16.9</td>\n",
       "      <td>5.4</td>\n",
       "      <td>36.6</td>\n",
       "    </tr>\n",
       "    <tr>\n",
       "      <th>Greece</th>\n",
       "      <td>17.183647</td>\n",
       "      <td>13.230296</td>\n",
       "      <td>6.1</td>\n",
       "      <td>54.922056</td>\n",
       "      <td>25.070654</td>\n",
       "      <td>464.00</td>\n",
       "      <td>1.722499</td>\n",
       "      <td>9.8</td>\n",
       "      <td>8.8</td>\n",
       "      <td>3.8</td>\n",
       "      <td>...</td>\n",
       "      <td>88.0</td>\n",
       "      <td>88.0</td>\n",
       "      <td>15.5</td>\n",
       "      <td>23.15</td>\n",
       "      <td>1.263026</td>\n",
       "      <td>16.5</td>\n",
       "      <td>10.3</td>\n",
       "      <td>8.7</td>\n",
       "      <td>22.0</td>\n",
       "      <td>25.6</td>\n",
       "    </tr>\n",
       "    <tr>\n",
       "      <th>United States</th>\n",
       "      <td>29.196531</td>\n",
       "      <td>20.593932</td>\n",
       "      <td>4.8</td>\n",
       "      <td>26.200000</td>\n",
       "      <td>25.400000</td>\n",
       "      <td>481.50</td>\n",
       "      <td>1.725965</td>\n",
       "      <td>6.1</td>\n",
       "      <td>8.1</td>\n",
       "      <td>6.8</td>\n",
       "      <td>...</td>\n",
       "      <td>85.7</td>\n",
       "      <td>91.5</td>\n",
       "      <td>26.8</td>\n",
       "      <td>32.67</td>\n",
       "      <td>7.696773</td>\n",
       "      <td>8.1</td>\n",
       "      <td>10.2</td>\n",
       "      <td>49.8</td>\n",
       "      <td>11.9</td>\n",
       "      <td>26.4</td>\n",
       "    </tr>\n",
       "    <tr>\n",
       "      <th>Italy</th>\n",
       "      <td>17.180761</td>\n",
       "      <td>15.500000</td>\n",
       "      <td>1.2</td>\n",
       "      <td>47.851602</td>\n",
       "      <td>32.577363</td>\n",
       "      <td>468.67</td>\n",
       "      <td>1.752955</td>\n",
       "      <td>11.2</td>\n",
       "      <td>6.7</td>\n",
       "      <td>4.7</td>\n",
       "      <td>...</td>\n",
       "      <td>94.7</td>\n",
       "      <td>87.3</td>\n",
       "      <td>15.1</td>\n",
       "      <td>21.76</td>\n",
       "      <td>2.437998</td>\n",
       "      <td>20.0</td>\n",
       "      <td>10.0</td>\n",
       "      <td>6.8</td>\n",
       "      <td>7.9</td>\n",
       "      <td>12.8</td>\n",
       "    </tr>\n",
       "    <tr>\n",
       "      <th>Australia</th>\n",
       "      <td>20.813221</td>\n",
       "      <td>11.791352</td>\n",
       "      <td>2.2</td>\n",
       "      <td>19.700000</td>\n",
       "      <td>10.500000</td>\n",
       "      <td>520.00</td>\n",
       "      <td>1.610349</td>\n",
       "      <td>7.4</td>\n",
       "      <td>6.4</td>\n",
       "      <td>5.0</td>\n",
       "      <td>...</td>\n",
       "      <td>92.2</td>\n",
       "      <td>94.0</td>\n",
       "      <td>NaN</td>\n",
       "      <td>23.66</td>\n",
       "      <td>8.512646</td>\n",
       "      <td>NaN</td>\n",
       "      <td>NaN</td>\n",
       "      <td>14.3</td>\n",
       "      <td>NaN</td>\n",
       "      <td>NaN</td>\n",
       "    </tr>\n",
       "    <tr>\n",
       "      <th>Japan</th>\n",
       "      <td>22.479705</td>\n",
       "      <td>13.688033</td>\n",
       "      <td>5.6</td>\n",
       "      <td>22.540000</td>\n",
       "      <td>32.380000</td>\n",
       "      <td>517.33</td>\n",
       "      <td>1.652194</td>\n",
       "      <td>8.4</td>\n",
       "      <td>9.5</td>\n",
       "      <td>2.8</td>\n",
       "      <td>...</td>\n",
       "      <td>93.0</td>\n",
       "      <td>94.0</td>\n",
       "      <td>NaN</td>\n",
       "      <td>18.23</td>\n",
       "      <td>7.728493</td>\n",
       "      <td>NaN</td>\n",
       "      <td>NaN</td>\n",
       "      <td>3.7</td>\n",
       "      <td>NaN</td>\n",
       "      <td>NaN</td>\n",
       "    </tr>\n",
       "    <tr>\n",
       "      <th>Korea</th>\n",
       "      <td>21.651918</td>\n",
       "      <td>10.746834</td>\n",
       "      <td>1.8</td>\n",
       "      <td>NaN</td>\n",
       "      <td>NaN</td>\n",
       "      <td>541.67</td>\n",
       "      <td>1.545777</td>\n",
       "      <td>NaN</td>\n",
       "      <td>4.3</td>\n",
       "      <td>5.3</td>\n",
       "      <td>...</td>\n",
       "      <td>97.0</td>\n",
       "      <td>90.2</td>\n",
       "      <td>NaN</td>\n",
       "      <td>22.36</td>\n",
       "      <td>6.784772</td>\n",
       "      <td>NaN</td>\n",
       "      <td>NaN</td>\n",
       "      <td>3.7</td>\n",
       "      <td>NaN</td>\n",
       "      <td>NaN</td>\n",
       "    </tr>\n",
       "    <tr>\n",
       "      <th>Mexico</th>\n",
       "      <td>5.335074</td>\n",
       "      <td>22.164514</td>\n",
       "      <td>13.7</td>\n",
       "      <td>69.600000</td>\n",
       "      <td>NaN</td>\n",
       "      <td>408.67</td>\n",
       "      <td>1.755798</td>\n",
       "      <td>NaN</td>\n",
       "      <td>8.8</td>\n",
       "      <td>18.8</td>\n",
       "      <td>...</td>\n",
       "      <td>98.1</td>\n",
       "      <td>96.4</td>\n",
       "      <td>18.1</td>\n",
       "      <td>50.23</td>\n",
       "      <td>5.128754</td>\n",
       "      <td>NaN</td>\n",
       "      <td>NaN</td>\n",
       "      <td>65.8</td>\n",
       "      <td>NaN</td>\n",
       "      <td>NaN</td>\n",
       "    </tr>\n",
       "    <tr>\n",
       "      <th>New Zealand</th>\n",
       "      <td>17.197108</td>\n",
       "      <td>15.000000</td>\n",
       "      <td>2.2</td>\n",
       "      <td>31.000000</td>\n",
       "      <td>NaN</td>\n",
       "      <td>524.33</td>\n",
       "      <td>1.676001</td>\n",
       "      <td>8.5</td>\n",
       "      <td>6.1</td>\n",
       "      <td>5.1</td>\n",
       "      <td>...</td>\n",
       "      <td>88.6</td>\n",
       "      <td>82.0</td>\n",
       "      <td>NaN</td>\n",
       "      <td>32.05</td>\n",
       "      <td>15.949567</td>\n",
       "      <td>NaN</td>\n",
       "      <td>NaN</td>\n",
       "      <td>23.4</td>\n",
       "      <td>NaN</td>\n",
       "      <td>NaN</td>\n",
       "    </tr>\n",
       "    <tr>\n",
       "      <th>Turkey</th>\n",
       "      <td>5.071860</td>\n",
       "      <td>24.590000</td>\n",
       "      <td>13.6</td>\n",
       "      <td>NaN</td>\n",
       "      <td>NaN</td>\n",
       "      <td>431.67</td>\n",
       "      <td>1.704249</td>\n",
       "      <td>37.7</td>\n",
       "      <td>11.3</td>\n",
       "      <td>23.6</td>\n",
       "      <td>...</td>\n",
       "      <td>90.0</td>\n",
       "      <td>91.0</td>\n",
       "      <td>20.0</td>\n",
       "      <td>NaN</td>\n",
       "      <td>NaN</td>\n",
       "      <td>NaN</td>\n",
       "      <td>NaN</td>\n",
       "      <td>39.7</td>\n",
       "      <td>25.3</td>\n",
       "      <td>57.4</td>\n",
       "    </tr>\n",
       "  </tbody>\n",
       "</table>\n",
       "<p>30 rows × 21 columns</p>\n",
       "</div>"
      ],
      "text/plain": [
       "                 Average.disposable.income  Children.in.poor.homes  \\\n",
       "Denmark                          23.175894                2.740000   \n",
       "Finland                          22.027651                4.170000   \n",
       "United Kingdom                   22.697062               10.080000   \n",
       "Poland                            7.939399               21.500000   \n",
       "Canada                           25.606245               15.057585   \n",
       "Austria                          22.162446                6.166094   \n",
       "Hungary                           9.463130                8.724203   \n",
       "Czech Republic                   10.849270               10.270000   \n",
       "Slovak Republic                   7.797596               10.930000   \n",
       "Ireland                          22.364689               16.299416   \n",
       "Spain                            16.430249               17.300000   \n",
       "Germany                          19.894067               16.289270   \n",
       "Norway                           28.574371                4.600000   \n",
       "Belgium                          21.401153                9.974720   \n",
       "Sweden                           19.916998                3.969106   \n",
       "Netherlands                      25.041012               11.526755   \n",
       "Luxembourg                       34.241822               12.390000   \n",
       "Switzerland                      24.651815                9.433293   \n",
       "France                           18.960382                7.640000   \n",
       "Portugal                          3.839462               16.550398   \n",
       "Iceland                          22.286852                8.250000   \n",
       "Greece                           17.183647               13.230296   \n",
       "United States                    29.196531               20.593932   \n",
       "Italy                            17.180761               15.500000   \n",
       "Australia                        20.813221               11.791352   \n",
       "Japan                            22.479705               13.688033   \n",
       "Korea                            21.651918               10.746834   \n",
       "Mexico                            5.335074               22.164514   \n",
       "New Zealand                      17.197108               15.000000   \n",
       "Turkey                            5.071860               24.590000   \n",
       "\n",
       "                 Educational.Deprivation  Overcrowding  \\\n",
       "Denmark                              0.7     17.552965   \n",
       "Finland                              1.0     15.228876   \n",
       "United Kingdom                       1.8     21.497427   \n",
       "Poland                               2.1     73.957667   \n",
       "Canada                               2.1           NaN   \n",
       "Austria                              0.6     34.014601   \n",
       "Hungary                              2.1     73.306021   \n",
       "Czech Republic                       1.2     58.899347   \n",
       "Slovak Republic                      3.8     68.356284   \n",
       "Ireland                              2.9     16.429028   \n",
       "Spain                                0.9     10.831831   \n",
       "Germany                              0.5     19.967763   \n",
       "Norway                               1.3     15.113671   \n",
       "Belgium                              1.0     12.614505   \n",
       "Sweden                               1.6     20.011460   \n",
       "Netherlands                          0.6     10.326503   \n",
       "Luxembourg                           1.1     16.893185   \n",
       "Switzerland                          0.7           NaN   \n",
       "France                               1.2     20.284619   \n",
       "Portugal                             1.4     31.952303   \n",
       "Iceland                              0.4     21.652526   \n",
       "Greece                               6.1     54.922056   \n",
       "United States                        4.8     26.200000   \n",
       "Italy                                1.2     47.851602   \n",
       "Australia                            2.2     19.700000   \n",
       "Japan                                5.6     22.540000   \n",
       "Korea                                1.8           NaN   \n",
       "Mexico                              13.7     69.600000   \n",
       "New Zealand                          2.2     31.000000   \n",
       "Turkey                              13.6           NaN   \n",
       "\n",
       "                 Poor.environmental.conditions  Average.mean.literacy.score  \\\n",
       "Denmark                              20.151467                       501.00   \n",
       "Finland                              22.802362                       552.67   \n",
       "United Kingdom                       29.069052                       501.67   \n",
       "Poland                               22.841904                       500.33   \n",
       "Canada                                     NaN                       529.33   \n",
       "Austria                              20.154186                       502.00   \n",
       "Hungary                              22.213785                       492.33   \n",
       "Czech Republic                       29.748594                       502.00   \n",
       "Slovak Republic                      27.348691                       482.00   \n",
       "Ireland                              19.300100                       508.67   \n",
       "Spain                                31.683347                       476.33   \n",
       "Germany                              37.374708                       505.00   \n",
       "Norway                               11.992789                       487.00   \n",
       "Belgium                              29.754526                       510.33   \n",
       "Sweden                               15.746422                       504.00   \n",
       "Netherlands                          38.712874                       521.00   \n",
       "Luxembourg                           25.574231                       485.00   \n",
       "Switzerland                                NaN                       513.67   \n",
       "France                               25.830298                       493.00   \n",
       "Portugal                             33.457898                       470.67   \n",
       "Iceland                              15.534688                       493.67   \n",
       "Greece                               25.070654                       464.00   \n",
       "United States                        25.400000                       481.50   \n",
       "Italy                                32.577363                       468.67   \n",
       "Australia                            10.500000                       520.00   \n",
       "Japan                                32.380000                       517.33   \n",
       "Korea                                      NaN                       541.67   \n",
       "Mexico                                     NaN                       408.67   \n",
       "New Zealand                                NaN                       524.33   \n",
       "Turkey                                     NaN                       431.67   \n",
       "\n",
       "                 Literacy.inequality  Youth.NEET.rate  Low.birth.weight  \\\n",
       "Denmark                     1.594974              4.3               4.9   \n",
       "Finland                     1.475432              5.2               4.1   \n",
       "United Kingdom              1.690351              9.3               7.5   \n",
       "Poland                      1.632217              1.7               6.1   \n",
       "Canada                      1.573912              6.1               5.9   \n",
       "Austria                     1.716942              6.9               6.8   \n",
       "Hungary                     1.620710              6.4               8.2   \n",
       "Czech Republic              1.743012              5.3               6.7   \n",
       "Slovak Republic             1.712179              6.3               7.2   \n",
       "Ireland                     1.590217              4.4               4.9   \n",
       "Spain                       1.636259              8.5               7.1   \n",
       "Germany                     1.719702              4.4               6.8   \n",
       "Norway                      1.692809              2.5               4.8   \n",
       "Belgium                     1.740258              6.2               7.8   \n",
       "Sweden                      1.630063              4.7               4.2   \n",
       "Netherlands                 1.614444              3.9               6.2   \n",
       "Luxembourg                  1.701361              2.2               4.9   \n",
       "Switzerland                 1.650385              7.2               7.0   \n",
       "France                      1.728004              6.2               6.8   \n",
       "Portugal                    1.689477              8.4               7.5   \n",
       "Iceland                     1.654064              NaN               3.9   \n",
       "Greece                      1.722499              9.8               8.8   \n",
       "United States               1.725965              6.1               8.1   \n",
       "Italy                       1.752955             11.2               6.7   \n",
       "Australia                   1.610349              7.4               6.4   \n",
       "Japan                       1.652194              8.4               9.5   \n",
       "Korea                       1.545777              NaN               4.3   \n",
       "Mexico                      1.755798              NaN               8.8   \n",
       "New Zealand                 1.676001              8.5               6.1   \n",
       "Turkey                      1.704249             37.7              11.3   \n",
       "\n",
       "                 Infant.mortality  ...  Vaccination.rates..pertussis.  \\\n",
       "Denmark                       4.4  ...                           95.0   \n",
       "Finland                       3.0  ...                           97.0   \n",
       "United Kingdom                5.1  ...                           91.4   \n",
       "Poland                        6.4  ...                           99.0   \n",
       "Canada                        5.3  ...                           78.0   \n",
       "Austria                       4.2  ...                           83.0   \n",
       "Hungary                       6.2  ...                           99.8   \n",
       "Czech Republic                3.4  ...                           98.7   \n",
       "Slovak Republic               7.2  ...                           99.2   \n",
       "Ireland                       4.0  ...                           90.0   \n",
       "Spain                         4.1  ...                           96.2   \n",
       "Germany                       3.9  ...                           97.8   \n",
       "Norway                        3.1  ...                           91.0   \n",
       "Belgium                       3.7  ...                           97.0   \n",
       "Sweden                        2.4  ...                           99.0   \n",
       "Netherlands                   4.9  ...                           95.8   \n",
       "Luxembourg                    2.6  ...                            NaN   \n",
       "Switzerland                   4.2  ...                           96.0   \n",
       "France                        3.6  ...                           98.0   \n",
       "Portugal                      3.5  ...                           93.3   \n",
       "Iceland                       2.3  ...                           97.0   \n",
       "Greece                        3.8  ...                           88.0   \n",
       "United States                 6.8  ...                           85.7   \n",
       "Italy                         4.7  ...                           94.7   \n",
       "Australia                     5.0  ...                           92.2   \n",
       "Japan                         2.8  ...                           93.0   \n",
       "Korea                         5.3  ...                           97.0   \n",
       "Mexico                       18.8  ...                           98.1   \n",
       "New Zealand                   5.1  ...                           88.6   \n",
       "Turkey                       23.6  ...                           90.0   \n",
       "\n",
       "                 Vaccination.rates.measles.  Physical.activity  \\\n",
       "Denmark                                96.0               22.7   \n",
       "Finland                                97.0               24.8   \n",
       "United Kingdom                         83.8               18.7   \n",
       "Poland                                 97.0               17.3   \n",
       "Canada                                 94.0               23.6   \n",
       "Austria                                74.0               19.6   \n",
       "Hungary                                99.8               19.5   \n",
       "Czech Republic                         96.6               22.0   \n",
       "Slovak Republic                        99.5               42.1   \n",
       "Ireland                                84.0               31.1   \n",
       "Spain                                  96.8               20.3   \n",
       "Germany                                94.0               17.0   \n",
       "Norway                                 88.0               15.6   \n",
       "Belgium                                88.0               19.1   \n",
       "Sweden                                 95.0               16.4   \n",
       "Netherlands                            96.3               21.2   \n",
       "Luxembourg                              NaN               15.2   \n",
       "Switzerland                            86.0               13.1   \n",
       "France                                 87.1               13.5   \n",
       "Portugal                               92.7               14.6   \n",
       "Iceland                                94.0               20.6   \n",
       "Greece                                 88.0               15.5   \n",
       "United States                          91.5               26.8   \n",
       "Italy                                  87.3               15.1   \n",
       "Australia                              94.0                NaN   \n",
       "Japan                                  94.0                NaN   \n",
       "Korea                                  90.2                NaN   \n",
       "Mexico                                 96.4               18.1   \n",
       "New Zealand                            82.0                NaN   \n",
       "Turkey                                 91.0               20.0   \n",
       "\n",
       "                 Mortality.rates  Suicide.rates  Smoking  Drunkenness  \\\n",
       "Denmark                    22.93       5.942231     15.0         24.8   \n",
       "Finland                    23.54      12.158687     22.0         22.4   \n",
       "United Kingdom             21.17       2.987869     15.9         22.1   \n",
       "Poland                     28.13       8.863713     16.4         19.9   \n",
       "Canada                     23.43      10.047535      8.6         18.8   \n",
       "Austria                    24.57       9.482761     27.1         18.6   \n",
       "Hungary                    25.75       6.806580     21.5         17.7   \n",
       "Czech Republic             24.92       6.212492     21.5         16.8   \n",
       "Slovak Republic            30.15       5.036520     16.4         16.8   \n",
       "Ireland                    21.97       9.517063     19.5         16.3   \n",
       "Spain                      23.49       2.599717     17.1         16.1   \n",
       "Germany                    21.23       5.507378     19.5         15.1   \n",
       "Norway                     21.49      10.094030     10.4         14.0   \n",
       "Belgium                    28.97       8.977713     16.7         13.9   \n",
       "Sweden                     19.27       6.783234      8.5         13.8   \n",
       "Netherlands                20.49       3.496134     18.5         12.1   \n",
       "Luxembourg                 14.84       6.357194     19.0         11.7   \n",
       "Switzerland                20.33       7.280508     15.0         11.4   \n",
       "France                     21.04       4.906704     19.0         11.2   \n",
       "Portugal                   34.60       2.430484     10.6         10.9   \n",
       "Iceland                    16.95       7.841312     13.5         10.5   \n",
       "Greece                     23.15       1.263026     16.5         10.3   \n",
       "United States              32.67       7.696773      8.1         10.2   \n",
       "Italy                      21.76       2.437998     20.0         10.0   \n",
       "Australia                  23.66       8.512646      NaN          NaN   \n",
       "Japan                      18.23       7.728493      NaN          NaN   \n",
       "Korea                      22.36       6.784772      NaN          NaN   \n",
       "Mexico                     50.23       5.128754      NaN          NaN   \n",
       "New Zealand                32.05      15.949567      NaN          NaN   \n",
       "Turkey                       NaN            NaN      NaN          NaN   \n",
       "\n",
       "                 Teenage.births  Bullying  Liking.school  \n",
       "Denmark                     6.6       8.0           25.6  \n",
       "Finland                     9.7       8.0           16.1  \n",
       "United Kingdom             24.8       9.7           35.7  \n",
       "Poland                     14.5       9.6           21.1  \n",
       "Canada                     13.2      14.0           29.5  \n",
       "Austria                    12.3      15.6           38.1  \n",
       "Hungary                    20.7       6.6           27.6  \n",
       "Czech Republic             11.4       5.5           11.7  \n",
       "Slovak Republic            20.0       NaN           13.0  \n",
       "Ireland                    13.5       8.6           24.0  \n",
       "Spain                       9.1       4.7           23.9  \n",
       "Germany                     9.8      13.9           34.9  \n",
       "Norway                      9.4       8.3           41.7  \n",
       "Belgium                     7.8      12.2           21.6  \n",
       "Sweden                      6.8       4.2           24.1  \n",
       "Netherlands                 4.7       8.5           39.7  \n",
       "Luxembourg                  8.6      13.8           20.7  \n",
       "Switzerland                 4.5      12.1           27.3  \n",
       "France                      6.7      13.6           21.4  \n",
       "Portugal                   18.1      14.1           22.8  \n",
       "Iceland                    16.9       5.4           36.6  \n",
       "Greece                      8.7      22.0           25.6  \n",
       "United States              49.8      11.9           26.4  \n",
       "Italy                       6.8       7.9           12.8  \n",
       "Australia                  14.3       NaN            NaN  \n",
       "Japan                       3.7       NaN            NaN  \n",
       "Korea                       3.7       NaN            NaN  \n",
       "Mexico                     65.8       NaN            NaN  \n",
       "New Zealand                23.4       NaN            NaN  \n",
       "Turkey                     39.7      25.3           57.4  \n",
       "\n",
       "[30 rows x 21 columns]"
      ]
     },
     "execution_count": 22,
     "metadata": {},
     "output_type": "execute_result"
    }
   ],
   "source": [
    "data.sort_values(by=\"Drunkenness\", ascending=False)"
   ]
  },
  {
   "cell_type": "code",
   "execution_count": 27,
   "metadata": {},
   "outputs": [
    {
     "name": "stdout",
     "output_type": "stream",
     "text": [
      "Denmark           24.8\n",
      "Finland           22.4\n",
      "United Kingdom    22.1\n",
      "Poland            19.9\n",
      "Canada            18.8\n",
      "Name: Drunkenness, dtype: float64\n"
     ]
    }
   ],
   "source": [
    "print(data.nlargest(5, \"Drunkenness\")[\"Drunkenness\"])"
   ]
  },
  {
   "cell_type": "code",
   "execution_count": 18,
   "metadata": {},
   "outputs": [
    {
     "data": {
      "text/plain": [
       "Denmark           24.8\n",
       "Finland           22.4\n",
       "United Kingdom    22.1\n",
       "Poland            19.9\n",
       "Canada            18.8\n",
       "Name: Drunkenness, dtype: float64"
      ]
     },
     "execution_count": 18,
     "metadata": {},
     "output_type": "execute_result"
    }
   ],
   "source": [
    "drunk = data.sort_values(by=\"Drunkenness\", ascending=False)\n",
    "drunk[\"Drunkenness\"].head()"
   ]
  },
  {
   "cell_type": "markdown",
   "metadata": {},
   "source": [
    "---\n",
    "### f) In welchem Land ist die Säuglingssterblichkeit am geringsten? Wie hoch ist sie in diesem Land? Benützen Sie die Methode .nsmallest(...)."
   ]
  },
  {
   "cell_type": "code",
   "execution_count": 29,
   "metadata": {},
   "outputs": [
    {
     "data": {
      "text/plain": [
       "Iceland    2.3\n",
       "Name: Infant.mortality, dtype: float64"
      ]
     },
     "execution_count": 29,
     "metadata": {},
     "output_type": "execute_result"
    }
   ],
   "source": [
    "data.nsmallest(1, \"Infant.mortality\")[\"Infant.mortality\"]"
   ]
  },
  {
   "cell_type": "code",
   "execution_count": 19,
   "metadata": {},
   "outputs": [
    {
     "data": {
      "text/plain": [
       "Index(['Iceland'], dtype='object')"
      ]
     },
     "execution_count": 19,
     "metadata": {},
     "output_type": "execute_result"
    }
   ],
   "source": [
    "infant = data.nsmallest(n=1, columns=\"Infant.mortality\")\n",
    "infant.index"
   ]
  },
  {
   "cell_type": "markdown",
   "metadata": {},
   "source": [
    "---\n",
    "### g) In welchen Ländern ist der Prozentsatz an Jugendlichen, die sich regelmässig bewegen, kleiner als der Durchschnitt? Benützen Sie das Attribut .loc[... < ..., :]"
   ]
  },
  {
   "cell_type": "code",
   "execution_count": 36,
   "metadata": {},
   "outputs": [
    {
     "name": "stdout",
     "output_type": "stream",
     "text": [
      "20.13461538461539\n"
     ]
    }
   ],
   "source": [
    "a = data.mean(axis=0)[\"Physical.activity\"]\n",
    "print(a)"
   ]
  },
  {
   "cell_type": "code",
   "execution_count": 20,
   "metadata": {},
   "outputs": [
    {
     "data": {
      "text/plain": [
       "20.13461538461539"
      ]
     },
     "execution_count": 20,
     "metadata": {},
     "output_type": "execute_result"
    }
   ],
   "source": [
    "data[\"Physical.activity\"].mean()"
   ]
  },
  {
   "cell_type": "code",
   "execution_count": 60,
   "metadata": {},
   "outputs": [
    {
     "data": {
      "text/plain": [
       "Switzerland       13.1\n",
       "France            13.5\n",
       "Portugal          14.6\n",
       "Italy             15.1\n",
       "Luxembourg        15.2\n",
       "Greece            15.5\n",
       "Norway            15.6\n",
       "Sweden            16.4\n",
       "Germany           17.0\n",
       "Poland            17.3\n",
       "Mexico            18.1\n",
       "United Kingdom    18.7\n",
       "Belgium           19.1\n",
       "Hungary           19.5\n",
       "Austria           19.6\n",
       "Turkey            20.0\n",
       "Name: Physical.activity, dtype: float64"
      ]
     },
     "execution_count": 60,
     "metadata": {},
     "output_type": "execute_result"
    }
   ],
   "source": [
    "data.loc[data[\"Physical.activity\"] < a][\"Physical.activity\"].sort_values()"
   ]
  },
  {
   "cell_type": "code",
   "execution_count": 21,
   "metadata": {},
   "outputs": [
    {
     "data": {
      "text/plain": [
       "Index(['Austria', 'Belgium', 'France', 'Germany', 'Greece', 'Hungary', 'Italy',\n",
       "       'Luxembourg', 'Mexico', 'Norway', 'Poland', 'Portugal', 'Sweden',\n",
       "       'Switzerland', 'Turkey', 'United Kingdom'],\n",
       "      dtype='object')"
      ]
     },
     "execution_count": 21,
     "metadata": {},
     "output_type": "execute_result"
    }
   ],
   "source": [
    "mean_phys = data[\"Physical.activity\"].mean()\n",
    "data.loc[data[\"Physical.activity\"] < mean_phys,:].index"
   ]
  },
  {
   "cell_type": "markdown",
   "metadata": {},
   "source": [
    "---"
   ]
  },
  {
   "cell_type": "markdown",
   "metadata": {},
   "source": [
    "# Aufgabe 1.2"
   ]
  },
  {
   "cell_type": "markdown",
   "metadata": {},
   "source": [
    "### a) Lesen Sie die auf Ilias abgelegte Datei d.fuel.dat ein mit dem folgenden Pandas-Befehl:"
   ]
  },
  {
   "cell_type": "code",
   "execution_count": 6,
   "metadata": {},
   "outputs": [],
   "source": [
    "import pandas as pd\n",
    "from pandas import DataFrame, Series\n",
    "\n",
    "fuel = pd.read_csv(\"files/sw01/d.fuel.dat\", sep=\",\", index_col=0)"
   ]
  },
  {
   "cell_type": "code",
   "execution_count": 7,
   "metadata": {},
   "outputs": [
    {
     "data": {
      "text/plain": [
       "Index(['weight', 'mpg', 'type'], dtype='object')"
      ]
     },
     "execution_count": 7,
     "metadata": {},
     "output_type": "execute_result"
    }
   ],
   "source": [
    "fuel.columns"
   ]
  },
  {
   "cell_type": "code",
   "execution_count": 8,
   "metadata": {},
   "outputs": [
    {
     "data": {
      "text/html": [
       "<div>\n",
       "<style scoped>\n",
       "    .dataframe tbody tr th:only-of-type {\n",
       "        vertical-align: middle;\n",
       "    }\n",
       "\n",
       "    .dataframe tbody tr th {\n",
       "        vertical-align: top;\n",
       "    }\n",
       "\n",
       "    .dataframe thead th {\n",
       "        text-align: right;\n",
       "    }\n",
       "</style>\n",
       "<table border=\"1\" class=\"dataframe\">\n",
       "  <thead>\n",
       "    <tr style=\"text-align: right;\">\n",
       "      <th></th>\n",
       "      <th>weight</th>\n",
       "      <th>mpg</th>\n",
       "      <th>type</th>\n",
       "    </tr>\n",
       "    <tr>\n",
       "      <th>X</th>\n",
       "      <th></th>\n",
       "      <th></th>\n",
       "      <th></th>\n",
       "    </tr>\n",
       "  </thead>\n",
       "  <tbody>\n",
       "    <tr>\n",
       "      <th>1</th>\n",
       "      <td>2560</td>\n",
       "      <td>33</td>\n",
       "      <td>Small</td>\n",
       "    </tr>\n",
       "    <tr>\n",
       "      <th>2</th>\n",
       "      <td>2345</td>\n",
       "      <td>33</td>\n",
       "      <td>Small</td>\n",
       "    </tr>\n",
       "    <tr>\n",
       "      <th>3</th>\n",
       "      <td>1845</td>\n",
       "      <td>37</td>\n",
       "      <td>Small</td>\n",
       "    </tr>\n",
       "    <tr>\n",
       "      <th>4</th>\n",
       "      <td>2260</td>\n",
       "      <td>32</td>\n",
       "      <td>Small</td>\n",
       "    </tr>\n",
       "    <tr>\n",
       "      <th>5</th>\n",
       "      <td>2440</td>\n",
       "      <td>32</td>\n",
       "      <td>Small</td>\n",
       "    </tr>\n",
       "    <tr>\n",
       "      <th>6</th>\n",
       "      <td>2285</td>\n",
       "      <td>26</td>\n",
       "      <td>Small</td>\n",
       "    </tr>\n",
       "    <tr>\n",
       "      <th>7</th>\n",
       "      <td>2275</td>\n",
       "      <td>33</td>\n",
       "      <td>Small</td>\n",
       "    </tr>\n",
       "    <tr>\n",
       "      <th>8</th>\n",
       "      <td>2350</td>\n",
       "      <td>28</td>\n",
       "      <td>Small</td>\n",
       "    </tr>\n",
       "    <tr>\n",
       "      <th>9</th>\n",
       "      <td>2295</td>\n",
       "      <td>25</td>\n",
       "      <td>Small</td>\n",
       "    </tr>\n",
       "    <tr>\n",
       "      <th>10</th>\n",
       "      <td>1900</td>\n",
       "      <td>34</td>\n",
       "      <td>Small</td>\n",
       "    </tr>\n",
       "    <tr>\n",
       "      <th>11</th>\n",
       "      <td>2390</td>\n",
       "      <td>29</td>\n",
       "      <td>Small</td>\n",
       "    </tr>\n",
       "    <tr>\n",
       "      <th>12</th>\n",
       "      <td>2075</td>\n",
       "      <td>35</td>\n",
       "      <td>Small</td>\n",
       "    </tr>\n",
       "    <tr>\n",
       "      <th>13</th>\n",
       "      <td>2330</td>\n",
       "      <td>26</td>\n",
       "      <td>Small</td>\n",
       "    </tr>\n",
       "    <tr>\n",
       "      <th>14</th>\n",
       "      <td>3320</td>\n",
       "      <td>20</td>\n",
       "      <td>Sporty</td>\n",
       "    </tr>\n",
       "    <tr>\n",
       "      <th>15</th>\n",
       "      <td>2885</td>\n",
       "      <td>27</td>\n",
       "      <td>Sporty</td>\n",
       "    </tr>\n",
       "    <tr>\n",
       "      <th>16</th>\n",
       "      <td>3310</td>\n",
       "      <td>19</td>\n",
       "      <td>Sporty</td>\n",
       "    </tr>\n",
       "    <tr>\n",
       "      <th>17</th>\n",
       "      <td>2695</td>\n",
       "      <td>30</td>\n",
       "      <td>Sporty</td>\n",
       "    </tr>\n",
       "    <tr>\n",
       "      <th>18</th>\n",
       "      <td>2170</td>\n",
       "      <td>33</td>\n",
       "      <td>Sporty</td>\n",
       "    </tr>\n",
       "    <tr>\n",
       "      <th>19</th>\n",
       "      <td>2710</td>\n",
       "      <td>27</td>\n",
       "      <td>Sporty</td>\n",
       "    </tr>\n",
       "    <tr>\n",
       "      <th>20</th>\n",
       "      <td>2775</td>\n",
       "      <td>24</td>\n",
       "      <td>Sporty</td>\n",
       "    </tr>\n",
       "    <tr>\n",
       "      <th>21</th>\n",
       "      <td>2840</td>\n",
       "      <td>26</td>\n",
       "      <td>Sporty</td>\n",
       "    </tr>\n",
       "    <tr>\n",
       "      <th>22</th>\n",
       "      <td>2485</td>\n",
       "      <td>28</td>\n",
       "      <td>Sporty</td>\n",
       "    </tr>\n",
       "    <tr>\n",
       "      <th>23</th>\n",
       "      <td>2670</td>\n",
       "      <td>27</td>\n",
       "      <td>Compact</td>\n",
       "    </tr>\n",
       "    <tr>\n",
       "      <th>24</th>\n",
       "      <td>2640</td>\n",
       "      <td>23</td>\n",
       "      <td>Compact</td>\n",
       "    </tr>\n",
       "    <tr>\n",
       "      <th>25</th>\n",
       "      <td>2655</td>\n",
       "      <td>26</td>\n",
       "      <td>Compact</td>\n",
       "    </tr>\n",
       "    <tr>\n",
       "      <th>26</th>\n",
       "      <td>3065</td>\n",
       "      <td>25</td>\n",
       "      <td>Compact</td>\n",
       "    </tr>\n",
       "    <tr>\n",
       "      <th>27</th>\n",
       "      <td>2750</td>\n",
       "      <td>24</td>\n",
       "      <td>Compact</td>\n",
       "    </tr>\n",
       "    <tr>\n",
       "      <th>28</th>\n",
       "      <td>2920</td>\n",
       "      <td>26</td>\n",
       "      <td>Compact</td>\n",
       "    </tr>\n",
       "    <tr>\n",
       "      <th>29</th>\n",
       "      <td>2780</td>\n",
       "      <td>24</td>\n",
       "      <td>Compact</td>\n",
       "    </tr>\n",
       "    <tr>\n",
       "      <th>30</th>\n",
       "      <td>2745</td>\n",
       "      <td>25</td>\n",
       "      <td>Compact</td>\n",
       "    </tr>\n",
       "    <tr>\n",
       "      <th>31</th>\n",
       "      <td>3110</td>\n",
       "      <td>21</td>\n",
       "      <td>Compact</td>\n",
       "    </tr>\n",
       "    <tr>\n",
       "      <th>32</th>\n",
       "      <td>2920</td>\n",
       "      <td>21</td>\n",
       "      <td>Compact</td>\n",
       "    </tr>\n",
       "    <tr>\n",
       "      <th>33</th>\n",
       "      <td>2645</td>\n",
       "      <td>23</td>\n",
       "      <td>Compact</td>\n",
       "    </tr>\n",
       "    <tr>\n",
       "      <th>34</th>\n",
       "      <td>2575</td>\n",
       "      <td>24</td>\n",
       "      <td>Compact</td>\n",
       "    </tr>\n",
       "    <tr>\n",
       "      <th>35</th>\n",
       "      <td>2935</td>\n",
       "      <td>23</td>\n",
       "      <td>Compact</td>\n",
       "    </tr>\n",
       "    <tr>\n",
       "      <th>36</th>\n",
       "      <td>2920</td>\n",
       "      <td>27</td>\n",
       "      <td>Compact</td>\n",
       "    </tr>\n",
       "    <tr>\n",
       "      <th>37</th>\n",
       "      <td>2985</td>\n",
       "      <td>23</td>\n",
       "      <td>Compact</td>\n",
       "    </tr>\n",
       "    <tr>\n",
       "      <th>38</th>\n",
       "      <td>3265</td>\n",
       "      <td>20</td>\n",
       "      <td>Medium</td>\n",
       "    </tr>\n",
       "    <tr>\n",
       "      <th>39</th>\n",
       "      <td>2880</td>\n",
       "      <td>21</td>\n",
       "      <td>Medium</td>\n",
       "    </tr>\n",
       "    <tr>\n",
       "      <th>40</th>\n",
       "      <td>2975</td>\n",
       "      <td>22</td>\n",
       "      <td>Medium</td>\n",
       "    </tr>\n",
       "    <tr>\n",
       "      <th>41</th>\n",
       "      <td>3450</td>\n",
       "      <td>22</td>\n",
       "      <td>Medium</td>\n",
       "    </tr>\n",
       "    <tr>\n",
       "      <th>42</th>\n",
       "      <td>3145</td>\n",
       "      <td>22</td>\n",
       "      <td>Medium</td>\n",
       "    </tr>\n",
       "    <tr>\n",
       "      <th>43</th>\n",
       "      <td>3190</td>\n",
       "      <td>22</td>\n",
       "      <td>Medium</td>\n",
       "    </tr>\n",
       "    <tr>\n",
       "      <th>44</th>\n",
       "      <td>3610</td>\n",
       "      <td>23</td>\n",
       "      <td>Medium</td>\n",
       "    </tr>\n",
       "    <tr>\n",
       "      <th>45</th>\n",
       "      <td>2885</td>\n",
       "      <td>23</td>\n",
       "      <td>Medium</td>\n",
       "    </tr>\n",
       "    <tr>\n",
       "      <th>46</th>\n",
       "      <td>3480</td>\n",
       "      <td>21</td>\n",
       "      <td>Medium</td>\n",
       "    </tr>\n",
       "    <tr>\n",
       "      <th>47</th>\n",
       "      <td>3200</td>\n",
       "      <td>22</td>\n",
       "      <td>Medium</td>\n",
       "    </tr>\n",
       "    <tr>\n",
       "      <th>48</th>\n",
       "      <td>2765</td>\n",
       "      <td>21</td>\n",
       "      <td>Medium</td>\n",
       "    </tr>\n",
       "    <tr>\n",
       "      <th>49</th>\n",
       "      <td>3220</td>\n",
       "      <td>21</td>\n",
       "      <td>Medium</td>\n",
       "    </tr>\n",
       "    <tr>\n",
       "      <th>50</th>\n",
       "      <td>3480</td>\n",
       "      <td>23</td>\n",
       "      <td>Medium</td>\n",
       "    </tr>\n",
       "    <tr>\n",
       "      <th>51</th>\n",
       "      <td>3325</td>\n",
       "      <td>23</td>\n",
       "      <td>Large</td>\n",
       "    </tr>\n",
       "    <tr>\n",
       "      <th>52</th>\n",
       "      <td>3855</td>\n",
       "      <td>18</td>\n",
       "      <td>Large</td>\n",
       "    </tr>\n",
       "    <tr>\n",
       "      <th>53</th>\n",
       "      <td>3850</td>\n",
       "      <td>20</td>\n",
       "      <td>Large</td>\n",
       "    </tr>\n",
       "    <tr>\n",
       "      <th>54</th>\n",
       "      <td>3195</td>\n",
       "      <td>18</td>\n",
       "      <td>Van</td>\n",
       "    </tr>\n",
       "    <tr>\n",
       "      <th>55</th>\n",
       "      <td>3735</td>\n",
       "      <td>18</td>\n",
       "      <td>Van</td>\n",
       "    </tr>\n",
       "    <tr>\n",
       "      <th>56</th>\n",
       "      <td>3665</td>\n",
       "      <td>18</td>\n",
       "      <td>Van</td>\n",
       "    </tr>\n",
       "    <tr>\n",
       "      <th>57</th>\n",
       "      <td>3735</td>\n",
       "      <td>19</td>\n",
       "      <td>Van</td>\n",
       "    </tr>\n",
       "    <tr>\n",
       "      <th>58</th>\n",
       "      <td>3415</td>\n",
       "      <td>20</td>\n",
       "      <td>Van</td>\n",
       "    </tr>\n",
       "    <tr>\n",
       "      <th>59</th>\n",
       "      <td>3185</td>\n",
       "      <td>20</td>\n",
       "      <td>Van</td>\n",
       "    </tr>\n",
       "    <tr>\n",
       "      <th>60</th>\n",
       "      <td>3690</td>\n",
       "      <td>19</td>\n",
       "      <td>Van</td>\n",
       "    </tr>\n",
       "  </tbody>\n",
       "</table>\n",
       "</div>"
      ],
      "text/plain": [
       "    weight  mpg     type\n",
       "X                       \n",
       "1     2560   33    Small\n",
       "2     2345   33    Small\n",
       "3     1845   37    Small\n",
       "4     2260   32    Small\n",
       "5     2440   32    Small\n",
       "6     2285   26    Small\n",
       "7     2275   33    Small\n",
       "8     2350   28    Small\n",
       "9     2295   25    Small\n",
       "10    1900   34    Small\n",
       "11    2390   29    Small\n",
       "12    2075   35    Small\n",
       "13    2330   26    Small\n",
       "14    3320   20   Sporty\n",
       "15    2885   27   Sporty\n",
       "16    3310   19   Sporty\n",
       "17    2695   30   Sporty\n",
       "18    2170   33   Sporty\n",
       "19    2710   27   Sporty\n",
       "20    2775   24   Sporty\n",
       "21    2840   26   Sporty\n",
       "22    2485   28   Sporty\n",
       "23    2670   27  Compact\n",
       "24    2640   23  Compact\n",
       "25    2655   26  Compact\n",
       "26    3065   25  Compact\n",
       "27    2750   24  Compact\n",
       "28    2920   26  Compact\n",
       "29    2780   24  Compact\n",
       "30    2745   25  Compact\n",
       "31    3110   21  Compact\n",
       "32    2920   21  Compact\n",
       "33    2645   23  Compact\n",
       "34    2575   24  Compact\n",
       "35    2935   23  Compact\n",
       "36    2920   27  Compact\n",
       "37    2985   23  Compact\n",
       "38    3265   20   Medium\n",
       "39    2880   21   Medium\n",
       "40    2975   22   Medium\n",
       "41    3450   22   Medium\n",
       "42    3145   22   Medium\n",
       "43    3190   22   Medium\n",
       "44    3610   23   Medium\n",
       "45    2885   23   Medium\n",
       "46    3480   21   Medium\n",
       "47    3200   22   Medium\n",
       "48    2765   21   Medium\n",
       "49    3220   21   Medium\n",
       "50    3480   23   Medium\n",
       "51    3325   23    Large\n",
       "52    3855   18    Large\n",
       "53    3850   20    Large\n",
       "54    3195   18      Van\n",
       "55    3735   18      Van\n",
       "56    3665   18      Van\n",
       "57    3735   19      Van\n",
       "58    3415   20      Van\n",
       "59    3185   20      Van\n",
       "60    3690   19      Van"
      ]
     },
     "execution_count": 8,
     "metadata": {},
     "output_type": "execute_result"
    }
   ],
   "source": [
    "fuel"
   ]
  },
  {
   "cell_type": "markdown",
   "metadata": {},
   "source": [
    "### b) Wählen Sie nur die fünfte Zeile des Dataframe d.fuel aus. Welche Werte stehen in der fünften Zeile? Verwenden Sie das Attribut .loc (siehe Aufgabe 1)).\n"
   ]
  },
  {
   "cell_type": "code",
   "execution_count": 5,
   "metadata": {},
   "outputs": [
    {
     "data": {
      "text/plain": [
       "weight     2440\n",
       "mpg          32\n",
       "type      Small\n",
       "Name: 5, dtype: object"
      ]
     },
     "execution_count": 5,
     "metadata": {},
     "output_type": "execute_result"
    }
   ],
   "source": [
    "fuel.loc[5,:]"
   ]
  },
  {
   "cell_type": "markdown",
   "metadata": {},
   "source": [
    "### c) Wählen Sie nun die erste bis fünfte Beobachtung des Datensatzes aus. So lässt sich übrigens bei einem unbekannten Datensatz ein schneller Überblick über die Art des Dataframe gewinnen."
   ]
  },
  {
   "cell_type": "code",
   "execution_count": 9,
   "metadata": {},
   "outputs": [
    {
     "data": {
      "text/html": [
       "<div>\n",
       "<style scoped>\n",
       "    .dataframe tbody tr th:only-of-type {\n",
       "        vertical-align: middle;\n",
       "    }\n",
       "\n",
       "    .dataframe tbody tr th {\n",
       "        vertical-align: top;\n",
       "    }\n",
       "\n",
       "    .dataframe thead th {\n",
       "        text-align: right;\n",
       "    }\n",
       "</style>\n",
       "<table border=\"1\" class=\"dataframe\">\n",
       "  <thead>\n",
       "    <tr style=\"text-align: right;\">\n",
       "      <th></th>\n",
       "      <th>weight</th>\n",
       "      <th>mpg</th>\n",
       "      <th>type</th>\n",
       "    </tr>\n",
       "    <tr>\n",
       "      <th>X</th>\n",
       "      <th></th>\n",
       "      <th></th>\n",
       "      <th></th>\n",
       "    </tr>\n",
       "  </thead>\n",
       "  <tbody>\n",
       "    <tr>\n",
       "      <th>1</th>\n",
       "      <td>2560</td>\n",
       "      <td>33</td>\n",
       "      <td>Small</td>\n",
       "    </tr>\n",
       "    <tr>\n",
       "      <th>2</th>\n",
       "      <td>2345</td>\n",
       "      <td>33</td>\n",
       "      <td>Small</td>\n",
       "    </tr>\n",
       "    <tr>\n",
       "      <th>3</th>\n",
       "      <td>1845</td>\n",
       "      <td>37</td>\n",
       "      <td>Small</td>\n",
       "    </tr>\n",
       "    <tr>\n",
       "      <th>4</th>\n",
       "      <td>2260</td>\n",
       "      <td>32</td>\n",
       "      <td>Small</td>\n",
       "    </tr>\n",
       "    <tr>\n",
       "      <th>5</th>\n",
       "      <td>2440</td>\n",
       "      <td>32</td>\n",
       "      <td>Small</td>\n",
       "    </tr>\n",
       "  </tbody>\n",
       "</table>\n",
       "</div>"
      ],
      "text/plain": [
       "   weight  mpg   type\n",
       "X                    \n",
       "1    2560   33  Small\n",
       "2    2345   33  Small\n",
       "3    1845   37  Small\n",
       "4    2260   32  Small\n",
       "5    2440   32  Small"
      ]
     },
     "execution_count": 9,
     "metadata": {},
     "output_type": "execute_result"
    }
   ],
   "source": [
    "fuel.loc[1:5,:]"
   ]
  },
  {
   "cell_type": "markdown",
   "metadata": {},
   "source": [
    "### d) Berechnen Sie den Mittelwert der Reichweiten aller Autos in Miles/Gallon. Python -Hinweis: Methode .mean()"
   ]
  },
  {
   "cell_type": "code",
   "execution_count": 10,
   "metadata": {},
   "outputs": [
    {
     "data": {
      "text/plain": [
       "24.583333333333332"
      ]
     },
     "execution_count": 10,
     "metadata": {},
     "output_type": "execute_result"
    }
   ],
   "source": [
    "fuel.mean()['mpg']"
   ]
  },
  {
   "cell_type": "code",
   "execution_count": 10,
   "metadata": {},
   "outputs": [
    {
     "data": {
      "text/plain": [
       "24.583333333333332"
      ]
     },
     "execution_count": 10,
     "metadata": {},
     "output_type": "execute_result"
    }
   ],
   "source": [
    "fuel[\"mpg\"].mean()"
   ]
  },
  {
   "cell_type": "markdown",
   "metadata": {},
   "source": [
    "### e) Berechnen Sie den Mittelwert der Reichweite der Autos 7 bis 22."
   ]
  },
  {
   "cell_type": "code",
   "execution_count": 12,
   "metadata": {},
   "outputs": [
    {
     "data": {
      "text/plain": [
       "27.75"
      ]
     },
     "execution_count": 12,
     "metadata": {},
     "output_type": "execute_result"
    }
   ],
   "source": [
    "fuel.loc[7:22,\"mpg\"].mean()"
   ]
  },
  {
   "cell_type": "markdown",
   "metadata": {},
   "source": [
    "### f) Erzeugen Sie einen neuen Vektor t_kml, der alle Reichweiten in km/l, und einen Vektor t_kg, der alle Gewichte in kg enthält."
   ]
  },
  {
   "cell_type": "markdown",
   "metadata": {},
   "source": [
    "Umrechnung der Miles Per Gallon [mpg] in Kilometer pro Liter und der Pounds in Kilogramm<br>\n",
    "1 mile = 1.609344 km<br>\n",
    "1 gallon = 3.7854 liter"
   ]
  },
  {
   "cell_type": "code",
   "execution_count": 16,
   "metadata": {},
   "outputs": [],
   "source": [
    "t_kml = fuel[\"mpg\"]*1.609344/3.7854"
   ]
  },
  {
   "cell_type": "code",
   "execution_count": 14,
   "metadata": {},
   "outputs": [
    {
     "data": {
      "text/plain": [
       "X\n",
       "1     14.016073\n",
       "2     14.016073\n",
       "3     15.714991\n",
       "4     13.591343\n",
       "5     13.591343\n",
       "6     11.042966\n",
       "7     14.016073\n",
       "8     11.892425\n",
       "9     10.618237\n",
       "10    14.440802\n",
       "11    12.317155\n",
       "12    14.865532\n",
       "13    11.042966\n",
       "14     8.494590\n",
       "15    11.467696\n",
       "16     8.069860\n",
       "17    12.741884\n",
       "18    14.016073\n",
       "19    11.467696\n",
       "20    10.193508\n",
       "21    11.042966\n",
       "22    11.892425\n",
       "23    11.467696\n",
       "24     9.768778\n",
       "25    11.042966\n",
       "26    10.618237\n",
       "27    10.193508\n",
       "28    11.042966\n",
       "29    10.193508\n",
       "30    10.618237\n",
       "31     8.919319\n",
       "32     8.919319\n",
       "33     9.768778\n",
       "34    10.193508\n",
       "35     9.768778\n",
       "36    11.467696\n",
       "37     9.768778\n",
       "38     8.494590\n",
       "39     8.919319\n",
       "40     9.344049\n",
       "41     9.344049\n",
       "42     9.344049\n",
       "43     9.344049\n",
       "44     9.768778\n",
       "45     9.768778\n",
       "46     8.919319\n",
       "47     9.344049\n",
       "48     8.919319\n",
       "49     8.919319\n",
       "50     9.768778\n",
       "51     9.768778\n",
       "52     7.645131\n",
       "53     8.494590\n",
       "54     7.645131\n",
       "55     7.645131\n",
       "56     7.645131\n",
       "57     8.069860\n",
       "58     8.494590\n",
       "59     8.494590\n",
       "60     8.069860\n",
       "Name: mpg, dtype: float64"
      ]
     },
     "execution_count": 14,
     "metadata": {},
     "output_type": "execute_result"
    }
   ],
   "source": [
    "t_kml"
   ]
  },
  {
   "cell_type": "markdown",
   "metadata": {},
   "source": [
    "weight ist nicht angegeben, könnte daher theoretisch schon KG sein....ich meine ja nur...<br>\n",
    "Annahme: lbs<br>\n",
    "1 lbs = 0.4535 kg"
   ]
  },
  {
   "cell_type": "code",
   "execution_count": 17,
   "metadata": {},
   "outputs": [],
   "source": [
    "t_kg = fuel[\"weight\"]*0.45359237"
   ]
  },
  {
   "cell_type": "code",
   "execution_count": 18,
   "metadata": {},
   "outputs": [
    {
     "data": {
      "text/plain": [
       "X\n",
       "1     1161.196467\n",
       "2     1063.674108\n",
       "3      836.877923\n",
       "4     1025.118756\n",
       "5     1106.765383\n",
       "6     1036.458565\n",
       "7     1031.922642\n",
       "8     1065.942070\n",
       "9     1040.994489\n",
       "10     861.825503\n",
       "11    1084.085764\n",
       "12     941.204168\n",
       "13    1056.870222\n",
       "14    1505.926668\n",
       "15    1308.613987\n",
       "16    1501.390745\n",
       "17    1222.431437\n",
       "18     984.295443\n",
       "19    1229.235323\n",
       "20    1258.718827\n",
       "21    1288.202331\n",
       "22    1127.177039\n",
       "23    1211.091628\n",
       "24    1197.483857\n",
       "25    1204.287742\n",
       "26    1390.260614\n",
       "27    1247.379018\n",
       "28    1324.489720\n",
       "29    1260.986789\n",
       "30    1245.111056\n",
       "31    1410.672271\n",
       "32    1324.489720\n",
       "33    1199.751819\n",
       "34    1168.000353\n",
       "35    1331.293606\n",
       "36    1324.489720\n",
       "37    1353.973224\n",
       "38    1480.979088\n",
       "39    1306.346026\n",
       "40    1349.437301\n",
       "41    1564.893677\n",
       "42    1426.548004\n",
       "43    1446.959660\n",
       "44    1637.468456\n",
       "45    1308.613987\n",
       "46    1578.501448\n",
       "47    1451.495584\n",
       "48    1254.182903\n",
       "49    1460.567431\n",
       "50    1578.501448\n",
       "51    1508.194630\n",
       "52    1748.598586\n",
       "53    1746.330625\n",
       "54    1449.227622\n",
       "55    1694.167502\n",
       "56    1662.416036\n",
       "57    1694.167502\n",
       "58    1549.017944\n",
       "59    1444.691698\n",
       "60    1673.755845\n",
       "Name: weight, dtype: float64"
      ]
     },
     "execution_count": 18,
     "metadata": {},
     "output_type": "execute_result"
    }
   ],
   "source": [
    "t_kg"
   ]
  },
  {
   "cell_type": "markdown",
   "metadata": {},
   "source": [
    "### g) Berechnen Sie den Mittelwert der Reichweiten in km/l und denjenigen der Fahrzeuggewichte in kg."
   ]
  },
  {
   "cell_type": "code",
   "execution_count": 15,
   "metadata": {},
   "outputs": [
    {
     "data": {
      "text/plain": [
       "10.441266385149994"
      ]
     },
     "execution_count": 15,
     "metadata": {},
     "output_type": "execute_result"
    }
   ],
   "source": [
    "t_kml.mean()"
   ]
  },
  {
   "cell_type": "code",
   "execution_count": 19,
   "metadata": {},
   "outputs": [
    {
     "data": {
      "text/plain": [
       "1315.7958666416666"
      ]
     },
     "execution_count": 19,
     "metadata": {},
     "output_type": "execute_result"
    }
   ],
   "source": [
    "t_kg.mean()"
   ]
  },
  {
   "cell_type": "markdown",
   "metadata": {},
   "source": [
    "---"
   ]
  },
  {
   "cell_type": "markdown",
   "metadata": {},
   "source": [
    "# Aufgabe 1.3<br>\n",
    "Bei der Ermittlung der landwirtschaftlichen Nutzfläche von Bauernhöfen in einem Bezirk ergaben sich folgende Werte (in ha): <br>\n",
    "2.1,2.4,2.8,3.1,4.2,4.9,5.1,6.0,6.4,7.3,10.8,12.5,13.0,13.7,14.8,17.6,19.6,23.0,25.0,35.2,39.6<br>\n",
    "### a) Berechnen Sie die Summen xi und x^2i\n",
    "Python -Hinweis: Verwenden Sie die Methode .sum()"
   ]
  },
  {
   "cell_type": "code",
   "execution_count": 20,
   "metadata": {},
   "outputs": [],
   "source": [
    "bauernhof = pd.Series([2.1,2.4,2.8,3.1,4.2,4.9,5.1,6.0,6.4,7.3,10.8,12.5,13.0,13.7,14.8,17.6,19.6,23.0,25.0,35.2,39.6])"
   ]
  },
  {
   "cell_type": "code",
   "execution_count": 21,
   "metadata": {},
   "outputs": [
    {
     "data": {
      "text/plain": [
       "269.1"
      ]
     },
     "execution_count": 21,
     "metadata": {},
     "output_type": "execute_result"
    }
   ],
   "source": [
    "bauernhof.sum()"
   ]
  },
  {
   "cell_type": "code",
   "execution_count": 22,
   "metadata": {},
   "outputs": [
    {
     "data": {
      "text/plain": [
       "5729.27"
      ]
     },
     "execution_count": 22,
     "metadata": {},
     "output_type": "execute_result"
    }
   ],
   "source": [
    "bh2=bauernhof*bauernhof\n",
    "bh2.sum()"
   ]
  },
  {
   "cell_type": "markdown",
   "metadata": {},
   "source": [
    "### b) Berechnen Sie den Mittelwert und die Standardabweichung (ohne die in pandas implementierten Funktionen, sondern aufgrund der Definition der Grössen).\n",
    "Python -Hinweis: Verwenden Sie die Methode .size()"
   ]
  },
  {
   "cell_type": "code",
   "execution_count": 27,
   "metadata": {},
   "outputs": [
    {
     "name": "stdout",
     "output_type": "stream",
     "text": [
      "12.814285714285715\n"
     ]
    }
   ],
   "source": [
    "arithm_mittel = bauernhof.sum() / bauernhof.size\n",
    "print(arithm_mittel)"
   ]
  },
  {
   "cell_type": "code",
   "execution_count": 29,
   "metadata": {},
   "outputs": [],
   "source": [
    "import numpy as np"
   ]
  },
  {
   "cell_type": "markdown",
   "metadata": {},
   "source": [
    "Varianz<br>\n",
    "Um die Varianz zu berechnen, müssen wir nun von allen Einzeldaten den Mittelwert abziehen (1)<br> \n",
    "und das Ergebnis hoch zwei nehmen. (2)<br>\n",
    "Haben wir dies getan, rechnen wir die ganzen Werte wieder zusammen (3)<br>\n",
    "und teilen durch die Anzahl der Tage (-1). (4)"
   ]
  },
  {
   "cell_type": "code",
   "execution_count": 46,
   "metadata": {},
   "outputs": [],
   "source": [
    "x = arithm_mittel"
   ]
  },
  {
   "cell_type": "code",
   "execution_count": 47,
   "metadata": {},
   "outputs": [],
   "source": [
    "bh = bauernhof"
   ]
  },
  {
   "cell_type": "code",
   "execution_count": 50,
   "metadata": {},
   "outputs": [],
   "source": [
    "s1 = bh-x"
   ]
  },
  {
   "cell_type": "code",
   "execution_count": 65,
   "metadata": {},
   "outputs": [
    {
     "data": {
      "text/plain": [
       "0   -10.714286\n",
       "1   -10.414286\n",
       "2   -10.014286\n",
       "3    -9.714286\n",
       "4    -8.614286\n",
       "dtype: float64"
      ]
     },
     "execution_count": 65,
     "metadata": {},
     "output_type": "execute_result"
    }
   ],
   "source": [
    "s1.head()"
   ]
  },
  {
   "cell_type": "code",
   "execution_count": 57,
   "metadata": {},
   "outputs": [],
   "source": [
    "s2 = np.square(s1)"
   ]
  },
  {
   "cell_type": "code",
   "execution_count": 64,
   "metadata": {},
   "outputs": [
    {
     "data": {
      "text/plain": [
       "0    114.795918\n",
       "1    108.457347\n",
       "2    100.285918\n",
       "3     94.367347\n",
       "4     74.205918\n",
       "dtype: float64"
      ]
     },
     "execution_count": 64,
     "metadata": {},
     "output_type": "execute_result"
    }
   ],
   "source": [
    "s2.head()"
   ]
  },
  {
   "cell_type": "code",
   "execution_count": 61,
   "metadata": {},
   "outputs": [],
   "source": [
    "s3 = s2.sum()"
   ]
  },
  {
   "cell_type": "code",
   "execution_count": 62,
   "metadata": {},
   "outputs": [
    {
     "data": {
      "text/plain": [
       "2280.9457142857145"
      ]
     },
     "execution_count": 62,
     "metadata": {},
     "output_type": "execute_result"
    }
   ],
   "source": [
    "s3"
   ]
  },
  {
   "cell_type": "markdown",
   "metadata": {},
   "source": [
    "Wichtig: Anzahl Werte - 1 für unsere Statistik (es werden beide Varianten ausserhalb eingesetzt)"
   ]
  },
  {
   "cell_type": "code",
   "execution_count": 69,
   "metadata": {},
   "outputs": [],
   "source": [
    "s4 = s3/(bh.size-1)"
   ]
  },
  {
   "cell_type": "code",
   "execution_count": 71,
   "metadata": {},
   "outputs": [],
   "source": [
    "Varianz = s4"
   ]
  },
  {
   "cell_type": "code",
   "execution_count": 72,
   "metadata": {},
   "outputs": [
    {
     "data": {
      "text/plain": [
       "114.04728571428572"
      ]
     },
     "execution_count": 72,
     "metadata": {},
     "output_type": "execute_result"
    }
   ],
   "source": [
    "Varianz"
   ]
  },
  {
   "cell_type": "markdown",
   "metadata": {},
   "source": [
    "alles in einer Gleichung zusammengefasst"
   ]
  },
  {
   "cell_type": "code",
   "execution_count": 73,
   "metadata": {},
   "outputs": [
    {
     "data": {
      "text/plain": [
       "114.04728571428572"
      ]
     },
     "execution_count": 73,
     "metadata": {},
     "output_type": "execute_result"
    }
   ],
   "source": [
    "(np.square(bauernhof-arithm_mittel)).sum()/(bh.size-1)"
   ]
  },
  {
   "cell_type": "markdown",
   "metadata": {},
   "source": [
    "Standardabweichung = Quadratwurzel der Varianz"
   ]
  },
  {
   "cell_type": "code",
   "execution_count": 74,
   "metadata": {},
   "outputs": [
    {
     "data": {
      "text/plain": [
       "10.679292378911898"
      ]
     },
     "execution_count": 74,
     "metadata": {},
     "output_type": "execute_result"
    }
   ],
   "source": [
    "np.sqrt(Varianz)"
   ]
  },
  {
   "cell_type": "markdown",
   "metadata": {},
   "source": [
    "### c) Bestimmen Sie den Median (ohne die in pandas implementierte Funktion, sondern aufgrund der Definition der Grössen).\n",
    "Python -Hinweis: Verwenden Sie zumSortieren dieMethode .sort_values()<br>\n",
    "und den Befehl np.round() zum Runden."
   ]
  },
  {
   "cell_type": "code",
   "execution_count": 80,
   "metadata": {},
   "outputs": [
    {
     "data": {
      "text/plain": [
       "0      2.1\n",
       "1      2.4\n",
       "2      2.8\n",
       "3      3.1\n",
       "4      4.2\n",
       "5      4.9\n",
       "6      5.1\n",
       "7      6.0\n",
       "8      6.4\n",
       "9      7.3\n",
       "10    10.8\n",
       "11    12.5\n",
       "12    13.0\n",
       "13    13.7\n",
       "14    14.8\n",
       "15    17.6\n",
       "16    19.6\n",
       "17    23.0\n",
       "18    25.0\n",
       "19    35.2\n",
       "20    39.6\n",
       "dtype: float64"
      ]
     },
     "execution_count": 80,
     "metadata": {},
     "output_type": "execute_result"
    }
   ],
   "source": [
    "bh.sort_values()"
   ]
  },
  {
   "cell_type": "code",
   "execution_count": 99,
   "metadata": {},
   "outputs": [
    {
     "data": {
      "text/plain": [
       "10.0"
      ]
     },
     "execution_count": 99,
     "metadata": {},
     "output_type": "execute_result"
    }
   ],
   "source": [
    "np.round(bh.size/2)"
   ]
  },
  {
   "cell_type": "code",
   "execution_count": 100,
   "metadata": {},
   "outputs": [
    {
     "data": {
      "text/plain": [
       "10.8"
      ]
     },
     "execution_count": 100,
     "metadata": {},
     "output_type": "execute_result"
    }
   ],
   "source": [
    "bh.sort_values()[np.round(bh.size/2)]"
   ]
  },
  {
   "cell_type": "markdown",
   "metadata": {},
   "source": [
    "### d) Bestimmen Sie nun Mittelwert, Standardabweichung, Median und das 75% Quantil mit den Methoden .mean(), .std(), .median()."
   ]
  },
  {
   "cell_type": "code",
   "execution_count": 105,
   "metadata": {},
   "outputs": [
    {
     "name": "stdout",
     "output_type": "stream",
     "text": [
      "Mittelwert: 12.814285714285715\n"
     ]
    }
   ],
   "source": [
    "print(\"Mittelwert:\", bh.mean())"
   ]
  },
  {
   "cell_type": "code",
   "execution_count": 107,
   "metadata": {},
   "outputs": [
    {
     "name": "stdout",
     "output_type": "stream",
     "text": [
      "Standardabweichung: 10.679292378911898\n"
     ]
    }
   ],
   "source": [
    "print(\"Standardabweichung:\",bh.std())"
   ]
  },
  {
   "cell_type": "code",
   "execution_count": 108,
   "metadata": {},
   "outputs": [
    {
     "name": "stdout",
     "output_type": "stream",
     "text": [
      "Median: 10.8\n"
     ]
    }
   ],
   "source": [
    "print(\"Median:\",bh.median())"
   ]
  },
  {
   "cell_type": "code",
   "execution_count": 109,
   "metadata": {},
   "outputs": [
    {
     "name": "stdout",
     "output_type": "stream",
     "text": [
      "75% Quantil: 17.6\n"
     ]
    }
   ],
   "source": [
    "print(\"75% Quantil:\", bh.quantile(q=0.75, interpolation=\"midpoint\"))"
   ]
  },
  {
   "cell_type": "markdown",
   "metadata": {},
   "source": [
    "### e) Überprüfen Sie aufgrund des Datenvektors mit den landwirtschaftlichen Nutzflächen, dass das arithmetische Mittel der standardisierten Variablen gleich null und die empirische Standardabweichung von zi gleich 1 ist.\n",
    "Vorgegeben: {(xi = bauernhof) - (arithmetisches Mittel)} / (Sx = Standardabweichung)"
   ]
  },
  {
   "cell_type": "code",
   "execution_count": 115,
   "metadata": {},
   "outputs": [],
   "source": [
    "y = (bauernhof-arithm_mittel)/bh.std()"
   ]
  },
  {
   "cell_type": "markdown",
   "metadata": {},
   "source": [
    "arithmetisches Mittel davon:"
   ]
  },
  {
   "cell_type": "code",
   "execution_count": 118,
   "metadata": {},
   "outputs": [],
   "source": [
    "y2 = y.mean()"
   ]
  },
  {
   "cell_type": "code",
   "execution_count": 120,
   "metadata": {},
   "outputs": [
    {
     "data": {
      "text/plain": [
       "-0.0"
      ]
     },
     "execution_count": 120,
     "metadata": {},
     "output_type": "execute_result"
    }
   ],
   "source": [
    "np.round(y2)"
   ]
  },
  {
   "cell_type": "markdown",
   "metadata": {},
   "source": [
    "Standardabweichung kontrollieren"
   ]
  },
  {
   "cell_type": "code",
   "execution_count": 121,
   "metadata": {},
   "outputs": [
    {
     "data": {
      "text/plain": [
       "1.0"
      ]
     },
     "execution_count": 121,
     "metadata": {},
     "output_type": "execute_result"
    }
   ],
   "source": [
    "y.std()"
   ]
  },
  {
   "cell_type": "markdown",
   "metadata": {},
   "source": [
    "# Aufgabe 1.4\n",
    "Der Geysir Old Faithful im Yellowstone National Park ist eine der bekanntesten heissen Quellen. Für die Zuschauer und den Nationalparkdienst ist die Zeitspanne zwischen zwei Ausbrüchen und die Eruptionsdauer von grossem Interesse. Auf Ilias sind die Messungen in der Datei geysir.dat vom 1.8.1978 - 8.8.1978 in 3 Spalten abgelegt: Tag, Zeitspanne und Eruptionsdauer.\n",
    "### a) Zeichnen Sie Histogramme von der Zeitspanne zwischen zwei Ausbrüchen. Lesen Sie zuerst die Datei ein"
   ]
  },
  {
   "cell_type": "code",
   "execution_count": 123,
   "metadata": {},
   "outputs": [],
   "source": [
    "from pandas import Series, DataFrame\n",
    "import pandas as pd\n",
    "import matplotlib.pyplot as plt\n",
    "import numpy as np\n",
    "geysir = pd.read_csv(\"files/sw01/geysir.dat\", sep=\" \", index_col=0)"
   ]
  },
  {
   "cell_type": "code",
   "execution_count": 124,
   "metadata": {},
   "outputs": [
    {
     "data": {
      "text/html": [
       "<div>\n",
       "<style scoped>\n",
       "    .dataframe tbody tr th:only-of-type {\n",
       "        vertical-align: middle;\n",
       "    }\n",
       "\n",
       "    .dataframe tbody tr th {\n",
       "        vertical-align: top;\n",
       "    }\n",
       "\n",
       "    .dataframe thead th {\n",
       "        text-align: right;\n",
       "    }\n",
       "</style>\n",
       "<table border=\"1\" class=\"dataframe\">\n",
       "  <thead>\n",
       "    <tr style=\"text-align: right;\">\n",
       "      <th></th>\n",
       "      <th>Tag</th>\n",
       "      <th>Zeitspanne</th>\n",
       "      <th>Eruptionsdauer</th>\n",
       "    </tr>\n",
       "  </thead>\n",
       "  <tbody>\n",
       "    <tr>\n",
       "      <th>1</th>\n",
       "      <td>1</td>\n",
       "      <td>78</td>\n",
       "      <td>4.4</td>\n",
       "    </tr>\n",
       "    <tr>\n",
       "      <th>2</th>\n",
       "      <td>1</td>\n",
       "      <td>74</td>\n",
       "      <td>3.9</td>\n",
       "    </tr>\n",
       "    <tr>\n",
       "      <th>3</th>\n",
       "      <td>1</td>\n",
       "      <td>68</td>\n",
       "      <td>4.0</td>\n",
       "    </tr>\n",
       "    <tr>\n",
       "      <th>4</th>\n",
       "      <td>1</td>\n",
       "      <td>76</td>\n",
       "      <td>4.0</td>\n",
       "    </tr>\n",
       "    <tr>\n",
       "      <th>5</th>\n",
       "      <td>1</td>\n",
       "      <td>80</td>\n",
       "      <td>3.5</td>\n",
       "    </tr>\n",
       "  </tbody>\n",
       "</table>\n",
       "</div>"
      ],
      "text/plain": [
       "   Tag  Zeitspanne  Eruptionsdauer\n",
       "1    1          78             4.4\n",
       "2    1          74             3.9\n",
       "3    1          68             4.0\n",
       "4    1          76             4.0\n",
       "5    1          80             3.5"
      ]
     },
     "execution_count": 124,
     "metadata": {},
     "output_type": "execute_result"
    }
   ],
   "source": [
    "geysir.head()"
   ]
  },
  {
   "cell_type": "code",
   "execution_count": 127,
   "metadata": {},
   "outputs": [
    {
     "data": {
      "text/plain": [
       "Text(0.5, 0, '10 Klassen')"
      ]
     },
     "execution_count": 127,
     "metadata": {},
     "output_type": "execute_result"
    },
    {
     "data": {
      "image/png": "[encoded data removed]",
      "text/plain": [
       "<Figure size 432x288 with 1 Axes>"
      ]
     },
     "metadata": {
      "needs_background": "light"
     },
     "output_type": "display_data"
    }
   ],
   "source": [
    "plt.subplot(221)\n",
    "geysir[\"Zeitspanne\"].plot(kind=\"hist\", edgecolor=\"black\")\n",
    "plt.xlabel(\"10 Klassen\")"
   ]
  },
  {
   "cell_type": "code",
   "execution_count": 128,
   "metadata": {},
   "outputs": [
    {
     "data": {
      "text/plain": [
       "Text(0.5, 0, '20 Klassen')"
      ]
     },
     "execution_count": 128,
     "metadata": {},
     "output_type": "execute_result"
    },
    {
     "data": {
      "image/png": "[encoded data removed]",
      "text/plain": [
       "<Figure size 432x288 with 1 Axes>"
      ]
     },
     "metadata": {
      "needs_background": "light"
     },
     "output_type": "display_data"
    }
   ],
   "source": [
    "plt.subplot(222)\n",
    "geysir[\"Zeitspanne\"].plot(kind=\"hist\",\n",
    "bins=20,\n",
    "edgecolor=\"black\")\n",
    "plt.xlabel(\"20 Klassen\")"
   ]
  },
  {
   "cell_type": "code",
   "execution_count": 129,
   "metadata": {},
   "outputs": [
    {
     "data": {
      "text/plain": [
       "Text(0.5, 0, 'Klassengrenzen 41, 52 , 63, 74 , 85, 96')"
      ]
     },
     "execution_count": 129,
     "metadata": {},
     "output_type": "execute_result"
    },
    {
     "data": {
      "image/png": "[encoded data removed]",
      "text/plain": [
       "<Figure size 432x288 with 1 Axes>"
      ]
     },
     "metadata": {
      "needs_background": "light"
     },
     "output_type": "display_data"
    }
   ],
   "source": [
    "plt.subplot(223)\n",
    "geysir[\"Zeitspanne\"].plot(kind=\"hist\",\n",
    "bins=np.arange(41,107,11),\n",
    "edgecolor=\"black\")\n",
    "plt.xlabel(\"Klassengrenzen 41, 52 , 63, 74 , 85, 96\")"
   ]
  },
  {
   "cell_type": "markdown",
   "metadata": {},
   "source": [
    "### b) Zeichnen Sie Histogramme (Anzahl Klassen variieren) von der Eruptionsdauer:"
   ]
  },
  {
   "cell_type": "code",
   "execution_count": 134,
   "metadata": {},
   "outputs": [
    {
     "data": {
      "image/png": "[encoded data removed]",
      "text/plain": [
       "<Figure size 432x288 with 1 Axes>"
      ]
     },
     "metadata": {
      "needs_background": "light"
     },
     "output_type": "display_data"
    }
   ],
   "source": [
    "plt.subplot(224)\n",
    "geysir[\"Eruptionsdauer\"].plot(kind=\"hist\")\n",
    "plt.xlabel(\"Eruptionsdauer\")\n",
    "plt.show()"
   ]
  },
  {
   "cell_type": "markdown",
   "metadata": {},
   "source": [
    "### c) Zeichnen Sie die empirische kumulative Verteilungsfunktion von der Eruptionsdauer von Old Faithful Geysir. Untersuchen Sie, wie viel Prozent der Eruptionen höchstens 2 Minuten gedauert haben, sowie welche Eruptionsdauer der 60% Eruptionen, die am längsten gedauert haben, mindestens gedauert haben."
   ]
  },
  {
   "cell_type": "code",
   "execution_count": 144,
   "metadata": {},
   "outputs": [
    {
     "data": {
      "text/plain": [
       "Text(0.5, 0, 'Eruptionsdauer')"
      ]
     },
     "execution_count": 144,
     "metadata": {},
     "output_type": "execute_result"
    },
    {
     "data": {
      "image/png": "[encoded data removed]",
      "text/plain": [
       "<Figure size 432x288 with 1 Axes>"
      ]
     },
     "metadata": {
      "needs_background": "light"
     },
     "output_type": "display_data"
    }
   ],
   "source": [
    "plt.plot()\n",
    "geysir[\"Eruptionsdauer\"].plot(kind=\"hist\", density=True, cumulative=True, edgecolor=\"black\")\n",
    "plt.xlabel(\"Eruptionsdauer\")"
   ]
  },
  {
   "cell_type": "markdown",
   "metadata": {},
   "source": [
    "Aus der Graphik der kumulativen Verteilungsfunktion sehen wir, dass gut 20% der Eruptionszeiten weniger als 2 Minuten dauern. die bei 60% am längsten gedauerten, mindest gedauerten Eruptionen dauern 3.7 Minuten."
   ]
  },
  {
   "cell_type": "code",
   "execution_count": null,
   "metadata": {},
   "outputs": [],
   "source": []
  }
 ],
 "metadata": {
  "kernelspec": {
   "display_name": "Python 3",
   "language": "python",
   "name": "python3"
  },
  "language_info": {
   "codemirror_mode": {
    "name": "ipython",
    "version": 3
   },
   "file_extension": ".py",
   "mimetype": "text/x-python",
   "name": "python",
   "nbconvert_exporter": "python",
   "pygments_lexer": "ipython3",
   "version": "3.7.3"
  }
 },
 "nbformat": 4,
 "nbformat_minor": 2
}
